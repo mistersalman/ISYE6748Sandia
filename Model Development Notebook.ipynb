{
 "cells": [
  {
   "cell_type": "code",
   "execution_count": 1,
   "metadata": {},
   "outputs": [],
   "source": [
    "import pandas as pd\n",
    "import numpy as np\n",
    "import scipy\n",
    "import sklearn\n",
    "import matplotlib.pyplot as plt\n",
    "from sklearn.decomposition import PCA\n",
    "from sklearn.preprocessing import StandardScaler\n",
    "from sklearn.model_selection import cross_val_score\n",
    "from sklearn.linear_model import LinearRegression\n",
    "from sklearn.metrics import mean_squared_error\n",
    "from sklearn.metrics import accuracy_score\n",
    "from sklearn.svm import SVC\n",
    "from sklearn.neural_network import MLPRegressor"
   ]
  },
  {
   "cell_type": "markdown",
   "metadata": {},
   "source": [
    "# Dataset Access and Loading"
   ]
  },
  {
   "cell_type": "code",
   "execution_count": 2,
   "metadata": {},
   "outputs": [],
   "source": [
    "#Assemble your filepath by combining data_path, the training_sets/validation_sets entry of your choice,\n",
    "#The channel for the respective set, and your signals\n",
    "#Loading profiles are present for each set file\n",
    "data_path = './PHMDC2019_Data'\n",
    "\n",
    "training_sets = ['/training/T1', '/training/T2', '/training/T3', '/training/T4', '/training/T5', '/training/T6']\n",
    "\n",
    "validation_sets = ['/validation/T7', '/validation/T8']\n",
    "\n",
    "t1_channels = ['/50000', '/60000', '/62500', '/65500', '/69025', '/70026', '/70766']\n",
    "\n",
    "t2_channels = ['/50000', '/70033', '/72000']\n",
    "\n",
    "t3_channels = ['/14000', '/50000', '/55391', '/57038', '/60035', '/62017', '/64019', '/65029', '/66012', '/66510']\n",
    "\n",
    "t4_channels = ['/55900', '/60200', '/65001', '/67054', '/70016', '/71130', '/73210', '/75045']\n",
    "\n",
    "t5_channels = ['/42000', '/46000', '/51000', '/56000']\n",
    "\n",
    "t6_channels = ['/55000', '/60078', '/68091', '/69018', '/72516', '/73211']\n",
    "\n",
    "t7_channels = ['/36001', '/40167', '/44054', '/47022']\n",
    "\n",
    "t8_channels = ['/40000', '/50000', '/70000', '/74883', '/76931']\n",
    "\n",
    "signals = ['/signal_1.csv', '/signal_2.csv']\n",
    "\n",
    "loading_profile = '/Constant Loading Profile-5 cycles.csv'"
   ]
  },
  {
   "cell_type": "markdown",
   "metadata": {},
   "source": [
    "# Data Preparation"
   ]
  },
  {
   "cell_type": "markdown",
   "metadata": {},
   "source": [
    "## PrepareTraining Dataset from T1-T6"
   ]
  },
  {
   "cell_type": "code",
   "execution_count": 3,
   "metadata": {},
   "outputs": [],
   "source": [
    "# initiate an empty numpy array to build the training dataset we need\n",
    "dataset_array = np.empty((0, 4001))"
   ]
  },
  {
   "cell_type": "markdown",
   "metadata": {},
   "source": [
    "## Specimen T1"
   ]
  },
  {
   "cell_type": "markdown",
   "metadata": {},
   "source": [
    "### Number of Cycle: 50000"
   ]
  },
  {
   "cell_type": "code",
   "execution_count": 4,
   "metadata": {},
   "outputs": [],
   "source": [
    "first_csv = pd.read_csv(data_path + training_sets[0] + t1_channels[0] + signals[0])\n",
    "second_csv = pd.read_csv(data_path + training_sets[0] + t1_channels[0] + signals[1])"
   ]
  },
  {
   "cell_type": "code",
   "execution_count": 5,
   "metadata": {},
   "outputs": [
    {
     "data": {
      "text/html": [
       "<div>\n",
       "<style scoped>\n",
       "    .dataframe tbody tr th:only-of-type {\n",
       "        vertical-align: middle;\n",
       "    }\n",
       "\n",
       "    .dataframe tbody tr th {\n",
       "        vertical-align: top;\n",
       "    }\n",
       "\n",
       "    .dataframe thead th {\n",
       "        text-align: right;\n",
       "    }\n",
       "</style>\n",
       "<table border=\"1\" class=\"dataframe\">\n",
       "  <thead>\n",
       "    <tr style=\"text-align: right;\">\n",
       "      <th></th>\n",
       "      <th>ch1</th>\n",
       "      <th>ch2</th>\n",
       "    </tr>\n",
       "  </thead>\n",
       "  <tbody>\n",
       "    <tr>\n",
       "      <th>0</th>\n",
       "      <td>0.0</td>\n",
       "      <td>-0.056001</td>\n",
       "    </tr>\n",
       "    <tr>\n",
       "      <th>1</th>\n",
       "      <td>0.0</td>\n",
       "      <td>-0.060001</td>\n",
       "    </tr>\n",
       "    <tr>\n",
       "      <th>2</th>\n",
       "      <td>0.0</td>\n",
       "      <td>-0.056001</td>\n",
       "    </tr>\n",
       "    <tr>\n",
       "      <th>3</th>\n",
       "      <td>0.0</td>\n",
       "      <td>-0.064001</td>\n",
       "    </tr>\n",
       "    <tr>\n",
       "      <th>4</th>\n",
       "      <td>0.0</td>\n",
       "      <td>-0.056001</td>\n",
       "    </tr>\n",
       "  </tbody>\n",
       "</table>\n",
       "</div>"
      ],
      "text/plain": [
       "   ch1       ch2\n",
       "0  0.0 -0.056001\n",
       "1  0.0 -0.060001\n",
       "2  0.0 -0.056001\n",
       "3  0.0 -0.064001\n",
       "4  0.0 -0.056001"
      ]
     },
     "execution_count": 5,
     "metadata": {},
     "output_type": "execute_result"
    }
   ],
   "source": [
    "sig1 = first_csv[['ch1', 'ch2']]\n",
    "sig1.head()"
   ]
  },
  {
   "cell_type": "code",
   "execution_count": 6,
   "metadata": {},
   "outputs": [
    {
     "data": {
      "text/html": [
       "<div>\n",
       "<style scoped>\n",
       "    .dataframe tbody tr th:only-of-type {\n",
       "        vertical-align: middle;\n",
       "    }\n",
       "\n",
       "    .dataframe tbody tr th {\n",
       "        vertical-align: top;\n",
       "    }\n",
       "\n",
       "    .dataframe thead th {\n",
       "        text-align: right;\n",
       "    }\n",
       "</style>\n",
       "<table border=\"1\" class=\"dataframe\">\n",
       "  <thead>\n",
       "    <tr style=\"text-align: right;\">\n",
       "      <th></th>\n",
       "      <th>ch1</th>\n",
       "      <th>ch2</th>\n",
       "    </tr>\n",
       "  </thead>\n",
       "  <tbody>\n",
       "    <tr>\n",
       "      <th>0</th>\n",
       "      <td>0.0</td>\n",
       "      <td>0.004001</td>\n",
       "    </tr>\n",
       "    <tr>\n",
       "      <th>1</th>\n",
       "      <td>0.0</td>\n",
       "      <td>0.004001</td>\n",
       "    </tr>\n",
       "    <tr>\n",
       "      <th>2</th>\n",
       "      <td>0.0</td>\n",
       "      <td>-0.012001</td>\n",
       "    </tr>\n",
       "    <tr>\n",
       "      <th>3</th>\n",
       "      <td>0.0</td>\n",
       "      <td>-0.012001</td>\n",
       "    </tr>\n",
       "    <tr>\n",
       "      <th>4</th>\n",
       "      <td>0.0</td>\n",
       "      <td>-0.032001</td>\n",
       "    </tr>\n",
       "  </tbody>\n",
       "</table>\n",
       "</div>"
      ],
      "text/plain": [
       "   ch1       ch2\n",
       "0  0.0  0.004001\n",
       "1  0.0  0.004001\n",
       "2  0.0 -0.012001\n",
       "3  0.0 -0.012001\n",
       "4  0.0 -0.032001"
      ]
     },
     "execution_count": 6,
     "metadata": {},
     "output_type": "execute_result"
    }
   ],
   "source": [
    "sig2 = second_csv[['ch1', 'ch2']]\n",
    "sig2.head()"
   ]
  },
  {
   "cell_type": "markdown",
   "metadata": {},
   "source": [
    "#### Since most values in ch1(excitation signal) are 0,  I would just extract values in ch2(received signals) in both signal1 and signal2"
   ]
  },
  {
   "cell_type": "code",
   "execution_count": 7,
   "metadata": {},
   "outputs": [
    {
     "data": {
      "text/html": [
       "<div>\n",
       "<style scoped>\n",
       "    .dataframe tbody tr th:only-of-type {\n",
       "        vertical-align: middle;\n",
       "    }\n",
       "\n",
       "    .dataframe tbody tr th {\n",
       "        vertical-align: top;\n",
       "    }\n",
       "\n",
       "    .dataframe thead th {\n",
       "        text-align: right;\n",
       "    }\n",
       "</style>\n",
       "<table border=\"1\" class=\"dataframe\">\n",
       "  <thead>\n",
       "    <tr style=\"text-align: right;\">\n",
       "      <th></th>\n",
       "      <th>Pair_1</th>\n",
       "      <th>Pair_2</th>\n",
       "      <th>Pair_3</th>\n",
       "      <th>Pair_4</th>\n",
       "      <th>Pair_5</th>\n",
       "      <th>Pair_6</th>\n",
       "      <th>Pair_7</th>\n",
       "      <th>Pair_8</th>\n",
       "      <th>Pair_9</th>\n",
       "      <th>Pair_10</th>\n",
       "      <th>...</th>\n",
       "      <th>Pair_3991</th>\n",
       "      <th>Pair_3992</th>\n",
       "      <th>Pair_3993</th>\n",
       "      <th>Pair_3994</th>\n",
       "      <th>Pair_3995</th>\n",
       "      <th>Pair_3996</th>\n",
       "      <th>Pair_3997</th>\n",
       "      <th>Pair_3998</th>\n",
       "      <th>Pair_3999</th>\n",
       "      <th>Pair_4000</th>\n",
       "    </tr>\n",
       "  </thead>\n",
       "  <tbody>\n",
       "    <tr>\n",
       "      <th>0</th>\n",
       "      <td>-0.056001</td>\n",
       "      <td>-0.060001</td>\n",
       "      <td>-0.056001</td>\n",
       "      <td>-0.064001</td>\n",
       "      <td>-0.056001</td>\n",
       "      <td>-0.060001</td>\n",
       "      <td>-0.048001</td>\n",
       "      <td>-0.056001</td>\n",
       "      <td>-0.048001</td>\n",
       "      <td>-0.040001</td>\n",
       "      <td>...</td>\n",
       "      <td>-0.004001</td>\n",
       "      <td>0.000000</td>\n",
       "      <td>0.000000</td>\n",
       "      <td>0.000000</td>\n",
       "      <td>0.004001</td>\n",
       "      <td>0.000000</td>\n",
       "      <td>0.000000</td>\n",
       "      <td>0.004001</td>\n",
       "      <td>0.004001</td>\n",
       "      <td>0.004001</td>\n",
       "    </tr>\n",
       "    <tr>\n",
       "      <th>1</th>\n",
       "      <td>0.004001</td>\n",
       "      <td>0.004001</td>\n",
       "      <td>-0.012001</td>\n",
       "      <td>-0.012001</td>\n",
       "      <td>-0.032001</td>\n",
       "      <td>-0.028001</td>\n",
       "      <td>-0.044001</td>\n",
       "      <td>-0.036001</td>\n",
       "      <td>-0.056001</td>\n",
       "      <td>-0.064001</td>\n",
       "      <td>...</td>\n",
       "      <td>-0.048001</td>\n",
       "      <td>-0.044001</td>\n",
       "      <td>-0.040001</td>\n",
       "      <td>-0.036001</td>\n",
       "      <td>-0.028001</td>\n",
       "      <td>-0.024001</td>\n",
       "      <td>-0.016001</td>\n",
       "      <td>-0.008001</td>\n",
       "      <td>-0.004001</td>\n",
       "      <td>0.000000</td>\n",
       "    </tr>\n",
       "  </tbody>\n",
       "</table>\n",
       "<p>2 rows × 4000 columns</p>\n",
       "</div>"
      ],
      "text/plain": [
       "     Pair_1    Pair_2    Pair_3    Pair_4    Pair_5    Pair_6    Pair_7  \\\n",
       "0 -0.056001 -0.060001 -0.056001 -0.064001 -0.056001 -0.060001 -0.048001   \n",
       "1  0.004001  0.004001 -0.012001 -0.012001 -0.032001 -0.028001 -0.044001   \n",
       "\n",
       "     Pair_8    Pair_9   Pair_10  ...  Pair_3991  Pair_3992  Pair_3993  \\\n",
       "0 -0.056001 -0.048001 -0.040001  ...  -0.004001   0.000000   0.000000   \n",
       "1 -0.036001 -0.056001 -0.064001  ...  -0.048001  -0.044001  -0.040001   \n",
       "\n",
       "   Pair_3994  Pair_3995  Pair_3996  Pair_3997  Pair_3998  Pair_3999  Pair_4000  \n",
       "0   0.000000   0.004001   0.000000   0.000000   0.004001   0.004001   0.004001  \n",
       "1  -0.036001  -0.028001  -0.024001  -0.016001  -0.008001  -0.004001   0.000000  \n",
       "\n",
       "[2 rows x 4000 columns]"
      ]
     },
     "execution_count": 7,
     "metadata": {},
     "output_type": "execute_result"
    }
   ],
   "source": [
    "sig_ch2 = pd.concat([sig1['ch2'],sig2['ch2']], axis=1, ignore_index=True)\n",
    "sig_ch2 = sig_ch2.T\n",
    "sig_ch2.columns = [f'Pair_{i}' for i in range(1, 4001)]\n",
    "sig_ch2"
   ]
  },
  {
   "cell_type": "code",
   "execution_count": 8,
   "metadata": {},
   "outputs": [
    {
     "data": {
      "text/plain": [
       "(2, 4000)"
      ]
     },
     "execution_count": 8,
     "metadata": {},
     "output_type": "execute_result"
    }
   ],
   "source": [
    "sig_T1_50000 = sig_ch2.values\n",
    "sig_T1_50000.shape"
   ]
  },
  {
   "cell_type": "code",
   "execution_count": 9,
   "metadata": {},
   "outputs": [
    {
     "data": {
      "text/plain": [
       "(2, 4001)"
      ]
     },
     "execution_count": 9,
     "metadata": {},
     "output_type": "execute_result"
    }
   ],
   "source": [
    "# Add Y-value which is crack length(mm) for cycle 50000: 0mm\n",
    "y_value = 0\n",
    "crack_length_T1_50000 = np.full((sig_T1_50000.shape[0], 1), y_value)\n",
    "sig_T1_50000 = np.hstack((sig_T1_50000, crack_length_T1_50000))\n",
    "sig_T1_50000.shape"
   ]
  },
  {
   "cell_type": "code",
   "execution_count": 10,
   "metadata": {},
   "outputs": [
    {
     "data": {
      "text/plain": [
       "(2, 4001)"
      ]
     },
     "execution_count": 10,
     "metadata": {},
     "output_type": "execute_result"
    }
   ],
   "source": [
    "# add the extracted data in this cycle to the dataset array\n",
    "dataset_array = np.vstack([dataset_array, sig_T1_50000])\n",
    "dataset_array.shape"
   ]
  },
  {
   "cell_type": "markdown",
   "metadata": {},
   "source": [
    "Now we can prepare other datapoints according to the method above"
   ]
  },
  {
   "cell_type": "markdown",
   "metadata": {},
   "source": [
    "### Number of Cycle: 60000"
   ]
  },
  {
   "cell_type": "code",
   "execution_count": 11,
   "metadata": {},
   "outputs": [],
   "source": [
    "first_csv = pd.read_csv(data_path + training_sets[0] + t1_channels[1] + signals[0])\n",
    "second_csv = pd.read_csv(data_path + training_sets[0] + t1_channels[1] + signals[1])"
   ]
  },
  {
   "cell_type": "code",
   "execution_count": 12,
   "metadata": {},
   "outputs": [
    {
     "data": {
      "text/html": [
       "<div>\n",
       "<style scoped>\n",
       "    .dataframe tbody tr th:only-of-type {\n",
       "        vertical-align: middle;\n",
       "    }\n",
       "\n",
       "    .dataframe tbody tr th {\n",
       "        vertical-align: top;\n",
       "    }\n",
       "\n",
       "    .dataframe thead th {\n",
       "        text-align: right;\n",
       "    }\n",
       "</style>\n",
       "<table border=\"1\" class=\"dataframe\">\n",
       "  <thead>\n",
       "    <tr style=\"text-align: right;\">\n",
       "      <th></th>\n",
       "      <th>Pair_1</th>\n",
       "      <th>Pair_2</th>\n",
       "      <th>Pair_3</th>\n",
       "      <th>Pair_4</th>\n",
       "      <th>Pair_5</th>\n",
       "      <th>Pair_6</th>\n",
       "      <th>Pair_7</th>\n",
       "      <th>Pair_8</th>\n",
       "      <th>Pair_9</th>\n",
       "      <th>Pair_10</th>\n",
       "      <th>...</th>\n",
       "      <th>Pair_3991</th>\n",
       "      <th>Pair_3992</th>\n",
       "      <th>Pair_3993</th>\n",
       "      <th>Pair_3994</th>\n",
       "      <th>Pair_3995</th>\n",
       "      <th>Pair_3996</th>\n",
       "      <th>Pair_3997</th>\n",
       "      <th>Pair_3998</th>\n",
       "      <th>Pair_3999</th>\n",
       "      <th>Pair_4000</th>\n",
       "    </tr>\n",
       "  </thead>\n",
       "  <tbody>\n",
       "    <tr>\n",
       "      <th>0</th>\n",
       "      <td>-0.004</td>\n",
       "      <td>-0.004</td>\n",
       "      <td>0.000</td>\n",
       "      <td>-0.006</td>\n",
       "      <td>0.002</td>\n",
       "      <td>-0.006</td>\n",
       "      <td>-0.004</td>\n",
       "      <td>0.000</td>\n",
       "      <td>-0.004</td>\n",
       "      <td>-0.004</td>\n",
       "      <td>...</td>\n",
       "      <td>0.004</td>\n",
       "      <td>0.012</td>\n",
       "      <td>0.012</td>\n",
       "      <td>0.016</td>\n",
       "      <td>0.020</td>\n",
       "      <td>0.022</td>\n",
       "      <td>0.028</td>\n",
       "      <td>0.028</td>\n",
       "      <td>0.032</td>\n",
       "      <td>0.034</td>\n",
       "    </tr>\n",
       "    <tr>\n",
       "      <th>1</th>\n",
       "      <td>-0.002</td>\n",
       "      <td>-0.002</td>\n",
       "      <td>-0.008</td>\n",
       "      <td>0.012</td>\n",
       "      <td>-0.014</td>\n",
       "      <td>0.004</td>\n",
       "      <td>-0.004</td>\n",
       "      <td>-0.006</td>\n",
       "      <td>-0.006</td>\n",
       "      <td>0.028</td>\n",
       "      <td>...</td>\n",
       "      <td>0.016</td>\n",
       "      <td>-0.006</td>\n",
       "      <td>0.032</td>\n",
       "      <td>0.000</td>\n",
       "      <td>0.054</td>\n",
       "      <td>-0.036</td>\n",
       "      <td>0.090</td>\n",
       "      <td>-0.014</td>\n",
       "      <td>0.054</td>\n",
       "      <td>0.014</td>\n",
       "    </tr>\n",
       "  </tbody>\n",
       "</table>\n",
       "<p>2 rows × 4000 columns</p>\n",
       "</div>"
      ],
      "text/plain": [
       "   Pair_1  Pair_2  Pair_3  Pair_4  Pair_5  Pair_6  Pair_7  Pair_8  Pair_9  \\\n",
       "0  -0.004  -0.004   0.000  -0.006   0.002  -0.006  -0.004   0.000  -0.004   \n",
       "1  -0.002  -0.002  -0.008   0.012  -0.014   0.004  -0.004  -0.006  -0.006   \n",
       "\n",
       "   Pair_10  ...  Pair_3991  Pair_3992  Pair_3993  Pair_3994  Pair_3995  \\\n",
       "0   -0.004  ...      0.004      0.012      0.012      0.016      0.020   \n",
       "1    0.028  ...      0.016     -0.006      0.032      0.000      0.054   \n",
       "\n",
       "   Pair_3996  Pair_3997  Pair_3998  Pair_3999  Pair_4000  \n",
       "0      0.022      0.028      0.028      0.032      0.034  \n",
       "1     -0.036      0.090     -0.014      0.054      0.014  \n",
       "\n",
       "[2 rows x 4000 columns]"
      ]
     },
     "execution_count": 12,
     "metadata": {},
     "output_type": "execute_result"
    }
   ],
   "source": [
    "sig1 = first_csv[['ch1', 'ch2']]\n",
    "sig2 = second_csv[['ch1', 'ch2']]\n",
    "# Since most values in ch1(excitation signal) are 0, \n",
    "# just extract values in ch2(received signals) in both signal1 and signal2\n",
    "sig_ch2 = pd.concat([sig1['ch2'],sig2['ch2']], axis=1, ignore_index=True)\n",
    "sig_ch2 = sig_ch2.T\n",
    "sig_ch2.columns = [f'Pair_{i}' for i in range(1, 4001)]\n",
    "sig_ch2"
   ]
  },
  {
   "cell_type": "code",
   "execution_count": 13,
   "metadata": {},
   "outputs": [
    {
     "data": {
      "text/plain": [
       "(2, 4000)"
      ]
     },
     "execution_count": 13,
     "metadata": {},
     "output_type": "execute_result"
    }
   ],
   "source": [
    "sig_T1_60000 = sig_ch2.values\n",
    "sig_T1_60000.shape"
   ]
  },
  {
   "cell_type": "code",
   "execution_count": 14,
   "metadata": {},
   "outputs": [
    {
     "data": {
      "text/plain": [
       "(2, 4001)"
      ]
     },
     "execution_count": 14,
     "metadata": {},
     "output_type": "execute_result"
    }
   ],
   "source": [
    "# Add Y-value which is crack length(mm) for cycle 60000: 2.18mm\n",
    "y_value = 2.18\n",
    "crack_length_T1_60000 = np.full((sig_T1_60000.shape[0], 1), y_value)\n",
    "sig_T1_60000 = np.hstack((sig_T1_60000, crack_length_T1_60000))\n",
    "sig_T1_60000.shape"
   ]
  },
  {
   "cell_type": "code",
   "execution_count": 15,
   "metadata": {},
   "outputs": [
    {
     "data": {
      "text/plain": [
       "(4, 4001)"
      ]
     },
     "execution_count": 15,
     "metadata": {},
     "output_type": "execute_result"
    }
   ],
   "source": [
    "# add the extracted data in this cycle to the dataset array\n",
    "dataset_array = np.vstack([dataset_array, sig_T1_60000])\n",
    "dataset_array.shape"
   ]
  },
  {
   "cell_type": "markdown",
   "metadata": {},
   "source": [
    "### Number of Cycle: 62500"
   ]
  },
  {
   "cell_type": "code",
   "execution_count": 16,
   "metadata": {},
   "outputs": [],
   "source": [
    "first_csv = pd.read_csv(data_path + training_sets[0] + t1_channels[2] + signals[0])\n",
    "second_csv = pd.read_csv(data_path + training_sets[0] + t1_channels[2] + signals[1])"
   ]
  },
  {
   "cell_type": "code",
   "execution_count": 17,
   "metadata": {},
   "outputs": [
    {
     "data": {
      "text/html": [
       "<div>\n",
       "<style scoped>\n",
       "    .dataframe tbody tr th:only-of-type {\n",
       "        vertical-align: middle;\n",
       "    }\n",
       "\n",
       "    .dataframe tbody tr th {\n",
       "        vertical-align: top;\n",
       "    }\n",
       "\n",
       "    .dataframe thead th {\n",
       "        text-align: right;\n",
       "    }\n",
       "</style>\n",
       "<table border=\"1\" class=\"dataframe\">\n",
       "  <thead>\n",
       "    <tr style=\"text-align: right;\">\n",
       "      <th></th>\n",
       "      <th>Pair_1</th>\n",
       "      <th>Pair_2</th>\n",
       "      <th>Pair_3</th>\n",
       "      <th>Pair_4</th>\n",
       "      <th>Pair_5</th>\n",
       "      <th>Pair_6</th>\n",
       "      <th>Pair_7</th>\n",
       "      <th>Pair_8</th>\n",
       "      <th>Pair_9</th>\n",
       "      <th>Pair_10</th>\n",
       "      <th>...</th>\n",
       "      <th>Pair_3991</th>\n",
       "      <th>Pair_3992</th>\n",
       "      <th>Pair_3993</th>\n",
       "      <th>Pair_3994</th>\n",
       "      <th>Pair_3995</th>\n",
       "      <th>Pair_3996</th>\n",
       "      <th>Pair_3997</th>\n",
       "      <th>Pair_3998</th>\n",
       "      <th>Pair_3999</th>\n",
       "      <th>Pair_4000</th>\n",
       "    </tr>\n",
       "  </thead>\n",
       "  <tbody>\n",
       "    <tr>\n",
       "      <th>0</th>\n",
       "      <td>-0.008</td>\n",
       "      <td>-0.006</td>\n",
       "      <td>0.012</td>\n",
       "      <td>-0.02</td>\n",
       "      <td>0.000</td>\n",
       "      <td>0.002</td>\n",
       "      <td>-0.008</td>\n",
       "      <td>0.000</td>\n",
       "      <td>-0.006</td>\n",
       "      <td>0.002</td>\n",
       "      <td>...</td>\n",
       "      <td>0.016</td>\n",
       "      <td>0.004</td>\n",
       "      <td>0.044</td>\n",
       "      <td>0.010</td>\n",
       "      <td>0.040</td>\n",
       "      <td>0.034</td>\n",
       "      <td>0.038</td>\n",
       "      <td>0.044</td>\n",
       "      <td>0.042</td>\n",
       "      <td>0.058</td>\n",
       "    </tr>\n",
       "    <tr>\n",
       "      <th>1</th>\n",
       "      <td>0.002</td>\n",
       "      <td>0.000</td>\n",
       "      <td>0.000</td>\n",
       "      <td>0.00</td>\n",
       "      <td>0.002</td>\n",
       "      <td>0.002</td>\n",
       "      <td>0.000</td>\n",
       "      <td>0.002</td>\n",
       "      <td>0.000</td>\n",
       "      <td>0.000</td>\n",
       "      <td>...</td>\n",
       "      <td>0.018</td>\n",
       "      <td>0.024</td>\n",
       "      <td>0.028</td>\n",
       "      <td>0.032</td>\n",
       "      <td>0.034</td>\n",
       "      <td>0.040</td>\n",
       "      <td>0.044</td>\n",
       "      <td>0.044</td>\n",
       "      <td>0.050</td>\n",
       "      <td>0.050</td>\n",
       "    </tr>\n",
       "  </tbody>\n",
       "</table>\n",
       "<p>2 rows × 4000 columns</p>\n",
       "</div>"
      ],
      "text/plain": [
       "   Pair_1  Pair_2  Pair_3  Pair_4  Pair_5  Pair_6  Pair_7  Pair_8  Pair_9  \\\n",
       "0  -0.008  -0.006   0.012   -0.02   0.000   0.002  -0.008   0.000  -0.006   \n",
       "1   0.002   0.000   0.000    0.00   0.002   0.002   0.000   0.002   0.000   \n",
       "\n",
       "   Pair_10  ...  Pair_3991  Pair_3992  Pair_3993  Pair_3994  Pair_3995  \\\n",
       "0    0.002  ...      0.016      0.004      0.044      0.010      0.040   \n",
       "1    0.000  ...      0.018      0.024      0.028      0.032      0.034   \n",
       "\n",
       "   Pair_3996  Pair_3997  Pair_3998  Pair_3999  Pair_4000  \n",
       "0      0.034      0.038      0.044      0.042      0.058  \n",
       "1      0.040      0.044      0.044      0.050      0.050  \n",
       "\n",
       "[2 rows x 4000 columns]"
      ]
     },
     "execution_count": 17,
     "metadata": {},
     "output_type": "execute_result"
    }
   ],
   "source": [
    "sig1 = first_csv[['ch1', 'ch2']]\n",
    "sig2 = second_csv[['ch1', 'ch2']]\n",
    "# Since most values in ch1(excitation signal) are 0, \n",
    "# just extract values in ch2(received signals) in both signal1 and signal2\n",
    "sig_ch2 = pd.concat([sig1['ch2'],sig2['ch2']], axis=1, ignore_index=True)\n",
    "sig_ch2 = sig_ch2.T\n",
    "sig_ch2.columns = [f'Pair_{i}' for i in range(1, 4001)]\n",
    "sig_ch2"
   ]
  },
  {
   "cell_type": "code",
   "execution_count": 18,
   "metadata": {},
   "outputs": [
    {
     "data": {
      "text/plain": [
       "(2, 4000)"
      ]
     },
     "execution_count": 18,
     "metadata": {},
     "output_type": "execute_result"
    }
   ],
   "source": [
    "sig_T1_62500 = sig_ch2.values\n",
    "sig_T1_62500.shape"
   ]
  },
  {
   "cell_type": "code",
   "execution_count": 19,
   "metadata": {},
   "outputs": [
    {
     "data": {
      "text/plain": [
       "(2, 4001)"
      ]
     },
     "execution_count": 19,
     "metadata": {},
     "output_type": "execute_result"
    }
   ],
   "source": [
    "# Add Y-value which is crack length(mm) for cycle 62500: 2.76mm\n",
    "y_value = 2.76\n",
    "crack_length_T1_62500 = np.full((sig_T1_62500.shape[0], 1), y_value)\n",
    "sig_T1_62500 = np.hstack((sig_T1_62500, crack_length_T1_62500))\n",
    "sig_T1_62500.shape"
   ]
  },
  {
   "cell_type": "code",
   "execution_count": 20,
   "metadata": {},
   "outputs": [
    {
     "data": {
      "text/plain": [
       "(6, 4001)"
      ]
     },
     "execution_count": 20,
     "metadata": {},
     "output_type": "execute_result"
    }
   ],
   "source": [
    "# add the extracted data in this cycle to the dataset array\n",
    "dataset_array = np.vstack([dataset_array, sig_T1_62500])\n",
    "dataset_array.shape"
   ]
  },
  {
   "cell_type": "markdown",
   "metadata": {},
   "source": [
    "### Number of Cycle: 65500"
   ]
  },
  {
   "cell_type": "code",
   "execution_count": 21,
   "metadata": {},
   "outputs": [],
   "source": [
    "first_csv = pd.read_csv(data_path + training_sets[0] + t1_channels[3] + signals[0])\n",
    "second_csv = pd.read_csv(data_path + training_sets[0] + t1_channels[3] + signals[1])"
   ]
  },
  {
   "cell_type": "code",
   "execution_count": 22,
   "metadata": {},
   "outputs": [
    {
     "data": {
      "text/html": [
       "<div>\n",
       "<style scoped>\n",
       "    .dataframe tbody tr th:only-of-type {\n",
       "        vertical-align: middle;\n",
       "    }\n",
       "\n",
       "    .dataframe tbody tr th {\n",
       "        vertical-align: top;\n",
       "    }\n",
       "\n",
       "    .dataframe thead th {\n",
       "        text-align: right;\n",
       "    }\n",
       "</style>\n",
       "<table border=\"1\" class=\"dataframe\">\n",
       "  <thead>\n",
       "    <tr style=\"text-align: right;\">\n",
       "      <th></th>\n",
       "      <th>Pair_1</th>\n",
       "      <th>Pair_2</th>\n",
       "      <th>Pair_3</th>\n",
       "      <th>Pair_4</th>\n",
       "      <th>Pair_5</th>\n",
       "      <th>Pair_6</th>\n",
       "      <th>Pair_7</th>\n",
       "      <th>Pair_8</th>\n",
       "      <th>Pair_9</th>\n",
       "      <th>Pair_10</th>\n",
       "      <th>...</th>\n",
       "      <th>Pair_3991</th>\n",
       "      <th>Pair_3992</th>\n",
       "      <th>Pair_3993</th>\n",
       "      <th>Pair_3994</th>\n",
       "      <th>Pair_3995</th>\n",
       "      <th>Pair_3996</th>\n",
       "      <th>Pair_3997</th>\n",
       "      <th>Pair_3998</th>\n",
       "      <th>Pair_3999</th>\n",
       "      <th>Pair_4000</th>\n",
       "    </tr>\n",
       "  </thead>\n",
       "  <tbody>\n",
       "    <tr>\n",
       "      <th>0</th>\n",
       "      <td>0.002</td>\n",
       "      <td>-0.002</td>\n",
       "      <td>0.002</td>\n",
       "      <td>0.000</td>\n",
       "      <td>0.000</td>\n",
       "      <td>0.002</td>\n",
       "      <td>-0.004</td>\n",
       "      <td>0.002</td>\n",
       "      <td>-0.002</td>\n",
       "      <td>0.002</td>\n",
       "      <td>...</td>\n",
       "      <td>0.032</td>\n",
       "      <td>0.036</td>\n",
       "      <td>0.040</td>\n",
       "      <td>0.044</td>\n",
       "      <td>0.048</td>\n",
       "      <td>0.048</td>\n",
       "      <td>0.050</td>\n",
       "      <td>0.050</td>\n",
       "      <td>0.054</td>\n",
       "      <td>0.05</td>\n",
       "    </tr>\n",
       "    <tr>\n",
       "      <th>1</th>\n",
       "      <td>0.000</td>\n",
       "      <td>0.002</td>\n",
       "      <td>-0.004</td>\n",
       "      <td>0.002</td>\n",
       "      <td>-0.006</td>\n",
       "      <td>0.000</td>\n",
       "      <td>0.000</td>\n",
       "      <td>-0.004</td>\n",
       "      <td>0.002</td>\n",
       "      <td>-0.002</td>\n",
       "      <td>...</td>\n",
       "      <td>0.028</td>\n",
       "      <td>0.020</td>\n",
       "      <td>0.042</td>\n",
       "      <td>0.040</td>\n",
       "      <td>0.034</td>\n",
       "      <td>0.044</td>\n",
       "      <td>0.056</td>\n",
       "      <td>0.028</td>\n",
       "      <td>0.056</td>\n",
       "      <td>0.05</td>\n",
       "    </tr>\n",
       "  </tbody>\n",
       "</table>\n",
       "<p>2 rows × 4000 columns</p>\n",
       "</div>"
      ],
      "text/plain": [
       "   Pair_1  Pair_2  Pair_3  Pair_4  Pair_5  Pair_6  Pair_7  Pair_8  Pair_9  \\\n",
       "0   0.002  -0.002   0.002   0.000   0.000   0.002  -0.004   0.002  -0.002   \n",
       "1   0.000   0.002  -0.004   0.002  -0.006   0.000   0.000  -0.004   0.002   \n",
       "\n",
       "   Pair_10  ...  Pair_3991  Pair_3992  Pair_3993  Pair_3994  Pair_3995  \\\n",
       "0    0.002  ...      0.032      0.036      0.040      0.044      0.048   \n",
       "1   -0.002  ...      0.028      0.020      0.042      0.040      0.034   \n",
       "\n",
       "   Pair_3996  Pair_3997  Pair_3998  Pair_3999  Pair_4000  \n",
       "0      0.048      0.050      0.050      0.054       0.05  \n",
       "1      0.044      0.056      0.028      0.056       0.05  \n",
       "\n",
       "[2 rows x 4000 columns]"
      ]
     },
     "execution_count": 22,
     "metadata": {},
     "output_type": "execute_result"
    }
   ],
   "source": [
    "sig1 = first_csv[['ch1', 'ch2']]\n",
    "sig2 = second_csv[['ch1', 'ch2']]\n",
    "# Since most values in ch1(excitation signal) are 0, \n",
    "# just extract values in ch2(received signals) in both signal1 and signal2\n",
    "sig_ch2 = pd.concat([sig1['ch2'],sig2['ch2']], axis=1, ignore_index=True)\n",
    "sig_ch2 = sig_ch2.T\n",
    "sig_ch2.columns = [f'Pair_{i}' for i in range(1, 4001)]\n",
    "sig_ch2"
   ]
  },
  {
   "cell_type": "code",
   "execution_count": 23,
   "metadata": {},
   "outputs": [
    {
     "data": {
      "text/plain": [
       "(2, 4000)"
      ]
     },
     "execution_count": 23,
     "metadata": {},
     "output_type": "execute_result"
    }
   ],
   "source": [
    "sig_T1_65500 = sig_ch2.values\n",
    "sig_T1_65500.shape"
   ]
  },
  {
   "cell_type": "code",
   "execution_count": 24,
   "metadata": {},
   "outputs": [
    {
     "data": {
      "text/plain": [
       "(2, 4001)"
      ]
     },
     "execution_count": 24,
     "metadata": {},
     "output_type": "execute_result"
    }
   ],
   "source": [
    "# Add Y-value which is crack length(mm) for cycle 65500: 3.51mm\n",
    "y_value = 3.51\n",
    "crack_length_T1_65500 = np.full((sig_T1_65500.shape[0], 1), y_value)\n",
    "sig_T1_65500 = np.hstack((sig_T1_65500, crack_length_T1_65500))\n",
    "sig_T1_65500.shape"
   ]
  },
  {
   "cell_type": "code",
   "execution_count": 25,
   "metadata": {},
   "outputs": [
    {
     "data": {
      "text/plain": [
       "(8, 4001)"
      ]
     },
     "execution_count": 25,
     "metadata": {},
     "output_type": "execute_result"
    }
   ],
   "source": [
    "# add the extracted data in this cycle to the dataset array\n",
    "dataset_array = np.vstack([dataset_array, sig_T1_65500])\n",
    "dataset_array.shape"
   ]
  },
  {
   "cell_type": "markdown",
   "metadata": {},
   "source": [
    "### Number of Cycle: 69025"
   ]
  },
  {
   "cell_type": "code",
   "execution_count": 26,
   "metadata": {},
   "outputs": [],
   "source": [
    "first_csv = pd.read_csv(data_path + training_sets[0] + t1_channels[4] + signals[0])\n",
    "second_csv = pd.read_csv(data_path + training_sets[0] + t1_channels[4] + signals[1])"
   ]
  },
  {
   "cell_type": "code",
   "execution_count": 27,
   "metadata": {},
   "outputs": [
    {
     "data": {
      "text/html": [
       "<div>\n",
       "<style scoped>\n",
       "    .dataframe tbody tr th:only-of-type {\n",
       "        vertical-align: middle;\n",
       "    }\n",
       "\n",
       "    .dataframe tbody tr th {\n",
       "        vertical-align: top;\n",
       "    }\n",
       "\n",
       "    .dataframe thead th {\n",
       "        text-align: right;\n",
       "    }\n",
       "</style>\n",
       "<table border=\"1\" class=\"dataframe\">\n",
       "  <thead>\n",
       "    <tr style=\"text-align: right;\">\n",
       "      <th></th>\n",
       "      <th>Pair_1</th>\n",
       "      <th>Pair_2</th>\n",
       "      <th>Pair_3</th>\n",
       "      <th>Pair_4</th>\n",
       "      <th>Pair_5</th>\n",
       "      <th>Pair_6</th>\n",
       "      <th>Pair_7</th>\n",
       "      <th>Pair_8</th>\n",
       "      <th>Pair_9</th>\n",
       "      <th>Pair_10</th>\n",
       "      <th>...</th>\n",
       "      <th>Pair_3991</th>\n",
       "      <th>Pair_3992</th>\n",
       "      <th>Pair_3993</th>\n",
       "      <th>Pair_3994</th>\n",
       "      <th>Pair_3995</th>\n",
       "      <th>Pair_3996</th>\n",
       "      <th>Pair_3997</th>\n",
       "      <th>Pair_3998</th>\n",
       "      <th>Pair_3999</th>\n",
       "      <th>Pair_4000</th>\n",
       "    </tr>\n",
       "  </thead>\n",
       "  <tbody>\n",
       "    <tr>\n",
       "      <th>0</th>\n",
       "      <td>-0.004</td>\n",
       "      <td>0.000</td>\n",
       "      <td>0.000</td>\n",
       "      <td>-0.002</td>\n",
       "      <td>0.002</td>\n",
       "      <td>0.000</td>\n",
       "      <td>0.002</td>\n",
       "      <td>-0.004</td>\n",
       "      <td>0.000</td>\n",
       "      <td>-0.004</td>\n",
       "      <td>...</td>\n",
       "      <td>0.008</td>\n",
       "      <td>0.016</td>\n",
       "      <td>0.02</td>\n",
       "      <td>0.026</td>\n",
       "      <td>0.030</td>\n",
       "      <td>0.040</td>\n",
       "      <td>0.038</td>\n",
       "      <td>0.05</td>\n",
       "      <td>0.042</td>\n",
       "      <td>0.06</td>\n",
       "    </tr>\n",
       "    <tr>\n",
       "      <th>1</th>\n",
       "      <td>-0.004</td>\n",
       "      <td>-0.002</td>\n",
       "      <td>-0.004</td>\n",
       "      <td>0.000</td>\n",
       "      <td>-0.004</td>\n",
       "      <td>-0.004</td>\n",
       "      <td>0.000</td>\n",
       "      <td>-0.008</td>\n",
       "      <td>0.004</td>\n",
       "      <td>-0.006</td>\n",
       "      <td>...</td>\n",
       "      <td>-0.006</td>\n",
       "      <td>0.012</td>\n",
       "      <td>0.01</td>\n",
       "      <td>0.022</td>\n",
       "      <td>0.024</td>\n",
       "      <td>0.028</td>\n",
       "      <td>0.036</td>\n",
       "      <td>0.04</td>\n",
       "      <td>0.040</td>\n",
       "      <td>0.05</td>\n",
       "    </tr>\n",
       "  </tbody>\n",
       "</table>\n",
       "<p>2 rows × 4000 columns</p>\n",
       "</div>"
      ],
      "text/plain": [
       "   Pair_1  Pair_2  Pair_3  Pair_4  Pair_5  Pair_6  Pair_7  Pair_8  Pair_9  \\\n",
       "0  -0.004   0.000   0.000  -0.002   0.002   0.000   0.002  -0.004   0.000   \n",
       "1  -0.004  -0.002  -0.004   0.000  -0.004  -0.004   0.000  -0.008   0.004   \n",
       "\n",
       "   Pair_10  ...  Pair_3991  Pair_3992  Pair_3993  Pair_3994  Pair_3995  \\\n",
       "0   -0.004  ...      0.008      0.016       0.02      0.026      0.030   \n",
       "1   -0.006  ...     -0.006      0.012       0.01      0.022      0.024   \n",
       "\n",
       "   Pair_3996  Pair_3997  Pair_3998  Pair_3999  Pair_4000  \n",
       "0      0.040      0.038       0.05      0.042       0.06  \n",
       "1      0.028      0.036       0.04      0.040       0.05  \n",
       "\n",
       "[2 rows x 4000 columns]"
      ]
     },
     "execution_count": 27,
     "metadata": {},
     "output_type": "execute_result"
    }
   ],
   "source": [
    "sig1 = first_csv[['ch1', 'ch2']]\n",
    "sig2 = second_csv[['ch1', 'ch2']]\n",
    "# Since most values in ch1(excitation signal) are 0, \n",
    "# just extract values in ch2(received signals) in both signal1 and signal2\n",
    "sig_ch2 = pd.concat([sig1['ch2'],sig2['ch2']], axis=1, ignore_index=True)\n",
    "sig_ch2 = sig_ch2.T\n",
    "sig_ch2.columns = [f'Pair_{i}' for i in range(1, 4001)]\n",
    "sig_ch2"
   ]
  },
  {
   "cell_type": "code",
   "execution_count": 28,
   "metadata": {},
   "outputs": [
    {
     "data": {
      "text/plain": [
       "(2, 4000)"
      ]
     },
     "execution_count": 28,
     "metadata": {},
     "output_type": "execute_result"
    }
   ],
   "source": [
    "sig_T1_69025 = sig_ch2.values\n",
    "sig_T1_69025.shape"
   ]
  },
  {
   "cell_type": "code",
   "execution_count": 29,
   "metadata": {},
   "outputs": [
    {
     "data": {
      "text/plain": [
       "(2, 4001)"
      ]
     },
     "execution_count": 29,
     "metadata": {},
     "output_type": "execute_result"
    }
   ],
   "source": [
    "# Add Y-value which is crack length(mm) for cycle 69025: 4.51mm\n",
    "y_value = 4.51\n",
    "crack_length_T1_69025 = np.full((sig_T1_69025.shape[0], 1), y_value)\n",
    "sig_T1_69025 = np.hstack((sig_T1_69025, crack_length_T1_69025))\n",
    "sig_T1_69025.shape"
   ]
  },
  {
   "cell_type": "code",
   "execution_count": 30,
   "metadata": {},
   "outputs": [
    {
     "data": {
      "text/plain": [
       "(10, 4001)"
      ]
     },
     "execution_count": 30,
     "metadata": {},
     "output_type": "execute_result"
    }
   ],
   "source": [
    "# add the extracted data in this cycle to the dataset array\n",
    "dataset_array = np.vstack([dataset_array, sig_T1_69025])\n",
    "dataset_array.shape"
   ]
  },
  {
   "cell_type": "markdown",
   "metadata": {},
   "source": [
    "### Number of Cycle: 70026"
   ]
  },
  {
   "cell_type": "code",
   "execution_count": 31,
   "metadata": {},
   "outputs": [],
   "source": [
    "first_csv = pd.read_csv(data_path + training_sets[0] + t1_channels[5] + signals[0])\n",
    "second_csv = pd.read_csv(data_path + training_sets[0] + t1_channels[5] + signals[1])"
   ]
  },
  {
   "cell_type": "code",
   "execution_count": 32,
   "metadata": {},
   "outputs": [
    {
     "data": {
      "text/html": [
       "<div>\n",
       "<style scoped>\n",
       "    .dataframe tbody tr th:only-of-type {\n",
       "        vertical-align: middle;\n",
       "    }\n",
       "\n",
       "    .dataframe tbody tr th {\n",
       "        vertical-align: top;\n",
       "    }\n",
       "\n",
       "    .dataframe thead th {\n",
       "        text-align: right;\n",
       "    }\n",
       "</style>\n",
       "<table border=\"1\" class=\"dataframe\">\n",
       "  <thead>\n",
       "    <tr style=\"text-align: right;\">\n",
       "      <th></th>\n",
       "      <th>Pair_1</th>\n",
       "      <th>Pair_2</th>\n",
       "      <th>Pair_3</th>\n",
       "      <th>Pair_4</th>\n",
       "      <th>Pair_5</th>\n",
       "      <th>Pair_6</th>\n",
       "      <th>Pair_7</th>\n",
       "      <th>Pair_8</th>\n",
       "      <th>Pair_9</th>\n",
       "      <th>Pair_10</th>\n",
       "      <th>...</th>\n",
       "      <th>Pair_3991</th>\n",
       "      <th>Pair_3992</th>\n",
       "      <th>Pair_3993</th>\n",
       "      <th>Pair_3994</th>\n",
       "      <th>Pair_3995</th>\n",
       "      <th>Pair_3996</th>\n",
       "      <th>Pair_3997</th>\n",
       "      <th>Pair_3998</th>\n",
       "      <th>Pair_3999</th>\n",
       "      <th>Pair_4000</th>\n",
       "    </tr>\n",
       "  </thead>\n",
       "  <tbody>\n",
       "    <tr>\n",
       "      <th>0</th>\n",
       "      <td>-0.004</td>\n",
       "      <td>0.002</td>\n",
       "      <td>-0.006</td>\n",
       "      <td>-0.012</td>\n",
       "      <td>0.012</td>\n",
       "      <td>-0.002</td>\n",
       "      <td>-0.014</td>\n",
       "      <td>0.002</td>\n",
       "      <td>0.010</td>\n",
       "      <td>-0.018</td>\n",
       "      <td>...</td>\n",
       "      <td>-0.018</td>\n",
       "      <td>0.024</td>\n",
       "      <td>0.010</td>\n",
       "      <td>0.016</td>\n",
       "      <td>0.008</td>\n",
       "      <td>0.044</td>\n",
       "      <td>0.012</td>\n",
       "      <td>0.044</td>\n",
       "      <td>0.036</td>\n",
       "      <td>0.042</td>\n",
       "    </tr>\n",
       "    <tr>\n",
       "      <th>1</th>\n",
       "      <td>-0.002</td>\n",
       "      <td>-0.004</td>\n",
       "      <td>-0.002</td>\n",
       "      <td>0.000</td>\n",
       "      <td>-0.004</td>\n",
       "      <td>-0.002</td>\n",
       "      <td>-0.004</td>\n",
       "      <td>-0.002</td>\n",
       "      <td>-0.002</td>\n",
       "      <td>0.000</td>\n",
       "      <td>...</td>\n",
       "      <td>0.002</td>\n",
       "      <td>0.008</td>\n",
       "      <td>0.014</td>\n",
       "      <td>0.018</td>\n",
       "      <td>0.018</td>\n",
       "      <td>0.028</td>\n",
       "      <td>0.034</td>\n",
       "      <td>0.036</td>\n",
       "      <td>0.040</td>\n",
       "      <td>0.048</td>\n",
       "    </tr>\n",
       "  </tbody>\n",
       "</table>\n",
       "<p>2 rows × 4000 columns</p>\n",
       "</div>"
      ],
      "text/plain": [
       "   Pair_1  Pair_2  Pair_3  Pair_4  Pair_5  Pair_6  Pair_7  Pair_8  Pair_9  \\\n",
       "0  -0.004   0.002  -0.006  -0.012   0.012  -0.002  -0.014   0.002   0.010   \n",
       "1  -0.002  -0.004  -0.002   0.000  -0.004  -0.002  -0.004  -0.002  -0.002   \n",
       "\n",
       "   Pair_10  ...  Pair_3991  Pair_3992  Pair_3993  Pair_3994  Pair_3995  \\\n",
       "0   -0.018  ...     -0.018      0.024      0.010      0.016      0.008   \n",
       "1    0.000  ...      0.002      0.008      0.014      0.018      0.018   \n",
       "\n",
       "   Pair_3996  Pair_3997  Pair_3998  Pair_3999  Pair_4000  \n",
       "0      0.044      0.012      0.044      0.036      0.042  \n",
       "1      0.028      0.034      0.036      0.040      0.048  \n",
       "\n",
       "[2 rows x 4000 columns]"
      ]
     },
     "execution_count": 32,
     "metadata": {},
     "output_type": "execute_result"
    }
   ],
   "source": [
    "sig1 = first_csv[['ch1', 'ch2']]\n",
    "sig2 = second_csv[['ch1', 'ch2']]\n",
    "# Since most values in ch1(excitation signal) are 0, \n",
    "# just extract values in ch2(received signals) in both signal1 and signal2\n",
    "sig_ch2 = pd.concat([sig1['ch2'],sig2['ch2']], axis=1, ignore_index=True)\n",
    "sig_ch2 = sig_ch2.T\n",
    "sig_ch2.columns = [f'Pair_{i}' for i in range(1, 4001)]\n",
    "sig_ch2"
   ]
  },
  {
   "cell_type": "code",
   "execution_count": 33,
   "metadata": {},
   "outputs": [
    {
     "data": {
      "text/plain": [
       "(2, 4000)"
      ]
     },
     "execution_count": 33,
     "metadata": {},
     "output_type": "execute_result"
    }
   ],
   "source": [
    "sig_T1_70026 = sig_ch2.values\n",
    "sig_T1_70026.shape"
   ]
  },
  {
   "cell_type": "code",
   "execution_count": 34,
   "metadata": {},
   "outputs": [
    {
     "data": {
      "text/plain": [
       "(2, 4001)"
      ]
     },
     "execution_count": 34,
     "metadata": {},
     "output_type": "execute_result"
    }
   ],
   "source": [
    "# Add Y-value which is crack length(mm) for cycle 70026: 4.9mm\n",
    "y_values = 4.9\n",
    "crack_length_T1_70026 = np.full((sig_T1_70026.shape[0], 1), y_value)\n",
    "sig_T1_70026 = np.hstack((sig_T1_70026, crack_length_T1_70026))\n",
    "sig_T1_70026.shape"
   ]
  },
  {
   "cell_type": "code",
   "execution_count": 35,
   "metadata": {},
   "outputs": [
    {
     "data": {
      "text/plain": [
       "(12, 4001)"
      ]
     },
     "execution_count": 35,
     "metadata": {},
     "output_type": "execute_result"
    }
   ],
   "source": [
    "# add the extracted data in this cycle to the dataset array\n",
    "dataset_array = np.vstack([dataset_array, sig_T1_70026])\n",
    "dataset_array.shape"
   ]
  },
  {
   "cell_type": "markdown",
   "metadata": {},
   "source": [
    "### Number of Cycle: 70766"
   ]
  },
  {
   "cell_type": "code",
   "execution_count": 36,
   "metadata": {},
   "outputs": [],
   "source": [
    "first_csv = pd.read_csv(data_path + training_sets[0] + t1_channels[6] + signals[0])\n",
    "second_csv = pd.read_csv(data_path + training_sets[0] + t1_channels[6] + signals[1])"
   ]
  },
  {
   "cell_type": "code",
   "execution_count": 37,
   "metadata": {},
   "outputs": [
    {
     "data": {
      "text/html": [
       "<div>\n",
       "<style scoped>\n",
       "    .dataframe tbody tr th:only-of-type {\n",
       "        vertical-align: middle;\n",
       "    }\n",
       "\n",
       "    .dataframe tbody tr th {\n",
       "        vertical-align: top;\n",
       "    }\n",
       "\n",
       "    .dataframe thead th {\n",
       "        text-align: right;\n",
       "    }\n",
       "</style>\n",
       "<table border=\"1\" class=\"dataframe\">\n",
       "  <thead>\n",
       "    <tr style=\"text-align: right;\">\n",
       "      <th></th>\n",
       "      <th>Pair_1</th>\n",
       "      <th>Pair_2</th>\n",
       "      <th>Pair_3</th>\n",
       "      <th>Pair_4</th>\n",
       "      <th>Pair_5</th>\n",
       "      <th>Pair_6</th>\n",
       "      <th>Pair_7</th>\n",
       "      <th>Pair_8</th>\n",
       "      <th>Pair_9</th>\n",
       "      <th>Pair_10</th>\n",
       "      <th>...</th>\n",
       "      <th>Pair_3991</th>\n",
       "      <th>Pair_3992</th>\n",
       "      <th>Pair_3993</th>\n",
       "      <th>Pair_3994</th>\n",
       "      <th>Pair_3995</th>\n",
       "      <th>Pair_3996</th>\n",
       "      <th>Pair_3997</th>\n",
       "      <th>Pair_3998</th>\n",
       "      <th>Pair_3999</th>\n",
       "      <th>Pair_4000</th>\n",
       "    </tr>\n",
       "  </thead>\n",
       "  <tbody>\n",
       "    <tr>\n",
       "      <th>0</th>\n",
       "      <td>0.002</td>\n",
       "      <td>-0.004</td>\n",
       "      <td>0.012</td>\n",
       "      <td>-0.012</td>\n",
       "      <td>0.004</td>\n",
       "      <td>0.0</td>\n",
       "      <td>0.002</td>\n",
       "      <td>-0.008</td>\n",
       "      <td>0.01</td>\n",
       "      <td>-0.004</td>\n",
       "      <td>...</td>\n",
       "      <td>0.016</td>\n",
       "      <td>0.018</td>\n",
       "      <td>0.028</td>\n",
       "      <td>0.028</td>\n",
       "      <td>0.036</td>\n",
       "      <td>0.040</td>\n",
       "      <td>0.044</td>\n",
       "      <td>0.048</td>\n",
       "      <td>0.056</td>\n",
       "      <td>0.056</td>\n",
       "    </tr>\n",
       "    <tr>\n",
       "      <th>1</th>\n",
       "      <td>0.000</td>\n",
       "      <td>0.002</td>\n",
       "      <td>0.000</td>\n",
       "      <td>-0.002</td>\n",
       "      <td>0.002</td>\n",
       "      <td>0.0</td>\n",
       "      <td>0.000</td>\n",
       "      <td>0.000</td>\n",
       "      <td>0.00</td>\n",
       "      <td>0.000</td>\n",
       "      <td>...</td>\n",
       "      <td>0.008</td>\n",
       "      <td>0.014</td>\n",
       "      <td>0.026</td>\n",
       "      <td>0.024</td>\n",
       "      <td>0.028</td>\n",
       "      <td>0.036</td>\n",
       "      <td>0.040</td>\n",
       "      <td>0.048</td>\n",
       "      <td>0.036</td>\n",
       "      <td>0.058</td>\n",
       "    </tr>\n",
       "  </tbody>\n",
       "</table>\n",
       "<p>2 rows × 4000 columns</p>\n",
       "</div>"
      ],
      "text/plain": [
       "   Pair_1  Pair_2  Pair_3  Pair_4  Pair_5  Pair_6  Pair_7  Pair_8  Pair_9  \\\n",
       "0   0.002  -0.004   0.012  -0.012   0.004     0.0   0.002  -0.008    0.01   \n",
       "1   0.000   0.002   0.000  -0.002   0.002     0.0   0.000   0.000    0.00   \n",
       "\n",
       "   Pair_10  ...  Pair_3991  Pair_3992  Pair_3993  Pair_3994  Pair_3995  \\\n",
       "0   -0.004  ...      0.016      0.018      0.028      0.028      0.036   \n",
       "1    0.000  ...      0.008      0.014      0.026      0.024      0.028   \n",
       "\n",
       "   Pair_3996  Pair_3997  Pair_3998  Pair_3999  Pair_4000  \n",
       "0      0.040      0.044      0.048      0.056      0.056  \n",
       "1      0.036      0.040      0.048      0.036      0.058  \n",
       "\n",
       "[2 rows x 4000 columns]"
      ]
     },
     "execution_count": 37,
     "metadata": {},
     "output_type": "execute_result"
    }
   ],
   "source": [
    "sig1 = first_csv[['ch1', 'ch2']]\n",
    "sig2 = second_csv[['ch1', 'ch2']]\n",
    "# Since most values in ch1(excitation signal) are 0, \n",
    "# just extract values in ch2(received signals) in both signal1 and signal2\n",
    "sig_ch2 = pd.concat([sig1['ch2'],sig2['ch2']], axis=1, ignore_index=True)\n",
    "sig_ch2 = sig_ch2.T\n",
    "sig_ch2.columns = [f'Pair_{i}' for i in range(1, 4001)]\n",
    "sig_ch2"
   ]
  },
  {
   "cell_type": "code",
   "execution_count": 38,
   "metadata": {},
   "outputs": [
    {
     "data": {
      "text/plain": [
       "(2, 4000)"
      ]
     },
     "execution_count": 38,
     "metadata": {},
     "output_type": "execute_result"
    }
   ],
   "source": [
    "sig_T1_70766 = sig_ch2.values\n",
    "sig_T1_70766.shape"
   ]
  },
  {
   "cell_type": "code",
   "execution_count": 39,
   "metadata": {},
   "outputs": [
    {
     "data": {
      "text/plain": [
       "(2, 4001)"
      ]
     },
     "execution_count": 39,
     "metadata": {},
     "output_type": "execute_result"
    }
   ],
   "source": [
    "# Add Y-value which is crack length(mm) for cycle 70766: 7.46mm\n",
    "y_value = 7.46\n",
    "crack_length_T1_70766 = np.full((sig_T1_70766.shape[0], 1), y_value)\n",
    "sig_T1_70766 = np.hstack((sig_T1_70766, crack_length_T1_70766))\n",
    "sig_T1_70766.shape"
   ]
  },
  {
   "cell_type": "code",
   "execution_count": 40,
   "metadata": {},
   "outputs": [
    {
     "data": {
      "text/plain": [
       "(14, 4001)"
      ]
     },
     "execution_count": 40,
     "metadata": {},
     "output_type": "execute_result"
    }
   ],
   "source": [
    "# add the extracted data in this cycle to the dataset array\n",
    "dataset_array = np.vstack([dataset_array, sig_T1_70766])\n",
    "dataset_array.shape"
   ]
  },
  {
   "cell_type": "markdown",
   "metadata": {},
   "source": [
    "## Specimen T2\n"
   ]
  },
  {
   "cell_type": "markdown",
   "metadata": {},
   "source": [
    "### Number of Cycle: 50000"
   ]
  },
  {
   "cell_type": "code",
   "execution_count": 41,
   "metadata": {},
   "outputs": [],
   "source": [
    "first_csv = pd.read_csv(data_path + training_sets[1] + t2_channels[0] + signals[0])\n",
    "second_csv = pd.read_csv(data_path + training_sets[1] + t2_channels[0] + signals[1])"
   ]
  },
  {
   "cell_type": "code",
   "execution_count": 42,
   "metadata": {},
   "outputs": [
    {
     "data": {
      "text/html": [
       "<div>\n",
       "<style scoped>\n",
       "    .dataframe tbody tr th:only-of-type {\n",
       "        vertical-align: middle;\n",
       "    }\n",
       "\n",
       "    .dataframe tbody tr th {\n",
       "        vertical-align: top;\n",
       "    }\n",
       "\n",
       "    .dataframe thead th {\n",
       "        text-align: right;\n",
       "    }\n",
       "</style>\n",
       "<table border=\"1\" class=\"dataframe\">\n",
       "  <thead>\n",
       "    <tr style=\"text-align: right;\">\n",
       "      <th></th>\n",
       "      <th>Pair_1</th>\n",
       "      <th>Pair_2</th>\n",
       "      <th>Pair_3</th>\n",
       "      <th>Pair_4</th>\n",
       "      <th>Pair_5</th>\n",
       "      <th>Pair_6</th>\n",
       "      <th>Pair_7</th>\n",
       "      <th>Pair_8</th>\n",
       "      <th>Pair_9</th>\n",
       "      <th>Pair_10</th>\n",
       "      <th>...</th>\n",
       "      <th>Pair_3991</th>\n",
       "      <th>Pair_3992</th>\n",
       "      <th>Pair_3993</th>\n",
       "      <th>Pair_3994</th>\n",
       "      <th>Pair_3995</th>\n",
       "      <th>Pair_3996</th>\n",
       "      <th>Pair_3997</th>\n",
       "      <th>Pair_3998</th>\n",
       "      <th>Pair_3999</th>\n",
       "      <th>Pair_4000</th>\n",
       "    </tr>\n",
       "  </thead>\n",
       "  <tbody>\n",
       "    <tr>\n",
       "      <th>0</th>\n",
       "      <td>-0.002</td>\n",
       "      <td>0.002</td>\n",
       "      <td>0.002</td>\n",
       "      <td>0.000</td>\n",
       "      <td>-0.004</td>\n",
       "      <td>-0.004</td>\n",
       "      <td>0.000</td>\n",
       "      <td>-0.006</td>\n",
       "      <td>-0.006</td>\n",
       "      <td>-0.004</td>\n",
       "      <td>...</td>\n",
       "      <td>0.012</td>\n",
       "      <td>0.012</td>\n",
       "      <td>0.014</td>\n",
       "      <td>0.018</td>\n",
       "      <td>0.022</td>\n",
       "      <td>0.024</td>\n",
       "      <td>0.024</td>\n",
       "      <td>0.036</td>\n",
       "      <td>0.030</td>\n",
       "      <td>0.038</td>\n",
       "    </tr>\n",
       "    <tr>\n",
       "      <th>1</th>\n",
       "      <td>0.016</td>\n",
       "      <td>0.002</td>\n",
       "      <td>0.000</td>\n",
       "      <td>-0.004</td>\n",
       "      <td>-0.008</td>\n",
       "      <td>0.010</td>\n",
       "      <td>-0.002</td>\n",
       "      <td>-0.006</td>\n",
       "      <td>0.002</td>\n",
       "      <td>-0.004</td>\n",
       "      <td>...</td>\n",
       "      <td>0.004</td>\n",
       "      <td>0.004</td>\n",
       "      <td>0.010</td>\n",
       "      <td>0.014</td>\n",
       "      <td>0.012</td>\n",
       "      <td>0.018</td>\n",
       "      <td>0.022</td>\n",
       "      <td>0.032</td>\n",
       "      <td>0.026</td>\n",
       "      <td>0.034</td>\n",
       "    </tr>\n",
       "  </tbody>\n",
       "</table>\n",
       "<p>2 rows × 4000 columns</p>\n",
       "</div>"
      ],
      "text/plain": [
       "   Pair_1  Pair_2  Pair_3  Pair_4  Pair_5  Pair_6  Pair_7  Pair_8  Pair_9  \\\n",
       "0  -0.002   0.002   0.002   0.000  -0.004  -0.004   0.000  -0.006  -0.006   \n",
       "1   0.016   0.002   0.000  -0.004  -0.008   0.010  -0.002  -0.006   0.002   \n",
       "\n",
       "   Pair_10  ...  Pair_3991  Pair_3992  Pair_3993  Pair_3994  Pair_3995  \\\n",
       "0   -0.004  ...      0.012      0.012      0.014      0.018      0.022   \n",
       "1   -0.004  ...      0.004      0.004      0.010      0.014      0.012   \n",
       "\n",
       "   Pair_3996  Pair_3997  Pair_3998  Pair_3999  Pair_4000  \n",
       "0      0.024      0.024      0.036      0.030      0.038  \n",
       "1      0.018      0.022      0.032      0.026      0.034  \n",
       "\n",
       "[2 rows x 4000 columns]"
      ]
     },
     "execution_count": 42,
     "metadata": {},
     "output_type": "execute_result"
    }
   ],
   "source": [
    "sig1 = first_csv[['ch1', 'ch2']]\n",
    "sig2 = second_csv[['ch1', 'ch2']]\n",
    "# Since most values in ch1(excitation signal) are 0, \n",
    "# just extract values in ch2(received signals) in both signal1 and signal2\n",
    "sig_ch2 = pd.concat([sig1['ch2'],sig2['ch2']], axis=1, ignore_index=True)\n",
    "sig_ch2 = sig_ch2.T\n",
    "sig_ch2.columns = [f'Pair_{i}' for i in range(1, 4001)]\n",
    "sig_ch2"
   ]
  },
  {
   "cell_type": "code",
   "execution_count": 43,
   "metadata": {},
   "outputs": [
    {
     "data": {
      "text/plain": [
       "(2, 4000)"
      ]
     },
     "execution_count": 43,
     "metadata": {},
     "output_type": "execute_result"
    }
   ],
   "source": [
    "sig_T2_50000 = sig_ch2.values\n",
    "sig_T2_50000.shape"
   ]
  },
  {
   "cell_type": "code",
   "execution_count": 44,
   "metadata": {},
   "outputs": [
    {
     "data": {
      "text/plain": [
       "(2, 4001)"
      ]
     },
     "execution_count": 44,
     "metadata": {},
     "output_type": "execute_result"
    }
   ],
   "source": [
    "# Add Y-value which is crack length(mm) for cycle 50000: 0mm\n",
    "y_value = 0\n",
    "crack_length_T2_50000 = np.full((sig_T2_50000.shape[0], 1), y_value)\n",
    "sig_T2_50000 = np.hstack((sig_T2_50000, crack_length_T2_50000))\n",
    "sig_T2_50000.shape"
   ]
  },
  {
   "cell_type": "code",
   "execution_count": 45,
   "metadata": {},
   "outputs": [
    {
     "data": {
      "text/plain": [
       "(16, 4001)"
      ]
     },
     "execution_count": 45,
     "metadata": {},
     "output_type": "execute_result"
    }
   ],
   "source": [
    "# add the extracted data in this cycle to the dataset array\n",
    "dataset_array = np.vstack([dataset_array, sig_T2_50000])\n",
    "dataset_array.shape"
   ]
  },
  {
   "cell_type": "markdown",
   "metadata": {},
   "source": [
    "### Number of Cycle: 70033"
   ]
  },
  {
   "cell_type": "code",
   "execution_count": 46,
   "metadata": {},
   "outputs": [],
   "source": [
    "first_csv = pd.read_csv(data_path + training_sets[1] + t2_channels[1] + signals[0])\n",
    "second_csv = pd.read_csv(data_path + training_sets[1] + t2_channels[1] + signals[1])"
   ]
  },
  {
   "cell_type": "code",
   "execution_count": 47,
   "metadata": {},
   "outputs": [
    {
     "data": {
      "text/html": [
       "<div>\n",
       "<style scoped>\n",
       "    .dataframe tbody tr th:only-of-type {\n",
       "        vertical-align: middle;\n",
       "    }\n",
       "\n",
       "    .dataframe tbody tr th {\n",
       "        vertical-align: top;\n",
       "    }\n",
       "\n",
       "    .dataframe thead th {\n",
       "        text-align: right;\n",
       "    }\n",
       "</style>\n",
       "<table border=\"1\" class=\"dataframe\">\n",
       "  <thead>\n",
       "    <tr style=\"text-align: right;\">\n",
       "      <th></th>\n",
       "      <th>Pair_1</th>\n",
       "      <th>Pair_2</th>\n",
       "      <th>Pair_3</th>\n",
       "      <th>Pair_4</th>\n",
       "      <th>Pair_5</th>\n",
       "      <th>Pair_6</th>\n",
       "      <th>Pair_7</th>\n",
       "      <th>Pair_8</th>\n",
       "      <th>Pair_9</th>\n",
       "      <th>Pair_10</th>\n",
       "      <th>...</th>\n",
       "      <th>Pair_3991</th>\n",
       "      <th>Pair_3992</th>\n",
       "      <th>Pair_3993</th>\n",
       "      <th>Pair_3994</th>\n",
       "      <th>Pair_3995</th>\n",
       "      <th>Pair_3996</th>\n",
       "      <th>Pair_3997</th>\n",
       "      <th>Pair_3998</th>\n",
       "      <th>Pair_3999</th>\n",
       "      <th>Pair_4000</th>\n",
       "    </tr>\n",
       "  </thead>\n",
       "  <tbody>\n",
       "    <tr>\n",
       "      <th>0</th>\n",
       "      <td>0.0</td>\n",
       "      <td>0.0</td>\n",
       "      <td>0.000</td>\n",
       "      <td>0.000</td>\n",
       "      <td>0.000</td>\n",
       "      <td>0.002</td>\n",
       "      <td>0.002</td>\n",
       "      <td>0.0</td>\n",
       "      <td>0.000</td>\n",
       "      <td>0.002</td>\n",
       "      <td>...</td>\n",
       "      <td>-0.078</td>\n",
       "      <td>-0.074</td>\n",
       "      <td>-0.074</td>\n",
       "      <td>-0.078</td>\n",
       "      <td>-0.064</td>\n",
       "      <td>-0.064</td>\n",
       "      <td>-0.052</td>\n",
       "      <td>-0.058</td>\n",
       "      <td>-0.044</td>\n",
       "      <td>-0.044</td>\n",
       "    </tr>\n",
       "    <tr>\n",
       "      <th>1</th>\n",
       "      <td>0.0</td>\n",
       "      <td>0.0</td>\n",
       "      <td>0.012</td>\n",
       "      <td>-0.006</td>\n",
       "      <td>-0.002</td>\n",
       "      <td>0.010</td>\n",
       "      <td>-0.006</td>\n",
       "      <td>0.0</td>\n",
       "      <td>0.004</td>\n",
       "      <td>0.002</td>\n",
       "      <td>...</td>\n",
       "      <td>-0.080</td>\n",
       "      <td>-0.076</td>\n",
       "      <td>-0.076</td>\n",
       "      <td>-0.070</td>\n",
       "      <td>-0.070</td>\n",
       "      <td>-0.064</td>\n",
       "      <td>-0.054</td>\n",
       "      <td>-0.052</td>\n",
       "      <td>-0.048</td>\n",
       "      <td>-0.046</td>\n",
       "    </tr>\n",
       "  </tbody>\n",
       "</table>\n",
       "<p>2 rows × 4000 columns</p>\n",
       "</div>"
      ],
      "text/plain": [
       "   Pair_1  Pair_2  Pair_3  Pair_4  Pair_5  Pair_6  Pair_7  Pair_8  Pair_9  \\\n",
       "0     0.0     0.0   0.000   0.000   0.000   0.002   0.002     0.0   0.000   \n",
       "1     0.0     0.0   0.012  -0.006  -0.002   0.010  -0.006     0.0   0.004   \n",
       "\n",
       "   Pair_10  ...  Pair_3991  Pair_3992  Pair_3993  Pair_3994  Pair_3995  \\\n",
       "0    0.002  ...     -0.078     -0.074     -0.074     -0.078     -0.064   \n",
       "1    0.002  ...     -0.080     -0.076     -0.076     -0.070     -0.070   \n",
       "\n",
       "   Pair_3996  Pair_3997  Pair_3998  Pair_3999  Pair_4000  \n",
       "0     -0.064     -0.052     -0.058     -0.044     -0.044  \n",
       "1     -0.064     -0.054     -0.052     -0.048     -0.046  \n",
       "\n",
       "[2 rows x 4000 columns]"
      ]
     },
     "execution_count": 47,
     "metadata": {},
     "output_type": "execute_result"
    }
   ],
   "source": [
    "sig1 = first_csv[['ch1', 'ch2']]\n",
    "sig2 = second_csv[['ch1', 'ch2']]\n",
    "# Since most values in ch1(excitation signal) are 0, \n",
    "# just extract values in ch2(received signals) in both signal1 and signal2\n",
    "sig_ch2 = pd.concat([sig1['ch2'],sig2['ch2']], axis=1, ignore_index=True)\n",
    "sig_ch2 = sig_ch2.T\n",
    "sig_ch2.columns = [f'Pair_{i}' for i in range(1, 4001)]\n",
    "sig_ch2"
   ]
  },
  {
   "cell_type": "code",
   "execution_count": 48,
   "metadata": {},
   "outputs": [
    {
     "data": {
      "text/plain": [
       "(2, 4000)"
      ]
     },
     "execution_count": 48,
     "metadata": {},
     "output_type": "execute_result"
    }
   ],
   "source": [
    "sig_T2_70033 = sig_ch2.values\n",
    "sig_T2_70033.shape"
   ]
  },
  {
   "cell_type": "code",
   "execution_count": 49,
   "metadata": {},
   "outputs": [
    {
     "data": {
      "text/plain": [
       "(2, 4001)"
      ]
     },
     "execution_count": 49,
     "metadata": {},
     "output_type": "execute_result"
    }
   ],
   "source": [
    "# Add Y-value which is crack length(mm) for cycle 70033: 3.25mm\n",
    "y_value = 3.25\n",
    "crack_length_T2_70033 = np.full((sig_T2_70033.shape[0], 1), y_value)\n",
    "sig_T2_70033 = np.hstack((sig_T2_70033, crack_length_T2_70033))\n",
    "sig_T2_70033.shape"
   ]
  },
  {
   "cell_type": "code",
   "execution_count": 50,
   "metadata": {},
   "outputs": [
    {
     "data": {
      "text/plain": [
       "(18, 4001)"
      ]
     },
     "execution_count": 50,
     "metadata": {},
     "output_type": "execute_result"
    }
   ],
   "source": [
    "# add the extracted data in this cycle to the dataset array\n",
    "dataset_array = np.vstack([dataset_array, sig_T2_70033])\n",
    "dataset_array.shape"
   ]
  },
  {
   "cell_type": "markdown",
   "metadata": {},
   "source": [
    "### Number of Cycle: 72000"
   ]
  },
  {
   "cell_type": "code",
   "execution_count": 51,
   "metadata": {},
   "outputs": [],
   "source": [
    "first_csv = pd.read_csv(data_path + training_sets[1] + t2_channels[2] + signals[0])\n",
    "second_csv = pd.read_csv(data_path + training_sets[1] + t2_channels[2] + signals[1])"
   ]
  },
  {
   "cell_type": "code",
   "execution_count": 52,
   "metadata": {},
   "outputs": [
    {
     "data": {
      "text/html": [
       "<div>\n",
       "<style scoped>\n",
       "    .dataframe tbody tr th:only-of-type {\n",
       "        vertical-align: middle;\n",
       "    }\n",
       "\n",
       "    .dataframe tbody tr th {\n",
       "        vertical-align: top;\n",
       "    }\n",
       "\n",
       "    .dataframe thead th {\n",
       "        text-align: right;\n",
       "    }\n",
       "</style>\n",
       "<table border=\"1\" class=\"dataframe\">\n",
       "  <thead>\n",
       "    <tr style=\"text-align: right;\">\n",
       "      <th></th>\n",
       "      <th>Pair_1</th>\n",
       "      <th>Pair_2</th>\n",
       "      <th>Pair_3</th>\n",
       "      <th>Pair_4</th>\n",
       "      <th>Pair_5</th>\n",
       "      <th>Pair_6</th>\n",
       "      <th>Pair_7</th>\n",
       "      <th>Pair_8</th>\n",
       "      <th>Pair_9</th>\n",
       "      <th>Pair_10</th>\n",
       "      <th>...</th>\n",
       "      <th>Pair_3991</th>\n",
       "      <th>Pair_3992</th>\n",
       "      <th>Pair_3993</th>\n",
       "      <th>Pair_3994</th>\n",
       "      <th>Pair_3995</th>\n",
       "      <th>Pair_3996</th>\n",
       "      <th>Pair_3997</th>\n",
       "      <th>Pair_3998</th>\n",
       "      <th>Pair_3999</th>\n",
       "      <th>Pair_4000</th>\n",
       "    </tr>\n",
       "  </thead>\n",
       "  <tbody>\n",
       "    <tr>\n",
       "      <th>0</th>\n",
       "      <td>0.0008</td>\n",
       "      <td>-0.0032</td>\n",
       "      <td>0.0032</td>\n",
       "      <td>-0.0032</td>\n",
       "      <td>0.0000</td>\n",
       "      <td>-0.0016</td>\n",
       "      <td>0.0016</td>\n",
       "      <td>0.0000</td>\n",
       "      <td>-0.0032</td>\n",
       "      <td>-0.0008</td>\n",
       "      <td>...</td>\n",
       "      <td>-0.0304</td>\n",
       "      <td>-0.0312</td>\n",
       "      <td>-0.0312</td>\n",
       "      <td>-0.0296</td>\n",
       "      <td>-0.0272</td>\n",
       "      <td>-0.0272</td>\n",
       "      <td>-0.0184</td>\n",
       "      <td>-0.0208</td>\n",
       "      <td>-0.0160</td>\n",
       "      <td>-0.0152</td>\n",
       "    </tr>\n",
       "    <tr>\n",
       "      <th>1</th>\n",
       "      <td>-0.0024</td>\n",
       "      <td>-0.0024</td>\n",
       "      <td>-0.0024</td>\n",
       "      <td>-0.0048</td>\n",
       "      <td>-0.0056</td>\n",
       "      <td>-0.0016</td>\n",
       "      <td>0.0000</td>\n",
       "      <td>-0.0096</td>\n",
       "      <td>-0.0088</td>\n",
       "      <td>0.0056</td>\n",
       "      <td>...</td>\n",
       "      <td>-0.0400</td>\n",
       "      <td>-0.0336</td>\n",
       "      <td>-0.0312</td>\n",
       "      <td>-0.0280</td>\n",
       "      <td>-0.0336</td>\n",
       "      <td>-0.0248</td>\n",
       "      <td>-0.0240</td>\n",
       "      <td>-0.0224</td>\n",
       "      <td>-0.0176</td>\n",
       "      <td>-0.0160</td>\n",
       "    </tr>\n",
       "  </tbody>\n",
       "</table>\n",
       "<p>2 rows × 4000 columns</p>\n",
       "</div>"
      ],
      "text/plain": [
       "   Pair_1  Pair_2  Pair_3  Pair_4  Pair_5  Pair_6  Pair_7  Pair_8  Pair_9  \\\n",
       "0  0.0008 -0.0032  0.0032 -0.0032  0.0000 -0.0016  0.0016  0.0000 -0.0032   \n",
       "1 -0.0024 -0.0024 -0.0024 -0.0048 -0.0056 -0.0016  0.0000 -0.0096 -0.0088   \n",
       "\n",
       "   Pair_10  ...  Pair_3991  Pair_3992  Pair_3993  Pair_3994  Pair_3995  \\\n",
       "0  -0.0008  ...    -0.0304    -0.0312    -0.0312    -0.0296    -0.0272   \n",
       "1   0.0056  ...    -0.0400    -0.0336    -0.0312    -0.0280    -0.0336   \n",
       "\n",
       "   Pair_3996  Pair_3997  Pair_3998  Pair_3999  Pair_4000  \n",
       "0    -0.0272    -0.0184    -0.0208    -0.0160    -0.0152  \n",
       "1    -0.0248    -0.0240    -0.0224    -0.0176    -0.0160  \n",
       "\n",
       "[2 rows x 4000 columns]"
      ]
     },
     "execution_count": 52,
     "metadata": {},
     "output_type": "execute_result"
    }
   ],
   "source": [
    "sig1 = first_csv[['ch1', 'ch2']]\n",
    "sig2 = second_csv[['ch1', 'ch2']]\n",
    "# Since most values in ch1(excitation signal) are 0, \n",
    "# just extract values in ch2(received signals) in both signal1 and signal2\n",
    "sig_ch2 = pd.concat([sig1['ch2'],sig2['ch2']], axis=1, ignore_index=True)\n",
    "sig_ch2 = sig_ch2.T\n",
    "sig_ch2.columns = [f'Pair_{i}' for i in range(1, 4001)]\n",
    "sig_ch2"
   ]
  },
  {
   "cell_type": "code",
   "execution_count": 53,
   "metadata": {
    "scrolled": true
   },
   "outputs": [
    {
     "data": {
      "text/plain": [
       "(2, 4000)"
      ]
     },
     "execution_count": 53,
     "metadata": {},
     "output_type": "execute_result"
    }
   ],
   "source": [
    "sig_T2_72000 = sig_ch2.values\n",
    "sig_T2_72000.shape"
   ]
  },
  {
   "cell_type": "code",
   "execution_count": 54,
   "metadata": {},
   "outputs": [
    {
     "data": {
      "text/plain": [
       "(2, 4001)"
      ]
     },
     "execution_count": 54,
     "metadata": {},
     "output_type": "execute_result"
    }
   ],
   "source": [
    "# Add Y-value which is crack length(mm) for cycle 72000: 4.95mm\n",
    "y_value = 4.95\n",
    "crack_length_T2_72000 = np.full((sig_T2_72000.shape[0], 1), y_value)\n",
    "sig_T2_72000 = np.hstack((sig_T2_72000, crack_length_T2_72000))\n",
    "sig_T2_72000.shape"
   ]
  },
  {
   "cell_type": "code",
   "execution_count": 55,
   "metadata": {},
   "outputs": [
    {
     "data": {
      "text/plain": [
       "(20, 4001)"
      ]
     },
     "execution_count": 55,
     "metadata": {},
     "output_type": "execute_result"
    }
   ],
   "source": [
    "# add the extracted data in this cycle to the dataset array\n",
    "dataset_array = np.vstack([dataset_array, sig_T2_72000])\n",
    "dataset_array.shape"
   ]
  },
  {
   "cell_type": "markdown",
   "metadata": {},
   "source": [
    "## Specimen T3\n"
   ]
  },
  {
   "cell_type": "markdown",
   "metadata": {},
   "source": [
    "### Number of Cycle: 14000"
   ]
  },
  {
   "cell_type": "code",
   "execution_count": 56,
   "metadata": {},
   "outputs": [],
   "source": [
    "first_csv = pd.read_csv(data_path + training_sets[2] + t3_channels[0] + signals[0])\n",
    "second_csv = pd.read_csv(data_path + training_sets[2] + t3_channels[0] + signals[1])"
   ]
  },
  {
   "cell_type": "code",
   "execution_count": 57,
   "metadata": {},
   "outputs": [
    {
     "data": {
      "text/html": [
       "<div>\n",
       "<style scoped>\n",
       "    .dataframe tbody tr th:only-of-type {\n",
       "        vertical-align: middle;\n",
       "    }\n",
       "\n",
       "    .dataframe tbody tr th {\n",
       "        vertical-align: top;\n",
       "    }\n",
       "\n",
       "    .dataframe thead th {\n",
       "        text-align: right;\n",
       "    }\n",
       "</style>\n",
       "<table border=\"1\" class=\"dataframe\">\n",
       "  <thead>\n",
       "    <tr style=\"text-align: right;\">\n",
       "      <th></th>\n",
       "      <th>Pair_1</th>\n",
       "      <th>Pair_2</th>\n",
       "      <th>Pair_3</th>\n",
       "      <th>Pair_4</th>\n",
       "      <th>Pair_5</th>\n",
       "      <th>Pair_6</th>\n",
       "      <th>Pair_7</th>\n",
       "      <th>Pair_8</th>\n",
       "      <th>Pair_9</th>\n",
       "      <th>Pair_10</th>\n",
       "      <th>...</th>\n",
       "      <th>Pair_3991</th>\n",
       "      <th>Pair_3992</th>\n",
       "      <th>Pair_3993</th>\n",
       "      <th>Pair_3994</th>\n",
       "      <th>Pair_3995</th>\n",
       "      <th>Pair_3996</th>\n",
       "      <th>Pair_3997</th>\n",
       "      <th>Pair_3998</th>\n",
       "      <th>Pair_3999</th>\n",
       "      <th>Pair_4000</th>\n",
       "    </tr>\n",
       "  </thead>\n",
       "  <tbody>\n",
       "    <tr>\n",
       "      <th>0</th>\n",
       "      <td>-0.0008</td>\n",
       "      <td>-0.0008</td>\n",
       "      <td>0.0000</td>\n",
       "      <td>0.004</td>\n",
       "      <td>-0.0048</td>\n",
       "      <td>0.0032</td>\n",
       "      <td>-0.0032</td>\n",
       "      <td>0.0016</td>\n",
       "      <td>-0.0024</td>\n",
       "      <td>-0.0008</td>\n",
       "      <td>...</td>\n",
       "      <td>-0.0976</td>\n",
       "      <td>-0.1000</td>\n",
       "      <td>-0.0888</td>\n",
       "      <td>-0.0896</td>\n",
       "      <td>-0.0808</td>\n",
       "      <td>-0.076</td>\n",
       "      <td>-0.0704</td>\n",
       "      <td>-0.0656</td>\n",
       "      <td>-0.056</td>\n",
       "      <td>-0.0504</td>\n",
       "    </tr>\n",
       "    <tr>\n",
       "      <th>1</th>\n",
       "      <td>-0.0024</td>\n",
       "      <td>0.0000</td>\n",
       "      <td>-0.0032</td>\n",
       "      <td>0.000</td>\n",
       "      <td>-0.0024</td>\n",
       "      <td>0.0000</td>\n",
       "      <td>-0.0016</td>\n",
       "      <td>0.0008</td>\n",
       "      <td>-0.0016</td>\n",
       "      <td>-0.0016</td>\n",
       "      <td>...</td>\n",
       "      <td>-0.0992</td>\n",
       "      <td>-0.0976</td>\n",
       "      <td>-0.0944</td>\n",
       "      <td>-0.0912</td>\n",
       "      <td>-0.0824</td>\n",
       "      <td>-0.080</td>\n",
       "      <td>-0.0736</td>\n",
       "      <td>-0.0672</td>\n",
       "      <td>-0.064</td>\n",
       "      <td>-0.0544</td>\n",
       "    </tr>\n",
       "  </tbody>\n",
       "</table>\n",
       "<p>2 rows × 4000 columns</p>\n",
       "</div>"
      ],
      "text/plain": [
       "   Pair_1  Pair_2  Pair_3  Pair_4  Pair_5  Pair_6  Pair_7  Pair_8  Pair_9  \\\n",
       "0 -0.0008 -0.0008  0.0000   0.004 -0.0048  0.0032 -0.0032  0.0016 -0.0024   \n",
       "1 -0.0024  0.0000 -0.0032   0.000 -0.0024  0.0000 -0.0016  0.0008 -0.0016   \n",
       "\n",
       "   Pair_10  ...  Pair_3991  Pair_3992  Pair_3993  Pair_3994  Pair_3995  \\\n",
       "0  -0.0008  ...    -0.0976    -0.1000    -0.0888    -0.0896    -0.0808   \n",
       "1  -0.0016  ...    -0.0992    -0.0976    -0.0944    -0.0912    -0.0824   \n",
       "\n",
       "   Pair_3996  Pair_3997  Pair_3998  Pair_3999  Pair_4000  \n",
       "0     -0.076    -0.0704    -0.0656     -0.056    -0.0504  \n",
       "1     -0.080    -0.0736    -0.0672     -0.064    -0.0544  \n",
       "\n",
       "[2 rows x 4000 columns]"
      ]
     },
     "execution_count": 57,
     "metadata": {},
     "output_type": "execute_result"
    }
   ],
   "source": [
    "sig1 = first_csv[['ch1', 'ch2']]\n",
    "sig2 = second_csv[['ch1', 'ch2']]\n",
    "# Since most values in ch1(excitation signal) are 0, \n",
    "# just extract values in ch2(received signals) in both signal1 and signal2\n",
    "sig_ch2 = pd.concat([sig1['ch2'],sig2['ch2']], axis=1, ignore_index=True)\n",
    "sig_ch2 = sig_ch2.T\n",
    "sig_ch2.columns = [f'Pair_{i}' for i in range(1, 4001)]\n",
    "sig_ch2"
   ]
  },
  {
   "cell_type": "code",
   "execution_count": 58,
   "metadata": {},
   "outputs": [
    {
     "data": {
      "text/plain": [
       "(2, 4000)"
      ]
     },
     "execution_count": 58,
     "metadata": {},
     "output_type": "execute_result"
    }
   ],
   "source": [
    "sig_T3_14000 = sig_ch2.values\n",
    "sig_T3_14000.shape"
   ]
  },
  {
   "cell_type": "code",
   "execution_count": 59,
   "metadata": {},
   "outputs": [
    {
     "data": {
      "text/plain": [
       "(2, 4001)"
      ]
     },
     "execution_count": 59,
     "metadata": {},
     "output_type": "execute_result"
    }
   ],
   "source": [
    "# Add Y-value which is crack length(mm) for cycle 14000: 0mm\n",
    "y_value = 0\n",
    "crack_length_T3_14000 = np.full((sig_T3_14000.shape[0], 1), y_value)\n",
    "sig_T3_14000 = np.hstack((sig_T3_14000, crack_length_T3_14000))\n",
    "sig_T3_14000.shape"
   ]
  },
  {
   "cell_type": "code",
   "execution_count": 60,
   "metadata": {},
   "outputs": [
    {
     "data": {
      "text/plain": [
       "(22, 4001)"
      ]
     },
     "execution_count": 60,
     "metadata": {},
     "output_type": "execute_result"
    }
   ],
   "source": [
    "# add the extracted data in this cycle to the dataset array\n",
    "dataset_array = np.vstack([dataset_array, sig_T3_14000])\n",
    "dataset_array.shape"
   ]
  },
  {
   "cell_type": "markdown",
   "metadata": {},
   "source": [
    "### Number of Cycle: 50000"
   ]
  },
  {
   "cell_type": "code",
   "execution_count": 61,
   "metadata": {},
   "outputs": [],
   "source": [
    "first_csv = pd.read_csv(data_path + training_sets[2] + t3_channels[1] + signals[0])\n",
    "second_csv = pd.read_csv(data_path + training_sets[2] + t3_channels[1] + signals[1])"
   ]
  },
  {
   "cell_type": "code",
   "execution_count": 62,
   "metadata": {},
   "outputs": [
    {
     "data": {
      "text/html": [
       "<div>\n",
       "<style scoped>\n",
       "    .dataframe tbody tr th:only-of-type {\n",
       "        vertical-align: middle;\n",
       "    }\n",
       "\n",
       "    .dataframe tbody tr th {\n",
       "        vertical-align: top;\n",
       "    }\n",
       "\n",
       "    .dataframe thead th {\n",
       "        text-align: right;\n",
       "    }\n",
       "</style>\n",
       "<table border=\"1\" class=\"dataframe\">\n",
       "  <thead>\n",
       "    <tr style=\"text-align: right;\">\n",
       "      <th></th>\n",
       "      <th>Pair_1</th>\n",
       "      <th>Pair_2</th>\n",
       "      <th>Pair_3</th>\n",
       "      <th>Pair_4</th>\n",
       "      <th>Pair_5</th>\n",
       "      <th>Pair_6</th>\n",
       "      <th>Pair_7</th>\n",
       "      <th>Pair_8</th>\n",
       "      <th>Pair_9</th>\n",
       "      <th>Pair_10</th>\n",
       "      <th>...</th>\n",
       "      <th>Pair_3991</th>\n",
       "      <th>Pair_3992</th>\n",
       "      <th>Pair_3993</th>\n",
       "      <th>Pair_3994</th>\n",
       "      <th>Pair_3995</th>\n",
       "      <th>Pair_3996</th>\n",
       "      <th>Pair_3997</th>\n",
       "      <th>Pair_3998</th>\n",
       "      <th>Pair_3999</th>\n",
       "      <th>Pair_4000</th>\n",
       "    </tr>\n",
       "  </thead>\n",
       "  <tbody>\n",
       "    <tr>\n",
       "      <th>0</th>\n",
       "      <td>-0.0088</td>\n",
       "      <td>-0.0048</td>\n",
       "      <td>-0.0064</td>\n",
       "      <td>-0.0064</td>\n",
       "      <td>-0.0056</td>\n",
       "      <td>-0.0048</td>\n",
       "      <td>-0.0072</td>\n",
       "      <td>-0.0056</td>\n",
       "      <td>-0.0064</td>\n",
       "      <td>-0.0064</td>\n",
       "      <td>...</td>\n",
       "      <td>-0.1016</td>\n",
       "      <td>-0.1016</td>\n",
       "      <td>-0.1016</td>\n",
       "      <td>-0.1016</td>\n",
       "      <td>-0.1016</td>\n",
       "      <td>-0.1016</td>\n",
       "      <td>-0.1016</td>\n",
       "      <td>-0.1016</td>\n",
       "      <td>-0.1016</td>\n",
       "      <td>-0.1016</td>\n",
       "    </tr>\n",
       "    <tr>\n",
       "      <th>1</th>\n",
       "      <td>-0.0016</td>\n",
       "      <td>0.0016</td>\n",
       "      <td>-0.0016</td>\n",
       "      <td>0.0040</td>\n",
       "      <td>-0.0032</td>\n",
       "      <td>0.0008</td>\n",
       "      <td>0.0008</td>\n",
       "      <td>0.0032</td>\n",
       "      <td>-0.0016</td>\n",
       "      <td>0.0000</td>\n",
       "      <td>...</td>\n",
       "      <td>-0.1016</td>\n",
       "      <td>-0.1016</td>\n",
       "      <td>-0.1016</td>\n",
       "      <td>-0.1016</td>\n",
       "      <td>-0.1016</td>\n",
       "      <td>-0.1016</td>\n",
       "      <td>-0.1016</td>\n",
       "      <td>-0.1016</td>\n",
       "      <td>-0.1016</td>\n",
       "      <td>-0.1016</td>\n",
       "    </tr>\n",
       "  </tbody>\n",
       "</table>\n",
       "<p>2 rows × 4000 columns</p>\n",
       "</div>"
      ],
      "text/plain": [
       "   Pair_1  Pair_2  Pair_3  Pair_4  Pair_5  Pair_6  Pair_7  Pair_8  Pair_9  \\\n",
       "0 -0.0088 -0.0048 -0.0064 -0.0064 -0.0056 -0.0048 -0.0072 -0.0056 -0.0064   \n",
       "1 -0.0016  0.0016 -0.0016  0.0040 -0.0032  0.0008  0.0008  0.0032 -0.0016   \n",
       "\n",
       "   Pair_10  ...  Pair_3991  Pair_3992  Pair_3993  Pair_3994  Pair_3995  \\\n",
       "0  -0.0064  ...    -0.1016    -0.1016    -0.1016    -0.1016    -0.1016   \n",
       "1   0.0000  ...    -0.1016    -0.1016    -0.1016    -0.1016    -0.1016   \n",
       "\n",
       "   Pair_3996  Pair_3997  Pair_3998  Pair_3999  Pair_4000  \n",
       "0    -0.1016    -0.1016    -0.1016    -0.1016    -0.1016  \n",
       "1    -0.1016    -0.1016    -0.1016    -0.1016    -0.1016  \n",
       "\n",
       "[2 rows x 4000 columns]"
      ]
     },
     "execution_count": 62,
     "metadata": {},
     "output_type": "execute_result"
    }
   ],
   "source": [
    "sig1 = first_csv[['ch1', 'ch2']]\n",
    "sig2 = second_csv[['ch1', 'ch2']]\n",
    "# Since most values in ch1(excitation signal) are 0, \n",
    "# just extract values in ch2(received signals) in both signal1 and signal2\n",
    "sig_ch2 = pd.concat([sig1['ch2'],sig2['ch2']], axis=1, ignore_index=True)\n",
    "sig_ch2 = sig_ch2.T\n",
    "sig_ch2.columns = [f'Pair_{i}' for i in range(1, 4001)]\n",
    "sig_ch2"
   ]
  },
  {
   "cell_type": "code",
   "execution_count": 63,
   "metadata": {},
   "outputs": [
    {
     "data": {
      "text/plain": [
       "(2, 4000)"
      ]
     },
     "execution_count": 63,
     "metadata": {},
     "output_type": "execute_result"
    }
   ],
   "source": [
    "sig_T3_50000 = sig_ch2.values\n",
    "sig_T3_50000.shape"
   ]
  },
  {
   "cell_type": "code",
   "execution_count": 64,
   "metadata": {},
   "outputs": [
    {
     "data": {
      "text/plain": [
       "(2, 4001)"
      ]
     },
     "execution_count": 64,
     "metadata": {},
     "output_type": "execute_result"
    }
   ],
   "source": [
    "# Add Y-value which is crack length(mm) for cycle 50000: 0mm\n",
    "y_value = 0\n",
    "crack_length_T3_50000 = np.full((sig_T3_50000.shape[0], 1), y_value)\n",
    "sig_T3_50000 = np.hstack((sig_T3_50000, crack_length_T3_50000))\n",
    "sig_T3_50000.shape"
   ]
  },
  {
   "cell_type": "code",
   "execution_count": 65,
   "metadata": {},
   "outputs": [
    {
     "data": {
      "text/plain": [
       "(24, 4001)"
      ]
     },
     "execution_count": 65,
     "metadata": {},
     "output_type": "execute_result"
    }
   ],
   "source": [
    "# add the extracted data in this cycle to the dataset array\n",
    "dataset_array = np.vstack([dataset_array, sig_T3_50000])\n",
    "dataset_array.shape"
   ]
  },
  {
   "cell_type": "markdown",
   "metadata": {},
   "source": [
    "### Number of Cycle: 55391"
   ]
  },
  {
   "cell_type": "code",
   "execution_count": 66,
   "metadata": {},
   "outputs": [],
   "source": [
    "first_csv = pd.read_csv(data_path + training_sets[2] + t3_channels[2] + signals[0])\n",
    "second_csv = pd.read_csv(data_path + training_sets[2] + t3_channels[2] + signals[1])"
   ]
  },
  {
   "cell_type": "code",
   "execution_count": 67,
   "metadata": {},
   "outputs": [
    {
     "data": {
      "text/html": [
       "<div>\n",
       "<style scoped>\n",
       "    .dataframe tbody tr th:only-of-type {\n",
       "        vertical-align: middle;\n",
       "    }\n",
       "\n",
       "    .dataframe tbody tr th {\n",
       "        vertical-align: top;\n",
       "    }\n",
       "\n",
       "    .dataframe thead th {\n",
       "        text-align: right;\n",
       "    }\n",
       "</style>\n",
       "<table border=\"1\" class=\"dataframe\">\n",
       "  <thead>\n",
       "    <tr style=\"text-align: right;\">\n",
       "      <th></th>\n",
       "      <th>Pair_1</th>\n",
       "      <th>Pair_2</th>\n",
       "      <th>Pair_3</th>\n",
       "      <th>Pair_4</th>\n",
       "      <th>Pair_5</th>\n",
       "      <th>Pair_6</th>\n",
       "      <th>Pair_7</th>\n",
       "      <th>Pair_8</th>\n",
       "      <th>Pair_9</th>\n",
       "      <th>Pair_10</th>\n",
       "      <th>...</th>\n",
       "      <th>Pair_3991</th>\n",
       "      <th>Pair_3992</th>\n",
       "      <th>Pair_3993</th>\n",
       "      <th>Pair_3994</th>\n",
       "      <th>Pair_3995</th>\n",
       "      <th>Pair_3996</th>\n",
       "      <th>Pair_3997</th>\n",
       "      <th>Pair_3998</th>\n",
       "      <th>Pair_3999</th>\n",
       "      <th>Pair_4000</th>\n",
       "    </tr>\n",
       "  </thead>\n",
       "  <tbody>\n",
       "    <tr>\n",
       "      <th>0</th>\n",
       "      <td>-0.0096</td>\n",
       "      <td>-0.0080</td>\n",
       "      <td>-0.0040</td>\n",
       "      <td>-0.0112</td>\n",
       "      <td>-0.0048</td>\n",
       "      <td>-0.0032</td>\n",
       "      <td>-0.0112</td>\n",
       "      <td>-0.0064</td>\n",
       "      <td>-0.0024</td>\n",
       "      <td>-0.0136</td>\n",
       "      <td>...</td>\n",
       "      <td>-0.1016</td>\n",
       "      <td>-0.1016</td>\n",
       "      <td>-0.0984</td>\n",
       "      <td>-0.0920</td>\n",
       "      <td>-0.0888</td>\n",
       "      <td>-0.0856</td>\n",
       "      <td>-0.0792</td>\n",
       "      <td>-0.0784</td>\n",
       "      <td>-0.0704</td>\n",
       "      <td>-0.0688</td>\n",
       "    </tr>\n",
       "    <tr>\n",
       "      <th>1</th>\n",
       "      <td>0.0032</td>\n",
       "      <td>-0.0024</td>\n",
       "      <td>-0.0008</td>\n",
       "      <td>-0.0056</td>\n",
       "      <td>0.0048</td>\n",
       "      <td>-0.0016</td>\n",
       "      <td>0.0040</td>\n",
       "      <td>-0.0064</td>\n",
       "      <td>-0.0016</td>\n",
       "      <td>0.0024</td>\n",
       "      <td>...</td>\n",
       "      <td>-0.1016</td>\n",
       "      <td>-0.0976</td>\n",
       "      <td>-0.0952</td>\n",
       "      <td>-0.0912</td>\n",
       "      <td>-0.0864</td>\n",
       "      <td>-0.0824</td>\n",
       "      <td>-0.0768</td>\n",
       "      <td>-0.0752</td>\n",
       "      <td>-0.0672</td>\n",
       "      <td>-0.0624</td>\n",
       "    </tr>\n",
       "  </tbody>\n",
       "</table>\n",
       "<p>2 rows × 4000 columns</p>\n",
       "</div>"
      ],
      "text/plain": [
       "   Pair_1  Pair_2  Pair_3  Pair_4  Pair_5  Pair_6  Pair_7  Pair_8  Pair_9  \\\n",
       "0 -0.0096 -0.0080 -0.0040 -0.0112 -0.0048 -0.0032 -0.0112 -0.0064 -0.0024   \n",
       "1  0.0032 -0.0024 -0.0008 -0.0056  0.0048 -0.0016  0.0040 -0.0064 -0.0016   \n",
       "\n",
       "   Pair_10  ...  Pair_3991  Pair_3992  Pair_3993  Pair_3994  Pair_3995  \\\n",
       "0  -0.0136  ...    -0.1016    -0.1016    -0.0984    -0.0920    -0.0888   \n",
       "1   0.0024  ...    -0.1016    -0.0976    -0.0952    -0.0912    -0.0864   \n",
       "\n",
       "   Pair_3996  Pair_3997  Pair_3998  Pair_3999  Pair_4000  \n",
       "0    -0.0856    -0.0792    -0.0784    -0.0704    -0.0688  \n",
       "1    -0.0824    -0.0768    -0.0752    -0.0672    -0.0624  \n",
       "\n",
       "[2 rows x 4000 columns]"
      ]
     },
     "execution_count": 67,
     "metadata": {},
     "output_type": "execute_result"
    }
   ],
   "source": [
    "sig1 = first_csv[['ch1', 'ch2']]\n",
    "sig2 = second_csv[['ch1', 'ch2']]\n",
    "# Since most values in ch1(excitation signal) are 0, \n",
    "# just extract values in ch2(received signals) in both signal1 and signal2\n",
    "sig_ch2 = pd.concat([sig1['ch2'],sig2['ch2']], axis=1, ignore_index=True)\n",
    "sig_ch2 = sig_ch2.T\n",
    "sig_ch2.columns = [f'Pair_{i}' for i in range(1, 4001)]\n",
    "sig_ch2"
   ]
  },
  {
   "cell_type": "code",
   "execution_count": 68,
   "metadata": {},
   "outputs": [
    {
     "data": {
      "text/plain": [
       "(2, 4000)"
      ]
     },
     "execution_count": 68,
     "metadata": {},
     "output_type": "execute_result"
    }
   ],
   "source": [
    "sig_T3_55391 = sig_ch2.values\n",
    "sig_T3_55391.shape"
   ]
  },
  {
   "cell_type": "code",
   "execution_count": 69,
   "metadata": {},
   "outputs": [
    {
     "data": {
      "text/plain": [
       "(2, 4001)"
      ]
     },
     "execution_count": 69,
     "metadata": {},
     "output_type": "execute_result"
    }
   ],
   "source": [
    "# Add Y-value which is crack length(mm) for cycle 55391: 0mm\n",
    "y_value = 0\n",
    "crack_length_T3_55391 = np.full((sig_T3_55391.shape[0], 1), y_value)\n",
    "sig_T3_55391 = np.hstack((sig_T3_55391, crack_length_T3_55391))\n",
    "sig_T3_55391.shape"
   ]
  },
  {
   "cell_type": "code",
   "execution_count": 70,
   "metadata": {},
   "outputs": [
    {
     "data": {
      "text/plain": [
       "(26, 4001)"
      ]
     },
     "execution_count": 70,
     "metadata": {},
     "output_type": "execute_result"
    }
   ],
   "source": [
    "# add the extracted data in this cycle to the dataset array\n",
    "dataset_array = np.vstack([dataset_array, sig_T3_55391])\n",
    "dataset_array.shape"
   ]
  },
  {
   "cell_type": "markdown",
   "metadata": {},
   "source": [
    "### Number of Cycle: 57308"
   ]
  },
  {
   "cell_type": "code",
   "execution_count": 71,
   "metadata": {},
   "outputs": [],
   "source": [
    "first_csv = pd.read_csv(data_path + training_sets[2] + t3_channels[3] + signals[0])\n",
    "second_csv = pd.read_csv(data_path + training_sets[2] + t3_channels[3] + signals[1])"
   ]
  },
  {
   "cell_type": "code",
   "execution_count": 72,
   "metadata": {},
   "outputs": [
    {
     "data": {
      "text/html": [
       "<div>\n",
       "<style scoped>\n",
       "    .dataframe tbody tr th:only-of-type {\n",
       "        vertical-align: middle;\n",
       "    }\n",
       "\n",
       "    .dataframe tbody tr th {\n",
       "        vertical-align: top;\n",
       "    }\n",
       "\n",
       "    .dataframe thead th {\n",
       "        text-align: right;\n",
       "    }\n",
       "</style>\n",
       "<table border=\"1\" class=\"dataframe\">\n",
       "  <thead>\n",
       "    <tr style=\"text-align: right;\">\n",
       "      <th></th>\n",
       "      <th>Pair_1</th>\n",
       "      <th>Pair_2</th>\n",
       "      <th>Pair_3</th>\n",
       "      <th>Pair_4</th>\n",
       "      <th>Pair_5</th>\n",
       "      <th>Pair_6</th>\n",
       "      <th>Pair_7</th>\n",
       "      <th>Pair_8</th>\n",
       "      <th>Pair_9</th>\n",
       "      <th>Pair_10</th>\n",
       "      <th>...</th>\n",
       "      <th>Pair_3991</th>\n",
       "      <th>Pair_3992</th>\n",
       "      <th>Pair_3993</th>\n",
       "      <th>Pair_3994</th>\n",
       "      <th>Pair_3995</th>\n",
       "      <th>Pair_3996</th>\n",
       "      <th>Pair_3997</th>\n",
       "      <th>Pair_3998</th>\n",
       "      <th>Pair_3999</th>\n",
       "      <th>Pair_4000</th>\n",
       "    </tr>\n",
       "  </thead>\n",
       "  <tbody>\n",
       "    <tr>\n",
       "      <th>0</th>\n",
       "      <td>-0.0024</td>\n",
       "      <td>-0.0064</td>\n",
       "      <td>-0.0032</td>\n",
       "      <td>-0.0032</td>\n",
       "      <td>-0.0064</td>\n",
       "      <td>-0.0024</td>\n",
       "      <td>-0.0064</td>\n",
       "      <td>-0.0024</td>\n",
       "      <td>-0.0032</td>\n",
       "      <td>-0.0064</td>\n",
       "      <td>...</td>\n",
       "      <td>-0.1016</td>\n",
       "      <td>-0.1016</td>\n",
       "      <td>-0.1016</td>\n",
       "      <td>-0.1016</td>\n",
       "      <td>-0.1016</td>\n",
       "      <td>-0.1016</td>\n",
       "      <td>-0.1016</td>\n",
       "      <td>-0.1016</td>\n",
       "      <td>-0.0984</td>\n",
       "      <td>-0.0984</td>\n",
       "    </tr>\n",
       "    <tr>\n",
       "      <th>1</th>\n",
       "      <td>-0.0048</td>\n",
       "      <td>-0.0024</td>\n",
       "      <td>-0.0088</td>\n",
       "      <td>-0.0032</td>\n",
       "      <td>-0.0080</td>\n",
       "      <td>-0.0024</td>\n",
       "      <td>-0.0080</td>\n",
       "      <td>-0.0040</td>\n",
       "      <td>-0.0088</td>\n",
       "      <td>0.0000</td>\n",
       "      <td>...</td>\n",
       "      <td>-0.1016</td>\n",
       "      <td>-0.1016</td>\n",
       "      <td>-0.1016</td>\n",
       "      <td>-0.1016</td>\n",
       "      <td>-0.1016</td>\n",
       "      <td>-0.1016</td>\n",
       "      <td>-0.1016</td>\n",
       "      <td>-0.1016</td>\n",
       "      <td>-0.0928</td>\n",
       "      <td>-0.1016</td>\n",
       "    </tr>\n",
       "  </tbody>\n",
       "</table>\n",
       "<p>2 rows × 4000 columns</p>\n",
       "</div>"
      ],
      "text/plain": [
       "   Pair_1  Pair_2  Pair_3  Pair_4  Pair_5  Pair_6  Pair_7  Pair_8  Pair_9  \\\n",
       "0 -0.0024 -0.0064 -0.0032 -0.0032 -0.0064 -0.0024 -0.0064 -0.0024 -0.0032   \n",
       "1 -0.0048 -0.0024 -0.0088 -0.0032 -0.0080 -0.0024 -0.0080 -0.0040 -0.0088   \n",
       "\n",
       "   Pair_10  ...  Pair_3991  Pair_3992  Pair_3993  Pair_3994  Pair_3995  \\\n",
       "0  -0.0064  ...    -0.1016    -0.1016    -0.1016    -0.1016    -0.1016   \n",
       "1   0.0000  ...    -0.1016    -0.1016    -0.1016    -0.1016    -0.1016   \n",
       "\n",
       "   Pair_3996  Pair_3997  Pair_3998  Pair_3999  Pair_4000  \n",
       "0    -0.1016    -0.1016    -0.1016    -0.0984    -0.0984  \n",
       "1    -0.1016    -0.1016    -0.1016    -0.0928    -0.1016  \n",
       "\n",
       "[2 rows x 4000 columns]"
      ]
     },
     "execution_count": 72,
     "metadata": {},
     "output_type": "execute_result"
    }
   ],
   "source": [
    "sig1 = first_csv[['ch1', 'ch2']]\n",
    "sig2 = second_csv[['ch1', 'ch2']]\n",
    "# Since most values in ch1(excitation signal) are 0, \n",
    "# just extract values in ch2(received signals) in both signal1 and signal2\n",
    "sig_ch2 = pd.concat([sig1['ch2'],sig2['ch2']], axis=1, ignore_index=True)\n",
    "sig_ch2 = sig_ch2.T\n",
    "sig_ch2.columns = [f'Pair_{i}' for i in range(1, 4001)]\n",
    "sig_ch2"
   ]
  },
  {
   "cell_type": "code",
   "execution_count": 73,
   "metadata": {},
   "outputs": [
    {
     "data": {
      "text/plain": [
       "(2, 4000)"
      ]
     },
     "execution_count": 73,
     "metadata": {},
     "output_type": "execute_result"
    }
   ],
   "source": [
    "sig_T3_57308 = sig_ch2.values\n",
    "sig_T3_57308.shape"
   ]
  },
  {
   "cell_type": "code",
   "execution_count": 74,
   "metadata": {},
   "outputs": [
    {
     "data": {
      "text/plain": [
       "(2, 4001)"
      ]
     },
     "execution_count": 74,
     "metadata": {},
     "output_type": "execute_result"
    }
   ],
   "source": [
    "# Add Y-value which is crack length(mm) for cycle 57308: 2.57mm\n",
    "y_value = 2.57\n",
    "crack_length_T3_57308 = np.full((sig_T3_57308.shape[0], 1), y_value)\n",
    "sig_T3_57308 = np.hstack((sig_T3_57308, crack_length_T3_57308))\n",
    "sig_T3_57308.shape"
   ]
  },
  {
   "cell_type": "code",
   "execution_count": 75,
   "metadata": {},
   "outputs": [
    {
     "data": {
      "text/plain": [
       "(28, 4001)"
      ]
     },
     "execution_count": 75,
     "metadata": {},
     "output_type": "execute_result"
    }
   ],
   "source": [
    "# add the extracted data in this cycle to the dataset array\n",
    "dataset_array = np.vstack([dataset_array, sig_T3_57308])\n",
    "dataset_array.shape"
   ]
  },
  {
   "cell_type": "markdown",
   "metadata": {},
   "source": [
    "### Number of Cycle: 60035"
   ]
  },
  {
   "cell_type": "code",
   "execution_count": 76,
   "metadata": {},
   "outputs": [],
   "source": [
    "first_csv = pd.read_csv(data_path + training_sets[2] + t3_channels[4] + signals[0])\n",
    "second_csv = pd.read_csv(data_path + training_sets[2] + t3_channels[4] + signals[1])"
   ]
  },
  {
   "cell_type": "code",
   "execution_count": 77,
   "metadata": {},
   "outputs": [
    {
     "data": {
      "text/html": [
       "<div>\n",
       "<style scoped>\n",
       "    .dataframe tbody tr th:only-of-type {\n",
       "        vertical-align: middle;\n",
       "    }\n",
       "\n",
       "    .dataframe tbody tr th {\n",
       "        vertical-align: top;\n",
       "    }\n",
       "\n",
       "    .dataframe thead th {\n",
       "        text-align: right;\n",
       "    }\n",
       "</style>\n",
       "<table border=\"1\" class=\"dataframe\">\n",
       "  <thead>\n",
       "    <tr style=\"text-align: right;\">\n",
       "      <th></th>\n",
       "      <th>Pair_1</th>\n",
       "      <th>Pair_2</th>\n",
       "      <th>Pair_3</th>\n",
       "      <th>Pair_4</th>\n",
       "      <th>Pair_5</th>\n",
       "      <th>Pair_6</th>\n",
       "      <th>Pair_7</th>\n",
       "      <th>Pair_8</th>\n",
       "      <th>Pair_9</th>\n",
       "      <th>Pair_10</th>\n",
       "      <th>...</th>\n",
       "      <th>Pair_3991</th>\n",
       "      <th>Pair_3992</th>\n",
       "      <th>Pair_3993</th>\n",
       "      <th>Pair_3994</th>\n",
       "      <th>Pair_3995</th>\n",
       "      <th>Pair_3996</th>\n",
       "      <th>Pair_3997</th>\n",
       "      <th>Pair_3998</th>\n",
       "      <th>Pair_3999</th>\n",
       "      <th>Pair_4000</th>\n",
       "    </tr>\n",
       "  </thead>\n",
       "  <tbody>\n",
       "    <tr>\n",
       "      <th>0</th>\n",
       "      <td>-0.0040</td>\n",
       "      <td>-0.0072</td>\n",
       "      <td>0.0016</td>\n",
       "      <td>-0.0064</td>\n",
       "      <td>-0.0024</td>\n",
       "      <td>-0.0048</td>\n",
       "      <td>-0.0096</td>\n",
       "      <td>0.0128</td>\n",
       "      <td>-0.0064</td>\n",
       "      <td>-0.0176</td>\n",
       "      <td>...</td>\n",
       "      <td>-0.0816</td>\n",
       "      <td>-0.0960</td>\n",
       "      <td>-0.0904</td>\n",
       "      <td>-0.0664</td>\n",
       "      <td>-0.1016</td>\n",
       "      <td>-0.0728</td>\n",
       "      <td>-0.0688</td>\n",
       "      <td>-0.0848</td>\n",
       "      <td>-0.0672</td>\n",
       "      <td>-0.0560</td>\n",
       "    </tr>\n",
       "    <tr>\n",
       "      <th>1</th>\n",
       "      <td>-0.0248</td>\n",
       "      <td>0.0200</td>\n",
       "      <td>-0.0056</td>\n",
       "      <td>-0.0112</td>\n",
       "      <td>0.0168</td>\n",
       "      <td>-0.0112</td>\n",
       "      <td>-0.0088</td>\n",
       "      <td>0.0168</td>\n",
       "      <td>-0.0120</td>\n",
       "      <td>-0.0032</td>\n",
       "      <td>...</td>\n",
       "      <td>-0.0776</td>\n",
       "      <td>-0.1016</td>\n",
       "      <td>-0.0408</td>\n",
       "      <td>-0.1016</td>\n",
       "      <td>-0.0920</td>\n",
       "      <td>-0.0320</td>\n",
       "      <td>-0.1008</td>\n",
       "      <td>-0.0624</td>\n",
       "      <td>-0.0584</td>\n",
       "      <td>-0.0736</td>\n",
       "    </tr>\n",
       "  </tbody>\n",
       "</table>\n",
       "<p>2 rows × 4000 columns</p>\n",
       "</div>"
      ],
      "text/plain": [
       "   Pair_1  Pair_2  Pair_3  Pair_4  Pair_5  Pair_6  Pair_7  Pair_8  Pair_9  \\\n",
       "0 -0.0040 -0.0072  0.0016 -0.0064 -0.0024 -0.0048 -0.0096  0.0128 -0.0064   \n",
       "1 -0.0248  0.0200 -0.0056 -0.0112  0.0168 -0.0112 -0.0088  0.0168 -0.0120   \n",
       "\n",
       "   Pair_10  ...  Pair_3991  Pair_3992  Pair_3993  Pair_3994  Pair_3995  \\\n",
       "0  -0.0176  ...    -0.0816    -0.0960    -0.0904    -0.0664    -0.1016   \n",
       "1  -0.0032  ...    -0.0776    -0.1016    -0.0408    -0.1016    -0.0920   \n",
       "\n",
       "   Pair_3996  Pair_3997  Pair_3998  Pair_3999  Pair_4000  \n",
       "0    -0.0728    -0.0688    -0.0848    -0.0672    -0.0560  \n",
       "1    -0.0320    -0.1008    -0.0624    -0.0584    -0.0736  \n",
       "\n",
       "[2 rows x 4000 columns]"
      ]
     },
     "execution_count": 77,
     "metadata": {},
     "output_type": "execute_result"
    }
   ],
   "source": [
    "sig1 = first_csv[['ch1', 'ch2']]\n",
    "sig2 = second_csv[['ch1', 'ch2']]\n",
    "# Since most values in ch1(excitation signal) are 0, \n",
    "# just extract values in ch2(received signals) in both signal1 and signal2\n",
    "sig_ch2 = pd.concat([sig1['ch2'],sig2['ch2']], axis=1, ignore_index=True)\n",
    "sig_ch2 = sig_ch2.T\n",
    "sig_ch2.columns = [f'Pair_{i}' for i in range(1, 4001)]\n",
    "sig_ch2"
   ]
  },
  {
   "cell_type": "code",
   "execution_count": 78,
   "metadata": {},
   "outputs": [
    {
     "data": {
      "text/plain": [
       "(2, 4000)"
      ]
     },
     "execution_count": 78,
     "metadata": {},
     "output_type": "execute_result"
    }
   ],
   "source": [
    "sig_T3_60035 = sig_ch2.values\n",
    "sig_T3_60035.shape"
   ]
  },
  {
   "cell_type": "code",
   "execution_count": 79,
   "metadata": {},
   "outputs": [
    {
     "data": {
      "text/plain": [
       "(2, 4001)"
      ]
     },
     "execution_count": 79,
     "metadata": {},
     "output_type": "execute_result"
    }
   ],
   "source": [
    "# Add Y-value which is crack length(mm) for cycle 60035: 4.02mm\n",
    "y_value = 4.02\n",
    "crack_length_T3_60035 = np.full((sig_T3_60035.shape[0], 1), y_value)\n",
    "sig_T3_60035 = np.hstack((sig_T3_60035, crack_length_T3_60035))\n",
    "sig_T3_60035.shape"
   ]
  },
  {
   "cell_type": "code",
   "execution_count": 80,
   "metadata": {},
   "outputs": [
    {
     "data": {
      "text/plain": [
       "(30, 4001)"
      ]
     },
     "execution_count": 80,
     "metadata": {},
     "output_type": "execute_result"
    }
   ],
   "source": [
    "# add the extracted data in this cycle to the dataset array\n",
    "dataset_array = np.vstack([dataset_array, sig_T3_60035])\n",
    "dataset_array.shape"
   ]
  },
  {
   "cell_type": "markdown",
   "metadata": {},
   "source": [
    "### Number of Cycle: 62017"
   ]
  },
  {
   "cell_type": "code",
   "execution_count": 81,
   "metadata": {},
   "outputs": [],
   "source": [
    "first_csv = pd.read_csv(data_path + training_sets[2] + t3_channels[5] + signals[0])\n",
    "second_csv = pd.read_csv(data_path + training_sets[2] + t3_channels[5] + signals[1])"
   ]
  },
  {
   "cell_type": "code",
   "execution_count": 82,
   "metadata": {},
   "outputs": [
    {
     "data": {
      "text/html": [
       "<div>\n",
       "<style scoped>\n",
       "    .dataframe tbody tr th:only-of-type {\n",
       "        vertical-align: middle;\n",
       "    }\n",
       "\n",
       "    .dataframe tbody tr th {\n",
       "        vertical-align: top;\n",
       "    }\n",
       "\n",
       "    .dataframe thead th {\n",
       "        text-align: right;\n",
       "    }\n",
       "</style>\n",
       "<table border=\"1\" class=\"dataframe\">\n",
       "  <thead>\n",
       "    <tr style=\"text-align: right;\">\n",
       "      <th></th>\n",
       "      <th>Pair_1</th>\n",
       "      <th>Pair_2</th>\n",
       "      <th>Pair_3</th>\n",
       "      <th>Pair_4</th>\n",
       "      <th>Pair_5</th>\n",
       "      <th>Pair_6</th>\n",
       "      <th>Pair_7</th>\n",
       "      <th>Pair_8</th>\n",
       "      <th>Pair_9</th>\n",
       "      <th>Pair_10</th>\n",
       "      <th>...</th>\n",
       "      <th>Pair_3991</th>\n",
       "      <th>Pair_3992</th>\n",
       "      <th>Pair_3993</th>\n",
       "      <th>Pair_3994</th>\n",
       "      <th>Pair_3995</th>\n",
       "      <th>Pair_3996</th>\n",
       "      <th>Pair_3997</th>\n",
       "      <th>Pair_3998</th>\n",
       "      <th>Pair_3999</th>\n",
       "      <th>Pair_4000</th>\n",
       "    </tr>\n",
       "  </thead>\n",
       "  <tbody>\n",
       "    <tr>\n",
       "      <th>0</th>\n",
       "      <td>-0.004</td>\n",
       "      <td>0.0008</td>\n",
       "      <td>-0.0040</td>\n",
       "      <td>-0.0016</td>\n",
       "      <td>0.0000</td>\n",
       "      <td>-0.0008</td>\n",
       "      <td>-0.0024</td>\n",
       "      <td>-0.0032</td>\n",
       "      <td>0.0000</td>\n",
       "      <td>-0.0064</td>\n",
       "      <td>...</td>\n",
       "      <td>-0.0768</td>\n",
       "      <td>-0.0784</td>\n",
       "      <td>-0.0704</td>\n",
       "      <td>-0.0704</td>\n",
       "      <td>-0.0696</td>\n",
       "      <td>-0.0768</td>\n",
       "      <td>-0.0704</td>\n",
       "      <td>-0.0608</td>\n",
       "      <td>-0.0576</td>\n",
       "      <td>-0.0640</td>\n",
       "    </tr>\n",
       "    <tr>\n",
       "      <th>1</th>\n",
       "      <td>0.000</td>\n",
       "      <td>-0.0032</td>\n",
       "      <td>-0.0016</td>\n",
       "      <td>-0.0032</td>\n",
       "      <td>-0.0008</td>\n",
       "      <td>-0.0024</td>\n",
       "      <td>-0.0008</td>\n",
       "      <td>-0.0056</td>\n",
       "      <td>0.0008</td>\n",
       "      <td>-0.0008</td>\n",
       "      <td>...</td>\n",
       "      <td>-0.0752</td>\n",
       "      <td>-0.0784</td>\n",
       "      <td>-0.0720</td>\n",
       "      <td>-0.0768</td>\n",
       "      <td>-0.0704</td>\n",
       "      <td>-0.0696</td>\n",
       "      <td>-0.0728</td>\n",
       "      <td>-0.0688</td>\n",
       "      <td>-0.0648</td>\n",
       "      <td>-0.0608</td>\n",
       "    </tr>\n",
       "  </tbody>\n",
       "</table>\n",
       "<p>2 rows × 4000 columns</p>\n",
       "</div>"
      ],
      "text/plain": [
       "   Pair_1  Pair_2  Pair_3  Pair_4  Pair_5  Pair_6  Pair_7  Pair_8  Pair_9  \\\n",
       "0  -0.004  0.0008 -0.0040 -0.0016  0.0000 -0.0008 -0.0024 -0.0032  0.0000   \n",
       "1   0.000 -0.0032 -0.0016 -0.0032 -0.0008 -0.0024 -0.0008 -0.0056  0.0008   \n",
       "\n",
       "   Pair_10  ...  Pair_3991  Pair_3992  Pair_3993  Pair_3994  Pair_3995  \\\n",
       "0  -0.0064  ...    -0.0768    -0.0784    -0.0704    -0.0704    -0.0696   \n",
       "1  -0.0008  ...    -0.0752    -0.0784    -0.0720    -0.0768    -0.0704   \n",
       "\n",
       "   Pair_3996  Pair_3997  Pair_3998  Pair_3999  Pair_4000  \n",
       "0    -0.0768    -0.0704    -0.0608    -0.0576    -0.0640  \n",
       "1    -0.0696    -0.0728    -0.0688    -0.0648    -0.0608  \n",
       "\n",
       "[2 rows x 4000 columns]"
      ]
     },
     "execution_count": 82,
     "metadata": {},
     "output_type": "execute_result"
    }
   ],
   "source": [
    "sig1 = first_csv[['ch1', 'ch2']]\n",
    "sig2 = second_csv[['ch1', 'ch2']]\n",
    "# Since most values in ch1(excitation signal) are 0, \n",
    "# just extract values in ch2(received signals) in both signal1 and signal2\n",
    "sig_ch2 = pd.concat([sig1['ch2'],sig2['ch2']], axis=1, ignore_index=True)\n",
    "sig_ch2 = sig_ch2.T\n",
    "sig_ch2.columns = [f'Pair_{i}' for i in range(1, 4001)]\n",
    "sig_ch2"
   ]
  },
  {
   "cell_type": "code",
   "execution_count": 83,
   "metadata": {},
   "outputs": [
    {
     "data": {
      "text/plain": [
       "(2, 4000)"
      ]
     },
     "execution_count": 83,
     "metadata": {},
     "output_type": "execute_result"
    }
   ],
   "source": [
    "sig_T3_62017 = sig_ch2.values\n",
    "sig_T3_62017.shape"
   ]
  },
  {
   "cell_type": "code",
   "execution_count": 84,
   "metadata": {},
   "outputs": [
    {
     "data": {
      "text/plain": [
       "(2, 4001)"
      ]
     },
     "execution_count": 84,
     "metadata": {},
     "output_type": "execute_result"
    }
   ],
   "source": [
    "# Add Y-value which is crack length(mm) for cycle 62017: 4.72mm\n",
    "y_value = 4.72\n",
    "crack_length_T3_62017 = np.full((sig_T3_62017.shape[0], 1), y_value)\n",
    "sig_T3_62017 = np.hstack((sig_T3_62017, crack_length_T3_62017))\n",
    "sig_T3_62017.shape"
   ]
  },
  {
   "cell_type": "code",
   "execution_count": 85,
   "metadata": {},
   "outputs": [
    {
     "data": {
      "text/plain": [
       "(32, 4001)"
      ]
     },
     "execution_count": 85,
     "metadata": {},
     "output_type": "execute_result"
    }
   ],
   "source": [
    "# add the extracted data in this cycle to the dataset array\n",
    "dataset_array = np.vstack([dataset_array, sig_T3_62017])\n",
    "dataset_array.shape"
   ]
  },
  {
   "cell_type": "markdown",
   "metadata": {},
   "source": [
    "### Number of Cycle: 64019"
   ]
  },
  {
   "cell_type": "code",
   "execution_count": 86,
   "metadata": {},
   "outputs": [],
   "source": [
    "first_csv = pd.read_csv(data_path + training_sets[2] + t3_channels[6] + signals[0])\n",
    "second_csv = pd.read_csv(data_path + training_sets[2] + t3_channels[6] + signals[1])"
   ]
  },
  {
   "cell_type": "code",
   "execution_count": 87,
   "metadata": {},
   "outputs": [
    {
     "data": {
      "text/html": [
       "<div>\n",
       "<style scoped>\n",
       "    .dataframe tbody tr th:only-of-type {\n",
       "        vertical-align: middle;\n",
       "    }\n",
       "\n",
       "    .dataframe tbody tr th {\n",
       "        vertical-align: top;\n",
       "    }\n",
       "\n",
       "    .dataframe thead th {\n",
       "        text-align: right;\n",
       "    }\n",
       "</style>\n",
       "<table border=\"1\" class=\"dataframe\">\n",
       "  <thead>\n",
       "    <tr style=\"text-align: right;\">\n",
       "      <th></th>\n",
       "      <th>Pair_1</th>\n",
       "      <th>Pair_2</th>\n",
       "      <th>Pair_3</th>\n",
       "      <th>Pair_4</th>\n",
       "      <th>Pair_5</th>\n",
       "      <th>Pair_6</th>\n",
       "      <th>Pair_7</th>\n",
       "      <th>Pair_8</th>\n",
       "      <th>Pair_9</th>\n",
       "      <th>Pair_10</th>\n",
       "      <th>...</th>\n",
       "      <th>Pair_3991</th>\n",
       "      <th>Pair_3992</th>\n",
       "      <th>Pair_3993</th>\n",
       "      <th>Pair_3994</th>\n",
       "      <th>Pair_3995</th>\n",
       "      <th>Pair_3996</th>\n",
       "      <th>Pair_3997</th>\n",
       "      <th>Pair_3998</th>\n",
       "      <th>Pair_3999</th>\n",
       "      <th>Pair_4000</th>\n",
       "    </tr>\n",
       "  </thead>\n",
       "  <tbody>\n",
       "    <tr>\n",
       "      <th>0</th>\n",
       "      <td>0.0128</td>\n",
       "      <td>-0.0120</td>\n",
       "      <td>0.0008</td>\n",
       "      <td>-0.0016</td>\n",
       "      <td>0.0000</td>\n",
       "      <td>-0.0120</td>\n",
       "      <td>0.0120</td>\n",
       "      <td>-0.0112</td>\n",
       "      <td>0.008</td>\n",
       "      <td>-0.004</td>\n",
       "      <td>...</td>\n",
       "      <td>-0.0736</td>\n",
       "      <td>-0.0768</td>\n",
       "      <td>-0.0792</td>\n",
       "      <td>-0.0792</td>\n",
       "      <td>-0.0800</td>\n",
       "      <td>-0.0792</td>\n",
       "      <td>-0.0768</td>\n",
       "      <td>-0.0784</td>\n",
       "      <td>-0.0768</td>\n",
       "      <td>-0.0728</td>\n",
       "    </tr>\n",
       "    <tr>\n",
       "      <th>1</th>\n",
       "      <td>-0.0032</td>\n",
       "      <td>-0.0016</td>\n",
       "      <td>-0.0016</td>\n",
       "      <td>-0.0016</td>\n",
       "      <td>-0.0024</td>\n",
       "      <td>-0.0024</td>\n",
       "      <td>-0.0024</td>\n",
       "      <td>0.0016</td>\n",
       "      <td>-0.004</td>\n",
       "      <td>0.000</td>\n",
       "      <td>...</td>\n",
       "      <td>-0.0800</td>\n",
       "      <td>-0.0688</td>\n",
       "      <td>-0.0856</td>\n",
       "      <td>-0.0824</td>\n",
       "      <td>-0.0736</td>\n",
       "      <td>-0.0976</td>\n",
       "      <td>-0.0672</td>\n",
       "      <td>-0.0736</td>\n",
       "      <td>-0.0984</td>\n",
       "      <td>-0.0624</td>\n",
       "    </tr>\n",
       "  </tbody>\n",
       "</table>\n",
       "<p>2 rows × 4000 columns</p>\n",
       "</div>"
      ],
      "text/plain": [
       "   Pair_1  Pair_2  Pair_3  Pair_4  Pair_5  Pair_6  Pair_7  Pair_8  Pair_9  \\\n",
       "0  0.0128 -0.0120  0.0008 -0.0016  0.0000 -0.0120  0.0120 -0.0112   0.008   \n",
       "1 -0.0032 -0.0016 -0.0016 -0.0016 -0.0024 -0.0024 -0.0024  0.0016  -0.004   \n",
       "\n",
       "   Pair_10  ...  Pair_3991  Pair_3992  Pair_3993  Pair_3994  Pair_3995  \\\n",
       "0   -0.004  ...    -0.0736    -0.0768    -0.0792    -0.0792    -0.0800   \n",
       "1    0.000  ...    -0.0800    -0.0688    -0.0856    -0.0824    -0.0736   \n",
       "\n",
       "   Pair_3996  Pair_3997  Pair_3998  Pair_3999  Pair_4000  \n",
       "0    -0.0792    -0.0768    -0.0784    -0.0768    -0.0728  \n",
       "1    -0.0976    -0.0672    -0.0736    -0.0984    -0.0624  \n",
       "\n",
       "[2 rows x 4000 columns]"
      ]
     },
     "execution_count": 87,
     "metadata": {},
     "output_type": "execute_result"
    }
   ],
   "source": [
    "sig1 = first_csv[['ch1', 'ch2']]\n",
    "sig2 = second_csv[['ch1', 'ch2']]\n",
    "# Since most values in ch1(excitation signal) are 0, \n",
    "# just extract values in ch2(received signals) in both signal1 and signal2\n",
    "sig_ch2 = pd.concat([sig1['ch2'],sig2['ch2']], axis=1, ignore_index=True)\n",
    "sig_ch2 = sig_ch2.T\n",
    "sig_ch2.columns = [f'Pair_{i}' for i in range(1, 4001)]\n",
    "sig_ch2"
   ]
  },
  {
   "cell_type": "code",
   "execution_count": 88,
   "metadata": {},
   "outputs": [
    {
     "data": {
      "text/plain": [
       "(2, 4000)"
      ]
     },
     "execution_count": 88,
     "metadata": {},
     "output_type": "execute_result"
    }
   ],
   "source": [
    "sig_T3_64019 = sig_ch2.values\n",
    "sig_T3_64019.shape"
   ]
  },
  {
   "cell_type": "code",
   "execution_count": 89,
   "metadata": {},
   "outputs": [
    {
     "data": {
      "text/plain": [
       "(2, 4001)"
      ]
     },
     "execution_count": 89,
     "metadata": {},
     "output_type": "execute_result"
    }
   ],
   "source": [
    "# Add Y-value which is crack length(mm) for cycle 64019: 5.49mm\n",
    "y_value = 5.49\n",
    "crack_length_T3_64019 = np.full((sig_T3_64019.shape[0], 1), y_value)\n",
    "sig_T3_64019 = np.hstack((sig_T3_64019, crack_length_T3_64019))\n",
    "sig_T3_64019.shape"
   ]
  },
  {
   "cell_type": "code",
   "execution_count": 90,
   "metadata": {},
   "outputs": [
    {
     "data": {
      "text/plain": [
       "(34, 4001)"
      ]
     },
     "execution_count": 90,
     "metadata": {},
     "output_type": "execute_result"
    }
   ],
   "source": [
    "# add the extracted data in this cycle to the dataset array\n",
    "dataset_array = np.vstack([dataset_array, sig_T3_64019])\n",
    "dataset_array.shape"
   ]
  },
  {
   "cell_type": "markdown",
   "metadata": {},
   "source": [
    "### Number of Cycle: 65029"
   ]
  },
  {
   "cell_type": "code",
   "execution_count": 91,
   "metadata": {},
   "outputs": [],
   "source": [
    "first_csv = pd.read_csv(data_path + training_sets[2] + t3_channels[7] + signals[0])\n",
    "second_csv = pd.read_csv(data_path + training_sets[2] + t3_channels[7] + signals[1])"
   ]
  },
  {
   "cell_type": "code",
   "execution_count": 92,
   "metadata": {},
   "outputs": [
    {
     "data": {
      "text/html": [
       "<div>\n",
       "<style scoped>\n",
       "    .dataframe tbody tr th:only-of-type {\n",
       "        vertical-align: middle;\n",
       "    }\n",
       "\n",
       "    .dataframe tbody tr th {\n",
       "        vertical-align: top;\n",
       "    }\n",
       "\n",
       "    .dataframe thead th {\n",
       "        text-align: right;\n",
       "    }\n",
       "</style>\n",
       "<table border=\"1\" class=\"dataframe\">\n",
       "  <thead>\n",
       "    <tr style=\"text-align: right;\">\n",
       "      <th></th>\n",
       "      <th>Pair_1</th>\n",
       "      <th>Pair_2</th>\n",
       "      <th>Pair_3</th>\n",
       "      <th>Pair_4</th>\n",
       "      <th>Pair_5</th>\n",
       "      <th>Pair_6</th>\n",
       "      <th>Pair_7</th>\n",
       "      <th>Pair_8</th>\n",
       "      <th>Pair_9</th>\n",
       "      <th>Pair_10</th>\n",
       "      <th>...</th>\n",
       "      <th>Pair_3991</th>\n",
       "      <th>Pair_3992</th>\n",
       "      <th>Pair_3993</th>\n",
       "      <th>Pair_3994</th>\n",
       "      <th>Pair_3995</th>\n",
       "      <th>Pair_3996</th>\n",
       "      <th>Pair_3997</th>\n",
       "      <th>Pair_3998</th>\n",
       "      <th>Pair_3999</th>\n",
       "      <th>Pair_4000</th>\n",
       "    </tr>\n",
       "  </thead>\n",
       "  <tbody>\n",
       "    <tr>\n",
       "      <th>0</th>\n",
       "      <td>-0.0016</td>\n",
       "      <td>0.0064</td>\n",
       "      <td>0.0040</td>\n",
       "      <td>0.0008</td>\n",
       "      <td>0.0016</td>\n",
       "      <td>0.0016</td>\n",
       "      <td>0.0040</td>\n",
       "      <td>0.0064</td>\n",
       "      <td>0.0040</td>\n",
       "      <td>0.0000</td>\n",
       "      <td>...</td>\n",
       "      <td>-0.0696</td>\n",
       "      <td>-0.0736</td>\n",
       "      <td>-0.0728</td>\n",
       "      <td>-0.0768</td>\n",
       "      <td>-0.072</td>\n",
       "      <td>-0.0760</td>\n",
       "      <td>-0.0760</td>\n",
       "      <td>-0.0736</td>\n",
       "      <td>-0.0728</td>\n",
       "      <td>-0.0728</td>\n",
       "    </tr>\n",
       "    <tr>\n",
       "      <th>1</th>\n",
       "      <td>0.0088</td>\n",
       "      <td>-0.0360</td>\n",
       "      <td>0.0096</td>\n",
       "      <td>0.0016</td>\n",
       "      <td>-0.0240</td>\n",
       "      <td>0.0128</td>\n",
       "      <td>-0.0048</td>\n",
       "      <td>-0.0304</td>\n",
       "      <td>0.0176</td>\n",
       "      <td>-0.0104</td>\n",
       "      <td>...</td>\n",
       "      <td>-0.0752</td>\n",
       "      <td>-0.0736</td>\n",
       "      <td>-0.1016</td>\n",
       "      <td>-0.0600</td>\n",
       "      <td>-0.088</td>\n",
       "      <td>-0.1016</td>\n",
       "      <td>-0.0664</td>\n",
       "      <td>-0.0800</td>\n",
       "      <td>-0.0896</td>\n",
       "      <td>-0.0760</td>\n",
       "    </tr>\n",
       "  </tbody>\n",
       "</table>\n",
       "<p>2 rows × 4000 columns</p>\n",
       "</div>"
      ],
      "text/plain": [
       "   Pair_1  Pair_2  Pair_3  Pair_4  Pair_5  Pair_6  Pair_7  Pair_8  Pair_9  \\\n",
       "0 -0.0016  0.0064  0.0040  0.0008  0.0016  0.0016  0.0040  0.0064  0.0040   \n",
       "1  0.0088 -0.0360  0.0096  0.0016 -0.0240  0.0128 -0.0048 -0.0304  0.0176   \n",
       "\n",
       "   Pair_10  ...  Pair_3991  Pair_3992  Pair_3993  Pair_3994  Pair_3995  \\\n",
       "0   0.0000  ...    -0.0696    -0.0736    -0.0728    -0.0768     -0.072   \n",
       "1  -0.0104  ...    -0.0752    -0.0736    -0.1016    -0.0600     -0.088   \n",
       "\n",
       "   Pair_3996  Pair_3997  Pair_3998  Pair_3999  Pair_4000  \n",
       "0    -0.0760    -0.0760    -0.0736    -0.0728    -0.0728  \n",
       "1    -0.1016    -0.0664    -0.0800    -0.0896    -0.0760  \n",
       "\n",
       "[2 rows x 4000 columns]"
      ]
     },
     "execution_count": 92,
     "metadata": {},
     "output_type": "execute_result"
    }
   ],
   "source": [
    "sig1 = first_csv[['ch1', 'ch2']]\n",
    "sig2 = second_csv[['ch1', 'ch2']]\n",
    "# Since most values in ch1(excitation signal) are 0, \n",
    "# just extract values in ch2(received signals) in both signal1 and signal2\n",
    "sig_ch2 = pd.concat([sig1['ch2'],sig2['ch2']], axis=1, ignore_index=True)\n",
    "sig_ch2 = sig_ch2.T\n",
    "sig_ch2.columns = [f'Pair_{i}' for i in range(1, 4001)]\n",
    "sig_ch2"
   ]
  },
  {
   "cell_type": "code",
   "execution_count": 93,
   "metadata": {},
   "outputs": [
    {
     "data": {
      "text/plain": [
       "(2, 4000)"
      ]
     },
     "execution_count": 93,
     "metadata": {},
     "output_type": "execute_result"
    }
   ],
   "source": [
    "sig_T3_65029 = sig_ch2.values\n",
    "sig_T3_65029.shape"
   ]
  },
  {
   "cell_type": "code",
   "execution_count": 94,
   "metadata": {},
   "outputs": [
    {
     "data": {
      "text/plain": [
       "(2, 4001)"
      ]
     },
     "execution_count": 94,
     "metadata": {},
     "output_type": "execute_result"
    }
   ],
   "source": [
    "# Add Y-value which is crack length(mm) for cycle 65029: 5.9mm\n",
    "y_value = 5.9\n",
    "crack_length_T3_65029 = np.full((sig_T3_64019.shape[0], 1), y_value)\n",
    "sig_T3_65029 = np.hstack((sig_T3_65029, crack_length_T3_65029))\n",
    "sig_T3_65029.shape"
   ]
  },
  {
   "cell_type": "code",
   "execution_count": 95,
   "metadata": {},
   "outputs": [
    {
     "data": {
      "text/plain": [
       "(36, 4001)"
      ]
     },
     "execution_count": 95,
     "metadata": {},
     "output_type": "execute_result"
    }
   ],
   "source": [
    "# add the extracted data in this cycle to the dataset array\n",
    "dataset_array = np.vstack([dataset_array, sig_T3_65029])\n",
    "dataset_array.shape"
   ]
  },
  {
   "cell_type": "markdown",
   "metadata": {},
   "source": [
    "### Number of Cycle: 66012"
   ]
  },
  {
   "cell_type": "code",
   "execution_count": 96,
   "metadata": {},
   "outputs": [],
   "source": [
    "first_csv = pd.read_csv(data_path + training_sets[2] + t3_channels[8] + signals[0])\n",
    "second_csv = pd.read_csv(data_path + training_sets[2] + t3_channels[8] + signals[1])"
   ]
  },
  {
   "cell_type": "code",
   "execution_count": 97,
   "metadata": {},
   "outputs": [
    {
     "data": {
      "text/html": [
       "<div>\n",
       "<style scoped>\n",
       "    .dataframe tbody tr th:only-of-type {\n",
       "        vertical-align: middle;\n",
       "    }\n",
       "\n",
       "    .dataframe tbody tr th {\n",
       "        vertical-align: top;\n",
       "    }\n",
       "\n",
       "    .dataframe thead th {\n",
       "        text-align: right;\n",
       "    }\n",
       "</style>\n",
       "<table border=\"1\" class=\"dataframe\">\n",
       "  <thead>\n",
       "    <tr style=\"text-align: right;\">\n",
       "      <th></th>\n",
       "      <th>Pair_1</th>\n",
       "      <th>Pair_2</th>\n",
       "      <th>Pair_3</th>\n",
       "      <th>Pair_4</th>\n",
       "      <th>Pair_5</th>\n",
       "      <th>Pair_6</th>\n",
       "      <th>Pair_7</th>\n",
       "      <th>Pair_8</th>\n",
       "      <th>Pair_9</th>\n",
       "      <th>Pair_10</th>\n",
       "      <th>...</th>\n",
       "      <th>Pair_3991</th>\n",
       "      <th>Pair_3992</th>\n",
       "      <th>Pair_3993</th>\n",
       "      <th>Pair_3994</th>\n",
       "      <th>Pair_3995</th>\n",
       "      <th>Pair_3996</th>\n",
       "      <th>Pair_3997</th>\n",
       "      <th>Pair_3998</th>\n",
       "      <th>Pair_3999</th>\n",
       "      <th>Pair_4000</th>\n",
       "    </tr>\n",
       "  </thead>\n",
       "  <tbody>\n",
       "    <tr>\n",
       "      <th>0</th>\n",
       "      <td>-0.0016</td>\n",
       "      <td>0.000</td>\n",
       "      <td>0.0008</td>\n",
       "      <td>-0.004</td>\n",
       "      <td>0.0040</td>\n",
       "      <td>-0.0056</td>\n",
       "      <td>-0.0032</td>\n",
       "      <td>0.0032</td>\n",
       "      <td>0.0000</td>\n",
       "      <td>0.0008</td>\n",
       "      <td>...</td>\n",
       "      <td>-0.0624</td>\n",
       "      <td>-0.064</td>\n",
       "      <td>-0.0608</td>\n",
       "      <td>-0.0696</td>\n",
       "      <td>-0.0696</td>\n",
       "      <td>-0.0664</td>\n",
       "      <td>-0.0632</td>\n",
       "      <td>-0.0672</td>\n",
       "      <td>-0.0704</td>\n",
       "      <td>-0.0656</td>\n",
       "    </tr>\n",
       "    <tr>\n",
       "      <th>1</th>\n",
       "      <td>0.0048</td>\n",
       "      <td>-0.016</td>\n",
       "      <td>0.0064</td>\n",
       "      <td>0.004</td>\n",
       "      <td>-0.0072</td>\n",
       "      <td>0.0136</td>\n",
       "      <td>-0.0096</td>\n",
       "      <td>-0.0032</td>\n",
       "      <td>0.0152</td>\n",
       "      <td>-0.0072</td>\n",
       "      <td>...</td>\n",
       "      <td>-0.0632</td>\n",
       "      <td>-0.064</td>\n",
       "      <td>-0.0656</td>\n",
       "      <td>-0.0608</td>\n",
       "      <td>-0.0664</td>\n",
       "      <td>-0.0720</td>\n",
       "      <td>-0.0608</td>\n",
       "      <td>-0.0688</td>\n",
       "      <td>-0.0608</td>\n",
       "      <td>-0.0648</td>\n",
       "    </tr>\n",
       "  </tbody>\n",
       "</table>\n",
       "<p>2 rows × 4000 columns</p>\n",
       "</div>"
      ],
      "text/plain": [
       "   Pair_1  Pair_2  Pair_3  Pair_4  Pair_5  Pair_6  Pair_7  Pair_8  Pair_9  \\\n",
       "0 -0.0016   0.000  0.0008  -0.004  0.0040 -0.0056 -0.0032  0.0032  0.0000   \n",
       "1  0.0048  -0.016  0.0064   0.004 -0.0072  0.0136 -0.0096 -0.0032  0.0152   \n",
       "\n",
       "   Pair_10  ...  Pair_3991  Pair_3992  Pair_3993  Pair_3994  Pair_3995  \\\n",
       "0   0.0008  ...    -0.0624     -0.064    -0.0608    -0.0696    -0.0696   \n",
       "1  -0.0072  ...    -0.0632     -0.064    -0.0656    -0.0608    -0.0664   \n",
       "\n",
       "   Pair_3996  Pair_3997  Pair_3998  Pair_3999  Pair_4000  \n",
       "0    -0.0664    -0.0632    -0.0672    -0.0704    -0.0656  \n",
       "1    -0.0720    -0.0608    -0.0688    -0.0608    -0.0648  \n",
       "\n",
       "[2 rows x 4000 columns]"
      ]
     },
     "execution_count": 97,
     "metadata": {},
     "output_type": "execute_result"
    }
   ],
   "source": [
    "sig1 = first_csv[['ch1', 'ch2']]\n",
    "sig2 = second_csv[['ch1', 'ch2']]\n",
    "# Since most values in ch1(excitation signal) are 0, \n",
    "# just extract values in ch2(received signals) in both signal1 and signal2\n",
    "sig_ch2 = pd.concat([sig1['ch2'],sig2['ch2']], axis=1, ignore_index=True)\n",
    "sig_ch2 = sig_ch2.T\n",
    "sig_ch2.columns = [f'Pair_{i}' for i in range(1, 4001)]\n",
    "sig_ch2"
   ]
  },
  {
   "cell_type": "code",
   "execution_count": 98,
   "metadata": {},
   "outputs": [
    {
     "data": {
      "text/plain": [
       "(2, 4000)"
      ]
     },
     "execution_count": 98,
     "metadata": {},
     "output_type": "execute_result"
    }
   ],
   "source": [
    "sig_T3_66012 = sig_ch2.values\n",
    "sig_T3_66012.shape"
   ]
  },
  {
   "cell_type": "code",
   "execution_count": 99,
   "metadata": {},
   "outputs": [
    {
     "data": {
      "text/plain": [
       "(2, 4001)"
      ]
     },
     "execution_count": 99,
     "metadata": {},
     "output_type": "execute_result"
    }
   ],
   "source": [
    "# Add Y-value which is crack length(mm) for cycle 66012: 6.52mm\n",
    "y_value = 6.52\n",
    "crack_length_T3_66012 = np.full((sig_T3_64019.shape[0], 1), y_value)\n",
    "sig_T3_66012 = np.hstack((sig_T3_66012, crack_length_T3_66012))\n",
    "sig_T3_66012.shape"
   ]
  },
  {
   "cell_type": "code",
   "execution_count": 100,
   "metadata": {},
   "outputs": [
    {
     "data": {
      "text/plain": [
       "(38, 4001)"
      ]
     },
     "execution_count": 100,
     "metadata": {},
     "output_type": "execute_result"
    }
   ],
   "source": [
    "# add the extracted data in this cycle to the dataset array\n",
    "dataset_array = np.vstack([dataset_array, sig_T3_66012])\n",
    "dataset_array.shape"
   ]
  },
  {
   "cell_type": "markdown",
   "metadata": {},
   "source": [
    "### Number of Cycle: 66510"
   ]
  },
  {
   "cell_type": "code",
   "execution_count": 101,
   "metadata": {},
   "outputs": [],
   "source": [
    "first_csv = pd.read_csv(data_path + training_sets[2] + t3_channels[9] + signals[0])\n",
    "second_csv = pd.read_csv(data_path + training_sets[2] + t3_channels[9] + signals[1])"
   ]
  },
  {
   "cell_type": "code",
   "execution_count": 102,
   "metadata": {},
   "outputs": [
    {
     "data": {
      "text/html": [
       "<div>\n",
       "<style scoped>\n",
       "    .dataframe tbody tr th:only-of-type {\n",
       "        vertical-align: middle;\n",
       "    }\n",
       "\n",
       "    .dataframe tbody tr th {\n",
       "        vertical-align: top;\n",
       "    }\n",
       "\n",
       "    .dataframe thead th {\n",
       "        text-align: right;\n",
       "    }\n",
       "</style>\n",
       "<table border=\"1\" class=\"dataframe\">\n",
       "  <thead>\n",
       "    <tr style=\"text-align: right;\">\n",
       "      <th></th>\n",
       "      <th>Pair_1</th>\n",
       "      <th>Pair_2</th>\n",
       "      <th>Pair_3</th>\n",
       "      <th>Pair_4</th>\n",
       "      <th>Pair_5</th>\n",
       "      <th>Pair_6</th>\n",
       "      <th>Pair_7</th>\n",
       "      <th>Pair_8</th>\n",
       "      <th>Pair_9</th>\n",
       "      <th>Pair_10</th>\n",
       "      <th>...</th>\n",
       "      <th>Pair_3991</th>\n",
       "      <th>Pair_3992</th>\n",
       "      <th>Pair_3993</th>\n",
       "      <th>Pair_3994</th>\n",
       "      <th>Pair_3995</th>\n",
       "      <th>Pair_3996</th>\n",
       "      <th>Pair_3997</th>\n",
       "      <th>Pair_3998</th>\n",
       "      <th>Pair_3999</th>\n",
       "      <th>Pair_4000</th>\n",
       "    </tr>\n",
       "  </thead>\n",
       "  <tbody>\n",
       "    <tr>\n",
       "      <th>0</th>\n",
       "      <td>-0.0016</td>\n",
       "      <td>-0.0056</td>\n",
       "      <td>0.0024</td>\n",
       "      <td>-0.0032</td>\n",
       "      <td>-0.0048</td>\n",
       "      <td>0.0008</td>\n",
       "      <td>-0.0032</td>\n",
       "      <td>-0.0040</td>\n",
       "      <td>-0.0008</td>\n",
       "      <td>-0.0024</td>\n",
       "      <td>...</td>\n",
       "      <td>-0.0504</td>\n",
       "      <td>-0.0560</td>\n",
       "      <td>-0.0568</td>\n",
       "      <td>-0.0576</td>\n",
       "      <td>-0.0576</td>\n",
       "      <td>-0.0576</td>\n",
       "      <td>-0.0568</td>\n",
       "      <td>-0.0568</td>\n",
       "      <td>-0.0600</td>\n",
       "      <td>-0.0648</td>\n",
       "    </tr>\n",
       "    <tr>\n",
       "      <th>1</th>\n",
       "      <td>0.0104</td>\n",
       "      <td>0.0248</td>\n",
       "      <td>-0.0368</td>\n",
       "      <td>0.0160</td>\n",
       "      <td>0.0112</td>\n",
       "      <td>-0.0216</td>\n",
       "      <td>0.0112</td>\n",
       "      <td>0.0056</td>\n",
       "      <td>-0.0288</td>\n",
       "      <td>0.0280</td>\n",
       "      <td>...</td>\n",
       "      <td>-0.0544</td>\n",
       "      <td>-0.0568</td>\n",
       "      <td>-0.0568</td>\n",
       "      <td>-0.0440</td>\n",
       "      <td>-0.0512</td>\n",
       "      <td>-0.0568</td>\n",
       "      <td>-0.0600</td>\n",
       "      <td>-0.0568</td>\n",
       "      <td>-0.0496</td>\n",
       "      <td>-0.0520</td>\n",
       "    </tr>\n",
       "  </tbody>\n",
       "</table>\n",
       "<p>2 rows × 4000 columns</p>\n",
       "</div>"
      ],
      "text/plain": [
       "   Pair_1  Pair_2  Pair_3  Pair_4  Pair_5  Pair_6  Pair_7  Pair_8  Pair_9  \\\n",
       "0 -0.0016 -0.0056  0.0024 -0.0032 -0.0048  0.0008 -0.0032 -0.0040 -0.0008   \n",
       "1  0.0104  0.0248 -0.0368  0.0160  0.0112 -0.0216  0.0112  0.0056 -0.0288   \n",
       "\n",
       "   Pair_10  ...  Pair_3991  Pair_3992  Pair_3993  Pair_3994  Pair_3995  \\\n",
       "0  -0.0024  ...    -0.0504    -0.0560    -0.0568    -0.0576    -0.0576   \n",
       "1   0.0280  ...    -0.0544    -0.0568    -0.0568    -0.0440    -0.0512   \n",
       "\n",
       "   Pair_3996  Pair_3997  Pair_3998  Pair_3999  Pair_4000  \n",
       "0    -0.0576    -0.0568    -0.0568    -0.0600    -0.0648  \n",
       "1    -0.0568    -0.0600    -0.0568    -0.0496    -0.0520  \n",
       "\n",
       "[2 rows x 4000 columns]"
      ]
     },
     "execution_count": 102,
     "metadata": {},
     "output_type": "execute_result"
    }
   ],
   "source": [
    "sig1 = first_csv[['ch1', 'ch2']]\n",
    "sig2 = second_csv[['ch1', 'ch2']]\n",
    "# Since most values in ch1(excitation signal) are 0, \n",
    "# just extract values in ch2(received signals) in both signal1 and signal2\n",
    "sig_ch2 = pd.concat([sig1['ch2'],sig2['ch2']], axis=1, ignore_index=True)\n",
    "sig_ch2 = sig_ch2.T\n",
    "sig_ch2.columns = [f'Pair_{i}' for i in range(1, 4001)]\n",
    "sig_ch2"
   ]
  },
  {
   "cell_type": "code",
   "execution_count": 103,
   "metadata": {},
   "outputs": [
    {
     "data": {
      "text/plain": [
       "(2, 4000)"
      ]
     },
     "execution_count": 103,
     "metadata": {},
     "output_type": "execute_result"
    }
   ],
   "source": [
    "sig_T3_66510 = sig_ch2.values\n",
    "sig_T3_66510.shape"
   ]
  },
  {
   "cell_type": "code",
   "execution_count": 104,
   "metadata": {},
   "outputs": [
    {
     "data": {
      "text/plain": [
       "(2, 4001)"
      ]
     },
     "execution_count": 104,
     "metadata": {},
     "output_type": "execute_result"
    }
   ],
   "source": [
    "# Add Y-value which is crack length(mm) for cycle 66510: 6.93mm\n",
    "y_value = 6.93\n",
    "crack_length_T3_66510 = np.full((sig_T3_66510.shape[0], 1), y_value)\n",
    "sig_T3_66510 = np.hstack((sig_T3_66510, crack_length_T3_66510))\n",
    "sig_T3_66510.shape"
   ]
  },
  {
   "cell_type": "code",
   "execution_count": 105,
   "metadata": {},
   "outputs": [
    {
     "data": {
      "text/plain": [
       "(40, 4001)"
      ]
     },
     "execution_count": 105,
     "metadata": {},
     "output_type": "execute_result"
    }
   ],
   "source": [
    "# add the extracted data in this cycle to the dataset array\n",
    "dataset_array = np.vstack([dataset_array, sig_T3_66510])\n",
    "dataset_array.shape"
   ]
  },
  {
   "cell_type": "markdown",
   "metadata": {},
   "source": [
    "## Specimen T4\n"
   ]
  },
  {
   "cell_type": "markdown",
   "metadata": {},
   "source": [
    "### Number of Cycle: 55900"
   ]
  },
  {
   "cell_type": "code",
   "execution_count": 106,
   "metadata": {},
   "outputs": [],
   "source": [
    "first_csv = pd.read_csv(data_path + training_sets[3] + t4_channels[0] + signals[0])\n",
    "second_csv = pd.read_csv(data_path + training_sets[3] + t4_channels[0] + signals[1])"
   ]
  },
  {
   "cell_type": "code",
   "execution_count": 107,
   "metadata": {},
   "outputs": [
    {
     "data": {
      "text/html": [
       "<div>\n",
       "<style scoped>\n",
       "    .dataframe tbody tr th:only-of-type {\n",
       "        vertical-align: middle;\n",
       "    }\n",
       "\n",
       "    .dataframe tbody tr th {\n",
       "        vertical-align: top;\n",
       "    }\n",
       "\n",
       "    .dataframe thead th {\n",
       "        text-align: right;\n",
       "    }\n",
       "</style>\n",
       "<table border=\"1\" class=\"dataframe\">\n",
       "  <thead>\n",
       "    <tr style=\"text-align: right;\">\n",
       "      <th></th>\n",
       "      <th>Pair_1</th>\n",
       "      <th>Pair_2</th>\n",
       "      <th>Pair_3</th>\n",
       "      <th>Pair_4</th>\n",
       "      <th>Pair_5</th>\n",
       "      <th>Pair_6</th>\n",
       "      <th>Pair_7</th>\n",
       "      <th>Pair_8</th>\n",
       "      <th>Pair_9</th>\n",
       "      <th>Pair_10</th>\n",
       "      <th>...</th>\n",
       "      <th>Pair_3991</th>\n",
       "      <th>Pair_3992</th>\n",
       "      <th>Pair_3993</th>\n",
       "      <th>Pair_3994</th>\n",
       "      <th>Pair_3995</th>\n",
       "      <th>Pair_3996</th>\n",
       "      <th>Pair_3997</th>\n",
       "      <th>Pair_3998</th>\n",
       "      <th>Pair_3999</th>\n",
       "      <th>Pair_4000</th>\n",
       "    </tr>\n",
       "  </thead>\n",
       "  <tbody>\n",
       "    <tr>\n",
       "      <th>0</th>\n",
       "      <td>0.002</td>\n",
       "      <td>0.002</td>\n",
       "      <td>0.002</td>\n",
       "      <td>0.0</td>\n",
       "      <td>0.002</td>\n",
       "      <td>0.002</td>\n",
       "      <td>0.002</td>\n",
       "      <td>0.0</td>\n",
       "      <td>0.002</td>\n",
       "      <td>0.0</td>\n",
       "      <td>...</td>\n",
       "      <td>-0.016</td>\n",
       "      <td>-0.014</td>\n",
       "      <td>-0.018</td>\n",
       "      <td>-0.020</td>\n",
       "      <td>-0.030</td>\n",
       "      <td>-0.012</td>\n",
       "      <td>-0.062</td>\n",
       "      <td>-0.018</td>\n",
       "      <td>-0.048</td>\n",
       "      <td>-0.022</td>\n",
       "    </tr>\n",
       "    <tr>\n",
       "      <th>1</th>\n",
       "      <td>0.002</td>\n",
       "      <td>-0.004</td>\n",
       "      <td>-0.002</td>\n",
       "      <td>0.0</td>\n",
       "      <td>0.004</td>\n",
       "      <td>-0.002</td>\n",
       "      <td>-0.006</td>\n",
       "      <td>0.0</td>\n",
       "      <td>0.002</td>\n",
       "      <td>0.0</td>\n",
       "      <td>...</td>\n",
       "      <td>-0.012</td>\n",
       "      <td>-0.022</td>\n",
       "      <td>-0.012</td>\n",
       "      <td>-0.032</td>\n",
       "      <td>-0.026</td>\n",
       "      <td>-0.036</td>\n",
       "      <td>-0.032</td>\n",
       "      <td>-0.040</td>\n",
       "      <td>-0.038</td>\n",
       "      <td>-0.044</td>\n",
       "    </tr>\n",
       "  </tbody>\n",
       "</table>\n",
       "<p>2 rows × 4000 columns</p>\n",
       "</div>"
      ],
      "text/plain": [
       "   Pair_1  Pair_2  Pair_3  Pair_4  Pair_5  Pair_6  Pair_7  Pair_8  Pair_9  \\\n",
       "0   0.002   0.002   0.002     0.0   0.002   0.002   0.002     0.0   0.002   \n",
       "1   0.002  -0.004  -0.002     0.0   0.004  -0.002  -0.006     0.0   0.002   \n",
       "\n",
       "   Pair_10  ...  Pair_3991  Pair_3992  Pair_3993  Pair_3994  Pair_3995  \\\n",
       "0      0.0  ...     -0.016     -0.014     -0.018     -0.020     -0.030   \n",
       "1      0.0  ...     -0.012     -0.022     -0.012     -0.032     -0.026   \n",
       "\n",
       "   Pair_3996  Pair_3997  Pair_3998  Pair_3999  Pair_4000  \n",
       "0     -0.012     -0.062     -0.018     -0.048     -0.022  \n",
       "1     -0.036     -0.032     -0.040     -0.038     -0.044  \n",
       "\n",
       "[2 rows x 4000 columns]"
      ]
     },
     "execution_count": 107,
     "metadata": {},
     "output_type": "execute_result"
    }
   ],
   "source": [
    "sig1 = first_csv[['ch1', 'ch2']]\n",
    "sig2 = second_csv[['ch1', 'ch2']]\n",
    "# Since most values in ch1(excitation signal) are 0, \n",
    "# just extract values in ch2(received signals) in both signal1 and signal2\n",
    "sig_ch2 = pd.concat([sig1['ch2'],sig2['ch2']], axis=1, ignore_index=True)\n",
    "sig_ch2 = sig_ch2.T\n",
    "sig_ch2.columns = [f'Pair_{i}' for i in range(1, 4001)]\n",
    "sig_ch2"
   ]
  },
  {
   "cell_type": "code",
   "execution_count": 108,
   "metadata": {},
   "outputs": [
    {
     "data": {
      "text/plain": [
       "(2, 4000)"
      ]
     },
     "execution_count": 108,
     "metadata": {},
     "output_type": "execute_result"
    }
   ],
   "source": [
    "sig_T4_55900 = sig_ch2.values\n",
    "sig_T4_55900.shape"
   ]
  },
  {
   "cell_type": "code",
   "execution_count": 109,
   "metadata": {},
   "outputs": [
    {
     "data": {
      "text/plain": [
       "(2, 4001)"
      ]
     },
     "execution_count": 109,
     "metadata": {},
     "output_type": "execute_result"
    }
   ],
   "source": [
    "# Add Y-value which is crack length(mm) for cycle 55900: 0mm\n",
    "y_value = 0\n",
    "crack_length_T4_55900 = np.full((sig_T4_55900.shape[0], 1), y_value)\n",
    "sig_T4_55900 = np.hstack((sig_T4_55900, crack_length_T4_55900))\n",
    "sig_T4_55900.shape"
   ]
  },
  {
   "cell_type": "code",
   "execution_count": 110,
   "metadata": {},
   "outputs": [
    {
     "data": {
      "text/plain": [
       "(42, 4001)"
      ]
     },
     "execution_count": 110,
     "metadata": {},
     "output_type": "execute_result"
    }
   ],
   "source": [
    "# add the extracted data in this cycle to the dataset array\n",
    "dataset_array = np.vstack([dataset_array, sig_T4_55900])\n",
    "dataset_array.shape"
   ]
  },
  {
   "cell_type": "markdown",
   "metadata": {},
   "source": [
    "### Number of Cycle: 60200"
   ]
  },
  {
   "cell_type": "code",
   "execution_count": 111,
   "metadata": {},
   "outputs": [],
   "source": [
    "first_csv = pd.read_csv(data_path + training_sets[3] + t4_channels[1] + signals[0])\n",
    "second_csv = pd.read_csv(data_path + training_sets[3] + t4_channels[1] + signals[1])"
   ]
  },
  {
   "cell_type": "code",
   "execution_count": 112,
   "metadata": {},
   "outputs": [
    {
     "data": {
      "text/html": [
       "<div>\n",
       "<style scoped>\n",
       "    .dataframe tbody tr th:only-of-type {\n",
       "        vertical-align: middle;\n",
       "    }\n",
       "\n",
       "    .dataframe tbody tr th {\n",
       "        vertical-align: top;\n",
       "    }\n",
       "\n",
       "    .dataframe thead th {\n",
       "        text-align: right;\n",
       "    }\n",
       "</style>\n",
       "<table border=\"1\" class=\"dataframe\">\n",
       "  <thead>\n",
       "    <tr style=\"text-align: right;\">\n",
       "      <th></th>\n",
       "      <th>Pair_1</th>\n",
       "      <th>Pair_2</th>\n",
       "      <th>Pair_3</th>\n",
       "      <th>Pair_4</th>\n",
       "      <th>Pair_5</th>\n",
       "      <th>Pair_6</th>\n",
       "      <th>Pair_7</th>\n",
       "      <th>Pair_8</th>\n",
       "      <th>Pair_9</th>\n",
       "      <th>Pair_10</th>\n",
       "      <th>...</th>\n",
       "      <th>Pair_3991</th>\n",
       "      <th>Pair_3992</th>\n",
       "      <th>Pair_3993</th>\n",
       "      <th>Pair_3994</th>\n",
       "      <th>Pair_3995</th>\n",
       "      <th>Pair_3996</th>\n",
       "      <th>Pair_3997</th>\n",
       "      <th>Pair_3998</th>\n",
       "      <th>Pair_3999</th>\n",
       "      <th>Pair_4000</th>\n",
       "    </tr>\n",
       "  </thead>\n",
       "  <tbody>\n",
       "    <tr>\n",
       "      <th>0</th>\n",
       "      <td>-0.012</td>\n",
       "      <td>-0.012</td>\n",
       "      <td>-0.008</td>\n",
       "      <td>-0.010</td>\n",
       "      <td>-0.012</td>\n",
       "      <td>-0.012</td>\n",
       "      <td>-0.01</td>\n",
       "      <td>-0.012</td>\n",
       "      <td>-0.012</td>\n",
       "      <td>-0.006</td>\n",
       "      <td>...</td>\n",
       "      <td>-0.026</td>\n",
       "      <td>0.000</td>\n",
       "      <td>-0.022</td>\n",
       "      <td>-0.036</td>\n",
       "      <td>-0.014</td>\n",
       "      <td>-0.024</td>\n",
       "      <td>-0.048</td>\n",
       "      <td>-0.032</td>\n",
       "      <td>-0.03</td>\n",
       "      <td>-0.046</td>\n",
       "    </tr>\n",
       "    <tr>\n",
       "      <th>1</th>\n",
       "      <td>-0.002</td>\n",
       "      <td>0.000</td>\n",
       "      <td>0.002</td>\n",
       "      <td>0.002</td>\n",
       "      <td>0.000</td>\n",
       "      <td>0.002</td>\n",
       "      <td>0.00</td>\n",
       "      <td>0.002</td>\n",
       "      <td>0.000</td>\n",
       "      <td>0.000</td>\n",
       "      <td>...</td>\n",
       "      <td>-0.004</td>\n",
       "      <td>-0.008</td>\n",
       "      <td>-0.014</td>\n",
       "      <td>-0.016</td>\n",
       "      <td>-0.016</td>\n",
       "      <td>-0.020</td>\n",
       "      <td>-0.024</td>\n",
       "      <td>-0.028</td>\n",
       "      <td>-0.03</td>\n",
       "      <td>-0.032</td>\n",
       "    </tr>\n",
       "  </tbody>\n",
       "</table>\n",
       "<p>2 rows × 4000 columns</p>\n",
       "</div>"
      ],
      "text/plain": [
       "   Pair_1  Pair_2  Pair_3  Pair_4  Pair_5  Pair_6  Pair_7  Pair_8  Pair_9  \\\n",
       "0  -0.012  -0.012  -0.008  -0.010  -0.012  -0.012   -0.01  -0.012  -0.012   \n",
       "1  -0.002   0.000   0.002   0.002   0.000   0.002    0.00   0.002   0.000   \n",
       "\n",
       "   Pair_10  ...  Pair_3991  Pair_3992  Pair_3993  Pair_3994  Pair_3995  \\\n",
       "0   -0.006  ...     -0.026      0.000     -0.022     -0.036     -0.014   \n",
       "1    0.000  ...     -0.004     -0.008     -0.014     -0.016     -0.016   \n",
       "\n",
       "   Pair_3996  Pair_3997  Pair_3998  Pair_3999  Pair_4000  \n",
       "0     -0.024     -0.048     -0.032      -0.03     -0.046  \n",
       "1     -0.020     -0.024     -0.028      -0.03     -0.032  \n",
       "\n",
       "[2 rows x 4000 columns]"
      ]
     },
     "execution_count": 112,
     "metadata": {},
     "output_type": "execute_result"
    }
   ],
   "source": [
    "sig1 = first_csv[['ch1', 'ch2']]\n",
    "sig2 = second_csv[['ch1', 'ch2']]\n",
    "# Since most values in ch1(excitation signal) are 0, \n",
    "# just extract values in ch2(received signals) in both signal1 and signal2\n",
    "sig_ch2 = pd.concat([sig1['ch2'],sig2['ch2']], axis=1, ignore_index=True)\n",
    "sig_ch2 = sig_ch2.T\n",
    "sig_ch2.columns = [f'Pair_{i}' for i in range(1, 4001)]\n",
    "sig_ch2"
   ]
  },
  {
   "cell_type": "code",
   "execution_count": 113,
   "metadata": {},
   "outputs": [
    {
     "data": {
      "text/plain": [
       "(2, 4000)"
      ]
     },
     "execution_count": 113,
     "metadata": {},
     "output_type": "execute_result"
    }
   ],
   "source": [
    "sig_T4_60200 = sig_ch2.values\n",
    "sig_T4_60200.shape"
   ]
  },
  {
   "cell_type": "code",
   "execution_count": 114,
   "metadata": {},
   "outputs": [
    {
     "data": {
      "text/plain": [
       "(2, 4001)"
      ]
     },
     "execution_count": 114,
     "metadata": {},
     "output_type": "execute_result"
    }
   ],
   "source": [
    "# Add Y-value which is crack length(mm) for cycle 60200: 1.61mm\n",
    "y_value = 1.61\n",
    "crack_length_T4_60200 = np.full((sig_T4_55900.shape[0], 1), y_value)\n",
    "sig_T4_60200 = np.hstack((sig_T4_60200, crack_length_T4_60200))\n",
    "sig_T4_60200.shape"
   ]
  },
  {
   "cell_type": "code",
   "execution_count": 115,
   "metadata": {},
   "outputs": [
    {
     "data": {
      "text/plain": [
       "(44, 4001)"
      ]
     },
     "execution_count": 115,
     "metadata": {},
     "output_type": "execute_result"
    }
   ],
   "source": [
    "# add the extracted data in this cycle to the dataset array\n",
    "dataset_array = np.vstack([dataset_array, sig_T4_60200])\n",
    "dataset_array.shape"
   ]
  },
  {
   "cell_type": "markdown",
   "metadata": {},
   "source": [
    "### Number of Cycle: 65001"
   ]
  },
  {
   "cell_type": "code",
   "execution_count": 116,
   "metadata": {},
   "outputs": [],
   "source": [
    "first_csv = pd.read_csv(data_path + training_sets[3] + t4_channels[2] + signals[0])\n",
    "second_csv = pd.read_csv(data_path + training_sets[3] + t4_channels[2] + signals[1])"
   ]
  },
  {
   "cell_type": "code",
   "execution_count": 117,
   "metadata": {},
   "outputs": [
    {
     "data": {
      "text/html": [
       "<div>\n",
       "<style scoped>\n",
       "    .dataframe tbody tr th:only-of-type {\n",
       "        vertical-align: middle;\n",
       "    }\n",
       "\n",
       "    .dataframe tbody tr th {\n",
       "        vertical-align: top;\n",
       "    }\n",
       "\n",
       "    .dataframe thead th {\n",
       "        text-align: right;\n",
       "    }\n",
       "</style>\n",
       "<table border=\"1\" class=\"dataframe\">\n",
       "  <thead>\n",
       "    <tr style=\"text-align: right;\">\n",
       "      <th></th>\n",
       "      <th>Pair_1</th>\n",
       "      <th>Pair_2</th>\n",
       "      <th>Pair_3</th>\n",
       "      <th>Pair_4</th>\n",
       "      <th>Pair_5</th>\n",
       "      <th>Pair_6</th>\n",
       "      <th>Pair_7</th>\n",
       "      <th>Pair_8</th>\n",
       "      <th>Pair_9</th>\n",
       "      <th>Pair_10</th>\n",
       "      <th>...</th>\n",
       "      <th>Pair_3991</th>\n",
       "      <th>Pair_3992</th>\n",
       "      <th>Pair_3993</th>\n",
       "      <th>Pair_3994</th>\n",
       "      <th>Pair_3995</th>\n",
       "      <th>Pair_3996</th>\n",
       "      <th>Pair_3997</th>\n",
       "      <th>Pair_3998</th>\n",
       "      <th>Pair_3999</th>\n",
       "      <th>Pair_4000</th>\n",
       "    </tr>\n",
       "  </thead>\n",
       "  <tbody>\n",
       "    <tr>\n",
       "      <th>0</th>\n",
       "      <td>-0.030</td>\n",
       "      <td>0.002</td>\n",
       "      <td>-0.012</td>\n",
       "      <td>0.010</td>\n",
       "      <td>-0.016</td>\n",
       "      <td>0.002</td>\n",
       "      <td>-0.004</td>\n",
       "      <td>-0.004</td>\n",
       "      <td>-0.006</td>\n",
       "      <td>-0.006</td>\n",
       "      <td>...</td>\n",
       "      <td>0.022</td>\n",
       "      <td>0.016</td>\n",
       "      <td>0.018</td>\n",
       "      <td>0.008</td>\n",
       "      <td>0.010</td>\n",
       "      <td>0.004</td>\n",
       "      <td>0.004</td>\n",
       "      <td>-0.004</td>\n",
       "      <td>-0.002</td>\n",
       "      <td>-0.008</td>\n",
       "    </tr>\n",
       "    <tr>\n",
       "      <th>1</th>\n",
       "      <td>-0.004</td>\n",
       "      <td>-0.004</td>\n",
       "      <td>-0.002</td>\n",
       "      <td>0.002</td>\n",
       "      <td>0.002</td>\n",
       "      <td>-0.002</td>\n",
       "      <td>0.000</td>\n",
       "      <td>0.000</td>\n",
       "      <td>0.002</td>\n",
       "      <td>0.000</td>\n",
       "      <td>...</td>\n",
       "      <td>0.024</td>\n",
       "      <td>0.020</td>\n",
       "      <td>0.016</td>\n",
       "      <td>0.014</td>\n",
       "      <td>0.008</td>\n",
       "      <td>0.004</td>\n",
       "      <td>0.004</td>\n",
       "      <td>0.002</td>\n",
       "      <td>-0.004</td>\n",
       "      <td>-0.004</td>\n",
       "    </tr>\n",
       "  </tbody>\n",
       "</table>\n",
       "<p>2 rows × 4000 columns</p>\n",
       "</div>"
      ],
      "text/plain": [
       "   Pair_1  Pair_2  Pair_3  Pair_4  Pair_5  Pair_6  Pair_7  Pair_8  Pair_9  \\\n",
       "0  -0.030   0.002  -0.012   0.010  -0.016   0.002  -0.004  -0.004  -0.006   \n",
       "1  -0.004  -0.004  -0.002   0.002   0.002  -0.002   0.000   0.000   0.002   \n",
       "\n",
       "   Pair_10  ...  Pair_3991  Pair_3992  Pair_3993  Pair_3994  Pair_3995  \\\n",
       "0   -0.006  ...      0.022      0.016      0.018      0.008      0.010   \n",
       "1    0.000  ...      0.024      0.020      0.016      0.014      0.008   \n",
       "\n",
       "   Pair_3996  Pair_3997  Pair_3998  Pair_3999  Pair_4000  \n",
       "0      0.004      0.004     -0.004     -0.002     -0.008  \n",
       "1      0.004      0.004      0.002     -0.004     -0.004  \n",
       "\n",
       "[2 rows x 4000 columns]"
      ]
     },
     "execution_count": 117,
     "metadata": {},
     "output_type": "execute_result"
    }
   ],
   "source": [
    "sig1 = first_csv[['ch1', 'ch2']]\n",
    "sig2 = second_csv[['ch1', 'ch2']]\n",
    "# Since most values in ch1(excitation signal) are 0, \n",
    "# just extract values in ch2(received signals) in both signal1 and signal2\n",
    "sig_ch2 = pd.concat([sig1['ch2'],sig2['ch2']], axis=1, ignore_index=True)\n",
    "sig_ch2 = sig_ch2.T\n",
    "sig_ch2.columns = [f'Pair_{i}' for i in range(1, 4001)]\n",
    "sig_ch2"
   ]
  },
  {
   "cell_type": "code",
   "execution_count": 118,
   "metadata": {},
   "outputs": [
    {
     "data": {
      "text/plain": [
       "(2, 4000)"
      ]
     },
     "execution_count": 118,
     "metadata": {},
     "output_type": "execute_result"
    }
   ],
   "source": [
    "sig_T4_65001 = sig_ch2.values\n",
    "sig_T4_65001.shape"
   ]
  },
  {
   "cell_type": "code",
   "execution_count": 119,
   "metadata": {},
   "outputs": [
    {
     "data": {
      "text/plain": [
       "(2, 4001)"
      ]
     },
     "execution_count": 119,
     "metadata": {},
     "output_type": "execute_result"
    }
   ],
   "source": [
    "# Add Y-value which is crack length(mm) for cycle 65001: 2.17mm\n",
    "y_value = 2.17\n",
    "crack_length_T4_65001 = np.full((sig_T4_55900.shape[0], 1), y_value)\n",
    "sig_T4_65001 = np.hstack((sig_T4_65001, crack_length_T4_65001))\n",
    "sig_T4_65001.shape"
   ]
  },
  {
   "cell_type": "code",
   "execution_count": 120,
   "metadata": {},
   "outputs": [
    {
     "data": {
      "text/plain": [
       "(46, 4001)"
      ]
     },
     "execution_count": 120,
     "metadata": {},
     "output_type": "execute_result"
    }
   ],
   "source": [
    "# add the extracted data in this cycle to the dataset array\n",
    "dataset_array = np.vstack([dataset_array, sig_T4_65001])\n",
    "dataset_array.shape"
   ]
  },
  {
   "cell_type": "markdown",
   "metadata": {},
   "source": [
    "### Number of Cycle: 67054"
   ]
  },
  {
   "cell_type": "code",
   "execution_count": 121,
   "metadata": {},
   "outputs": [],
   "source": [
    "first_csv = pd.read_csv(data_path + training_sets[3] + t4_channels[3] + signals[0])\n",
    "second_csv = pd.read_csv(data_path + training_sets[3] + t4_channels[3] + signals[1])"
   ]
  },
  {
   "cell_type": "code",
   "execution_count": 122,
   "metadata": {},
   "outputs": [
    {
     "data": {
      "text/html": [
       "<div>\n",
       "<style scoped>\n",
       "    .dataframe tbody tr th:only-of-type {\n",
       "        vertical-align: middle;\n",
       "    }\n",
       "\n",
       "    .dataframe tbody tr th {\n",
       "        vertical-align: top;\n",
       "    }\n",
       "\n",
       "    .dataframe thead th {\n",
       "        text-align: right;\n",
       "    }\n",
       "</style>\n",
       "<table border=\"1\" class=\"dataframe\">\n",
       "  <thead>\n",
       "    <tr style=\"text-align: right;\">\n",
       "      <th></th>\n",
       "      <th>Pair_1</th>\n",
       "      <th>Pair_2</th>\n",
       "      <th>Pair_3</th>\n",
       "      <th>Pair_4</th>\n",
       "      <th>Pair_5</th>\n",
       "      <th>Pair_6</th>\n",
       "      <th>Pair_7</th>\n",
       "      <th>Pair_8</th>\n",
       "      <th>Pair_9</th>\n",
       "      <th>Pair_10</th>\n",
       "      <th>...</th>\n",
       "      <th>Pair_3991</th>\n",
       "      <th>Pair_3992</th>\n",
       "      <th>Pair_3993</th>\n",
       "      <th>Pair_3994</th>\n",
       "      <th>Pair_3995</th>\n",
       "      <th>Pair_3996</th>\n",
       "      <th>Pair_3997</th>\n",
       "      <th>Pair_3998</th>\n",
       "      <th>Pair_3999</th>\n",
       "      <th>Pair_4000</th>\n",
       "    </tr>\n",
       "  </thead>\n",
       "  <tbody>\n",
       "    <tr>\n",
       "      <th>0</th>\n",
       "      <td>0.002</td>\n",
       "      <td>0.000</td>\n",
       "      <td>0.000</td>\n",
       "      <td>0.002</td>\n",
       "      <td>0.000</td>\n",
       "      <td>-0.004</td>\n",
       "      <td>-0.002</td>\n",
       "      <td>0.002</td>\n",
       "      <td>0.002</td>\n",
       "      <td>0.000</td>\n",
       "      <td>...</td>\n",
       "      <td>0.018</td>\n",
       "      <td>0.018</td>\n",
       "      <td>0.016</td>\n",
       "      <td>0.01</td>\n",
       "      <td>0.010</td>\n",
       "      <td>0.008</td>\n",
       "      <td>0.004</td>\n",
       "      <td>0.000</td>\n",
       "      <td>-0.002</td>\n",
       "      <td>-0.004</td>\n",
       "    </tr>\n",
       "    <tr>\n",
       "      <th>1</th>\n",
       "      <td>-0.006</td>\n",
       "      <td>-0.006</td>\n",
       "      <td>-0.006</td>\n",
       "      <td>-0.004</td>\n",
       "      <td>-0.012</td>\n",
       "      <td>-0.006</td>\n",
       "      <td>-0.006</td>\n",
       "      <td>-0.004</td>\n",
       "      <td>-0.004</td>\n",
       "      <td>-0.004</td>\n",
       "      <td>...</td>\n",
       "      <td>0.016</td>\n",
       "      <td>0.018</td>\n",
       "      <td>0.012</td>\n",
       "      <td>0.01</td>\n",
       "      <td>0.008</td>\n",
       "      <td>0.004</td>\n",
       "      <td>0.002</td>\n",
       "      <td>-0.002</td>\n",
       "      <td>-0.002</td>\n",
       "      <td>-0.012</td>\n",
       "    </tr>\n",
       "  </tbody>\n",
       "</table>\n",
       "<p>2 rows × 4000 columns</p>\n",
       "</div>"
      ],
      "text/plain": [
       "   Pair_1  Pair_2  Pair_3  Pair_4  Pair_5  Pair_6  Pair_7  Pair_8  Pair_9  \\\n",
       "0   0.002   0.000   0.000   0.002   0.000  -0.004  -0.002   0.002   0.002   \n",
       "1  -0.006  -0.006  -0.006  -0.004  -0.012  -0.006  -0.006  -0.004  -0.004   \n",
       "\n",
       "   Pair_10  ...  Pair_3991  Pair_3992  Pair_3993  Pair_3994  Pair_3995  \\\n",
       "0    0.000  ...      0.018      0.018      0.016       0.01      0.010   \n",
       "1   -0.004  ...      0.016      0.018      0.012       0.01      0.008   \n",
       "\n",
       "   Pair_3996  Pair_3997  Pair_3998  Pair_3999  Pair_4000  \n",
       "0      0.008      0.004      0.000     -0.002     -0.004  \n",
       "1      0.004      0.002     -0.002     -0.002     -0.012  \n",
       "\n",
       "[2 rows x 4000 columns]"
      ]
     },
     "execution_count": 122,
     "metadata": {},
     "output_type": "execute_result"
    }
   ],
   "source": [
    "sig1 = first_csv[['ch1', 'ch2']]\n",
    "sig2 = second_csv[['ch1', 'ch2']]\n",
    "# Since most values in ch1(excitation signal) are 0, \n",
    "# just extract values in ch2(received signals) in both signal1 and signal2\n",
    "sig_ch2 = pd.concat([sig1['ch2'],sig2['ch2']], axis=1, ignore_index=True)\n",
    "sig_ch2 = sig_ch2.T\n",
    "sig_ch2.columns = [f'Pair_{i}' for i in range(1, 4001)]\n",
    "sig_ch2"
   ]
  },
  {
   "cell_type": "code",
   "execution_count": 123,
   "metadata": {},
   "outputs": [
    {
     "data": {
      "text/plain": [
       "(2, 4000)"
      ]
     },
     "execution_count": 123,
     "metadata": {},
     "output_type": "execute_result"
    }
   ],
   "source": [
    "sig_T4_67054 = sig_ch2.values\n",
    "sig_T4_67054.shape"
   ]
  },
  {
   "cell_type": "code",
   "execution_count": 124,
   "metadata": {},
   "outputs": [
    {
     "data": {
      "text/plain": [
       "(2, 4001)"
      ]
     },
     "execution_count": 124,
     "metadata": {},
     "output_type": "execute_result"
    }
   ],
   "source": [
    "# Add Y-value which is crack length(mm) for cycle 67054: 2.74mm\n",
    "y_value = 2.74\n",
    "crack_length_T4_67054 = np.full((sig_T4_55900.shape[0], 1), y_value)\n",
    "sig_T4_67054 = np.hstack((sig_T4_67054, crack_length_T4_67054))\n",
    "sig_T4_67054.shape"
   ]
  },
  {
   "cell_type": "code",
   "execution_count": 125,
   "metadata": {},
   "outputs": [
    {
     "data": {
      "text/plain": [
       "(48, 4001)"
      ]
     },
     "execution_count": 125,
     "metadata": {},
     "output_type": "execute_result"
    }
   ],
   "source": [
    "# add the extracted data in this cycle to the dataset array\n",
    "dataset_array = np.vstack([dataset_array, sig_T4_67054])\n",
    "dataset_array.shape"
   ]
  },
  {
   "cell_type": "markdown",
   "metadata": {},
   "source": [
    "### Number of Cycle: 70016"
   ]
  },
  {
   "cell_type": "code",
   "execution_count": 126,
   "metadata": {},
   "outputs": [],
   "source": [
    "first_csv = pd.read_csv(data_path + training_sets[3] + t4_channels[4] + signals[0])\n",
    "second_csv = pd.read_csv(data_path + training_sets[3] + t4_channels[4] + signals[1])"
   ]
  },
  {
   "cell_type": "code",
   "execution_count": 127,
   "metadata": {},
   "outputs": [
    {
     "data": {
      "text/html": [
       "<div>\n",
       "<style scoped>\n",
       "    .dataframe tbody tr th:only-of-type {\n",
       "        vertical-align: middle;\n",
       "    }\n",
       "\n",
       "    .dataframe tbody tr th {\n",
       "        vertical-align: top;\n",
       "    }\n",
       "\n",
       "    .dataframe thead th {\n",
       "        text-align: right;\n",
       "    }\n",
       "</style>\n",
       "<table border=\"1\" class=\"dataframe\">\n",
       "  <thead>\n",
       "    <tr style=\"text-align: right;\">\n",
       "      <th></th>\n",
       "      <th>Pair_1</th>\n",
       "      <th>Pair_2</th>\n",
       "      <th>Pair_3</th>\n",
       "      <th>Pair_4</th>\n",
       "      <th>Pair_5</th>\n",
       "      <th>Pair_6</th>\n",
       "      <th>Pair_7</th>\n",
       "      <th>Pair_8</th>\n",
       "      <th>Pair_9</th>\n",
       "      <th>Pair_10</th>\n",
       "      <th>...</th>\n",
       "      <th>Pair_3991</th>\n",
       "      <th>Pair_3992</th>\n",
       "      <th>Pair_3993</th>\n",
       "      <th>Pair_3994</th>\n",
       "      <th>Pair_3995</th>\n",
       "      <th>Pair_3996</th>\n",
       "      <th>Pair_3997</th>\n",
       "      <th>Pair_3998</th>\n",
       "      <th>Pair_3999</th>\n",
       "      <th>Pair_4000</th>\n",
       "    </tr>\n",
       "  </thead>\n",
       "  <tbody>\n",
       "    <tr>\n",
       "      <th>0</th>\n",
       "      <td>0.008</td>\n",
       "      <td>0.002</td>\n",
       "      <td>0.004</td>\n",
       "      <td>0.002</td>\n",
       "      <td>0.006</td>\n",
       "      <td>0.004</td>\n",
       "      <td>0.004</td>\n",
       "      <td>0.004</td>\n",
       "      <td>0.004</td>\n",
       "      <td>0.004</td>\n",
       "      <td>...</td>\n",
       "      <td>-0.03</td>\n",
       "      <td>-0.032</td>\n",
       "      <td>-0.032</td>\n",
       "      <td>-0.034</td>\n",
       "      <td>-0.038</td>\n",
       "      <td>-0.030</td>\n",
       "      <td>-0.038</td>\n",
       "      <td>-0.032</td>\n",
       "      <td>-0.040</td>\n",
       "      <td>-0.036</td>\n",
       "    </tr>\n",
       "    <tr>\n",
       "      <th>1</th>\n",
       "      <td>-0.006</td>\n",
       "      <td>-0.004</td>\n",
       "      <td>-0.006</td>\n",
       "      <td>-0.008</td>\n",
       "      <td>-0.006</td>\n",
       "      <td>-0.002</td>\n",
       "      <td>-0.008</td>\n",
       "      <td>-0.004</td>\n",
       "      <td>-0.004</td>\n",
       "      <td>0.000</td>\n",
       "      <td>...</td>\n",
       "      <td>-0.04</td>\n",
       "      <td>-0.044</td>\n",
       "      <td>-0.040</td>\n",
       "      <td>-0.044</td>\n",
       "      <td>-0.044</td>\n",
       "      <td>-0.046</td>\n",
       "      <td>-0.046</td>\n",
       "      <td>-0.044</td>\n",
       "      <td>-0.044</td>\n",
       "      <td>-0.048</td>\n",
       "    </tr>\n",
       "  </tbody>\n",
       "</table>\n",
       "<p>2 rows × 4000 columns</p>\n",
       "</div>"
      ],
      "text/plain": [
       "   Pair_1  Pair_2  Pair_3  Pair_4  Pair_5  Pair_6  Pair_7  Pair_8  Pair_9  \\\n",
       "0   0.008   0.002   0.004   0.002   0.006   0.004   0.004   0.004   0.004   \n",
       "1  -0.006  -0.004  -0.006  -0.008  -0.006  -0.002  -0.008  -0.004  -0.004   \n",
       "\n",
       "   Pair_10  ...  Pair_3991  Pair_3992  Pair_3993  Pair_3994  Pair_3995  \\\n",
       "0    0.004  ...      -0.03     -0.032     -0.032     -0.034     -0.038   \n",
       "1    0.000  ...      -0.04     -0.044     -0.040     -0.044     -0.044   \n",
       "\n",
       "   Pair_3996  Pair_3997  Pair_3998  Pair_3999  Pair_4000  \n",
       "0     -0.030     -0.038     -0.032     -0.040     -0.036  \n",
       "1     -0.046     -0.046     -0.044     -0.044     -0.048  \n",
       "\n",
       "[2 rows x 4000 columns]"
      ]
     },
     "execution_count": 127,
     "metadata": {},
     "output_type": "execute_result"
    }
   ],
   "source": [
    "sig1 = first_csv[['ch1', 'ch2']]\n",
    "sig2 = second_csv[['ch1', 'ch2']]\n",
    "# Since most values in ch1(excitation signal) are 0, \n",
    "# just extract values in ch2(received signals) in both signal1 and signal2\n",
    "sig_ch2 = pd.concat([sig1['ch2'],sig2['ch2']], axis=1, ignore_index=True)\n",
    "sig_ch2 = sig_ch2.T\n",
    "sig_ch2.columns = [f'Pair_{i}' for i in range(1, 4001)]\n",
    "sig_ch2"
   ]
  },
  {
   "cell_type": "code",
   "execution_count": 128,
   "metadata": {},
   "outputs": [
    {
     "data": {
      "text/plain": [
       "(2, 4000)"
      ]
     },
     "execution_count": 128,
     "metadata": {},
     "output_type": "execute_result"
    }
   ],
   "source": [
    "sig_T4_70016 = sig_ch2.values\n",
    "sig_T4_70016.shape"
   ]
  },
  {
   "cell_type": "code",
   "execution_count": 129,
   "metadata": {},
   "outputs": [
    {
     "data": {
      "text/plain": [
       "(2, 4001)"
      ]
     },
     "execution_count": 129,
     "metadata": {},
     "output_type": "execute_result"
    }
   ],
   "source": [
    "# Add Y-value which is crack length(mm) for cycle 70016: 3.13mm\n",
    "y_value = 3.13\n",
    "crack_length_T4_70016 = np.full((sig_T4_70016.shape[0], 1), y_value)\n",
    "sig_T4_70016 = np.hstack((sig_T4_70016, crack_length_T4_70016))\n",
    "sig_T4_70016.shape"
   ]
  },
  {
   "cell_type": "code",
   "execution_count": 130,
   "metadata": {},
   "outputs": [
    {
     "data": {
      "text/plain": [
       "(50, 4001)"
      ]
     },
     "execution_count": 130,
     "metadata": {},
     "output_type": "execute_result"
    }
   ],
   "source": [
    "# add the extracted data in this cycle to the dataset array\n",
    "dataset_array = np.vstack([dataset_array, sig_T4_70016])\n",
    "dataset_array.shape"
   ]
  },
  {
   "cell_type": "markdown",
   "metadata": {},
   "source": [
    "### Number of Cycle: 71130"
   ]
  },
  {
   "cell_type": "code",
   "execution_count": 131,
   "metadata": {},
   "outputs": [],
   "source": [
    "first_csv = pd.read_csv(data_path + training_sets[3] + t4_channels[5] + signals[0])\n",
    "second_csv = pd.read_csv(data_path + training_sets[3] + t4_channels[5] + signals[1])"
   ]
  },
  {
   "cell_type": "code",
   "execution_count": 132,
   "metadata": {},
   "outputs": [
    {
     "data": {
      "text/html": [
       "<div>\n",
       "<style scoped>\n",
       "    .dataframe tbody tr th:only-of-type {\n",
       "        vertical-align: middle;\n",
       "    }\n",
       "\n",
       "    .dataframe tbody tr th {\n",
       "        vertical-align: top;\n",
       "    }\n",
       "\n",
       "    .dataframe thead th {\n",
       "        text-align: right;\n",
       "    }\n",
       "</style>\n",
       "<table border=\"1\" class=\"dataframe\">\n",
       "  <thead>\n",
       "    <tr style=\"text-align: right;\">\n",
       "      <th></th>\n",
       "      <th>Pair_1</th>\n",
       "      <th>Pair_2</th>\n",
       "      <th>Pair_3</th>\n",
       "      <th>Pair_4</th>\n",
       "      <th>Pair_5</th>\n",
       "      <th>Pair_6</th>\n",
       "      <th>Pair_7</th>\n",
       "      <th>Pair_8</th>\n",
       "      <th>Pair_9</th>\n",
       "      <th>Pair_10</th>\n",
       "      <th>...</th>\n",
       "      <th>Pair_3991</th>\n",
       "      <th>Pair_3992</th>\n",
       "      <th>Pair_3993</th>\n",
       "      <th>Pair_3994</th>\n",
       "      <th>Pair_3995</th>\n",
       "      <th>Pair_3996</th>\n",
       "      <th>Pair_3997</th>\n",
       "      <th>Pair_3998</th>\n",
       "      <th>Pair_3999</th>\n",
       "      <th>Pair_4000</th>\n",
       "    </tr>\n",
       "  </thead>\n",
       "  <tbody>\n",
       "    <tr>\n",
       "      <th>0</th>\n",
       "      <td>-0.012</td>\n",
       "      <td>-0.012</td>\n",
       "      <td>-0.014</td>\n",
       "      <td>-0.010</td>\n",
       "      <td>0.002</td>\n",
       "      <td>0.000</td>\n",
       "      <td>-0.008</td>\n",
       "      <td>-0.004</td>\n",
       "      <td>-0.004</td>\n",
       "      <td>-0.014</td>\n",
       "      <td>...</td>\n",
       "      <td>-0.054</td>\n",
       "      <td>-0.056</td>\n",
       "      <td>-0.056</td>\n",
       "      <td>-0.058</td>\n",
       "      <td>-0.062</td>\n",
       "      <td>-0.060</td>\n",
       "      <td>-0.062</td>\n",
       "      <td>-0.062</td>\n",
       "      <td>-0.064</td>\n",
       "      <td>-0.064</td>\n",
       "    </tr>\n",
       "    <tr>\n",
       "      <th>1</th>\n",
       "      <td>-0.006</td>\n",
       "      <td>-0.006</td>\n",
       "      <td>-0.012</td>\n",
       "      <td>-0.008</td>\n",
       "      <td>-0.012</td>\n",
       "      <td>-0.002</td>\n",
       "      <td>-0.012</td>\n",
       "      <td>-0.006</td>\n",
       "      <td>-0.012</td>\n",
       "      <td>-0.004</td>\n",
       "      <td>...</td>\n",
       "      <td>-0.052</td>\n",
       "      <td>-0.062</td>\n",
       "      <td>-0.048</td>\n",
       "      <td>-0.060</td>\n",
       "      <td>-0.058</td>\n",
       "      <td>-0.062</td>\n",
       "      <td>-0.062</td>\n",
       "      <td>-0.062</td>\n",
       "      <td>-0.062</td>\n",
       "      <td>-0.068</td>\n",
       "    </tr>\n",
       "  </tbody>\n",
       "</table>\n",
       "<p>2 rows × 4000 columns</p>\n",
       "</div>"
      ],
      "text/plain": [
       "   Pair_1  Pair_2  Pair_3  Pair_4  Pair_5  Pair_6  Pair_7  Pair_8  Pair_9  \\\n",
       "0  -0.012  -0.012  -0.014  -0.010   0.002   0.000  -0.008  -0.004  -0.004   \n",
       "1  -0.006  -0.006  -0.012  -0.008  -0.012  -0.002  -0.012  -0.006  -0.012   \n",
       "\n",
       "   Pair_10  ...  Pair_3991  Pair_3992  Pair_3993  Pair_3994  Pair_3995  \\\n",
       "0   -0.014  ...     -0.054     -0.056     -0.056     -0.058     -0.062   \n",
       "1   -0.004  ...     -0.052     -0.062     -0.048     -0.060     -0.058   \n",
       "\n",
       "   Pair_3996  Pair_3997  Pair_3998  Pair_3999  Pair_4000  \n",
       "0     -0.060     -0.062     -0.062     -0.064     -0.064  \n",
       "1     -0.062     -0.062     -0.062     -0.062     -0.068  \n",
       "\n",
       "[2 rows x 4000 columns]"
      ]
     },
     "execution_count": 132,
     "metadata": {},
     "output_type": "execute_result"
    }
   ],
   "source": [
    "sig1 = first_csv[['ch1', 'ch2']]\n",
    "sig2 = second_csv[['ch1', 'ch2']]\n",
    "# Since most values in ch1(excitation signal) are 0, \n",
    "# just extract values in ch2(received signals) in both signal1 and signal2\n",
    "sig_ch2 = pd.concat([sig1['ch2'],sig2['ch2']], axis=1, ignore_index=True)\n",
    "sig_ch2 = sig_ch2.T\n",
    "sig_ch2.columns = [f'Pair_{i}' for i in range(1, 4001)]\n",
    "sig_ch2"
   ]
  },
  {
   "cell_type": "code",
   "execution_count": 133,
   "metadata": {},
   "outputs": [
    {
     "data": {
      "text/plain": [
       "(2, 4000)"
      ]
     },
     "execution_count": 133,
     "metadata": {},
     "output_type": "execute_result"
    }
   ],
   "source": [
    "sig_T4_71130 = sig_ch2.values\n",
    "sig_T4_71130.shape"
   ]
  },
  {
   "cell_type": "code",
   "execution_count": 134,
   "metadata": {},
   "outputs": [
    {
     "data": {
      "text/plain": [
       "(2, 4001)"
      ]
     },
     "execution_count": 134,
     "metadata": {},
     "output_type": "execute_result"
    }
   ],
   "source": [
    "# Add Y-value which is crack length(mm) for cycle 71130: 4.06mm\n",
    "y_value = 4.06\n",
    "crack_length_T4_71130 = np.full((sig_T4_71130.shape[0], 1), y_value)\n",
    "sig_T4_71130 = np.hstack((sig_T4_71130, crack_length_T4_71130))\n",
    "sig_T4_71130.shape"
   ]
  },
  {
   "cell_type": "code",
   "execution_count": 135,
   "metadata": {},
   "outputs": [
    {
     "data": {
      "text/plain": [
       "(52, 4001)"
      ]
     },
     "execution_count": 135,
     "metadata": {},
     "output_type": "execute_result"
    }
   ],
   "source": [
    "# add the extracted data in this cycle to the dataset array\n",
    "dataset_array = np.vstack([dataset_array, sig_T4_71130])\n",
    "dataset_array.shape"
   ]
  },
  {
   "cell_type": "markdown",
   "metadata": {},
   "source": [
    "### Number of Cycle: 73210"
   ]
  },
  {
   "cell_type": "code",
   "execution_count": 136,
   "metadata": {},
   "outputs": [],
   "source": [
    "first_csv = pd.read_csv(data_path + training_sets[3] + t4_channels[6] + signals[0])\n",
    "second_csv = pd.read_csv(data_path + training_sets[3] + t4_channels[6] + signals[1])"
   ]
  },
  {
   "cell_type": "code",
   "execution_count": 137,
   "metadata": {},
   "outputs": [
    {
     "data": {
      "text/html": [
       "<div>\n",
       "<style scoped>\n",
       "    .dataframe tbody tr th:only-of-type {\n",
       "        vertical-align: middle;\n",
       "    }\n",
       "\n",
       "    .dataframe tbody tr th {\n",
       "        vertical-align: top;\n",
       "    }\n",
       "\n",
       "    .dataframe thead th {\n",
       "        text-align: right;\n",
       "    }\n",
       "</style>\n",
       "<table border=\"1\" class=\"dataframe\">\n",
       "  <thead>\n",
       "    <tr style=\"text-align: right;\">\n",
       "      <th></th>\n",
       "      <th>Pair_1</th>\n",
       "      <th>Pair_2</th>\n",
       "      <th>Pair_3</th>\n",
       "      <th>Pair_4</th>\n",
       "      <th>Pair_5</th>\n",
       "      <th>Pair_6</th>\n",
       "      <th>Pair_7</th>\n",
       "      <th>Pair_8</th>\n",
       "      <th>Pair_9</th>\n",
       "      <th>Pair_10</th>\n",
       "      <th>...</th>\n",
       "      <th>Pair_3991</th>\n",
       "      <th>Pair_3992</th>\n",
       "      <th>Pair_3993</th>\n",
       "      <th>Pair_3994</th>\n",
       "      <th>Pair_3995</th>\n",
       "      <th>Pair_3996</th>\n",
       "      <th>Pair_3997</th>\n",
       "      <th>Pair_3998</th>\n",
       "      <th>Pair_3999</th>\n",
       "      <th>Pair_4000</th>\n",
       "    </tr>\n",
       "  </thead>\n",
       "  <tbody>\n",
       "    <tr>\n",
       "      <th>0</th>\n",
       "      <td>-0.002</td>\n",
       "      <td>-0.014</td>\n",
       "      <td>-0.006</td>\n",
       "      <td>-0.008</td>\n",
       "      <td>-0.004</td>\n",
       "      <td>-0.010</td>\n",
       "      <td>-0.006</td>\n",
       "      <td>-0.014</td>\n",
       "      <td>-0.004</td>\n",
       "      <td>-0.012</td>\n",
       "      <td>...</td>\n",
       "      <td>-0.06</td>\n",
       "      <td>-0.06</td>\n",
       "      <td>-0.062</td>\n",
       "      <td>-0.060</td>\n",
       "      <td>-0.066</td>\n",
       "      <td>-0.064</td>\n",
       "      <td>-0.064</td>\n",
       "      <td>-0.064</td>\n",
       "      <td>-0.068</td>\n",
       "      <td>-0.068</td>\n",
       "    </tr>\n",
       "    <tr>\n",
       "      <th>1</th>\n",
       "      <td>-0.006</td>\n",
       "      <td>-0.012</td>\n",
       "      <td>-0.008</td>\n",
       "      <td>-0.006</td>\n",
       "      <td>-0.012</td>\n",
       "      <td>-0.004</td>\n",
       "      <td>-0.014</td>\n",
       "      <td>-0.006</td>\n",
       "      <td>-0.008</td>\n",
       "      <td>-0.004</td>\n",
       "      <td>...</td>\n",
       "      <td>-0.06</td>\n",
       "      <td>-0.06</td>\n",
       "      <td>-0.062</td>\n",
       "      <td>-0.062</td>\n",
       "      <td>-0.064</td>\n",
       "      <td>-0.064</td>\n",
       "      <td>-0.066</td>\n",
       "      <td>-0.068</td>\n",
       "      <td>-0.068</td>\n",
       "      <td>-0.066</td>\n",
       "    </tr>\n",
       "  </tbody>\n",
       "</table>\n",
       "<p>2 rows × 4000 columns</p>\n",
       "</div>"
      ],
      "text/plain": [
       "   Pair_1  Pair_2  Pair_3  Pair_4  Pair_5  Pair_6  Pair_7  Pair_8  Pair_9  \\\n",
       "0  -0.002  -0.014  -0.006  -0.008  -0.004  -0.010  -0.006  -0.014  -0.004   \n",
       "1  -0.006  -0.012  -0.008  -0.006  -0.012  -0.004  -0.014  -0.006  -0.008   \n",
       "\n",
       "   Pair_10  ...  Pair_3991  Pair_3992  Pair_3993  Pair_3994  Pair_3995  \\\n",
       "0   -0.012  ...      -0.06      -0.06     -0.062     -0.060     -0.066   \n",
       "1   -0.004  ...      -0.06      -0.06     -0.062     -0.062     -0.064   \n",
       "\n",
       "   Pair_3996  Pair_3997  Pair_3998  Pair_3999  Pair_4000  \n",
       "0     -0.064     -0.064     -0.064     -0.068     -0.068  \n",
       "1     -0.064     -0.066     -0.068     -0.068     -0.066  \n",
       "\n",
       "[2 rows x 4000 columns]"
      ]
     },
     "execution_count": 137,
     "metadata": {},
     "output_type": "execute_result"
    }
   ],
   "source": [
    "sig1 = first_csv[['ch1', 'ch2']]\n",
    "sig2 = second_csv[['ch1', 'ch2']]\n",
    "# Since most values in ch1(excitation signal) are 0, \n",
    "# just extract values in ch2(received signals) in both signal1 and signal2\n",
    "sig_ch2 = pd.concat([sig1['ch2'],sig2['ch2']], axis=1, ignore_index=True)\n",
    "sig_ch2 = sig_ch2.T\n",
    "sig_ch2.columns = [f'Pair_{i}' for i in range(1, 4001)]\n",
    "sig_ch2"
   ]
  },
  {
   "cell_type": "code",
   "execution_count": 138,
   "metadata": {},
   "outputs": [
    {
     "data": {
      "text/plain": [
       "(2, 4000)"
      ]
     },
     "execution_count": 138,
     "metadata": {},
     "output_type": "execute_result"
    }
   ],
   "source": [
    "sig_T4_73210 = sig_ch2.values\n",
    "sig_T4_73210.shape"
   ]
  },
  {
   "cell_type": "code",
   "execution_count": 139,
   "metadata": {},
   "outputs": [
    {
     "data": {
      "text/plain": [
       "(2, 4001)"
      ]
     },
     "execution_count": 139,
     "metadata": {},
     "output_type": "execute_result"
    }
   ],
   "source": [
    "# Add Y-value which is crack length(mm) for cycle 73210: 4.96mm\n",
    "y_value = 4.96\n",
    "crack_length_T4_73210 = np.full((sig_T4_73210.shape[0], 1), y_value)\n",
    "sig_T4_73210 = np.hstack((sig_T4_73210, crack_length_T4_73210))\n",
    "sig_T4_73210.shape"
   ]
  },
  {
   "cell_type": "code",
   "execution_count": 140,
   "metadata": {},
   "outputs": [
    {
     "data": {
      "text/plain": [
       "(54, 4001)"
      ]
     },
     "execution_count": 140,
     "metadata": {},
     "output_type": "execute_result"
    }
   ],
   "source": [
    "# add the extracted data in this cycle to the dataset array\n",
    "dataset_array = np.vstack([dataset_array, sig_T4_73210])\n",
    "dataset_array.shape"
   ]
  },
  {
   "cell_type": "markdown",
   "metadata": {},
   "source": [
    "### Number of Cycle: 75045"
   ]
  },
  {
   "cell_type": "code",
   "execution_count": 141,
   "metadata": {},
   "outputs": [],
   "source": [
    "first_csv = pd.read_csv(data_path + training_sets[3] + t4_channels[7] + signals[0])\n",
    "second_csv = pd.read_csv(data_path + training_sets[3] + t4_channels[7] + signals[1])"
   ]
  },
  {
   "cell_type": "code",
   "execution_count": 142,
   "metadata": {},
   "outputs": [
    {
     "data": {
      "text/html": [
       "<div>\n",
       "<style scoped>\n",
       "    .dataframe tbody tr th:only-of-type {\n",
       "        vertical-align: middle;\n",
       "    }\n",
       "\n",
       "    .dataframe tbody tr th {\n",
       "        vertical-align: top;\n",
       "    }\n",
       "\n",
       "    .dataframe thead th {\n",
       "        text-align: right;\n",
       "    }\n",
       "</style>\n",
       "<table border=\"1\" class=\"dataframe\">\n",
       "  <thead>\n",
       "    <tr style=\"text-align: right;\">\n",
       "      <th></th>\n",
       "      <th>Pair_1</th>\n",
       "      <th>Pair_2</th>\n",
       "      <th>Pair_3</th>\n",
       "      <th>Pair_4</th>\n",
       "      <th>Pair_5</th>\n",
       "      <th>Pair_6</th>\n",
       "      <th>Pair_7</th>\n",
       "      <th>Pair_8</th>\n",
       "      <th>Pair_9</th>\n",
       "      <th>Pair_10</th>\n",
       "      <th>...</th>\n",
       "      <th>Pair_3991</th>\n",
       "      <th>Pair_3992</th>\n",
       "      <th>Pair_3993</th>\n",
       "      <th>Pair_3994</th>\n",
       "      <th>Pair_3995</th>\n",
       "      <th>Pair_3996</th>\n",
       "      <th>Pair_3997</th>\n",
       "      <th>Pair_3998</th>\n",
       "      <th>Pair_3999</th>\n",
       "      <th>Pair_4000</th>\n",
       "    </tr>\n",
       "  </thead>\n",
       "  <tbody>\n",
       "    <tr>\n",
       "      <th>0</th>\n",
       "      <td>0.008</td>\n",
       "      <td>-0.028</td>\n",
       "      <td>0.002</td>\n",
       "      <td>-0.006</td>\n",
       "      <td>-0.006</td>\n",
       "      <td>-0.012</td>\n",
       "      <td>0.002</td>\n",
       "      <td>-0.008</td>\n",
       "      <td>-0.008</td>\n",
       "      <td>-0.006</td>\n",
       "      <td>...</td>\n",
       "      <td>-0.042</td>\n",
       "      <td>-0.048</td>\n",
       "      <td>-0.044</td>\n",
       "      <td>-0.048</td>\n",
       "      <td>-0.048</td>\n",
       "      <td>-0.052</td>\n",
       "      <td>-0.05</td>\n",
       "      <td>-0.054</td>\n",
       "      <td>-0.052</td>\n",
       "      <td>-0.056</td>\n",
       "    </tr>\n",
       "    <tr>\n",
       "      <th>1</th>\n",
       "      <td>-0.006</td>\n",
       "      <td>-0.014</td>\n",
       "      <td>-0.014</td>\n",
       "      <td>-0.010</td>\n",
       "      <td>-0.006</td>\n",
       "      <td>-0.008</td>\n",
       "      <td>-0.012</td>\n",
       "      <td>-0.008</td>\n",
       "      <td>-0.006</td>\n",
       "      <td>-0.012</td>\n",
       "      <td>...</td>\n",
       "      <td>-0.052</td>\n",
       "      <td>-0.048</td>\n",
       "      <td>-0.054</td>\n",
       "      <td>-0.048</td>\n",
       "      <td>-0.054</td>\n",
       "      <td>-0.054</td>\n",
       "      <td>-0.06</td>\n",
       "      <td>-0.030</td>\n",
       "      <td>-0.100</td>\n",
       "      <td>-0.024</td>\n",
       "    </tr>\n",
       "  </tbody>\n",
       "</table>\n",
       "<p>2 rows × 4000 columns</p>\n",
       "</div>"
      ],
      "text/plain": [
       "   Pair_1  Pair_2  Pair_3  Pair_4  Pair_5  Pair_6  Pair_7  Pair_8  Pair_9  \\\n",
       "0   0.008  -0.028   0.002  -0.006  -0.006  -0.012   0.002  -0.008  -0.008   \n",
       "1  -0.006  -0.014  -0.014  -0.010  -0.006  -0.008  -0.012  -0.008  -0.006   \n",
       "\n",
       "   Pair_10  ...  Pair_3991  Pair_3992  Pair_3993  Pair_3994  Pair_3995  \\\n",
       "0   -0.006  ...     -0.042     -0.048     -0.044     -0.048     -0.048   \n",
       "1   -0.012  ...     -0.052     -0.048     -0.054     -0.048     -0.054   \n",
       "\n",
       "   Pair_3996  Pair_3997  Pair_3998  Pair_3999  Pair_4000  \n",
       "0     -0.052      -0.05     -0.054     -0.052     -0.056  \n",
       "1     -0.054      -0.06     -0.030     -0.100     -0.024  \n",
       "\n",
       "[2 rows x 4000 columns]"
      ]
     },
     "execution_count": 142,
     "metadata": {},
     "output_type": "execute_result"
    }
   ],
   "source": [
    "sig1 = first_csv[['ch1', 'ch2']]\n",
    "sig2 = second_csv[['ch1', 'ch2']]\n",
    "# Since most values in ch1(excitation signal) are 0, \n",
    "# just extract values in ch2(received signals) in both signal1 and signal2\n",
    "sig_ch2 = pd.concat([sig1['ch2'],sig2['ch2']], axis=1, ignore_index=True)\n",
    "sig_ch2 = sig_ch2.T\n",
    "sig_ch2.columns = [f'Pair_{i}' for i in range(1, 4001)]\n",
    "sig_ch2"
   ]
  },
  {
   "cell_type": "code",
   "execution_count": 143,
   "metadata": {},
   "outputs": [
    {
     "data": {
      "text/plain": [
       "(2, 4000)"
      ]
     },
     "execution_count": 143,
     "metadata": {},
     "output_type": "execute_result"
    }
   ],
   "source": [
    "sig_T4_75045 = sig_ch2.values\n",
    "sig_T4_75045.shape"
   ]
  },
  {
   "cell_type": "code",
   "execution_count": 144,
   "metadata": {},
   "outputs": [
    {
     "data": {
      "text/plain": [
       "(2, 4001)"
      ]
     },
     "execution_count": 144,
     "metadata": {},
     "output_type": "execute_result"
    }
   ],
   "source": [
    "# Add Y-value which is crack length(mm) for cycle 75045: 7.24mm\n",
    "y_value = 7.24\n",
    "crack_length_T4_75045 = np.full((sig_T4_75045.shape[0], 1), y_value)\n",
    "sig_T4_75045 = np.hstack((sig_T4_75045, crack_length_T4_75045))\n",
    "sig_T4_75045.shape"
   ]
  },
  {
   "cell_type": "code",
   "execution_count": 145,
   "metadata": {},
   "outputs": [
    {
     "data": {
      "text/plain": [
       "(56, 4001)"
      ]
     },
     "execution_count": 145,
     "metadata": {},
     "output_type": "execute_result"
    }
   ],
   "source": [
    "# add the extracted data in this cycle to the dataset array\n",
    "dataset_array = np.vstack([dataset_array, sig_T4_75045])\n",
    "dataset_array.shape"
   ]
  },
  {
   "cell_type": "markdown",
   "metadata": {},
   "source": [
    "## Specimen T5\n"
   ]
  },
  {
   "cell_type": "markdown",
   "metadata": {},
   "source": [
    "### Number of Cycle: 42000"
   ]
  },
  {
   "cell_type": "code",
   "execution_count": 146,
   "metadata": {},
   "outputs": [],
   "source": [
    "first_csv = pd.read_csv(data_path + training_sets[4] + t5_channels[0] + signals[0])\n",
    "second_csv = pd.read_csv(data_path + training_sets[4] + t5_channels[0] + signals[1])"
   ]
  },
  {
   "cell_type": "code",
   "execution_count": 147,
   "metadata": {},
   "outputs": [
    {
     "data": {
      "text/html": [
       "<div>\n",
       "<style scoped>\n",
       "    .dataframe tbody tr th:only-of-type {\n",
       "        vertical-align: middle;\n",
       "    }\n",
       "\n",
       "    .dataframe tbody tr th {\n",
       "        vertical-align: top;\n",
       "    }\n",
       "\n",
       "    .dataframe thead th {\n",
       "        text-align: right;\n",
       "    }\n",
       "</style>\n",
       "<table border=\"1\" class=\"dataframe\">\n",
       "  <thead>\n",
       "    <tr style=\"text-align: right;\">\n",
       "      <th></th>\n",
       "      <th>Pair_1</th>\n",
       "      <th>Pair_2</th>\n",
       "      <th>Pair_3</th>\n",
       "      <th>Pair_4</th>\n",
       "      <th>Pair_5</th>\n",
       "      <th>Pair_6</th>\n",
       "      <th>Pair_7</th>\n",
       "      <th>Pair_8</th>\n",
       "      <th>Pair_9</th>\n",
       "      <th>Pair_10</th>\n",
       "      <th>...</th>\n",
       "      <th>Pair_3991</th>\n",
       "      <th>Pair_3992</th>\n",
       "      <th>Pair_3993</th>\n",
       "      <th>Pair_3994</th>\n",
       "      <th>Pair_3995</th>\n",
       "      <th>Pair_3996</th>\n",
       "      <th>Pair_3997</th>\n",
       "      <th>Pair_3998</th>\n",
       "      <th>Pair_3999</th>\n",
       "      <th>Pair_4000</th>\n",
       "    </tr>\n",
       "  </thead>\n",
       "  <tbody>\n",
       "    <tr>\n",
       "      <th>0</th>\n",
       "      <td>0.0040</td>\n",
       "      <td>0.0000</td>\n",
       "      <td>0.0052</td>\n",
       "      <td>0.0008</td>\n",
       "      <td>0.0028</td>\n",
       "      <td>0.0024</td>\n",
       "      <td>0.0004</td>\n",
       "      <td>0.0004</td>\n",
       "      <td>0.0016</td>\n",
       "      <td>0.0032</td>\n",
       "      <td>...</td>\n",
       "      <td>0.0132</td>\n",
       "      <td>0.0112</td>\n",
       "      <td>0.0132</td>\n",
       "      <td>0.0144</td>\n",
       "      <td>0.0112</td>\n",
       "      <td>0.0112</td>\n",
       "      <td>0.0080</td>\n",
       "      <td>0.0132</td>\n",
       "      <td>0.0088</td>\n",
       "      <td>0.0072</td>\n",
       "    </tr>\n",
       "    <tr>\n",
       "      <th>1</th>\n",
       "      <td>-0.0024</td>\n",
       "      <td>0.0132</td>\n",
       "      <td>0.0112</td>\n",
       "      <td>0.0004</td>\n",
       "      <td>-0.0072</td>\n",
       "      <td>-0.0028</td>\n",
       "      <td>0.0092</td>\n",
       "      <td>0.0128</td>\n",
       "      <td>0.0156</td>\n",
       "      <td>0.0088</td>\n",
       "      <td>...</td>\n",
       "      <td>0.0068</td>\n",
       "      <td>0.0256</td>\n",
       "      <td>-0.0048</td>\n",
       "      <td>0.0100</td>\n",
       "      <td>0.0048</td>\n",
       "      <td>0.0132</td>\n",
       "      <td>0.0272</td>\n",
       "      <td>-0.0032</td>\n",
       "      <td>0.0152</td>\n",
       "      <td>-0.0124</td>\n",
       "    </tr>\n",
       "  </tbody>\n",
       "</table>\n",
       "<p>2 rows × 4000 columns</p>\n",
       "</div>"
      ],
      "text/plain": [
       "   Pair_1  Pair_2  Pair_3  Pair_4  Pair_5  Pair_6  Pair_7  Pair_8  Pair_9  \\\n",
       "0  0.0040  0.0000  0.0052  0.0008  0.0028  0.0024  0.0004  0.0004  0.0016   \n",
       "1 -0.0024  0.0132  0.0112  0.0004 -0.0072 -0.0028  0.0092  0.0128  0.0156   \n",
       "\n",
       "   Pair_10  ...  Pair_3991  Pair_3992  Pair_3993  Pair_3994  Pair_3995  \\\n",
       "0   0.0032  ...     0.0132     0.0112     0.0132     0.0144     0.0112   \n",
       "1   0.0088  ...     0.0068     0.0256    -0.0048     0.0100     0.0048   \n",
       "\n",
       "   Pair_3996  Pair_3997  Pair_3998  Pair_3999  Pair_4000  \n",
       "0     0.0112     0.0080     0.0132     0.0088     0.0072  \n",
       "1     0.0132     0.0272    -0.0032     0.0152    -0.0124  \n",
       "\n",
       "[2 rows x 4000 columns]"
      ]
     },
     "execution_count": 147,
     "metadata": {},
     "output_type": "execute_result"
    }
   ],
   "source": [
    "sig1 = first_csv[['ch1', 'ch2']]\n",
    "sig2 = second_csv[['ch1', 'ch2']]\n",
    "# Since most values in ch1(excitation signal) are 0, \n",
    "# just extract values in ch2(received signals) in both signal1 and signal2\n",
    "sig_ch2 = pd.concat([sig1['ch2'],sig2['ch2']], axis=1, ignore_index=True)\n",
    "sig_ch2 = sig_ch2.T\n",
    "sig_ch2.columns = [f'Pair_{i}' for i in range(1, 4001)]\n",
    "sig_ch2"
   ]
  },
  {
   "cell_type": "code",
   "execution_count": 148,
   "metadata": {},
   "outputs": [
    {
     "data": {
      "text/plain": [
       "(2, 4000)"
      ]
     },
     "execution_count": 148,
     "metadata": {},
     "output_type": "execute_result"
    }
   ],
   "source": [
    "sig_T5_42000 = sig_ch2.values\n",
    "sig_T5_42000.shape"
   ]
  },
  {
   "cell_type": "code",
   "execution_count": 149,
   "metadata": {},
   "outputs": [
    {
     "data": {
      "text/plain": [
       "(2, 4001)"
      ]
     },
     "execution_count": 149,
     "metadata": {},
     "output_type": "execute_result"
    }
   ],
   "source": [
    "# Add Y-value which is crack length(mm) for cycle 42000: 0mm\n",
    "y_value = 0\n",
    "crack_length_T5_42000 = np.full((sig_T4_75045.shape[0], 1), y_value)\n",
    "sig_T5_42000 = np.hstack((sig_T5_42000, crack_length_T5_42000))\n",
    "sig_T5_42000.shape"
   ]
  },
  {
   "cell_type": "code",
   "execution_count": 150,
   "metadata": {},
   "outputs": [
    {
     "data": {
      "text/plain": [
       "(58, 4001)"
      ]
     },
     "execution_count": 150,
     "metadata": {},
     "output_type": "execute_result"
    }
   ],
   "source": [
    "# add the extracted data in this cycle to the dataset array\n",
    "dataset_array = np.vstack([dataset_array, sig_T5_42000])\n",
    "dataset_array.shape"
   ]
  },
  {
   "cell_type": "markdown",
   "metadata": {},
   "source": [
    "### Number of Cycle: 46000"
   ]
  },
  {
   "cell_type": "code",
   "execution_count": 151,
   "metadata": {},
   "outputs": [],
   "source": [
    "first_csv = pd.read_csv(data_path + training_sets[4] + t5_channels[1] + signals[0])\n",
    "second_csv = pd.read_csv(data_path + training_sets[4] + t5_channels[1] + signals[1])"
   ]
  },
  {
   "cell_type": "code",
   "execution_count": 152,
   "metadata": {},
   "outputs": [
    {
     "data": {
      "text/html": [
       "<div>\n",
       "<style scoped>\n",
       "    .dataframe tbody tr th:only-of-type {\n",
       "        vertical-align: middle;\n",
       "    }\n",
       "\n",
       "    .dataframe tbody tr th {\n",
       "        vertical-align: top;\n",
       "    }\n",
       "\n",
       "    .dataframe thead th {\n",
       "        text-align: right;\n",
       "    }\n",
       "</style>\n",
       "<table border=\"1\" class=\"dataframe\">\n",
       "  <thead>\n",
       "    <tr style=\"text-align: right;\">\n",
       "      <th></th>\n",
       "      <th>Pair_1</th>\n",
       "      <th>Pair_2</th>\n",
       "      <th>Pair_3</th>\n",
       "      <th>Pair_4</th>\n",
       "      <th>Pair_5</th>\n",
       "      <th>Pair_6</th>\n",
       "      <th>Pair_7</th>\n",
       "      <th>Pair_8</th>\n",
       "      <th>Pair_9</th>\n",
       "      <th>Pair_10</th>\n",
       "      <th>...</th>\n",
       "      <th>Pair_3991</th>\n",
       "      <th>Pair_3992</th>\n",
       "      <th>Pair_3993</th>\n",
       "      <th>Pair_3994</th>\n",
       "      <th>Pair_3995</th>\n",
       "      <th>Pair_3996</th>\n",
       "      <th>Pair_3997</th>\n",
       "      <th>Pair_3998</th>\n",
       "      <th>Pair_3999</th>\n",
       "      <th>Pair_4000</th>\n",
       "    </tr>\n",
       "  </thead>\n",
       "  <tbody>\n",
       "    <tr>\n",
       "      <th>0</th>\n",
       "      <td>-0.0048</td>\n",
       "      <td>-0.0024</td>\n",
       "      <td>-0.0056</td>\n",
       "      <td>-0.0072</td>\n",
       "      <td>-0.0048</td>\n",
       "      <td>-0.0024</td>\n",
       "      <td>-0.0008</td>\n",
       "      <td>-0.0024</td>\n",
       "      <td>-0.0056</td>\n",
       "      <td>-0.0096</td>\n",
       "      <td>...</td>\n",
       "      <td>-0.0464</td>\n",
       "      <td>-0.0472</td>\n",
       "      <td>-0.0480</td>\n",
       "      <td>-0.0496</td>\n",
       "      <td>-0.0480</td>\n",
       "      <td>-0.0528</td>\n",
       "      <td>-0.0664</td>\n",
       "      <td>-0.0248</td>\n",
       "      <td>-0.0672</td>\n",
       "      <td>-0.0320</td>\n",
       "    </tr>\n",
       "    <tr>\n",
       "      <th>1</th>\n",
       "      <td>0.0040</td>\n",
       "      <td>-0.0024</td>\n",
       "      <td>-0.0064</td>\n",
       "      <td>-0.0024</td>\n",
       "      <td>-0.0048</td>\n",
       "      <td>-0.0024</td>\n",
       "      <td>-0.0080</td>\n",
       "      <td>-0.0016</td>\n",
       "      <td>-0.0024</td>\n",
       "      <td>-0.0008</td>\n",
       "      <td>...</td>\n",
       "      <td>-0.0376</td>\n",
       "      <td>-0.0352</td>\n",
       "      <td>-0.0376</td>\n",
       "      <td>-0.0424</td>\n",
       "      <td>-0.0384</td>\n",
       "      <td>-0.0384</td>\n",
       "      <td>-0.0344</td>\n",
       "      <td>-0.0384</td>\n",
       "      <td>-0.0376</td>\n",
       "      <td>-0.0368</td>\n",
       "    </tr>\n",
       "  </tbody>\n",
       "</table>\n",
       "<p>2 rows × 4000 columns</p>\n",
       "</div>"
      ],
      "text/plain": [
       "   Pair_1  Pair_2  Pair_3  Pair_4  Pair_5  Pair_6  Pair_7  Pair_8  Pair_9  \\\n",
       "0 -0.0048 -0.0024 -0.0056 -0.0072 -0.0048 -0.0024 -0.0008 -0.0024 -0.0056   \n",
       "1  0.0040 -0.0024 -0.0064 -0.0024 -0.0048 -0.0024 -0.0080 -0.0016 -0.0024   \n",
       "\n",
       "   Pair_10  ...  Pair_3991  Pair_3992  Pair_3993  Pair_3994  Pair_3995  \\\n",
       "0  -0.0096  ...    -0.0464    -0.0472    -0.0480    -0.0496    -0.0480   \n",
       "1  -0.0008  ...    -0.0376    -0.0352    -0.0376    -0.0424    -0.0384   \n",
       "\n",
       "   Pair_3996  Pair_3997  Pair_3998  Pair_3999  Pair_4000  \n",
       "0    -0.0528    -0.0664    -0.0248    -0.0672    -0.0320  \n",
       "1    -0.0384    -0.0344    -0.0384    -0.0376    -0.0368  \n",
       "\n",
       "[2 rows x 4000 columns]"
      ]
     },
     "execution_count": 152,
     "metadata": {},
     "output_type": "execute_result"
    }
   ],
   "source": [
    "sig1 = first_csv[['ch1', 'ch2']]\n",
    "sig2 = second_csv[['ch1', 'ch2']]\n",
    "# Since most values in ch1(excitation signal) are 0, \n",
    "# just extract values in ch2(received signals) in both signal1 and signal2\n",
    "sig_ch2 = pd.concat([sig1['ch2'],sig2['ch2']], axis=1, ignore_index=True)\n",
    "sig_ch2 = sig_ch2.T\n",
    "sig_ch2.columns = [f'Pair_{i}' for i in range(1, 4001)]\n",
    "sig_ch2"
   ]
  },
  {
   "cell_type": "code",
   "execution_count": 153,
   "metadata": {},
   "outputs": [
    {
     "data": {
      "text/plain": [
       "(2, 4000)"
      ]
     },
     "execution_count": 153,
     "metadata": {},
     "output_type": "execute_result"
    }
   ],
   "source": [
    "sig_T5_46000 = sig_ch2.values\n",
    "sig_T5_46000.shape"
   ]
  },
  {
   "cell_type": "code",
   "execution_count": 154,
   "metadata": {},
   "outputs": [
    {
     "data": {
      "text/plain": [
       "(2, 4001)"
      ]
     },
     "execution_count": 154,
     "metadata": {},
     "output_type": "execute_result"
    }
   ],
   "source": [
    "# Add Y-value which is crack length(mm) for cycle 46000: 0mm\n",
    "y_value = 0\n",
    "crack_length_T5_46000 = np.full((sig_T5_46000.shape[0], 1), y_value)\n",
    "sig_T5_46000 = np.hstack((sig_T5_46000, crack_length_T5_46000))\n",
    "sig_T5_46000.shape"
   ]
  },
  {
   "cell_type": "code",
   "execution_count": 155,
   "metadata": {},
   "outputs": [
    {
     "data": {
      "text/plain": [
       "(60, 4001)"
      ]
     },
     "execution_count": 155,
     "metadata": {},
     "output_type": "execute_result"
    }
   ],
   "source": [
    "# add the extracted data in this cycle to the dataset array\n",
    "dataset_array = np.vstack([dataset_array, sig_T5_46000])\n",
    "dataset_array.shape"
   ]
  },
  {
   "cell_type": "markdown",
   "metadata": {},
   "source": [
    "### Number of Cycle: 51000"
   ]
  },
  {
   "cell_type": "code",
   "execution_count": 156,
   "metadata": {},
   "outputs": [],
   "source": [
    "first_csv = pd.read_csv(data_path + training_sets[4] + t5_channels[2] + signals[0])\n",
    "second_csv = pd.read_csv(data_path + training_sets[4] + t5_channels[2] + signals[1])"
   ]
  },
  {
   "cell_type": "code",
   "execution_count": 157,
   "metadata": {},
   "outputs": [
    {
     "data": {
      "text/html": [
       "<div>\n",
       "<style scoped>\n",
       "    .dataframe tbody tr th:only-of-type {\n",
       "        vertical-align: middle;\n",
       "    }\n",
       "\n",
       "    .dataframe tbody tr th {\n",
       "        vertical-align: top;\n",
       "    }\n",
       "\n",
       "    .dataframe thead th {\n",
       "        text-align: right;\n",
       "    }\n",
       "</style>\n",
       "<table border=\"1\" class=\"dataframe\">\n",
       "  <thead>\n",
       "    <tr style=\"text-align: right;\">\n",
       "      <th></th>\n",
       "      <th>Pair_1</th>\n",
       "      <th>Pair_2</th>\n",
       "      <th>Pair_3</th>\n",
       "      <th>Pair_4</th>\n",
       "      <th>Pair_5</th>\n",
       "      <th>Pair_6</th>\n",
       "      <th>Pair_7</th>\n",
       "      <th>Pair_8</th>\n",
       "      <th>Pair_9</th>\n",
       "      <th>Pair_10</th>\n",
       "      <th>...</th>\n",
       "      <th>Pair_3991</th>\n",
       "      <th>Pair_3992</th>\n",
       "      <th>Pair_3993</th>\n",
       "      <th>Pair_3994</th>\n",
       "      <th>Pair_3995</th>\n",
       "      <th>Pair_3996</th>\n",
       "      <th>Pair_3997</th>\n",
       "      <th>Pair_3998</th>\n",
       "      <th>Pair_3999</th>\n",
       "      <th>Pair_4000</th>\n",
       "    </tr>\n",
       "  </thead>\n",
       "  <tbody>\n",
       "    <tr>\n",
       "      <th>0</th>\n",
       "      <td>0.0016</td>\n",
       "      <td>-0.0008</td>\n",
       "      <td>0.0008</td>\n",
       "      <td>0.0016</td>\n",
       "      <td>0.0016</td>\n",
       "      <td>0.0016</td>\n",
       "      <td>0.0000</td>\n",
       "      <td>0.0016</td>\n",
       "      <td>0.0008</td>\n",
       "      <td>0.0016</td>\n",
       "      <td>...</td>\n",
       "      <td>0.0168</td>\n",
       "      <td>0.0160</td>\n",
       "      <td>0.0136</td>\n",
       "      <td>0.012</td>\n",
       "      <td>0.0160</td>\n",
       "      <td>0.0104</td>\n",
       "      <td>0.0112</td>\n",
       "      <td>0.008</td>\n",
       "      <td>0.0128</td>\n",
       "      <td>0.0080</td>\n",
       "    </tr>\n",
       "    <tr>\n",
       "      <th>1</th>\n",
       "      <td>-0.0064</td>\n",
       "      <td>-0.0096</td>\n",
       "      <td>-0.0064</td>\n",
       "      <td>-0.0032</td>\n",
       "      <td>-0.0064</td>\n",
       "      <td>-0.0096</td>\n",
       "      <td>-0.0072</td>\n",
       "      <td>-0.0032</td>\n",
       "      <td>-0.0056</td>\n",
       "      <td>-0.0072</td>\n",
       "      <td>...</td>\n",
       "      <td>0.0040</td>\n",
       "      <td>0.0072</td>\n",
       "      <td>0.0040</td>\n",
       "      <td>0.004</td>\n",
       "      <td>0.0016</td>\n",
       "      <td>0.0040</td>\n",
       "      <td>0.0008</td>\n",
       "      <td>-0.004</td>\n",
       "      <td>0.0032</td>\n",
       "      <td>0.0024</td>\n",
       "    </tr>\n",
       "  </tbody>\n",
       "</table>\n",
       "<p>2 rows × 4000 columns</p>\n",
       "</div>"
      ],
      "text/plain": [
       "   Pair_1  Pair_2  Pair_3  Pair_4  Pair_5  Pair_6  Pair_7  Pair_8  Pair_9  \\\n",
       "0  0.0016 -0.0008  0.0008  0.0016  0.0016  0.0016  0.0000  0.0016  0.0008   \n",
       "1 -0.0064 -0.0096 -0.0064 -0.0032 -0.0064 -0.0096 -0.0072 -0.0032 -0.0056   \n",
       "\n",
       "   Pair_10  ...  Pair_3991  Pair_3992  Pair_3993  Pair_3994  Pair_3995  \\\n",
       "0   0.0016  ...     0.0168     0.0160     0.0136      0.012     0.0160   \n",
       "1  -0.0072  ...     0.0040     0.0072     0.0040      0.004     0.0016   \n",
       "\n",
       "   Pair_3996  Pair_3997  Pair_3998  Pair_3999  Pair_4000  \n",
       "0     0.0104     0.0112      0.008     0.0128     0.0080  \n",
       "1     0.0040     0.0008     -0.004     0.0032     0.0024  \n",
       "\n",
       "[2 rows x 4000 columns]"
      ]
     },
     "execution_count": 157,
     "metadata": {},
     "output_type": "execute_result"
    }
   ],
   "source": [
    "sig1 = first_csv[['ch1', 'ch2']]\n",
    "sig2 = second_csv[['ch1', 'ch2']]\n",
    "# Since most values in ch1(excitation signal) are 0, \n",
    "# just extract values in ch2(received signals) in both signal1 and signal2\n",
    "sig_ch2 = pd.concat([sig1['ch2'],sig2['ch2']], axis=1, ignore_index=True)\n",
    "sig_ch2 = sig_ch2.T\n",
    "sig_ch2.columns = [f'Pair_{i}' for i in range(1, 4001)]\n",
    "sig_ch2"
   ]
  },
  {
   "cell_type": "code",
   "execution_count": 158,
   "metadata": {},
   "outputs": [
    {
     "data": {
      "text/plain": [
       "(2, 4000)"
      ]
     },
     "execution_count": 158,
     "metadata": {},
     "output_type": "execute_result"
    }
   ],
   "source": [
    "sig_T5_51000 = sig_ch2.values\n",
    "sig_T5_51000.shape"
   ]
  },
  {
   "cell_type": "code",
   "execution_count": 159,
   "metadata": {},
   "outputs": [
    {
     "data": {
      "text/plain": [
       "(2, 4001)"
      ]
     },
     "execution_count": 159,
     "metadata": {},
     "output_type": "execute_result"
    }
   ],
   "source": [
    "# Add Y-value which is crack length(mm) for cycle 51000: 2.7mm\n",
    "y_value = 2.7\n",
    "crack_length_T5_51000 = np.full((sig_T5_51000.shape[0], 1), y_value)\n",
    "sig_T5_51000 = np.hstack((sig_T5_51000, crack_length_T5_51000))\n",
    "sig_T5_51000.shape"
   ]
  },
  {
   "cell_type": "code",
   "execution_count": 160,
   "metadata": {},
   "outputs": [
    {
     "data": {
      "text/plain": [
       "(62, 4001)"
      ]
     },
     "execution_count": 160,
     "metadata": {},
     "output_type": "execute_result"
    }
   ],
   "source": [
    "# add the extracted data in this cycle to the dataset array\n",
    "dataset_array = np.vstack([dataset_array, sig_T5_51000])\n",
    "dataset_array.shape"
   ]
  },
  {
   "cell_type": "markdown",
   "metadata": {},
   "source": [
    "### Number of Cycle: 56000"
   ]
  },
  {
   "cell_type": "code",
   "execution_count": 161,
   "metadata": {},
   "outputs": [],
   "source": [
    "first_csv = pd.read_csv(data_path + training_sets[4] + t5_channels[3] + signals[0])\n",
    "second_csv = pd.read_csv(data_path + training_sets[4] + t5_channels[3] + signals[1])"
   ]
  },
  {
   "cell_type": "code",
   "execution_count": 162,
   "metadata": {},
   "outputs": [
    {
     "data": {
      "text/html": [
       "<div>\n",
       "<style scoped>\n",
       "    .dataframe tbody tr th:only-of-type {\n",
       "        vertical-align: middle;\n",
       "    }\n",
       "\n",
       "    .dataframe tbody tr th {\n",
       "        vertical-align: top;\n",
       "    }\n",
       "\n",
       "    .dataframe thead th {\n",
       "        text-align: right;\n",
       "    }\n",
       "</style>\n",
       "<table border=\"1\" class=\"dataframe\">\n",
       "  <thead>\n",
       "    <tr style=\"text-align: right;\">\n",
       "      <th></th>\n",
       "      <th>Pair_1</th>\n",
       "      <th>Pair_2</th>\n",
       "      <th>Pair_3</th>\n",
       "      <th>Pair_4</th>\n",
       "      <th>Pair_5</th>\n",
       "      <th>Pair_6</th>\n",
       "      <th>Pair_7</th>\n",
       "      <th>Pair_8</th>\n",
       "      <th>Pair_9</th>\n",
       "      <th>Pair_10</th>\n",
       "      <th>...</th>\n",
       "      <th>Pair_3991</th>\n",
       "      <th>Pair_3992</th>\n",
       "      <th>Pair_3993</th>\n",
       "      <th>Pair_3994</th>\n",
       "      <th>Pair_3995</th>\n",
       "      <th>Pair_3996</th>\n",
       "      <th>Pair_3997</th>\n",
       "      <th>Pair_3998</th>\n",
       "      <th>Pair_3999</th>\n",
       "      <th>Pair_4000</th>\n",
       "    </tr>\n",
       "  </thead>\n",
       "  <tbody>\n",
       "    <tr>\n",
       "      <th>0</th>\n",
       "      <td>0.0008</td>\n",
       "      <td>0.0168</td>\n",
       "      <td>-0.0056</td>\n",
       "      <td>0.0112</td>\n",
       "      <td>0.0112</td>\n",
       "      <td>0.0032</td>\n",
       "      <td>0.0096</td>\n",
       "      <td>-0.0056</td>\n",
       "      <td>0.0232</td>\n",
       "      <td>0.0000</td>\n",
       "      <td>...</td>\n",
       "      <td>0.020</td>\n",
       "      <td>0.0224</td>\n",
       "      <td>0.0200</td>\n",
       "      <td>0.0208</td>\n",
       "      <td>0.0200</td>\n",
       "      <td>0.0200</td>\n",
       "      <td>0.0192</td>\n",
       "      <td>0.0160</td>\n",
       "      <td>0.0136</td>\n",
       "      <td>0.0160</td>\n",
       "    </tr>\n",
       "    <tr>\n",
       "      <th>1</th>\n",
       "      <td>-0.0088</td>\n",
       "      <td>-0.0016</td>\n",
       "      <td>-0.0040</td>\n",
       "      <td>-0.0016</td>\n",
       "      <td>-0.0088</td>\n",
       "      <td>0.0000</td>\n",
       "      <td>-0.0048</td>\n",
       "      <td>-0.0184</td>\n",
       "      <td>0.0136</td>\n",
       "      <td>-0.0144</td>\n",
       "      <td>...</td>\n",
       "      <td>0.016</td>\n",
       "      <td>0.0112</td>\n",
       "      <td>0.0096</td>\n",
       "      <td>0.0128</td>\n",
       "      <td>0.0136</td>\n",
       "      <td>0.0096</td>\n",
       "      <td>0.0088</td>\n",
       "      <td>0.0104</td>\n",
       "      <td>0.0104</td>\n",
       "      <td>0.0088</td>\n",
       "    </tr>\n",
       "  </tbody>\n",
       "</table>\n",
       "<p>2 rows × 4000 columns</p>\n",
       "</div>"
      ],
      "text/plain": [
       "   Pair_1  Pair_2  Pair_3  Pair_4  Pair_5  Pair_6  Pair_7  Pair_8  Pair_9  \\\n",
       "0  0.0008  0.0168 -0.0056  0.0112  0.0112  0.0032  0.0096 -0.0056  0.0232   \n",
       "1 -0.0088 -0.0016 -0.0040 -0.0016 -0.0088  0.0000 -0.0048 -0.0184  0.0136   \n",
       "\n",
       "   Pair_10  ...  Pair_3991  Pair_3992  Pair_3993  Pair_3994  Pair_3995  \\\n",
       "0   0.0000  ...      0.020     0.0224     0.0200     0.0208     0.0200   \n",
       "1  -0.0144  ...      0.016     0.0112     0.0096     0.0128     0.0136   \n",
       "\n",
       "   Pair_3996  Pair_3997  Pair_3998  Pair_3999  Pair_4000  \n",
       "0     0.0200     0.0192     0.0160     0.0136     0.0160  \n",
       "1     0.0096     0.0088     0.0104     0.0104     0.0088  \n",
       "\n",
       "[2 rows x 4000 columns]"
      ]
     },
     "execution_count": 162,
     "metadata": {},
     "output_type": "execute_result"
    }
   ],
   "source": [
    "sig1 = first_csv[['ch1', 'ch2']]\n",
    "sig2 = second_csv[['ch1', 'ch2']]\n",
    "# Since most values in ch1(excitation signal) are 0, \n",
    "# just extract values in ch2(received signals) in both signal1 and signal2\n",
    "sig_ch2 = pd.concat([sig1['ch2'],sig2['ch2']], axis=1, ignore_index=True)\n",
    "sig_ch2 = sig_ch2.T\n",
    "sig_ch2.columns = [f'Pair_{i}' for i in range(1, 4001)]\n",
    "sig_ch2"
   ]
  },
  {
   "cell_type": "code",
   "execution_count": 163,
   "metadata": {},
   "outputs": [
    {
     "data": {
      "text/plain": [
       "(2, 4000)"
      ]
     },
     "execution_count": 163,
     "metadata": {},
     "output_type": "execute_result"
    }
   ],
   "source": [
    "sig_T5_56000 = sig_ch2.values\n",
    "sig_T5_56000.shape"
   ]
  },
  {
   "cell_type": "code",
   "execution_count": 164,
   "metadata": {},
   "outputs": [
    {
     "data": {
      "text/plain": [
       "(2, 4001)"
      ]
     },
     "execution_count": 164,
     "metadata": {},
     "output_type": "execute_result"
    }
   ],
   "source": [
    "# Add Y-value which is crack length(mm) for cycle 56000: 3.64mm\n",
    "y_value = 3.64\n",
    "crack_length_T5_56000 = np.full((sig_T5_56000.shape[0], 1), y_value)\n",
    "sig_T5_56000 = np.hstack((sig_T5_56000, crack_length_T5_56000))\n",
    "sig_T5_56000.shape"
   ]
  },
  {
   "cell_type": "code",
   "execution_count": 165,
   "metadata": {},
   "outputs": [
    {
     "data": {
      "text/plain": [
       "(64, 4001)"
      ]
     },
     "execution_count": 165,
     "metadata": {},
     "output_type": "execute_result"
    }
   ],
   "source": [
    "# add the extracted data in this cycle to the dataset array\n",
    "dataset_array = np.vstack([dataset_array, sig_T5_56000])\n",
    "dataset_array.shape"
   ]
  },
  {
   "cell_type": "markdown",
   "metadata": {},
   "source": [
    "## Specimen T6\n"
   ]
  },
  {
   "cell_type": "markdown",
   "metadata": {},
   "source": [
    "### Number of Cycle: 55000"
   ]
  },
  {
   "cell_type": "code",
   "execution_count": 166,
   "metadata": {},
   "outputs": [],
   "source": [
    "first_csv = pd.read_csv(data_path + training_sets[5] + t6_channels[0] + signals[0])\n",
    "second_csv = pd.read_csv(data_path + training_sets[5] + t6_channels[0] + signals[1])"
   ]
  },
  {
   "cell_type": "code",
   "execution_count": 167,
   "metadata": {},
   "outputs": [
    {
     "data": {
      "text/html": [
       "<div>\n",
       "<style scoped>\n",
       "    .dataframe tbody tr th:only-of-type {\n",
       "        vertical-align: middle;\n",
       "    }\n",
       "\n",
       "    .dataframe tbody tr th {\n",
       "        vertical-align: top;\n",
       "    }\n",
       "\n",
       "    .dataframe thead th {\n",
       "        text-align: right;\n",
       "    }\n",
       "</style>\n",
       "<table border=\"1\" class=\"dataframe\">\n",
       "  <thead>\n",
       "    <tr style=\"text-align: right;\">\n",
       "      <th></th>\n",
       "      <th>Pair_1</th>\n",
       "      <th>Pair_2</th>\n",
       "      <th>Pair_3</th>\n",
       "      <th>Pair_4</th>\n",
       "      <th>Pair_5</th>\n",
       "      <th>Pair_6</th>\n",
       "      <th>Pair_7</th>\n",
       "      <th>Pair_8</th>\n",
       "      <th>Pair_9</th>\n",
       "      <th>Pair_10</th>\n",
       "      <th>...</th>\n",
       "      <th>Pair_3991</th>\n",
       "      <th>Pair_3992</th>\n",
       "      <th>Pair_3993</th>\n",
       "      <th>Pair_3994</th>\n",
       "      <th>Pair_3995</th>\n",
       "      <th>Pair_3996</th>\n",
       "      <th>Pair_3997</th>\n",
       "      <th>Pair_3998</th>\n",
       "      <th>Pair_3999</th>\n",
       "      <th>Pair_4000</th>\n",
       "    </tr>\n",
       "  </thead>\n",
       "  <tbody>\n",
       "    <tr>\n",
       "      <th>0</th>\n",
       "      <td>0.0</td>\n",
       "      <td>-0.0024</td>\n",
       "      <td>-0.0016</td>\n",
       "      <td>-0.0024</td>\n",
       "      <td>-0.0032</td>\n",
       "      <td>-0.0024</td>\n",
       "      <td>-0.0056</td>\n",
       "      <td>-0.0056</td>\n",
       "      <td>-0.004</td>\n",
       "      <td>-0.0032</td>\n",
       "      <td>...</td>\n",
       "      <td>-0.1016</td>\n",
       "      <td>-0.1016</td>\n",
       "      <td>-0.1016</td>\n",
       "      <td>-0.1016</td>\n",
       "      <td>-0.1016</td>\n",
       "      <td>-0.1016</td>\n",
       "      <td>-0.1016</td>\n",
       "      <td>-0.1016</td>\n",
       "      <td>-0.1016</td>\n",
       "      <td>-0.1016</td>\n",
       "    </tr>\n",
       "    <tr>\n",
       "      <th>1</th>\n",
       "      <td>0.0</td>\n",
       "      <td>-0.0016</td>\n",
       "      <td>-0.0032</td>\n",
       "      <td>-0.0024</td>\n",
       "      <td>-0.0032</td>\n",
       "      <td>0.0000</td>\n",
       "      <td>-0.0024</td>\n",
       "      <td>-0.0024</td>\n",
       "      <td>0.000</td>\n",
       "      <td>-0.0024</td>\n",
       "      <td>...</td>\n",
       "      <td>-0.1016</td>\n",
       "      <td>-0.1016</td>\n",
       "      <td>-0.1016</td>\n",
       "      <td>-0.1016</td>\n",
       "      <td>-0.1016</td>\n",
       "      <td>-0.1016</td>\n",
       "      <td>-0.1016</td>\n",
       "      <td>-0.1016</td>\n",
       "      <td>-0.1016</td>\n",
       "      <td>-0.1016</td>\n",
       "    </tr>\n",
       "  </tbody>\n",
       "</table>\n",
       "<p>2 rows × 4000 columns</p>\n",
       "</div>"
      ],
      "text/plain": [
       "   Pair_1  Pair_2  Pair_3  Pair_4  Pair_5  Pair_6  Pair_7  Pair_8  Pair_9  \\\n",
       "0     0.0 -0.0024 -0.0016 -0.0024 -0.0032 -0.0024 -0.0056 -0.0056  -0.004   \n",
       "1     0.0 -0.0016 -0.0032 -0.0024 -0.0032  0.0000 -0.0024 -0.0024   0.000   \n",
       "\n",
       "   Pair_10  ...  Pair_3991  Pair_3992  Pair_3993  Pair_3994  Pair_3995  \\\n",
       "0  -0.0032  ...    -0.1016    -0.1016    -0.1016    -0.1016    -0.1016   \n",
       "1  -0.0024  ...    -0.1016    -0.1016    -0.1016    -0.1016    -0.1016   \n",
       "\n",
       "   Pair_3996  Pair_3997  Pair_3998  Pair_3999  Pair_4000  \n",
       "0    -0.1016    -0.1016    -0.1016    -0.1016    -0.1016  \n",
       "1    -0.1016    -0.1016    -0.1016    -0.1016    -0.1016  \n",
       "\n",
       "[2 rows x 4000 columns]"
      ]
     },
     "execution_count": 167,
     "metadata": {},
     "output_type": "execute_result"
    }
   ],
   "source": [
    "sig1 = first_csv[['ch1', 'ch2']]\n",
    "sig2 = second_csv[['ch1', 'ch2']]\n",
    "# Since most values in ch1(excitation signal) are 0, \n",
    "# just extract values in ch2(received signals) in both signal1 and signal2\n",
    "sig_ch2 = pd.concat([sig1['ch2'],sig2['ch2']], axis=1, ignore_index=True)\n",
    "sig_ch2 = sig_ch2.T\n",
    "sig_ch2.columns = [f'Pair_{i}' for i in range(1, 4001)]\n",
    "sig_ch2"
   ]
  },
  {
   "cell_type": "code",
   "execution_count": 168,
   "metadata": {},
   "outputs": [
    {
     "data": {
      "text/plain": [
       "(2, 4000)"
      ]
     },
     "execution_count": 168,
     "metadata": {},
     "output_type": "execute_result"
    }
   ],
   "source": [
    "sig_T6_55000 = sig_ch2.values\n",
    "sig_T6_55000.shape"
   ]
  },
  {
   "cell_type": "code",
   "execution_count": 169,
   "metadata": {},
   "outputs": [
    {
     "data": {
      "text/plain": [
       "(2, 4001)"
      ]
     },
     "execution_count": 169,
     "metadata": {},
     "output_type": "execute_result"
    }
   ],
   "source": [
    "# Add Y-value which is crack length(mm) for cycle 55000: 0mm\n",
    "y_value = 0\n",
    "crack_length_T6_55000 = np.full((sig_T6_55000.shape[0], 1), y_value)\n",
    "sig_T6_55000 = np.hstack((sig_T6_55000, crack_length_T6_55000))\n",
    "sig_T6_55000.shape"
   ]
  },
  {
   "cell_type": "code",
   "execution_count": 170,
   "metadata": {},
   "outputs": [
    {
     "data": {
      "text/plain": [
       "(66, 4001)"
      ]
     },
     "execution_count": 170,
     "metadata": {},
     "output_type": "execute_result"
    }
   ],
   "source": [
    "# add the extracted data in this cycle to the dataset array\n",
    "dataset_array = np.vstack([dataset_array, sig_T6_55000])\n",
    "dataset_array.shape"
   ]
  },
  {
   "cell_type": "markdown",
   "metadata": {},
   "source": [
    "### Number of Cycle: 60078"
   ]
  },
  {
   "cell_type": "code",
   "execution_count": 171,
   "metadata": {},
   "outputs": [],
   "source": [
    "first_csv = pd.read_csv(data_path + training_sets[5] + t6_channels[1] + signals[0])\n",
    "second_csv = pd.read_csv(data_path + training_sets[5] + t6_channels[1] + signals[1])"
   ]
  },
  {
   "cell_type": "code",
   "execution_count": 172,
   "metadata": {},
   "outputs": [
    {
     "data": {
      "text/html": [
       "<div>\n",
       "<style scoped>\n",
       "    .dataframe tbody tr th:only-of-type {\n",
       "        vertical-align: middle;\n",
       "    }\n",
       "\n",
       "    .dataframe tbody tr th {\n",
       "        vertical-align: top;\n",
       "    }\n",
       "\n",
       "    .dataframe thead th {\n",
       "        text-align: right;\n",
       "    }\n",
       "</style>\n",
       "<table border=\"1\" class=\"dataframe\">\n",
       "  <thead>\n",
       "    <tr style=\"text-align: right;\">\n",
       "      <th></th>\n",
       "      <th>Pair_1</th>\n",
       "      <th>Pair_2</th>\n",
       "      <th>Pair_3</th>\n",
       "      <th>Pair_4</th>\n",
       "      <th>Pair_5</th>\n",
       "      <th>Pair_6</th>\n",
       "      <th>Pair_7</th>\n",
       "      <th>Pair_8</th>\n",
       "      <th>Pair_9</th>\n",
       "      <th>Pair_10</th>\n",
       "      <th>...</th>\n",
       "      <th>Pair_3991</th>\n",
       "      <th>Pair_3992</th>\n",
       "      <th>Pair_3993</th>\n",
       "      <th>Pair_3994</th>\n",
       "      <th>Pair_3995</th>\n",
       "      <th>Pair_3996</th>\n",
       "      <th>Pair_3997</th>\n",
       "      <th>Pair_3998</th>\n",
       "      <th>Pair_3999</th>\n",
       "      <th>Pair_4000</th>\n",
       "    </tr>\n",
       "  </thead>\n",
       "  <tbody>\n",
       "    <tr>\n",
       "      <th>0</th>\n",
       "      <td>0.000</td>\n",
       "      <td>-0.008</td>\n",
       "      <td>0.004</td>\n",
       "      <td>0.000</td>\n",
       "      <td>0.0</td>\n",
       "      <td>0.000</td>\n",
       "      <td>0.000</td>\n",
       "      <td>0.000</td>\n",
       "      <td>-0.004</td>\n",
       "      <td>0.002</td>\n",
       "      <td>...</td>\n",
       "      <td>-0.144</td>\n",
       "      <td>-0.158</td>\n",
       "      <td>-0.168</td>\n",
       "      <td>-0.178</td>\n",
       "      <td>-0.190</td>\n",
       "      <td>-0.194</td>\n",
       "      <td>-0.200</td>\n",
       "      <td>-0.204</td>\n",
       "      <td>-0.204</td>\n",
       "      <td>-0.206</td>\n",
       "    </tr>\n",
       "    <tr>\n",
       "      <th>1</th>\n",
       "      <td>0.002</td>\n",
       "      <td>-0.008</td>\n",
       "      <td>0.002</td>\n",
       "      <td>-0.006</td>\n",
       "      <td>0.0</td>\n",
       "      <td>-0.002</td>\n",
       "      <td>0.002</td>\n",
       "      <td>-0.008</td>\n",
       "      <td>0.002</td>\n",
       "      <td>0.000</td>\n",
       "      <td>...</td>\n",
       "      <td>-0.148</td>\n",
       "      <td>-0.160</td>\n",
       "      <td>-0.166</td>\n",
       "      <td>-0.176</td>\n",
       "      <td>-0.188</td>\n",
       "      <td>-0.188</td>\n",
       "      <td>-0.196</td>\n",
       "      <td>-0.194</td>\n",
       "      <td>-0.216</td>\n",
       "      <td>-0.196</td>\n",
       "    </tr>\n",
       "  </tbody>\n",
       "</table>\n",
       "<p>2 rows × 4000 columns</p>\n",
       "</div>"
      ],
      "text/plain": [
       "   Pair_1  Pair_2  Pair_3  Pair_4  Pair_5  Pair_6  Pair_7  Pair_8  Pair_9  \\\n",
       "0   0.000  -0.008   0.004   0.000     0.0   0.000   0.000   0.000  -0.004   \n",
       "1   0.002  -0.008   0.002  -0.006     0.0  -0.002   0.002  -0.008   0.002   \n",
       "\n",
       "   Pair_10  ...  Pair_3991  Pair_3992  Pair_3993  Pair_3994  Pair_3995  \\\n",
       "0    0.002  ...     -0.144     -0.158     -0.168     -0.178     -0.190   \n",
       "1    0.000  ...     -0.148     -0.160     -0.166     -0.176     -0.188   \n",
       "\n",
       "   Pair_3996  Pair_3997  Pair_3998  Pair_3999  Pair_4000  \n",
       "0     -0.194     -0.200     -0.204     -0.204     -0.206  \n",
       "1     -0.188     -0.196     -0.194     -0.216     -0.196  \n",
       "\n",
       "[2 rows x 4000 columns]"
      ]
     },
     "execution_count": 172,
     "metadata": {},
     "output_type": "execute_result"
    }
   ],
   "source": [
    "sig1 = first_csv[['ch1', 'ch2']]\n",
    "sig2 = second_csv[['ch1', 'ch2']]\n",
    "# Since most values in ch1(excitation signal) are 0, \n",
    "# just extract values in ch2(received signals) in both signal1 and signal2\n",
    "sig_ch2 = pd.concat([sig1['ch2'],sig2['ch2']], axis=1, ignore_index=True)\n",
    "sig_ch2 = sig_ch2.T\n",
    "sig_ch2.columns = [f'Pair_{i}' for i in range(1, 4001)]\n",
    "sig_ch2"
   ]
  },
  {
   "cell_type": "code",
   "execution_count": 173,
   "metadata": {},
   "outputs": [
    {
     "data": {
      "text/plain": [
       "(2, 4000)"
      ]
     },
     "execution_count": 173,
     "metadata": {},
     "output_type": "execute_result"
    }
   ],
   "source": [
    "sig_T6_60078 = sig_ch2.values\n",
    "sig_T6_60078.shape"
   ]
  },
  {
   "cell_type": "code",
   "execution_count": 174,
   "metadata": {},
   "outputs": [
    {
     "data": {
      "text/plain": [
       "(2, 4001)"
      ]
     },
     "execution_count": 174,
     "metadata": {},
     "output_type": "execute_result"
    }
   ],
   "source": [
    "# Add Y-value which is crack length(mm) for cycle 60078: 0.82mm\n",
    "y_value = 0.82\n",
    "crack_length_T6_60078 = np.full((sig_T6_60078.shape[0], 1), y_value)\n",
    "sig_T6_60078 = np.hstack((sig_T6_60078, crack_length_T6_60078))\n",
    "sig_T6_60078.shape"
   ]
  },
  {
   "cell_type": "code",
   "execution_count": 175,
   "metadata": {},
   "outputs": [
    {
     "data": {
      "text/plain": [
       "(68, 4001)"
      ]
     },
     "execution_count": 175,
     "metadata": {},
     "output_type": "execute_result"
    }
   ],
   "source": [
    "# add the extracted data in this cycle to the dataset array\n",
    "dataset_array = np.vstack([dataset_array, sig_T6_60078])\n",
    "dataset_array.shape"
   ]
  },
  {
   "cell_type": "markdown",
   "metadata": {},
   "source": [
    "### Number of Cycle: 68091"
   ]
  },
  {
   "cell_type": "code",
   "execution_count": 176,
   "metadata": {},
   "outputs": [],
   "source": [
    "first_csv = pd.read_csv(data_path + training_sets[5] + t6_channels[2] + signals[0])\n",
    "second_csv = pd.read_csv(data_path + training_sets[5] + t6_channels[2] + signals[1])"
   ]
  },
  {
   "cell_type": "code",
   "execution_count": 177,
   "metadata": {},
   "outputs": [
    {
     "data": {
      "text/html": [
       "<div>\n",
       "<style scoped>\n",
       "    .dataframe tbody tr th:only-of-type {\n",
       "        vertical-align: middle;\n",
       "    }\n",
       "\n",
       "    .dataframe tbody tr th {\n",
       "        vertical-align: top;\n",
       "    }\n",
       "\n",
       "    .dataframe thead th {\n",
       "        text-align: right;\n",
       "    }\n",
       "</style>\n",
       "<table border=\"1\" class=\"dataframe\">\n",
       "  <thead>\n",
       "    <tr style=\"text-align: right;\">\n",
       "      <th></th>\n",
       "      <th>Pair_1</th>\n",
       "      <th>Pair_2</th>\n",
       "      <th>Pair_3</th>\n",
       "      <th>Pair_4</th>\n",
       "      <th>Pair_5</th>\n",
       "      <th>Pair_6</th>\n",
       "      <th>Pair_7</th>\n",
       "      <th>Pair_8</th>\n",
       "      <th>Pair_9</th>\n",
       "      <th>Pair_10</th>\n",
       "      <th>...</th>\n",
       "      <th>Pair_3991</th>\n",
       "      <th>Pair_3992</th>\n",
       "      <th>Pair_3993</th>\n",
       "      <th>Pair_3994</th>\n",
       "      <th>Pair_3995</th>\n",
       "      <th>Pair_3996</th>\n",
       "      <th>Pair_3997</th>\n",
       "      <th>Pair_3998</th>\n",
       "      <th>Pair_3999</th>\n",
       "      <th>Pair_4000</th>\n",
       "    </tr>\n",
       "  </thead>\n",
       "  <tbody>\n",
       "    <tr>\n",
       "      <th>0</th>\n",
       "      <td>-0.0032</td>\n",
       "      <td>-0.0024</td>\n",
       "      <td>-0.0024</td>\n",
       "      <td>-0.0040</td>\n",
       "      <td>-0.0024</td>\n",
       "      <td>0.0000</td>\n",
       "      <td>-0.0032</td>\n",
       "      <td>0.0000</td>\n",
       "      <td>-0.0040</td>\n",
       "      <td>-0.0024</td>\n",
       "      <td>...</td>\n",
       "      <td>-0.1016</td>\n",
       "      <td>-0.1016</td>\n",
       "      <td>-0.1016</td>\n",
       "      <td>-0.1016</td>\n",
       "      <td>-0.1016</td>\n",
       "      <td>-0.1016</td>\n",
       "      <td>-0.1016</td>\n",
       "      <td>-0.1016</td>\n",
       "      <td>-0.1016</td>\n",
       "      <td>-0.1016</td>\n",
       "    </tr>\n",
       "    <tr>\n",
       "      <th>1</th>\n",
       "      <td>-0.0040</td>\n",
       "      <td>0.0016</td>\n",
       "      <td>-0.0064</td>\n",
       "      <td>-0.0016</td>\n",
       "      <td>-0.0016</td>\n",
       "      <td>-0.0032</td>\n",
       "      <td>-0.0024</td>\n",
       "      <td>-0.0024</td>\n",
       "      <td>-0.0048</td>\n",
       "      <td>0.0000</td>\n",
       "      <td>...</td>\n",
       "      <td>-0.0968</td>\n",
       "      <td>-0.1016</td>\n",
       "      <td>-0.1016</td>\n",
       "      <td>-0.1016</td>\n",
       "      <td>-0.1016</td>\n",
       "      <td>-0.1016</td>\n",
       "      <td>-0.1016</td>\n",
       "      <td>-0.1016</td>\n",
       "      <td>-0.1016</td>\n",
       "      <td>-0.1016</td>\n",
       "    </tr>\n",
       "  </tbody>\n",
       "</table>\n",
       "<p>2 rows × 4000 columns</p>\n",
       "</div>"
      ],
      "text/plain": [
       "   Pair_1  Pair_2  Pair_3  Pair_4  Pair_5  Pair_6  Pair_7  Pair_8  Pair_9  \\\n",
       "0 -0.0032 -0.0024 -0.0024 -0.0040 -0.0024  0.0000 -0.0032  0.0000 -0.0040   \n",
       "1 -0.0040  0.0016 -0.0064 -0.0016 -0.0016 -0.0032 -0.0024 -0.0024 -0.0048   \n",
       "\n",
       "   Pair_10  ...  Pair_3991  Pair_3992  Pair_3993  Pair_3994  Pair_3995  \\\n",
       "0  -0.0024  ...    -0.1016    -0.1016    -0.1016    -0.1016    -0.1016   \n",
       "1   0.0000  ...    -0.0968    -0.1016    -0.1016    -0.1016    -0.1016   \n",
       "\n",
       "   Pair_3996  Pair_3997  Pair_3998  Pair_3999  Pair_4000  \n",
       "0    -0.1016    -0.1016    -0.1016    -0.1016    -0.1016  \n",
       "1    -0.1016    -0.1016    -0.1016    -0.1016    -0.1016  \n",
       "\n",
       "[2 rows x 4000 columns]"
      ]
     },
     "execution_count": 177,
     "metadata": {},
     "output_type": "execute_result"
    }
   ],
   "source": [
    "sig1 = first_csv[['ch1', 'ch2']]\n",
    "sig2 = second_csv[['ch1', 'ch2']]\n",
    "# Since most values in ch1(excitation signal) are 0, \n",
    "# just extract values in ch2(received signals) in both signal1 and signal2\n",
    "sig_ch2 = pd.concat([sig1['ch2'],sig2['ch2']], axis=1, ignore_index=True)\n",
    "sig_ch2 = sig_ch2.T\n",
    "sig_ch2.columns = [f'Pair_{i}' for i in range(1, 4001)]\n",
    "sig_ch2"
   ]
  },
  {
   "cell_type": "code",
   "execution_count": 178,
   "metadata": {},
   "outputs": [
    {
     "data": {
      "text/plain": [
       "(2, 4000)"
      ]
     },
     "execution_count": 178,
     "metadata": {},
     "output_type": "execute_result"
    }
   ],
   "source": [
    "sig_T6_68091 = sig_ch2.values\n",
    "sig_T6_68091.shape"
   ]
  },
  {
   "cell_type": "code",
   "execution_count": 179,
   "metadata": {},
   "outputs": [
    {
     "data": {
      "text/plain": [
       "(2, 4001)"
      ]
     },
     "execution_count": 179,
     "metadata": {},
     "output_type": "execute_result"
    }
   ],
   "source": [
    "# Add Y-value which is crack length(mm) for cycle 68091: 2.36mm\n",
    "y_value = 2.36\n",
    "crack_length_T6_68091 = np.full((sig_T6_68091.shape[0], 1), y_value)\n",
    "sig_T6_68091 = np.hstack((sig_T6_68091, crack_length_T6_68091))\n",
    "sig_T6_68091.shape"
   ]
  },
  {
   "cell_type": "code",
   "execution_count": 180,
   "metadata": {},
   "outputs": [
    {
     "data": {
      "text/plain": [
       "(70, 4001)"
      ]
     },
     "execution_count": 180,
     "metadata": {},
     "output_type": "execute_result"
    }
   ],
   "source": [
    "# add the extracted data in this cycle to the dataset array\n",
    "dataset_array = np.vstack([dataset_array, sig_T6_68091])\n",
    "dataset_array.shape"
   ]
  },
  {
   "cell_type": "markdown",
   "metadata": {},
   "source": [
    "### Number of Cycle: 69018"
   ]
  },
  {
   "cell_type": "code",
   "execution_count": 181,
   "metadata": {},
   "outputs": [],
   "source": [
    "first_csv = pd.read_csv(data_path + training_sets[5] + t6_channels[3] + signals[0])\n",
    "second_csv = pd.read_csv(data_path + training_sets[5] + t6_channels[3] + signals[1])"
   ]
  },
  {
   "cell_type": "code",
   "execution_count": 182,
   "metadata": {},
   "outputs": [
    {
     "data": {
      "text/html": [
       "<div>\n",
       "<style scoped>\n",
       "    .dataframe tbody tr th:only-of-type {\n",
       "        vertical-align: middle;\n",
       "    }\n",
       "\n",
       "    .dataframe tbody tr th {\n",
       "        vertical-align: top;\n",
       "    }\n",
       "\n",
       "    .dataframe thead th {\n",
       "        text-align: right;\n",
       "    }\n",
       "</style>\n",
       "<table border=\"1\" class=\"dataframe\">\n",
       "  <thead>\n",
       "    <tr style=\"text-align: right;\">\n",
       "      <th></th>\n",
       "      <th>Pair_1</th>\n",
       "      <th>Pair_2</th>\n",
       "      <th>Pair_3</th>\n",
       "      <th>Pair_4</th>\n",
       "      <th>Pair_5</th>\n",
       "      <th>Pair_6</th>\n",
       "      <th>Pair_7</th>\n",
       "      <th>Pair_8</th>\n",
       "      <th>Pair_9</th>\n",
       "      <th>Pair_10</th>\n",
       "      <th>...</th>\n",
       "      <th>Pair_3991</th>\n",
       "      <th>Pair_3992</th>\n",
       "      <th>Pair_3993</th>\n",
       "      <th>Pair_3994</th>\n",
       "      <th>Pair_3995</th>\n",
       "      <th>Pair_3996</th>\n",
       "      <th>Pair_3997</th>\n",
       "      <th>Pair_3998</th>\n",
       "      <th>Pair_3999</th>\n",
       "      <th>Pair_4000</th>\n",
       "    </tr>\n",
       "  </thead>\n",
       "  <tbody>\n",
       "    <tr>\n",
       "      <th>0</th>\n",
       "      <td>-0.004</td>\n",
       "      <td>0.002</td>\n",
       "      <td>0.000</td>\n",
       "      <td>-0.002</td>\n",
       "      <td>0.0</td>\n",
       "      <td>-0.006</td>\n",
       "      <td>0.000</td>\n",
       "      <td>-0.002</td>\n",
       "      <td>0.002</td>\n",
       "      <td>-0.004</td>\n",
       "      <td>...</td>\n",
       "      <td>-0.080</td>\n",
       "      <td>-0.096</td>\n",
       "      <td>-0.110</td>\n",
       "      <td>-0.128</td>\n",
       "      <td>-0.140</td>\n",
       "      <td>-0.152</td>\n",
       "      <td>-0.164</td>\n",
       "      <td>-0.172</td>\n",
       "      <td>-0.180</td>\n",
       "      <td>-0.188</td>\n",
       "    </tr>\n",
       "    <tr>\n",
       "      <th>1</th>\n",
       "      <td>-0.002</td>\n",
       "      <td>0.000</td>\n",
       "      <td>-0.004</td>\n",
       "      <td>-0.002</td>\n",
       "      <td>0.0</td>\n",
       "      <td>-0.006</td>\n",
       "      <td>-0.004</td>\n",
       "      <td>0.000</td>\n",
       "      <td>-0.004</td>\n",
       "      <td>-0.006</td>\n",
       "      <td>...</td>\n",
       "      <td>-0.076</td>\n",
       "      <td>-0.088</td>\n",
       "      <td>-0.108</td>\n",
       "      <td>-0.124</td>\n",
       "      <td>-0.126</td>\n",
       "      <td>-0.146</td>\n",
       "      <td>-0.156</td>\n",
       "      <td>-0.172</td>\n",
       "      <td>-0.174</td>\n",
       "      <td>-0.176</td>\n",
       "    </tr>\n",
       "  </tbody>\n",
       "</table>\n",
       "<p>2 rows × 4000 columns</p>\n",
       "</div>"
      ],
      "text/plain": [
       "   Pair_1  Pair_2  Pair_3  Pair_4  Pair_5  Pair_6  Pair_7  Pair_8  Pair_9  \\\n",
       "0  -0.004   0.002   0.000  -0.002     0.0  -0.006   0.000  -0.002   0.002   \n",
       "1  -0.002   0.000  -0.004  -0.002     0.0  -0.006  -0.004   0.000  -0.004   \n",
       "\n",
       "   Pair_10  ...  Pair_3991  Pair_3992  Pair_3993  Pair_3994  Pair_3995  \\\n",
       "0   -0.004  ...     -0.080     -0.096     -0.110     -0.128     -0.140   \n",
       "1   -0.006  ...     -0.076     -0.088     -0.108     -0.124     -0.126   \n",
       "\n",
       "   Pair_3996  Pair_3997  Pair_3998  Pair_3999  Pair_4000  \n",
       "0     -0.152     -0.164     -0.172     -0.180     -0.188  \n",
       "1     -0.146     -0.156     -0.172     -0.174     -0.176  \n",
       "\n",
       "[2 rows x 4000 columns]"
      ]
     },
     "execution_count": 182,
     "metadata": {},
     "output_type": "execute_result"
    }
   ],
   "source": [
    "sig1 = first_csv[['ch1', 'ch2']]\n",
    "sig2 = second_csv[['ch1', 'ch2']]\n",
    "# Since most values in ch1(excitation signal) are 0, \n",
    "# just extract values in ch2(received signals) in both signal1 and signal2\n",
    "sig_ch2 = pd.concat([sig1['ch2'],sig2['ch2']], axis=1, ignore_index=True)\n",
    "sig_ch2 = sig_ch2.T\n",
    "sig_ch2.columns = [f'Pair_{i}' for i in range(1, 4001)]\n",
    "sig_ch2"
   ]
  },
  {
   "cell_type": "code",
   "execution_count": 183,
   "metadata": {},
   "outputs": [
    {
     "data": {
      "text/plain": [
       "(2, 4000)"
      ]
     },
     "execution_count": 183,
     "metadata": {},
     "output_type": "execute_result"
    }
   ],
   "source": [
    "sig_T6_69018 = sig_ch2.values\n",
    "sig_T6_69018.shape"
   ]
  },
  {
   "cell_type": "code",
   "execution_count": 184,
   "metadata": {},
   "outputs": [
    {
     "data": {
      "text/plain": [
       "(2, 4001)"
      ]
     },
     "execution_count": 184,
     "metadata": {},
     "output_type": "execute_result"
    }
   ],
   "source": [
    "# Add Y-value which is crack length(mm) for cycle 69018: 3.36mm\n",
    "y_value = 3.36\n",
    "crack_length_T6_69018 = np.full((sig_T6_69018.shape[0], 1), y_value)\n",
    "sig_T6_69018 = np.hstack((sig_T6_69018, crack_length_T6_69018))\n",
    "sig_T6_69018.shape"
   ]
  },
  {
   "cell_type": "code",
   "execution_count": 185,
   "metadata": {},
   "outputs": [
    {
     "data": {
      "text/plain": [
       "(72, 4001)"
      ]
     },
     "execution_count": 185,
     "metadata": {},
     "output_type": "execute_result"
    }
   ],
   "source": [
    "# add the extracted data in this cycle to the dataset array\n",
    "dataset_array = np.vstack([dataset_array, sig_T6_69018])\n",
    "dataset_array.shape"
   ]
  },
  {
   "cell_type": "markdown",
   "metadata": {},
   "source": [
    "### Number of Cycle: 72516"
   ]
  },
  {
   "cell_type": "code",
   "execution_count": 186,
   "metadata": {},
   "outputs": [],
   "source": [
    "first_csv = pd.read_csv(data_path + training_sets[5] + t6_channels[4] + signals[0])\n",
    "second_csv = pd.read_csv(data_path + training_sets[5] + t6_channels[4] + signals[1])"
   ]
  },
  {
   "cell_type": "code",
   "execution_count": 187,
   "metadata": {},
   "outputs": [
    {
     "data": {
      "text/html": [
       "<div>\n",
       "<style scoped>\n",
       "    .dataframe tbody tr th:only-of-type {\n",
       "        vertical-align: middle;\n",
       "    }\n",
       "\n",
       "    .dataframe tbody tr th {\n",
       "        vertical-align: top;\n",
       "    }\n",
       "\n",
       "    .dataframe thead th {\n",
       "        text-align: right;\n",
       "    }\n",
       "</style>\n",
       "<table border=\"1\" class=\"dataframe\">\n",
       "  <thead>\n",
       "    <tr style=\"text-align: right;\">\n",
       "      <th></th>\n",
       "      <th>Pair_1</th>\n",
       "      <th>Pair_2</th>\n",
       "      <th>Pair_3</th>\n",
       "      <th>Pair_4</th>\n",
       "      <th>Pair_5</th>\n",
       "      <th>Pair_6</th>\n",
       "      <th>Pair_7</th>\n",
       "      <th>Pair_8</th>\n",
       "      <th>Pair_9</th>\n",
       "      <th>Pair_10</th>\n",
       "      <th>...</th>\n",
       "      <th>Pair_3991</th>\n",
       "      <th>Pair_3992</th>\n",
       "      <th>Pair_3993</th>\n",
       "      <th>Pair_3994</th>\n",
       "      <th>Pair_3995</th>\n",
       "      <th>Pair_3996</th>\n",
       "      <th>Pair_3997</th>\n",
       "      <th>Pair_3998</th>\n",
       "      <th>Pair_3999</th>\n",
       "      <th>Pair_4000</th>\n",
       "    </tr>\n",
       "  </thead>\n",
       "  <tbody>\n",
       "    <tr>\n",
       "      <th>0</th>\n",
       "      <td>0.0</td>\n",
       "      <td>0.0</td>\n",
       "      <td>0.0000</td>\n",
       "      <td>0.0</td>\n",
       "      <td>0.0</td>\n",
       "      <td>0.0</td>\n",
       "      <td>0.0000</td>\n",
       "      <td>0.0000</td>\n",
       "      <td>0.0000</td>\n",
       "      <td>0.0</td>\n",
       "      <td>...</td>\n",
       "      <td>0.0776</td>\n",
       "      <td>0.0712</td>\n",
       "      <td>0.0616</td>\n",
       "      <td>0.0560</td>\n",
       "      <td>0.0488</td>\n",
       "      <td>0.0424</td>\n",
       "      <td>0.0384</td>\n",
       "      <td>0.0304</td>\n",
       "      <td>0.0232</td>\n",
       "      <td>0.0112</td>\n",
       "    </tr>\n",
       "    <tr>\n",
       "      <th>1</th>\n",
       "      <td>0.0</td>\n",
       "      <td>0.0</td>\n",
       "      <td>-0.0016</td>\n",
       "      <td>0.0</td>\n",
       "      <td>0.0</td>\n",
       "      <td>0.0</td>\n",
       "      <td>0.0016</td>\n",
       "      <td>-0.0024</td>\n",
       "      <td>0.0016</td>\n",
       "      <td>0.0</td>\n",
       "      <td>...</td>\n",
       "      <td>0.0672</td>\n",
       "      <td>0.0656</td>\n",
       "      <td>0.0608</td>\n",
       "      <td>0.0544</td>\n",
       "      <td>0.0472</td>\n",
       "      <td>0.0408</td>\n",
       "      <td>0.0312</td>\n",
       "      <td>0.0208</td>\n",
       "      <td>0.0176</td>\n",
       "      <td>0.0048</td>\n",
       "    </tr>\n",
       "  </tbody>\n",
       "</table>\n",
       "<p>2 rows × 4000 columns</p>\n",
       "</div>"
      ],
      "text/plain": [
       "   Pair_1  Pair_2  Pair_3  Pair_4  Pair_5  Pair_6  Pair_7  Pair_8  Pair_9  \\\n",
       "0     0.0     0.0  0.0000     0.0     0.0     0.0  0.0000  0.0000  0.0000   \n",
       "1     0.0     0.0 -0.0016     0.0     0.0     0.0  0.0016 -0.0024  0.0016   \n",
       "\n",
       "   Pair_10  ...  Pair_3991  Pair_3992  Pair_3993  Pair_3994  Pair_3995  \\\n",
       "0      0.0  ...     0.0776     0.0712     0.0616     0.0560     0.0488   \n",
       "1      0.0  ...     0.0672     0.0656     0.0608     0.0544     0.0472   \n",
       "\n",
       "   Pair_3996  Pair_3997  Pair_3998  Pair_3999  Pair_4000  \n",
       "0     0.0424     0.0384     0.0304     0.0232     0.0112  \n",
       "1     0.0408     0.0312     0.0208     0.0176     0.0048  \n",
       "\n",
       "[2 rows x 4000 columns]"
      ]
     },
     "execution_count": 187,
     "metadata": {},
     "output_type": "execute_result"
    }
   ],
   "source": [
    "sig1 = first_csv[['ch1', 'ch2']]\n",
    "sig2 = second_csv[['ch1', 'ch2']]\n",
    "# Since most values in ch1(excitation signal) are 0, \n",
    "# just extract values in ch2(received signals) in both signal1 and signal2\n",
    "sig_ch2 = pd.concat([sig1['ch2'],sig2['ch2']], axis=1, ignore_index=True)\n",
    "sig_ch2 = sig_ch2.T\n",
    "sig_ch2.columns = [f'Pair_{i}' for i in range(1, 4001)]\n",
    "sig_ch2"
   ]
  },
  {
   "cell_type": "code",
   "execution_count": 188,
   "metadata": {},
   "outputs": [
    {
     "data": {
      "text/plain": [
       "(2, 4000)"
      ]
     },
     "execution_count": 188,
     "metadata": {},
     "output_type": "execute_result"
    }
   ],
   "source": [
    "sig_T6_72516 = sig_ch2.values\n",
    "sig_T6_72516.shape"
   ]
  },
  {
   "cell_type": "code",
   "execution_count": 189,
   "metadata": {},
   "outputs": [
    {
     "data": {
      "text/plain": [
       "(2, 4001)"
      ]
     },
     "execution_count": 189,
     "metadata": {},
     "output_type": "execute_result"
    }
   ],
   "source": [
    "# Add Y-value which is crack length(mm) for cycle 72516: 4.65mm\n",
    "y_value = 4.65\n",
    "crack_length_T6_72516 = np.full((sig_T6_72516.shape[0], 1), y_value)\n",
    "sig_T6_72516 = np.hstack((sig_T6_72516, crack_length_T6_72516))\n",
    "sig_T6_72516.shape"
   ]
  },
  {
   "cell_type": "code",
   "execution_count": 190,
   "metadata": {},
   "outputs": [
    {
     "data": {
      "text/plain": [
       "(74, 4001)"
      ]
     },
     "execution_count": 190,
     "metadata": {},
     "output_type": "execute_result"
    }
   ],
   "source": [
    "# add the extracted data in this cycle to the dataset array\n",
    "dataset_array = np.vstack([dataset_array, sig_T6_72516])\n",
    "dataset_array.shape"
   ]
  },
  {
   "cell_type": "markdown",
   "metadata": {},
   "source": [
    "### Number of Cycle: 73211"
   ]
  },
  {
   "cell_type": "code",
   "execution_count": 191,
   "metadata": {},
   "outputs": [],
   "source": [
    "first_csv = pd.read_csv(data_path + training_sets[5] + t6_channels[5] + signals[0])\n",
    "second_csv = pd.read_csv(data_path + training_sets[5] + t6_channels[5] + signals[1])"
   ]
  },
  {
   "cell_type": "code",
   "execution_count": 192,
   "metadata": {},
   "outputs": [
    {
     "data": {
      "text/html": [
       "<div>\n",
       "<style scoped>\n",
       "    .dataframe tbody tr th:only-of-type {\n",
       "        vertical-align: middle;\n",
       "    }\n",
       "\n",
       "    .dataframe tbody tr th {\n",
       "        vertical-align: top;\n",
       "    }\n",
       "\n",
       "    .dataframe thead th {\n",
       "        text-align: right;\n",
       "    }\n",
       "</style>\n",
       "<table border=\"1\" class=\"dataframe\">\n",
       "  <thead>\n",
       "    <tr style=\"text-align: right;\">\n",
       "      <th></th>\n",
       "      <th>Pair_1</th>\n",
       "      <th>Pair_2</th>\n",
       "      <th>Pair_3</th>\n",
       "      <th>Pair_4</th>\n",
       "      <th>Pair_5</th>\n",
       "      <th>Pair_6</th>\n",
       "      <th>Pair_7</th>\n",
       "      <th>Pair_8</th>\n",
       "      <th>Pair_9</th>\n",
       "      <th>Pair_10</th>\n",
       "      <th>...</th>\n",
       "      <th>Pair_3991</th>\n",
       "      <th>Pair_3992</th>\n",
       "      <th>Pair_3993</th>\n",
       "      <th>Pair_3994</th>\n",
       "      <th>Pair_3995</th>\n",
       "      <th>Pair_3996</th>\n",
       "      <th>Pair_3997</th>\n",
       "      <th>Pair_3998</th>\n",
       "      <th>Pair_3999</th>\n",
       "      <th>Pair_4000</th>\n",
       "    </tr>\n",
       "  </thead>\n",
       "  <tbody>\n",
       "    <tr>\n",
       "      <th>0</th>\n",
       "      <td>0.0016</td>\n",
       "      <td>0.0000</td>\n",
       "      <td>0.0000</td>\n",
       "      <td>0.0000</td>\n",
       "      <td>0.0000</td>\n",
       "      <td>0.0</td>\n",
       "      <td>0.0000</td>\n",
       "      <td>0.000</td>\n",
       "      <td>0.0000</td>\n",
       "      <td>0.0000</td>\n",
       "      <td>...</td>\n",
       "      <td>0.0456</td>\n",
       "      <td>0.0456</td>\n",
       "      <td>0.0424</td>\n",
       "      <td>0.0392</td>\n",
       "      <td>0.0320</td>\n",
       "      <td>0.0312</td>\n",
       "      <td>0.0232</td>\n",
       "      <td>0.0192</td>\n",
       "      <td>0.0152</td>\n",
       "      <td>0.0064</td>\n",
       "    </tr>\n",
       "    <tr>\n",
       "      <th>1</th>\n",
       "      <td>-0.0056</td>\n",
       "      <td>-0.0048</td>\n",
       "      <td>-0.0032</td>\n",
       "      <td>-0.0016</td>\n",
       "      <td>-0.0032</td>\n",
       "      <td>0.0</td>\n",
       "      <td>-0.0024</td>\n",
       "      <td>-0.004</td>\n",
       "      <td>-0.0016</td>\n",
       "      <td>-0.0056</td>\n",
       "      <td>...</td>\n",
       "      <td>0.0456</td>\n",
       "      <td>0.0384</td>\n",
       "      <td>0.0384</td>\n",
       "      <td>0.0296</td>\n",
       "      <td>0.0264</td>\n",
       "      <td>0.0264</td>\n",
       "      <td>0.0208</td>\n",
       "      <td>0.0064</td>\n",
       "      <td>0.0072</td>\n",
       "      <td>0.0000</td>\n",
       "    </tr>\n",
       "  </tbody>\n",
       "</table>\n",
       "<p>2 rows × 4000 columns</p>\n",
       "</div>"
      ],
      "text/plain": [
       "   Pair_1  Pair_2  Pair_3  Pair_4  Pair_5  Pair_6  Pair_7  Pair_8  Pair_9  \\\n",
       "0  0.0016  0.0000  0.0000  0.0000  0.0000     0.0  0.0000   0.000  0.0000   \n",
       "1 -0.0056 -0.0048 -0.0032 -0.0016 -0.0032     0.0 -0.0024  -0.004 -0.0016   \n",
       "\n",
       "   Pair_10  ...  Pair_3991  Pair_3992  Pair_3993  Pair_3994  Pair_3995  \\\n",
       "0   0.0000  ...     0.0456     0.0456     0.0424     0.0392     0.0320   \n",
       "1  -0.0056  ...     0.0456     0.0384     0.0384     0.0296     0.0264   \n",
       "\n",
       "   Pair_3996  Pair_3997  Pair_3998  Pair_3999  Pair_4000  \n",
       "0     0.0312     0.0232     0.0192     0.0152     0.0064  \n",
       "1     0.0264     0.0208     0.0064     0.0072     0.0000  \n",
       "\n",
       "[2 rows x 4000 columns]"
      ]
     },
     "execution_count": 192,
     "metadata": {},
     "output_type": "execute_result"
    }
   ],
   "source": [
    "sig1 = first_csv[['ch1', 'ch2']]\n",
    "sig2 = second_csv[['ch1', 'ch2']]\n",
    "# Since most values in ch1(excitation signal) are 0, \n",
    "# just extract values in ch2(received signals) in both signal1 and signal2\n",
    "sig_ch2 = pd.concat([sig1['ch2'],sig2['ch2']], axis=1, ignore_index=True)\n",
    "sig_ch2 = sig_ch2.T\n",
    "sig_ch2.columns = [f'Pair_{i}' for i in range(1, 4001)]\n",
    "sig_ch2"
   ]
  },
  {
   "cell_type": "code",
   "execution_count": 193,
   "metadata": {},
   "outputs": [
    {
     "data": {
      "text/plain": [
       "(2, 4000)"
      ]
     },
     "execution_count": 193,
     "metadata": {},
     "output_type": "execute_result"
    }
   ],
   "source": [
    "sig_T6_73211 = sig_ch2.values\n",
    "sig_T6_73211.shape"
   ]
  },
  {
   "cell_type": "code",
   "execution_count": 194,
   "metadata": {},
   "outputs": [
    {
     "data": {
      "text/plain": [
       "(2, 4001)"
      ]
     },
     "execution_count": 194,
     "metadata": {},
     "output_type": "execute_result"
    }
   ],
   "source": [
    "# Add Y-value which is crack length(mm) for cycle 73211: 5.08mm\n",
    "y_value = 5.08\n",
    "crack_length_T6_73211 = np.full((sig_T6_73211.shape[0], 1), y_value)\n",
    "sig_T6_73211 = np.hstack((sig_T6_73211, crack_length_T6_73211))\n",
    "sig_T6_73211.shape"
   ]
  },
  {
   "cell_type": "code",
   "execution_count": 195,
   "metadata": {},
   "outputs": [
    {
     "data": {
      "text/plain": [
       "(76, 4001)"
      ]
     },
     "execution_count": 195,
     "metadata": {},
     "output_type": "execute_result"
    }
   ],
   "source": [
    "# add the extracted data in this cycle to the dataset array\n",
    "dataset_array = np.vstack([dataset_array, sig_T6_73211])\n",
    "dataset_array.shape"
   ]
  },
  {
   "cell_type": "code",
   "execution_count": 196,
   "metadata": {},
   "outputs": [],
   "source": [
    "X_train = dataset_array[:, :-1]\n",
    "y_train = dataset_array[:, -1]"
   ]
  },
  {
   "cell_type": "code",
   "execution_count": 197,
   "metadata": {},
   "outputs": [
    {
     "data": {
      "text/plain": [
       "(76, 4000)"
      ]
     },
     "execution_count": 197,
     "metadata": {},
     "output_type": "execute_result"
    }
   ],
   "source": [
    "X_train.shape"
   ]
  },
  {
   "cell_type": "code",
   "execution_count": 198,
   "metadata": {},
   "outputs": [
    {
     "data": {
      "text/plain": [
       "(76,)"
      ]
     },
     "execution_count": 198,
     "metadata": {},
     "output_type": "execute_result"
    }
   ],
   "source": [
    "y_train.shape"
   ]
  },
  {
   "cell_type": "markdown",
   "metadata": {},
   "source": [
    "## PrepareTesting Dataset from T7"
   ]
  },
  {
   "cell_type": "code",
   "execution_count": 199,
   "metadata": {},
   "outputs": [],
   "source": [
    "# initiate an empty numpy array to build the testing dataset we need\n",
    "dataset_array_test_T7 = np.empty((0, 4001))"
   ]
  },
  {
   "cell_type": "markdown",
   "metadata": {},
   "source": [
    "### Number of Cycle: 36001"
   ]
  },
  {
   "cell_type": "code",
   "execution_count": 200,
   "metadata": {},
   "outputs": [],
   "source": [
    "first_csv = pd.read_csv(data_path + validation_sets[0] + t7_channels[0] + signals[0])\n",
    "second_csv = pd.read_csv(data_path + validation_sets[0] + t7_channels[0] + signals[1])"
   ]
  },
  {
   "cell_type": "code",
   "execution_count": 201,
   "metadata": {},
   "outputs": [
    {
     "data": {
      "text/html": [
       "<div>\n",
       "<style scoped>\n",
       "    .dataframe tbody tr th:only-of-type {\n",
       "        vertical-align: middle;\n",
       "    }\n",
       "\n",
       "    .dataframe tbody tr th {\n",
       "        vertical-align: top;\n",
       "    }\n",
       "\n",
       "    .dataframe thead th {\n",
       "        text-align: right;\n",
       "    }\n",
       "</style>\n",
       "<table border=\"1\" class=\"dataframe\">\n",
       "  <thead>\n",
       "    <tr style=\"text-align: right;\">\n",
       "      <th></th>\n",
       "      <th>Pair_1</th>\n",
       "      <th>Pair_2</th>\n",
       "      <th>Pair_3</th>\n",
       "      <th>Pair_4</th>\n",
       "      <th>Pair_5</th>\n",
       "      <th>Pair_6</th>\n",
       "      <th>Pair_7</th>\n",
       "      <th>Pair_8</th>\n",
       "      <th>Pair_9</th>\n",
       "      <th>Pair_10</th>\n",
       "      <th>...</th>\n",
       "      <th>Pair_3991</th>\n",
       "      <th>Pair_3992</th>\n",
       "      <th>Pair_3993</th>\n",
       "      <th>Pair_3994</th>\n",
       "      <th>Pair_3995</th>\n",
       "      <th>Pair_3996</th>\n",
       "      <th>Pair_3997</th>\n",
       "      <th>Pair_3998</th>\n",
       "      <th>Pair_3999</th>\n",
       "      <th>Pair_4000</th>\n",
       "    </tr>\n",
       "  </thead>\n",
       "  <tbody>\n",
       "    <tr>\n",
       "      <th>0</th>\n",
       "      <td>-0.006</td>\n",
       "      <td>-0.006</td>\n",
       "      <td>-0.006</td>\n",
       "      <td>-0.004</td>\n",
       "      <td>-0.004</td>\n",
       "      <td>-0.006</td>\n",
       "      <td>-0.006</td>\n",
       "      <td>-0.004</td>\n",
       "      <td>-0.004</td>\n",
       "      <td>-0.006</td>\n",
       "      <td>...</td>\n",
       "      <td>-0.014</td>\n",
       "      <td>-0.016</td>\n",
       "      <td>-0.024</td>\n",
       "      <td>-0.028</td>\n",
       "      <td>-0.036</td>\n",
       "      <td>-0.040</td>\n",
       "      <td>-0.042</td>\n",
       "      <td>-0.048</td>\n",
       "      <td>-0.052</td>\n",
       "      <td>-0.056</td>\n",
       "    </tr>\n",
       "    <tr>\n",
       "      <th>1</th>\n",
       "      <td>-0.012</td>\n",
       "      <td>-0.012</td>\n",
       "      <td>-0.010</td>\n",
       "      <td>-0.008</td>\n",
       "      <td>-0.014</td>\n",
       "      <td>-0.010</td>\n",
       "      <td>-0.010</td>\n",
       "      <td>-0.012</td>\n",
       "      <td>-0.012</td>\n",
       "      <td>-0.014</td>\n",
       "      <td>...</td>\n",
       "      <td>-0.014</td>\n",
       "      <td>-0.014</td>\n",
       "      <td>-0.024</td>\n",
       "      <td>-0.030</td>\n",
       "      <td>-0.030</td>\n",
       "      <td>-0.038</td>\n",
       "      <td>-0.042</td>\n",
       "      <td>-0.048</td>\n",
       "      <td>-0.048</td>\n",
       "      <td>-0.054</td>\n",
       "    </tr>\n",
       "  </tbody>\n",
       "</table>\n",
       "<p>2 rows × 4000 columns</p>\n",
       "</div>"
      ],
      "text/plain": [
       "   Pair_1  Pair_2  Pair_3  Pair_4  Pair_5  Pair_6  Pair_7  Pair_8  Pair_9  \\\n",
       "0  -0.006  -0.006  -0.006  -0.004  -0.004  -0.006  -0.006  -0.004  -0.004   \n",
       "1  -0.012  -0.012  -0.010  -0.008  -0.014  -0.010  -0.010  -0.012  -0.012   \n",
       "\n",
       "   Pair_10  ...  Pair_3991  Pair_3992  Pair_3993  Pair_3994  Pair_3995  \\\n",
       "0   -0.006  ...     -0.014     -0.016     -0.024     -0.028     -0.036   \n",
       "1   -0.014  ...     -0.014     -0.014     -0.024     -0.030     -0.030   \n",
       "\n",
       "   Pair_3996  Pair_3997  Pair_3998  Pair_3999  Pair_4000  \n",
       "0     -0.040     -0.042     -0.048     -0.052     -0.056  \n",
       "1     -0.038     -0.042     -0.048     -0.048     -0.054  \n",
       "\n",
       "[2 rows x 4000 columns]"
      ]
     },
     "execution_count": 201,
     "metadata": {},
     "output_type": "execute_result"
    }
   ],
   "source": [
    "sig1 = first_csv[['ch1', 'ch2']]\n",
    "sig2 = second_csv[['ch1', 'ch2']]\n",
    "# Since most values in ch1(excitation signal) are 0, \n",
    "# just extract values in ch2(received signals) in both signal1 and signal2\n",
    "sig_ch2 = pd.concat([sig1['ch2'],sig2['ch2']], axis=1, ignore_index=True)\n",
    "sig_ch2 = sig_ch2.T\n",
    "sig_ch2.columns = [f'Pair_{i}' for i in range(1, 4001)]\n",
    "sig_ch2"
   ]
  },
  {
   "cell_type": "code",
   "execution_count": 202,
   "metadata": {},
   "outputs": [
    {
     "data": {
      "text/plain": [
       "(2, 4000)"
      ]
     },
     "execution_count": 202,
     "metadata": {},
     "output_type": "execute_result"
    }
   ],
   "source": [
    "sig_T7_36001 = sig_ch2.values\n",
    "sig_T7_36001.shape"
   ]
  },
  {
   "cell_type": "code",
   "execution_count": 203,
   "metadata": {},
   "outputs": [
    {
     "data": {
      "text/plain": [
       "(2, 4001)"
      ]
     },
     "execution_count": 203,
     "metadata": {},
     "output_type": "execute_result"
    }
   ],
   "source": [
    "# Add Y-value which is crack length(mm) for cycle 36001: 0mm\n",
    "y_value = 0\n",
    "crack_length_T7_36001 = np.full((sig_T7_36001.shape[0], 1), y_value)\n",
    "sig_T7_36001 = np.hstack((sig_T7_36001, crack_length_T7_36001))\n",
    "sig_T7_36001.shape"
   ]
  },
  {
   "cell_type": "code",
   "execution_count": 204,
   "metadata": {},
   "outputs": [
    {
     "data": {
      "text/plain": [
       "(2, 4001)"
      ]
     },
     "execution_count": 204,
     "metadata": {},
     "output_type": "execute_result"
    }
   ],
   "source": [
    "# add the extracted data in this cycle to the dataset array\n",
    "dataset_array_test_T7 = np.vstack([dataset_array_test_T7, sig_T7_36001])\n",
    "dataset_array_test_T7.shape"
   ]
  },
  {
   "cell_type": "markdown",
   "metadata": {},
   "source": [
    "### Number of Cycle: 40167"
   ]
  },
  {
   "cell_type": "code",
   "execution_count": 205,
   "metadata": {},
   "outputs": [],
   "source": [
    "first_csv = pd.read_csv(data_path + validation_sets[0] + t7_channels[1] + signals[0])\n",
    "second_csv = pd.read_csv(data_path + validation_sets[0] + t7_channels[1] + signals[1])"
   ]
  },
  {
   "cell_type": "code",
   "execution_count": 206,
   "metadata": {},
   "outputs": [
    {
     "data": {
      "text/html": [
       "<div>\n",
       "<style scoped>\n",
       "    .dataframe tbody tr th:only-of-type {\n",
       "        vertical-align: middle;\n",
       "    }\n",
       "\n",
       "    .dataframe tbody tr th {\n",
       "        vertical-align: top;\n",
       "    }\n",
       "\n",
       "    .dataframe thead th {\n",
       "        text-align: right;\n",
       "    }\n",
       "</style>\n",
       "<table border=\"1\" class=\"dataframe\">\n",
       "  <thead>\n",
       "    <tr style=\"text-align: right;\">\n",
       "      <th></th>\n",
       "      <th>Pair_1</th>\n",
       "      <th>Pair_2</th>\n",
       "      <th>Pair_3</th>\n",
       "      <th>Pair_4</th>\n",
       "      <th>Pair_5</th>\n",
       "      <th>Pair_6</th>\n",
       "      <th>Pair_7</th>\n",
       "      <th>Pair_8</th>\n",
       "      <th>Pair_9</th>\n",
       "      <th>Pair_10</th>\n",
       "      <th>...</th>\n",
       "      <th>Pair_3991</th>\n",
       "      <th>Pair_3992</th>\n",
       "      <th>Pair_3993</th>\n",
       "      <th>Pair_3994</th>\n",
       "      <th>Pair_3995</th>\n",
       "      <th>Pair_3996</th>\n",
       "      <th>Pair_3997</th>\n",
       "      <th>Pair_3998</th>\n",
       "      <th>Pair_3999</th>\n",
       "      <th>Pair_4000</th>\n",
       "    </tr>\n",
       "  </thead>\n",
       "  <tbody>\n",
       "    <tr>\n",
       "      <th>0</th>\n",
       "      <td>-0.012</td>\n",
       "      <td>-0.006</td>\n",
       "      <td>-0.008</td>\n",
       "      <td>-0.016</td>\n",
       "      <td>-0.014</td>\n",
       "      <td>-0.006</td>\n",
       "      <td>-0.008</td>\n",
       "      <td>-0.014</td>\n",
       "      <td>-0.012</td>\n",
       "      <td>-0.008</td>\n",
       "      <td>...</td>\n",
       "      <td>-0.004</td>\n",
       "      <td>-0.022</td>\n",
       "      <td>-0.022</td>\n",
       "      <td>-0.028</td>\n",
       "      <td>-0.028</td>\n",
       "      <td>-0.044</td>\n",
       "      <td>-0.048</td>\n",
       "      <td>-0.038</td>\n",
       "      <td>-0.056</td>\n",
       "      <td>-0.060</td>\n",
       "    </tr>\n",
       "    <tr>\n",
       "      <th>1</th>\n",
       "      <td>-0.020</td>\n",
       "      <td>-0.014</td>\n",
       "      <td>-0.016</td>\n",
       "      <td>-0.014</td>\n",
       "      <td>-0.016</td>\n",
       "      <td>-0.016</td>\n",
       "      <td>-0.014</td>\n",
       "      <td>-0.014</td>\n",
       "      <td>-0.018</td>\n",
       "      <td>-0.016</td>\n",
       "      <td>...</td>\n",
       "      <td>-0.012</td>\n",
       "      <td>-0.020</td>\n",
       "      <td>-0.028</td>\n",
       "      <td>-0.028</td>\n",
       "      <td>-0.038</td>\n",
       "      <td>-0.044</td>\n",
       "      <td>-0.048</td>\n",
       "      <td>-0.048</td>\n",
       "      <td>-0.058</td>\n",
       "      <td>-0.064</td>\n",
       "    </tr>\n",
       "  </tbody>\n",
       "</table>\n",
       "<p>2 rows × 4000 columns</p>\n",
       "</div>"
      ],
      "text/plain": [
       "   Pair_1  Pair_2  Pair_3  Pair_4  Pair_5  Pair_6  Pair_7  Pair_8  Pair_9  \\\n",
       "0  -0.012  -0.006  -0.008  -0.016  -0.014  -0.006  -0.008  -0.014  -0.012   \n",
       "1  -0.020  -0.014  -0.016  -0.014  -0.016  -0.016  -0.014  -0.014  -0.018   \n",
       "\n",
       "   Pair_10  ...  Pair_3991  Pair_3992  Pair_3993  Pair_3994  Pair_3995  \\\n",
       "0   -0.008  ...     -0.004     -0.022     -0.022     -0.028     -0.028   \n",
       "1   -0.016  ...     -0.012     -0.020     -0.028     -0.028     -0.038   \n",
       "\n",
       "   Pair_3996  Pair_3997  Pair_3998  Pair_3999  Pair_4000  \n",
       "0     -0.044     -0.048     -0.038     -0.056     -0.060  \n",
       "1     -0.044     -0.048     -0.048     -0.058     -0.064  \n",
       "\n",
       "[2 rows x 4000 columns]"
      ]
     },
     "execution_count": 206,
     "metadata": {},
     "output_type": "execute_result"
    }
   ],
   "source": [
    "sig1 = first_csv[['ch1', 'ch2']]\n",
    "sig2 = second_csv[['ch1', 'ch2']]\n",
    "# Since most values in ch1(excitation signal) are 0, \n",
    "# just extract values in ch2(received signals) in both signal1 and signal2\n",
    "sig_ch2 = pd.concat([sig1['ch2'],sig2['ch2']], axis=1, ignore_index=True)\n",
    "sig_ch2 = sig_ch2.T\n",
    "sig_ch2.columns = [f'Pair_{i}' for i in range(1, 4001)]\n",
    "sig_ch2"
   ]
  },
  {
   "cell_type": "code",
   "execution_count": 207,
   "metadata": {},
   "outputs": [
    {
     "data": {
      "text/plain": [
       "(2, 4000)"
      ]
     },
     "execution_count": 207,
     "metadata": {},
     "output_type": "execute_result"
    }
   ],
   "source": [
    "sig_T7_40167 = sig_ch2.values\n",
    "sig_T7_40167.shape"
   ]
  },
  {
   "cell_type": "code",
   "execution_count": 208,
   "metadata": {},
   "outputs": [
    {
     "data": {
      "text/plain": [
       "(2, 4001)"
      ]
     },
     "execution_count": 208,
     "metadata": {},
     "output_type": "execute_result"
    }
   ],
   "source": [
    "# Add Y-value which is crack length(mm) for cycle 40167: 0mm\n",
    "y_value = 0\n",
    "crack_length_T7_40167 = np.full((sig_T7_40167.shape[0], 1), y_value)\n",
    "sig_T7_40167 = np.hstack((sig_T7_40167, crack_length_T7_40167))\n",
    "sig_T7_40167.shape"
   ]
  },
  {
   "cell_type": "code",
   "execution_count": 209,
   "metadata": {},
   "outputs": [
    {
     "data": {
      "text/plain": [
       "(4, 4001)"
      ]
     },
     "execution_count": 209,
     "metadata": {},
     "output_type": "execute_result"
    }
   ],
   "source": [
    "# add the extracted data in this cycle to the dataset array\n",
    "dataset_array_test_T7 = np.vstack([dataset_array_test_T7, sig_T7_40167])\n",
    "dataset_array_test_T7.shape"
   ]
  },
  {
   "cell_type": "markdown",
   "metadata": {},
   "source": [
    "### Number of Cycle: 44054"
   ]
  },
  {
   "cell_type": "code",
   "execution_count": 210,
   "metadata": {
    "scrolled": true
   },
   "outputs": [],
   "source": [
    "first_csv = pd.read_csv(data_path + validation_sets[0] + t7_channels[2] + signals[0])\n",
    "second_csv = pd.read_csv(data_path + validation_sets[0] + t7_channels[2] + signals[1])"
   ]
  },
  {
   "cell_type": "code",
   "execution_count": 211,
   "metadata": {},
   "outputs": [
    {
     "data": {
      "text/html": [
       "<div>\n",
       "<style scoped>\n",
       "    .dataframe tbody tr th:only-of-type {\n",
       "        vertical-align: middle;\n",
       "    }\n",
       "\n",
       "    .dataframe tbody tr th {\n",
       "        vertical-align: top;\n",
       "    }\n",
       "\n",
       "    .dataframe thead th {\n",
       "        text-align: right;\n",
       "    }\n",
       "</style>\n",
       "<table border=\"1\" class=\"dataframe\">\n",
       "  <thead>\n",
       "    <tr style=\"text-align: right;\">\n",
       "      <th></th>\n",
       "      <th>Pair_1</th>\n",
       "      <th>Pair_2</th>\n",
       "      <th>Pair_3</th>\n",
       "      <th>Pair_4</th>\n",
       "      <th>Pair_5</th>\n",
       "      <th>Pair_6</th>\n",
       "      <th>Pair_7</th>\n",
       "      <th>Pair_8</th>\n",
       "      <th>Pair_9</th>\n",
       "      <th>Pair_10</th>\n",
       "      <th>...</th>\n",
       "      <th>Pair_3991</th>\n",
       "      <th>Pair_3992</th>\n",
       "      <th>Pair_3993</th>\n",
       "      <th>Pair_3994</th>\n",
       "      <th>Pair_3995</th>\n",
       "      <th>Pair_3996</th>\n",
       "      <th>Pair_3997</th>\n",
       "      <th>Pair_3998</th>\n",
       "      <th>Pair_3999</th>\n",
       "      <th>Pair_4000</th>\n",
       "    </tr>\n",
       "  </thead>\n",
       "  <tbody>\n",
       "    <tr>\n",
       "      <th>0</th>\n",
       "      <td>0.008</td>\n",
       "      <td>0.008</td>\n",
       "      <td>0.002</td>\n",
       "      <td>0.008</td>\n",
       "      <td>0.008</td>\n",
       "      <td>0.008</td>\n",
       "      <td>0.008</td>\n",
       "      <td>0.010</td>\n",
       "      <td>0.01</td>\n",
       "      <td>0.008</td>\n",
       "      <td>...</td>\n",
       "      <td>0.082</td>\n",
       "      <td>0.072</td>\n",
       "      <td>0.072</td>\n",
       "      <td>0.066</td>\n",
       "      <td>0.054</td>\n",
       "      <td>0.052</td>\n",
       "      <td>0.048</td>\n",
       "      <td>0.040</td>\n",
       "      <td>0.032</td>\n",
       "      <td>0.028</td>\n",
       "    </tr>\n",
       "    <tr>\n",
       "      <th>1</th>\n",
       "      <td>-0.012</td>\n",
       "      <td>-0.008</td>\n",
       "      <td>-0.014</td>\n",
       "      <td>-0.006</td>\n",
       "      <td>-0.008</td>\n",
       "      <td>-0.014</td>\n",
       "      <td>-0.012</td>\n",
       "      <td>-0.008</td>\n",
       "      <td>-0.01</td>\n",
       "      <td>-0.012</td>\n",
       "      <td>...</td>\n",
       "      <td>0.052</td>\n",
       "      <td>0.046</td>\n",
       "      <td>0.058</td>\n",
       "      <td>0.050</td>\n",
       "      <td>0.042</td>\n",
       "      <td>0.034</td>\n",
       "      <td>0.028</td>\n",
       "      <td>0.018</td>\n",
       "      <td>0.010</td>\n",
       "      <td>0.010</td>\n",
       "    </tr>\n",
       "  </tbody>\n",
       "</table>\n",
       "<p>2 rows × 4000 columns</p>\n",
       "</div>"
      ],
      "text/plain": [
       "   Pair_1  Pair_2  Pair_3  Pair_4  Pair_5  Pair_6  Pair_7  Pair_8  Pair_9  \\\n",
       "0   0.008   0.008   0.002   0.008   0.008   0.008   0.008   0.010    0.01   \n",
       "1  -0.012  -0.008  -0.014  -0.006  -0.008  -0.014  -0.012  -0.008   -0.01   \n",
       "\n",
       "   Pair_10  ...  Pair_3991  Pair_3992  Pair_3993  Pair_3994  Pair_3995  \\\n",
       "0    0.008  ...      0.082      0.072      0.072      0.066      0.054   \n",
       "1   -0.012  ...      0.052      0.046      0.058      0.050      0.042   \n",
       "\n",
       "   Pair_3996  Pair_3997  Pair_3998  Pair_3999  Pair_4000  \n",
       "0      0.052      0.048      0.040      0.032      0.028  \n",
       "1      0.034      0.028      0.018      0.010      0.010  \n",
       "\n",
       "[2 rows x 4000 columns]"
      ]
     },
     "execution_count": 211,
     "metadata": {},
     "output_type": "execute_result"
    }
   ],
   "source": [
    "sig1 = first_csv[['ch1', 'ch2']]\n",
    "sig2 = second_csv[['ch1', 'ch2']]\n",
    "# Since most values in ch1(excitation signal) are 0, \n",
    "# just extract values in ch2(received signals) in both signal1 and signal2\n",
    "sig_ch2 = pd.concat([sig1['ch2'],sig2['ch2']], axis=1, ignore_index=True)\n",
    "sig_ch2 = sig_ch2.T\n",
    "sig_ch2.columns = [f'Pair_{i}' for i in range(1, 4001)]\n",
    "sig_ch2"
   ]
  },
  {
   "cell_type": "code",
   "execution_count": 212,
   "metadata": {},
   "outputs": [
    {
     "data": {
      "text/plain": [
       "(2, 4000)"
      ]
     },
     "execution_count": 212,
     "metadata": {},
     "output_type": "execute_result"
    }
   ],
   "source": [
    "sig_T7_44054 = sig_ch2.values\n",
    "sig_T7_44054.shape"
   ]
  },
  {
   "cell_type": "code",
   "execution_count": 213,
   "metadata": {},
   "outputs": [
    {
     "data": {
      "text/plain": [
       "(2, 4001)"
      ]
     },
     "execution_count": 213,
     "metadata": {},
     "output_type": "execute_result"
    }
   ],
   "source": [
    "# Add Y-value which is crack length(mm) for cycle 44054: 2.07mm\n",
    "y_value = 2.07\n",
    "crack_length_T7_44054 = np.full((sig_T7_44054.shape[0], 1), y_value)\n",
    "sig_T7_44054 = np.hstack((sig_T7_44054, crack_length_T7_44054))\n",
    "sig_T7_44054.shape"
   ]
  },
  {
   "cell_type": "code",
   "execution_count": 214,
   "metadata": {},
   "outputs": [
    {
     "data": {
      "text/plain": [
       "(6, 4001)"
      ]
     },
     "execution_count": 214,
     "metadata": {},
     "output_type": "execute_result"
    }
   ],
   "source": [
    "# add the extracted data in this cycle to the dataset array\n",
    "dataset_array_test_T7 = np.vstack([dataset_array_test_T7, sig_T7_44054])\n",
    "dataset_array_test_T7.shape"
   ]
  },
  {
   "cell_type": "markdown",
   "metadata": {},
   "source": [
    "### Number of Cycle: 47022"
   ]
  },
  {
   "cell_type": "code",
   "execution_count": 215,
   "metadata": {},
   "outputs": [],
   "source": [
    "first_csv = pd.read_csv(data_path + validation_sets[0] + t7_channels[3] + signals[0])\n",
    "second_csv = pd.read_csv(data_path + validation_sets[0] + t7_channels[3] + signals[1])"
   ]
  },
  {
   "cell_type": "code",
   "execution_count": 216,
   "metadata": {},
   "outputs": [
    {
     "data": {
      "text/html": [
       "<div>\n",
       "<style scoped>\n",
       "    .dataframe tbody tr th:only-of-type {\n",
       "        vertical-align: middle;\n",
       "    }\n",
       "\n",
       "    .dataframe tbody tr th {\n",
       "        vertical-align: top;\n",
       "    }\n",
       "\n",
       "    .dataframe thead th {\n",
       "        text-align: right;\n",
       "    }\n",
       "</style>\n",
       "<table border=\"1\" class=\"dataframe\">\n",
       "  <thead>\n",
       "    <tr style=\"text-align: right;\">\n",
       "      <th></th>\n",
       "      <th>Pair_1</th>\n",
       "      <th>Pair_2</th>\n",
       "      <th>Pair_3</th>\n",
       "      <th>Pair_4</th>\n",
       "      <th>Pair_5</th>\n",
       "      <th>Pair_6</th>\n",
       "      <th>Pair_7</th>\n",
       "      <th>Pair_8</th>\n",
       "      <th>Pair_9</th>\n",
       "      <th>Pair_10</th>\n",
       "      <th>...</th>\n",
       "      <th>Pair_3991</th>\n",
       "      <th>Pair_3992</th>\n",
       "      <th>Pair_3993</th>\n",
       "      <th>Pair_3994</th>\n",
       "      <th>Pair_3995</th>\n",
       "      <th>Pair_3996</th>\n",
       "      <th>Pair_3997</th>\n",
       "      <th>Pair_3998</th>\n",
       "      <th>Pair_3999</th>\n",
       "      <th>Pair_4000</th>\n",
       "    </tr>\n",
       "  </thead>\n",
       "  <tbody>\n",
       "    <tr>\n",
       "      <th>0</th>\n",
       "      <td>0.018</td>\n",
       "      <td>-0.018</td>\n",
       "      <td>0.010</td>\n",
       "      <td>0.012</td>\n",
       "      <td>-0.014</td>\n",
       "      <td>-0.006</td>\n",
       "      <td>0.010</td>\n",
       "      <td>0.004</td>\n",
       "      <td>-0.004</td>\n",
       "      <td>-0.004</td>\n",
       "      <td>...</td>\n",
       "      <td>0.064</td>\n",
       "      <td>0.060</td>\n",
       "      <td>0.048</td>\n",
       "      <td>0.044</td>\n",
       "      <td>0.038</td>\n",
       "      <td>0.034</td>\n",
       "      <td>0.024</td>\n",
       "      <td>0.016</td>\n",
       "      <td>0.014</td>\n",
       "      <td>0.006</td>\n",
       "    </tr>\n",
       "    <tr>\n",
       "      <th>1</th>\n",
       "      <td>0.006</td>\n",
       "      <td>0.008</td>\n",
       "      <td>0.004</td>\n",
       "      <td>0.002</td>\n",
       "      <td>0.002</td>\n",
       "      <td>0.016</td>\n",
       "      <td>0.002</td>\n",
       "      <td>0.004</td>\n",
       "      <td>0.004</td>\n",
       "      <td>0.000</td>\n",
       "      <td>...</td>\n",
       "      <td>0.074</td>\n",
       "      <td>0.044</td>\n",
       "      <td>0.050</td>\n",
       "      <td>0.032</td>\n",
       "      <td>0.034</td>\n",
       "      <td>0.030</td>\n",
       "      <td>0.020</td>\n",
       "      <td>0.018</td>\n",
       "      <td>0.000</td>\n",
       "      <td>0.002</td>\n",
       "    </tr>\n",
       "  </tbody>\n",
       "</table>\n",
       "<p>2 rows × 4000 columns</p>\n",
       "</div>"
      ],
      "text/plain": [
       "   Pair_1  Pair_2  Pair_3  Pair_4  Pair_5  Pair_6  Pair_7  Pair_8  Pair_9  \\\n",
       "0   0.018  -0.018   0.010   0.012  -0.014  -0.006   0.010   0.004  -0.004   \n",
       "1   0.006   0.008   0.004   0.002   0.002   0.016   0.002   0.004   0.004   \n",
       "\n",
       "   Pair_10  ...  Pair_3991  Pair_3992  Pair_3993  Pair_3994  Pair_3995  \\\n",
       "0   -0.004  ...      0.064      0.060      0.048      0.044      0.038   \n",
       "1    0.000  ...      0.074      0.044      0.050      0.032      0.034   \n",
       "\n",
       "   Pair_3996  Pair_3997  Pair_3998  Pair_3999  Pair_4000  \n",
       "0      0.034      0.024      0.016      0.014      0.006  \n",
       "1      0.030      0.020      0.018      0.000      0.002  \n",
       "\n",
       "[2 rows x 4000 columns]"
      ]
     },
     "execution_count": 216,
     "metadata": {},
     "output_type": "execute_result"
    }
   ],
   "source": [
    "sig1 = first_csv[['ch1', 'ch2']]\n",
    "sig2 = second_csv[['ch1', 'ch2']]\n",
    "# Since most values in ch1(excitation signal) are 0, \n",
    "# just extract values in ch2(received signals) in both signal1 and signal2\n",
    "sig_ch2 = pd.concat([sig1['ch2'],sig2['ch2']], axis=1, ignore_index=True)\n",
    "sig_ch2 = sig_ch2.T\n",
    "sig_ch2.columns = [f'Pair_{i}' for i in range(1, 4001)]\n",
    "sig_ch2"
   ]
  },
  {
   "cell_type": "code",
   "execution_count": 217,
   "metadata": {},
   "outputs": [
    {
     "data": {
      "text/plain": [
       "(2, 4000)"
      ]
     },
     "execution_count": 217,
     "metadata": {},
     "output_type": "execute_result"
    }
   ],
   "source": [
    "sig_T7_47022 = sig_ch2.values\n",
    "sig_T7_47022.shape"
   ]
  },
  {
   "cell_type": "code",
   "execution_count": 218,
   "metadata": {},
   "outputs": [
    {
     "data": {
      "text/plain": [
       "(2, 4001)"
      ]
     },
     "execution_count": 218,
     "metadata": {},
     "output_type": "execute_result"
    }
   ],
   "source": [
    "# Add Y-value which is crack length(mm) for cycle 47022: 3.14mm\n",
    "y_value = 3.14\n",
    "crack_length_T7_47022 = np.full((sig_T7_47022.shape[0], 1), y_value)\n",
    "sig_T7_47022 = np.hstack((sig_T7_47022, crack_length_T7_47022))\n",
    "sig_T7_47022.shape"
   ]
  },
  {
   "cell_type": "code",
   "execution_count": 219,
   "metadata": {},
   "outputs": [
    {
     "data": {
      "text/plain": [
       "(8, 4001)"
      ]
     },
     "execution_count": 219,
     "metadata": {},
     "output_type": "execute_result"
    }
   ],
   "source": [
    "# add the extracted data in this cycle to the dataset array\n",
    "dataset_array_test_T7 = np.vstack([dataset_array_test_T7, sig_T7_47022])\n",
    "dataset_array_test_T7.shape"
   ]
  },
  {
   "cell_type": "code",
   "execution_count": 220,
   "metadata": {},
   "outputs": [],
   "source": [
    "X_test_T7 = dataset_array_test_T7[:, :-1]\n",
    "y_test_T7 = dataset_array_test_T7[:, -1]"
   ]
  },
  {
   "cell_type": "code",
   "execution_count": 221,
   "metadata": {},
   "outputs": [
    {
     "data": {
      "text/plain": [
       "(8, 4000)"
      ]
     },
     "execution_count": 221,
     "metadata": {},
     "output_type": "execute_result"
    }
   ],
   "source": [
    "X_test_T7.shape"
   ]
  },
  {
   "cell_type": "code",
   "execution_count": 222,
   "metadata": {},
   "outputs": [
    {
     "data": {
      "text/plain": [
       "(8, 4000)"
      ]
     },
     "execution_count": 222,
     "metadata": {},
     "output_type": "execute_result"
    }
   ],
   "source": [
    "X_test_T7.shape"
   ]
  },
  {
   "cell_type": "markdown",
   "metadata": {},
   "source": [
    "## PrepareTesting Dataset from T8"
   ]
  },
  {
   "cell_type": "code",
   "execution_count": 223,
   "metadata": {},
   "outputs": [],
   "source": [
    "# initiate an empty numpy array to build the testing dataset we need\n",
    "dataset_array_test_T8 = np.empty((0, 4001))"
   ]
  },
  {
   "cell_type": "markdown",
   "metadata": {},
   "source": [
    "### Number of Cycle: 40000"
   ]
  },
  {
   "cell_type": "code",
   "execution_count": 224,
   "metadata": {},
   "outputs": [],
   "source": [
    "first_csv = pd.read_csv(data_path + validation_sets[1] + t8_channels[0] + signals[0])\n",
    "second_csv = pd.read_csv(data_path + validation_sets[1] + t8_channels[0] + signals[1])"
   ]
  },
  {
   "cell_type": "code",
   "execution_count": 225,
   "metadata": {},
   "outputs": [
    {
     "data": {
      "text/html": [
       "<div>\n",
       "<style scoped>\n",
       "    .dataframe tbody tr th:only-of-type {\n",
       "        vertical-align: middle;\n",
       "    }\n",
       "\n",
       "    .dataframe tbody tr th {\n",
       "        vertical-align: top;\n",
       "    }\n",
       "\n",
       "    .dataframe thead th {\n",
       "        text-align: right;\n",
       "    }\n",
       "</style>\n",
       "<table border=\"1\" class=\"dataframe\">\n",
       "  <thead>\n",
       "    <tr style=\"text-align: right;\">\n",
       "      <th></th>\n",
       "      <th>Pair_1</th>\n",
       "      <th>Pair_2</th>\n",
       "      <th>Pair_3</th>\n",
       "      <th>Pair_4</th>\n",
       "      <th>Pair_5</th>\n",
       "      <th>Pair_6</th>\n",
       "      <th>Pair_7</th>\n",
       "      <th>Pair_8</th>\n",
       "      <th>Pair_9</th>\n",
       "      <th>Pair_10</th>\n",
       "      <th>...</th>\n",
       "      <th>Pair_3991</th>\n",
       "      <th>Pair_3992</th>\n",
       "      <th>Pair_3993</th>\n",
       "      <th>Pair_3994</th>\n",
       "      <th>Pair_3995</th>\n",
       "      <th>Pair_3996</th>\n",
       "      <th>Pair_3997</th>\n",
       "      <th>Pair_3998</th>\n",
       "      <th>Pair_3999</th>\n",
       "      <th>Pair_4000</th>\n",
       "    </tr>\n",
       "  </thead>\n",
       "  <tbody>\n",
       "    <tr>\n",
       "      <th>0</th>\n",
       "      <td>0.0008</td>\n",
       "      <td>0.0016</td>\n",
       "      <td>0.0008</td>\n",
       "      <td>-0.0032</td>\n",
       "      <td>0.0000</td>\n",
       "      <td>0.0008</td>\n",
       "      <td>0.0016</td>\n",
       "      <td>0.0008</td>\n",
       "      <td>-0.0024</td>\n",
       "      <td>0.0000</td>\n",
       "      <td>...</td>\n",
       "      <td>0.0416</td>\n",
       "      <td>0.0320</td>\n",
       "      <td>0.0264</td>\n",
       "      <td>0.0312</td>\n",
       "      <td>0.0320</td>\n",
       "      <td>0.0272</td>\n",
       "      <td>0.0224</td>\n",
       "      <td>0.0216</td>\n",
       "      <td>0.0136</td>\n",
       "      <td>0.0136</td>\n",
       "    </tr>\n",
       "    <tr>\n",
       "      <th>1</th>\n",
       "      <td>-0.0056</td>\n",
       "      <td>-0.0088</td>\n",
       "      <td>-0.0048</td>\n",
       "      <td>-0.0040</td>\n",
       "      <td>-0.0056</td>\n",
       "      <td>-0.0040</td>\n",
       "      <td>-0.0048</td>\n",
       "      <td>-0.0088</td>\n",
       "      <td>-0.0120</td>\n",
       "      <td>-0.0056</td>\n",
       "      <td>...</td>\n",
       "      <td>0.0296</td>\n",
       "      <td>0.0288</td>\n",
       "      <td>0.0240</td>\n",
       "      <td>0.0240</td>\n",
       "      <td>0.0224</td>\n",
       "      <td>0.0192</td>\n",
       "      <td>0.0168</td>\n",
       "      <td>0.0144</td>\n",
       "      <td>0.0128</td>\n",
       "      <td>0.0080</td>\n",
       "    </tr>\n",
       "  </tbody>\n",
       "</table>\n",
       "<p>2 rows × 4000 columns</p>\n",
       "</div>"
      ],
      "text/plain": [
       "   Pair_1  Pair_2  Pair_3  Pair_4  Pair_5  Pair_6  Pair_7  Pair_8  Pair_9  \\\n",
       "0  0.0008  0.0016  0.0008 -0.0032  0.0000  0.0008  0.0016  0.0008 -0.0024   \n",
       "1 -0.0056 -0.0088 -0.0048 -0.0040 -0.0056 -0.0040 -0.0048 -0.0088 -0.0120   \n",
       "\n",
       "   Pair_10  ...  Pair_3991  Pair_3992  Pair_3993  Pair_3994  Pair_3995  \\\n",
       "0   0.0000  ...     0.0416     0.0320     0.0264     0.0312     0.0320   \n",
       "1  -0.0056  ...     0.0296     0.0288     0.0240     0.0240     0.0224   \n",
       "\n",
       "   Pair_3996  Pair_3997  Pair_3998  Pair_3999  Pair_4000  \n",
       "0     0.0272     0.0224     0.0216     0.0136     0.0136  \n",
       "1     0.0192     0.0168     0.0144     0.0128     0.0080  \n",
       "\n",
       "[2 rows x 4000 columns]"
      ]
     },
     "execution_count": 225,
     "metadata": {},
     "output_type": "execute_result"
    }
   ],
   "source": [
    "sig1 = first_csv[['ch1', 'ch2']]\n",
    "sig2 = second_csv[['ch1', 'ch2']]\n",
    "# Since most values in ch1(excitation signal) are 0, \n",
    "# just extract values in ch2(received signals) in both signal1 and signal2\n",
    "sig_ch2 = pd.concat([sig1['ch2'],sig2['ch2']], axis=1, ignore_index=True)\n",
    "sig_ch2 = sig_ch2.T\n",
    "sig_ch2.columns = [f'Pair_{i}' for i in range(1, 4001)]\n",
    "sig_ch2"
   ]
  },
  {
   "cell_type": "code",
   "execution_count": 226,
   "metadata": {},
   "outputs": [
    {
     "data": {
      "text/plain": [
       "(2, 4000)"
      ]
     },
     "execution_count": 226,
     "metadata": {},
     "output_type": "execute_result"
    }
   ],
   "source": [
    "sig_T8_40000 = sig_ch2.values\n",
    "sig_T8_40000.shape"
   ]
  },
  {
   "cell_type": "code",
   "execution_count": 227,
   "metadata": {},
   "outputs": [
    {
     "data": {
      "text/plain": [
       "(2, 4001)"
      ]
     },
     "execution_count": 227,
     "metadata": {},
     "output_type": "execute_result"
    }
   ],
   "source": [
    "# Add Y-value which is crack length(mm) for cycle 40000: 0mm\n",
    "y_value = 0\n",
    "crack_length_T8_40000 = np.full((sig_T8_40000.shape[0], 1), y_value)\n",
    "sig_T8_40000 = np.hstack((sig_T8_40000, crack_length_T8_40000))\n",
    "sig_T8_40000.shape"
   ]
  },
  {
   "cell_type": "code",
   "execution_count": 228,
   "metadata": {},
   "outputs": [
    {
     "data": {
      "text/plain": [
       "(2, 4001)"
      ]
     },
     "execution_count": 228,
     "metadata": {},
     "output_type": "execute_result"
    }
   ],
   "source": [
    "# add the extracted data in this cycle to the dataset array\n",
    "dataset_array_test_T8 = np.vstack([dataset_array_test_T8, sig_T8_40000])\n",
    "dataset_array_test_T8.shape"
   ]
  },
  {
   "cell_type": "markdown",
   "metadata": {},
   "source": [
    "### Number of Cycle: 50000"
   ]
  },
  {
   "cell_type": "code",
   "execution_count": 229,
   "metadata": {},
   "outputs": [],
   "source": [
    "first_csv = pd.read_csv(data_path + validation_sets[1] + t8_channels[1] + signals[0])\n",
    "second_csv = pd.read_csv(data_path + validation_sets[1] + t8_channels[1] + signals[1])"
   ]
  },
  {
   "cell_type": "code",
   "execution_count": 230,
   "metadata": {},
   "outputs": [
    {
     "data": {
      "text/html": [
       "<div>\n",
       "<style scoped>\n",
       "    .dataframe tbody tr th:only-of-type {\n",
       "        vertical-align: middle;\n",
       "    }\n",
       "\n",
       "    .dataframe tbody tr th {\n",
       "        vertical-align: top;\n",
       "    }\n",
       "\n",
       "    .dataframe thead th {\n",
       "        text-align: right;\n",
       "    }\n",
       "</style>\n",
       "<table border=\"1\" class=\"dataframe\">\n",
       "  <thead>\n",
       "    <tr style=\"text-align: right;\">\n",
       "      <th></th>\n",
       "      <th>Pair_1</th>\n",
       "      <th>Pair_2</th>\n",
       "      <th>Pair_3</th>\n",
       "      <th>Pair_4</th>\n",
       "      <th>Pair_5</th>\n",
       "      <th>Pair_6</th>\n",
       "      <th>Pair_7</th>\n",
       "      <th>Pair_8</th>\n",
       "      <th>Pair_9</th>\n",
       "      <th>Pair_10</th>\n",
       "      <th>...</th>\n",
       "      <th>Pair_3991</th>\n",
       "      <th>Pair_3992</th>\n",
       "      <th>Pair_3993</th>\n",
       "      <th>Pair_3994</th>\n",
       "      <th>Pair_3995</th>\n",
       "      <th>Pair_3996</th>\n",
       "      <th>Pair_3997</th>\n",
       "      <th>Pair_3998</th>\n",
       "      <th>Pair_3999</th>\n",
       "      <th>Pair_4000</th>\n",
       "    </tr>\n",
       "  </thead>\n",
       "  <tbody>\n",
       "    <tr>\n",
       "      <th>0</th>\n",
       "      <td>-0.0088</td>\n",
       "      <td>-0.0024</td>\n",
       "      <td>0.0016</td>\n",
       "      <td>-0.0096</td>\n",
       "      <td>-0.0048</td>\n",
       "      <td>0.0008</td>\n",
       "      <td>-0.0056</td>\n",
       "      <td>-0.0032</td>\n",
       "      <td>-0.0080</td>\n",
       "      <td>-0.0024</td>\n",
       "      <td>...</td>\n",
       "      <td>-0.0504</td>\n",
       "      <td>-0.0504</td>\n",
       "      <td>-0.0472</td>\n",
       "      <td>-0.0528</td>\n",
       "      <td>-0.0528</td>\n",
       "      <td>-0.0544</td>\n",
       "      <td>-0.0472</td>\n",
       "      <td>-0.0520</td>\n",
       "      <td>-0.0440</td>\n",
       "      <td>-0.0528</td>\n",
       "    </tr>\n",
       "    <tr>\n",
       "      <th>1</th>\n",
       "      <td>0.0000</td>\n",
       "      <td>-0.0008</td>\n",
       "      <td>0.0016</td>\n",
       "      <td>-0.0024</td>\n",
       "      <td>0.0032</td>\n",
       "      <td>-0.0032</td>\n",
       "      <td>0.0032</td>\n",
       "      <td>-0.0024</td>\n",
       "      <td>0.0016</td>\n",
       "      <td>-0.0024</td>\n",
       "      <td>...</td>\n",
       "      <td>-0.0440</td>\n",
       "      <td>-0.0504</td>\n",
       "      <td>-0.0456</td>\n",
       "      <td>-0.0520</td>\n",
       "      <td>-0.0496</td>\n",
       "      <td>-0.0544</td>\n",
       "      <td>-0.0464</td>\n",
       "      <td>-0.0504</td>\n",
       "      <td>-0.0416</td>\n",
       "      <td>-0.0480</td>\n",
       "    </tr>\n",
       "  </tbody>\n",
       "</table>\n",
       "<p>2 rows × 4000 columns</p>\n",
       "</div>"
      ],
      "text/plain": [
       "   Pair_1  Pair_2  Pair_3  Pair_4  Pair_5  Pair_6  Pair_7  Pair_8  Pair_9  \\\n",
       "0 -0.0088 -0.0024  0.0016 -0.0096 -0.0048  0.0008 -0.0056 -0.0032 -0.0080   \n",
       "1  0.0000 -0.0008  0.0016 -0.0024  0.0032 -0.0032  0.0032 -0.0024  0.0016   \n",
       "\n",
       "   Pair_10  ...  Pair_3991  Pair_3992  Pair_3993  Pair_3994  Pair_3995  \\\n",
       "0  -0.0024  ...    -0.0504    -0.0504    -0.0472    -0.0528    -0.0528   \n",
       "1  -0.0024  ...    -0.0440    -0.0504    -0.0456    -0.0520    -0.0496   \n",
       "\n",
       "   Pair_3996  Pair_3997  Pair_3998  Pair_3999  Pair_4000  \n",
       "0    -0.0544    -0.0472    -0.0520    -0.0440    -0.0528  \n",
       "1    -0.0544    -0.0464    -0.0504    -0.0416    -0.0480  \n",
       "\n",
       "[2 rows x 4000 columns]"
      ]
     },
     "execution_count": 230,
     "metadata": {},
     "output_type": "execute_result"
    }
   ],
   "source": [
    "sig1 = first_csv[['ch1', 'ch2']]\n",
    "sig2 = second_csv[['ch1', 'ch2']]\n",
    "# Since most values in ch1(excitation signal) are 0, \n",
    "# just extract values in ch2(received signals) in both signal1 and signal2\n",
    "sig_ch2 = pd.concat([sig1['ch2'],sig2['ch2']], axis=1, ignore_index=True)\n",
    "sig_ch2 = sig_ch2.T\n",
    "sig_ch2.columns = [f'Pair_{i}' for i in range(1, 4001)]\n",
    "sig_ch2"
   ]
  },
  {
   "cell_type": "code",
   "execution_count": 231,
   "metadata": {},
   "outputs": [
    {
     "data": {
      "text/plain": [
       "(2, 4000)"
      ]
     },
     "execution_count": 231,
     "metadata": {},
     "output_type": "execute_result"
    }
   ],
   "source": [
    "sig_T8_50000 = sig_ch2.values\n",
    "sig_T8_50000.shape"
   ]
  },
  {
   "cell_type": "code",
   "execution_count": 232,
   "metadata": {},
   "outputs": [
    {
     "data": {
      "text/plain": [
       "(2, 4001)"
      ]
     },
     "execution_count": 232,
     "metadata": {},
     "output_type": "execute_result"
    }
   ],
   "source": [
    "# Add Y-value which is crack length(mm) for cycle 50000: 0mm\n",
    "y_value = 0\n",
    "crack_length_T8_50000 = np.full((sig_T8_50000.shape[0], 1), y_value)\n",
    "sig_T8_50000 = np.hstack((sig_T8_50000, crack_length_T8_50000))\n",
    "sig_T8_50000.shape"
   ]
  },
  {
   "cell_type": "code",
   "execution_count": 233,
   "metadata": {},
   "outputs": [
    {
     "data": {
      "text/plain": [
       "(4, 4001)"
      ]
     },
     "execution_count": 233,
     "metadata": {},
     "output_type": "execute_result"
    }
   ],
   "source": [
    "# add the extracted data in this cycle to the dataset array\n",
    "dataset_array_test_T8 = np.vstack([dataset_array_test_T8, sig_T8_50000])\n",
    "dataset_array_test_T8.shape"
   ]
  },
  {
   "cell_type": "markdown",
   "metadata": {},
   "source": [
    "### Number of Cycle: 70000"
   ]
  },
  {
   "cell_type": "code",
   "execution_count": 234,
   "metadata": {},
   "outputs": [],
   "source": [
    "first_csv = pd.read_csv(data_path + validation_sets[1] + t8_channels[2] + signals[0])\n",
    "second_csv = pd.read_csv(data_path + validation_sets[1] + t8_channels[2] + signals[1])"
   ]
  },
  {
   "cell_type": "code",
   "execution_count": 235,
   "metadata": {},
   "outputs": [
    {
     "data": {
      "text/html": [
       "<div>\n",
       "<style scoped>\n",
       "    .dataframe tbody tr th:only-of-type {\n",
       "        vertical-align: middle;\n",
       "    }\n",
       "\n",
       "    .dataframe tbody tr th {\n",
       "        vertical-align: top;\n",
       "    }\n",
       "\n",
       "    .dataframe thead th {\n",
       "        text-align: right;\n",
       "    }\n",
       "</style>\n",
       "<table border=\"1\" class=\"dataframe\">\n",
       "  <thead>\n",
       "    <tr style=\"text-align: right;\">\n",
       "      <th></th>\n",
       "      <th>Pair_1</th>\n",
       "      <th>Pair_2</th>\n",
       "      <th>Pair_3</th>\n",
       "      <th>Pair_4</th>\n",
       "      <th>Pair_5</th>\n",
       "      <th>Pair_6</th>\n",
       "      <th>Pair_7</th>\n",
       "      <th>Pair_8</th>\n",
       "      <th>Pair_9</th>\n",
       "      <th>Pair_10</th>\n",
       "      <th>...</th>\n",
       "      <th>Pair_3991</th>\n",
       "      <th>Pair_3992</th>\n",
       "      <th>Pair_3993</th>\n",
       "      <th>Pair_3994</th>\n",
       "      <th>Pair_3995</th>\n",
       "      <th>Pair_3996</th>\n",
       "      <th>Pair_3997</th>\n",
       "      <th>Pair_3998</th>\n",
       "      <th>Pair_3999</th>\n",
       "      <th>Pair_4000</th>\n",
       "    </tr>\n",
       "  </thead>\n",
       "  <tbody>\n",
       "    <tr>\n",
       "      <th>0</th>\n",
       "      <td>0.0008</td>\n",
       "      <td>0.0040</td>\n",
       "      <td>-0.0024</td>\n",
       "      <td>-0.0024</td>\n",
       "      <td>-0.0056</td>\n",
       "      <td>0.0040</td>\n",
       "      <td>-0.0016</td>\n",
       "      <td>-0.0016</td>\n",
       "      <td>-0.0088</td>\n",
       "      <td>-0.0032</td>\n",
       "      <td>...</td>\n",
       "      <td>-0.0120</td>\n",
       "      <td>0.000</td>\n",
       "      <td>-0.0064</td>\n",
       "      <td>-0.0048</td>\n",
       "      <td>0.0000</td>\n",
       "      <td>-0.0096</td>\n",
       "      <td>0.0016</td>\n",
       "      <td>-0.0072</td>\n",
       "      <td>0.0088</td>\n",
       "      <td>-0.0048</td>\n",
       "    </tr>\n",
       "    <tr>\n",
       "      <th>1</th>\n",
       "      <td>-0.0032</td>\n",
       "      <td>-0.0064</td>\n",
       "      <td>-0.0056</td>\n",
       "      <td>-0.0080</td>\n",
       "      <td>-0.0048</td>\n",
       "      <td>-0.0056</td>\n",
       "      <td>-0.0032</td>\n",
       "      <td>-0.0064</td>\n",
       "      <td>-0.0024</td>\n",
       "      <td>-0.0088</td>\n",
       "      <td>...</td>\n",
       "      <td>-0.0104</td>\n",
       "      <td>-0.004</td>\n",
       "      <td>-0.0088</td>\n",
       "      <td>-0.0064</td>\n",
       "      <td>-0.0088</td>\n",
       "      <td>-0.0032</td>\n",
       "      <td>-0.0032</td>\n",
       "      <td>0.0000</td>\n",
       "      <td>-0.0032</td>\n",
       "      <td>-0.0032</td>\n",
       "    </tr>\n",
       "  </tbody>\n",
       "</table>\n",
       "<p>2 rows × 4000 columns</p>\n",
       "</div>"
      ],
      "text/plain": [
       "   Pair_1  Pair_2  Pair_3  Pair_4  Pair_5  Pair_6  Pair_7  Pair_8  Pair_9  \\\n",
       "0  0.0008  0.0040 -0.0024 -0.0024 -0.0056  0.0040 -0.0016 -0.0016 -0.0088   \n",
       "1 -0.0032 -0.0064 -0.0056 -0.0080 -0.0048 -0.0056 -0.0032 -0.0064 -0.0024   \n",
       "\n",
       "   Pair_10  ...  Pair_3991  Pair_3992  Pair_3993  Pair_3994  Pair_3995  \\\n",
       "0  -0.0032  ...    -0.0120      0.000    -0.0064    -0.0048     0.0000   \n",
       "1  -0.0088  ...    -0.0104     -0.004    -0.0088    -0.0064    -0.0088   \n",
       "\n",
       "   Pair_3996  Pair_3997  Pair_3998  Pair_3999  Pair_4000  \n",
       "0    -0.0096     0.0016    -0.0072     0.0088    -0.0048  \n",
       "1    -0.0032    -0.0032     0.0000    -0.0032    -0.0032  \n",
       "\n",
       "[2 rows x 4000 columns]"
      ]
     },
     "execution_count": 235,
     "metadata": {},
     "output_type": "execute_result"
    }
   ],
   "source": [
    "sig1 = first_csv[['ch1', 'ch2']]\n",
    "sig2 = second_csv[['ch1', 'ch2']]\n",
    "# Since most values in ch1(excitation signal) are 0, \n",
    "# just extract values in ch2(received signals) in both signal1 and signal2\n",
    "sig_ch2 = pd.concat([sig1['ch2'],sig2['ch2']], axis=1, ignore_index=True)\n",
    "sig_ch2 = sig_ch2.T\n",
    "sig_ch2.columns = [f'Pair_{i}' for i in range(1, 4001)]\n",
    "sig_ch2"
   ]
  },
  {
   "cell_type": "code",
   "execution_count": 236,
   "metadata": {},
   "outputs": [
    {
     "data": {
      "text/plain": [
       "(2, 4000)"
      ]
     },
     "execution_count": 236,
     "metadata": {},
     "output_type": "execute_result"
    }
   ],
   "source": [
    "sig_T8_70000 = sig_ch2.values\n",
    "sig_T8_70000.shape"
   ]
  },
  {
   "cell_type": "code",
   "execution_count": 237,
   "metadata": {},
   "outputs": [
    {
     "data": {
      "text/plain": [
       "(2, 4001)"
      ]
     },
     "execution_count": 237,
     "metadata": {},
     "output_type": "execute_result"
    }
   ],
   "source": [
    "# Add Y-value which is crack length(mm) for cycle 70000: 0mm\n",
    "y_value = 0\n",
    "crack_length_T8_70000 = np.full((sig_T8_70000.shape[0], 1), y_value)\n",
    "sig_T8_70000 = np.hstack((sig_T8_70000, crack_length_T8_70000))\n",
    "sig_T8_70000.shape"
   ]
  },
  {
   "cell_type": "code",
   "execution_count": 238,
   "metadata": {},
   "outputs": [
    {
     "data": {
      "text/plain": [
       "(6, 4001)"
      ]
     },
     "execution_count": 238,
     "metadata": {},
     "output_type": "execute_result"
    }
   ],
   "source": [
    "# add the extracted data in this cycle to the dataset array\n",
    "dataset_array_test_T8 = np.vstack([dataset_array_test_T8, sig_T8_70000])\n",
    "dataset_array_test_T8.shape"
   ]
  },
  {
   "cell_type": "markdown",
   "metadata": {},
   "source": [
    "### Number of Cycle: 74883"
   ]
  },
  {
   "cell_type": "code",
   "execution_count": 239,
   "metadata": {},
   "outputs": [],
   "source": [
    "first_csv = pd.read_csv(data_path + validation_sets[1] + t8_channels[3] + signals[0])\n",
    "second_csv = pd.read_csv(data_path + validation_sets[1] + t8_channels[3] + signals[1])"
   ]
  },
  {
   "cell_type": "code",
   "execution_count": 240,
   "metadata": {},
   "outputs": [
    {
     "data": {
      "text/html": [
       "<div>\n",
       "<style scoped>\n",
       "    .dataframe tbody tr th:only-of-type {\n",
       "        vertical-align: middle;\n",
       "    }\n",
       "\n",
       "    .dataframe tbody tr th {\n",
       "        vertical-align: top;\n",
       "    }\n",
       "\n",
       "    .dataframe thead th {\n",
       "        text-align: right;\n",
       "    }\n",
       "</style>\n",
       "<table border=\"1\" class=\"dataframe\">\n",
       "  <thead>\n",
       "    <tr style=\"text-align: right;\">\n",
       "      <th></th>\n",
       "      <th>Pair_1</th>\n",
       "      <th>Pair_2</th>\n",
       "      <th>Pair_3</th>\n",
       "      <th>Pair_4</th>\n",
       "      <th>Pair_5</th>\n",
       "      <th>Pair_6</th>\n",
       "      <th>Pair_7</th>\n",
       "      <th>Pair_8</th>\n",
       "      <th>Pair_9</th>\n",
       "      <th>Pair_10</th>\n",
       "      <th>...</th>\n",
       "      <th>Pair_3991</th>\n",
       "      <th>Pair_3992</th>\n",
       "      <th>Pair_3993</th>\n",
       "      <th>Pair_3994</th>\n",
       "      <th>Pair_3995</th>\n",
       "      <th>Pair_3996</th>\n",
       "      <th>Pair_3997</th>\n",
       "      <th>Pair_3998</th>\n",
       "      <th>Pair_3999</th>\n",
       "      <th>Pair_4000</th>\n",
       "    </tr>\n",
       "  </thead>\n",
       "  <tbody>\n",
       "    <tr>\n",
       "      <th>0</th>\n",
       "      <td>-0.0176</td>\n",
       "      <td>0.0144</td>\n",
       "      <td>-0.0064</td>\n",
       "      <td>-0.0064</td>\n",
       "      <td>-0.0032</td>\n",
       "      <td>0.008</td>\n",
       "      <td>-0.0048</td>\n",
       "      <td>-0.0024</td>\n",
       "      <td>-0.0056</td>\n",
       "      <td>0.0016</td>\n",
       "      <td>...</td>\n",
       "      <td>-0.0376</td>\n",
       "      <td>-0.0456</td>\n",
       "      <td>-0.0472</td>\n",
       "      <td>-0.0480</td>\n",
       "      <td>-0.0480</td>\n",
       "      <td>-0.0480</td>\n",
       "      <td>-0.0504</td>\n",
       "      <td>-0.0512</td>\n",
       "      <td>-0.0504</td>\n",
       "      <td>-0.0496</td>\n",
       "    </tr>\n",
       "    <tr>\n",
       "      <th>1</th>\n",
       "      <td>-0.0064</td>\n",
       "      <td>0.0080</td>\n",
       "      <td>-0.0128</td>\n",
       "      <td>-0.0048</td>\n",
       "      <td>0.0064</td>\n",
       "      <td>0.000</td>\n",
       "      <td>-0.0112</td>\n",
       "      <td>-0.0024</td>\n",
       "      <td>0.0000</td>\n",
       "      <td>0.0000</td>\n",
       "      <td>...</td>\n",
       "      <td>-0.0456</td>\n",
       "      <td>-0.0496</td>\n",
       "      <td>-0.0480</td>\n",
       "      <td>-0.0504</td>\n",
       "      <td>-0.0496</td>\n",
       "      <td>-0.0536</td>\n",
       "      <td>-0.0512</td>\n",
       "      <td>-0.0512</td>\n",
       "      <td>-0.0512</td>\n",
       "      <td>-0.0528</td>\n",
       "    </tr>\n",
       "  </tbody>\n",
       "</table>\n",
       "<p>2 rows × 4000 columns</p>\n",
       "</div>"
      ],
      "text/plain": [
       "   Pair_1  Pair_2  Pair_3  Pair_4  Pair_5  Pair_6  Pair_7  Pair_8  Pair_9  \\\n",
       "0 -0.0176  0.0144 -0.0064 -0.0064 -0.0032   0.008 -0.0048 -0.0024 -0.0056   \n",
       "1 -0.0064  0.0080 -0.0128 -0.0048  0.0064   0.000 -0.0112 -0.0024  0.0000   \n",
       "\n",
       "   Pair_10  ...  Pair_3991  Pair_3992  Pair_3993  Pair_3994  Pair_3995  \\\n",
       "0   0.0016  ...    -0.0376    -0.0456    -0.0472    -0.0480    -0.0480   \n",
       "1   0.0000  ...    -0.0456    -0.0496    -0.0480    -0.0504    -0.0496   \n",
       "\n",
       "   Pair_3996  Pair_3997  Pair_3998  Pair_3999  Pair_4000  \n",
       "0    -0.0480    -0.0504    -0.0512    -0.0504    -0.0496  \n",
       "1    -0.0536    -0.0512    -0.0512    -0.0512    -0.0528  \n",
       "\n",
       "[2 rows x 4000 columns]"
      ]
     },
     "execution_count": 240,
     "metadata": {},
     "output_type": "execute_result"
    }
   ],
   "source": [
    "sig1 = first_csv[['ch1', 'ch2']]\n",
    "sig2 = second_csv[['ch1', 'ch2']]\n",
    "# Since most values in ch1(excitation signal) are 0, \n",
    "# just extract values in ch2(received signals) in both signal1 and signal2\n",
    "sig_ch2 = pd.concat([sig1['ch2'],sig2['ch2']], axis=1, ignore_index=True)\n",
    "sig_ch2 = sig_ch2.T\n",
    "sig_ch2.columns = [f'Pair_{i}' for i in range(1, 4001)]\n",
    "sig_ch2"
   ]
  },
  {
   "cell_type": "code",
   "execution_count": 241,
   "metadata": {},
   "outputs": [
    {
     "data": {
      "text/plain": [
       "(2, 4000)"
      ]
     },
     "execution_count": 241,
     "metadata": {},
     "output_type": "execute_result"
    }
   ],
   "source": [
    "sig_T8_74883 = sig_ch2.values\n",
    "sig_T8_74883.shape"
   ]
  },
  {
   "cell_type": "code",
   "execution_count": 242,
   "metadata": {},
   "outputs": [
    {
     "data": {
      "text/plain": [
       "(2, 4001)"
      ]
     },
     "execution_count": 242,
     "metadata": {},
     "output_type": "execute_result"
    }
   ],
   "source": [
    "# Add Y-value which is crack length(mm) for cycle 74883: 1.94mm\n",
    "y_value = 1.94\n",
    "crack_length_T8_74883 = np.full((sig_T8_74883.shape[0], 1), y_value)\n",
    "sig_T8_74883 = np.hstack((sig_T8_74883, crack_length_T8_74883))\n",
    "sig_T8_74883.shape"
   ]
  },
  {
   "cell_type": "code",
   "execution_count": 243,
   "metadata": {},
   "outputs": [
    {
     "data": {
      "text/plain": [
       "(8, 4001)"
      ]
     },
     "execution_count": 243,
     "metadata": {},
     "output_type": "execute_result"
    }
   ],
   "source": [
    "# add the extracted data in this cycle to the dataset array\n",
    "dataset_array_test_T8 = np.vstack([dataset_array_test_T8, sig_T8_74883])\n",
    "dataset_array_test_T8.shape"
   ]
  },
  {
   "cell_type": "markdown",
   "metadata": {},
   "source": [
    "### Number of Cycle: 76931"
   ]
  },
  {
   "cell_type": "code",
   "execution_count": 244,
   "metadata": {},
   "outputs": [],
   "source": [
    "first_csv = pd.read_csv(data_path + validation_sets[1] + t8_channels[4] + signals[0])\n",
    "second_csv = pd.read_csv(data_path + validation_sets[1] + t8_channels[4] + signals[1])"
   ]
  },
  {
   "cell_type": "code",
   "execution_count": 245,
   "metadata": {},
   "outputs": [
    {
     "data": {
      "text/html": [
       "<div>\n",
       "<style scoped>\n",
       "    .dataframe tbody tr th:only-of-type {\n",
       "        vertical-align: middle;\n",
       "    }\n",
       "\n",
       "    .dataframe tbody tr th {\n",
       "        vertical-align: top;\n",
       "    }\n",
       "\n",
       "    .dataframe thead th {\n",
       "        text-align: right;\n",
       "    }\n",
       "</style>\n",
       "<table border=\"1\" class=\"dataframe\">\n",
       "  <thead>\n",
       "    <tr style=\"text-align: right;\">\n",
       "      <th></th>\n",
       "      <th>Pair_1</th>\n",
       "      <th>Pair_2</th>\n",
       "      <th>Pair_3</th>\n",
       "      <th>Pair_4</th>\n",
       "      <th>Pair_5</th>\n",
       "      <th>Pair_6</th>\n",
       "      <th>Pair_7</th>\n",
       "      <th>Pair_8</th>\n",
       "      <th>Pair_9</th>\n",
       "      <th>Pair_10</th>\n",
       "      <th>...</th>\n",
       "      <th>Pair_3991</th>\n",
       "      <th>Pair_3992</th>\n",
       "      <th>Pair_3993</th>\n",
       "      <th>Pair_3994</th>\n",
       "      <th>Pair_3995</th>\n",
       "      <th>Pair_3996</th>\n",
       "      <th>Pair_3997</th>\n",
       "      <th>Pair_3998</th>\n",
       "      <th>Pair_3999</th>\n",
       "      <th>Pair_4000</th>\n",
       "    </tr>\n",
       "  </thead>\n",
       "  <tbody>\n",
       "    <tr>\n",
       "      <th>0</th>\n",
       "      <td>0.0048</td>\n",
       "      <td>-0.0152</td>\n",
       "      <td>-0.0024</td>\n",
       "      <td>0.0048</td>\n",
       "      <td>-0.0152</td>\n",
       "      <td>-0.0040</td>\n",
       "      <td>0.0032</td>\n",
       "      <td>0.0008</td>\n",
       "      <td>-0.0160</td>\n",
       "      <td>0.0016</td>\n",
       "      <td>...</td>\n",
       "      <td>-0.0416</td>\n",
       "      <td>-0.0496</td>\n",
       "      <td>-0.0528</td>\n",
       "      <td>-0.0536</td>\n",
       "      <td>-0.0544</td>\n",
       "      <td>-0.060</td>\n",
       "      <td>-0.0608</td>\n",
       "      <td>-0.0608</td>\n",
       "      <td>-0.0608</td>\n",
       "      <td>-0.0632</td>\n",
       "    </tr>\n",
       "    <tr>\n",
       "      <th>1</th>\n",
       "      <td>0.0016</td>\n",
       "      <td>-0.0112</td>\n",
       "      <td>-0.0016</td>\n",
       "      <td>-0.0120</td>\n",
       "      <td>0.0016</td>\n",
       "      <td>-0.0088</td>\n",
       "      <td>-0.0032</td>\n",
       "      <td>-0.0080</td>\n",
       "      <td>-0.0016</td>\n",
       "      <td>-0.0040</td>\n",
       "      <td>...</td>\n",
       "      <td>-0.0472</td>\n",
       "      <td>-0.0488</td>\n",
       "      <td>-0.0512</td>\n",
       "      <td>-0.0488</td>\n",
       "      <td>-0.0512</td>\n",
       "      <td>-0.056</td>\n",
       "      <td>-0.0576</td>\n",
       "      <td>-0.0616</td>\n",
       "      <td>-0.0624</td>\n",
       "      <td>-0.0592</td>\n",
       "    </tr>\n",
       "  </tbody>\n",
       "</table>\n",
       "<p>2 rows × 4000 columns</p>\n",
       "</div>"
      ],
      "text/plain": [
       "   Pair_1  Pair_2  Pair_3  Pair_4  Pair_5  Pair_6  Pair_7  Pair_8  Pair_9  \\\n",
       "0  0.0048 -0.0152 -0.0024  0.0048 -0.0152 -0.0040  0.0032  0.0008 -0.0160   \n",
       "1  0.0016 -0.0112 -0.0016 -0.0120  0.0016 -0.0088 -0.0032 -0.0080 -0.0016   \n",
       "\n",
       "   Pair_10  ...  Pair_3991  Pair_3992  Pair_3993  Pair_3994  Pair_3995  \\\n",
       "0   0.0016  ...    -0.0416    -0.0496    -0.0528    -0.0536    -0.0544   \n",
       "1  -0.0040  ...    -0.0472    -0.0488    -0.0512    -0.0488    -0.0512   \n",
       "\n",
       "   Pair_3996  Pair_3997  Pair_3998  Pair_3999  Pair_4000  \n",
       "0     -0.060    -0.0608    -0.0608    -0.0608    -0.0632  \n",
       "1     -0.056    -0.0576    -0.0616    -0.0624    -0.0592  \n",
       "\n",
       "[2 rows x 4000 columns]"
      ]
     },
     "execution_count": 245,
     "metadata": {},
     "output_type": "execute_result"
    }
   ],
   "source": [
    "sig1 = first_csv[['ch1', 'ch2']]\n",
    "sig2 = second_csv[['ch1', 'ch2']]\n",
    "# Since most values in ch1(excitation signal) are 0, \n",
    "# just extract values in ch2(received signals) in both signal1 and signal2\n",
    "sig_ch2 = pd.concat([sig1['ch2'],sig2['ch2']], axis=1, ignore_index=True)\n",
    "sig_ch2 = sig_ch2.T\n",
    "sig_ch2.columns = [f'Pair_{i}' for i in range(1, 4001)]\n",
    "sig_ch2"
   ]
  },
  {
   "cell_type": "code",
   "execution_count": 246,
   "metadata": {},
   "outputs": [
    {
     "data": {
      "text/plain": [
       "(2, 4000)"
      ]
     },
     "execution_count": 246,
     "metadata": {},
     "output_type": "execute_result"
    }
   ],
   "source": [
    "sig_T8_76931 = sig_ch2.values\n",
    "sig_T8_76931.shape"
   ]
  },
  {
   "cell_type": "code",
   "execution_count": 247,
   "metadata": {},
   "outputs": [
    {
     "data": {
      "text/plain": [
       "(2, 4001)"
      ]
     },
     "execution_count": 247,
     "metadata": {},
     "output_type": "execute_result"
    }
   ],
   "source": [
    "# Add Y-value which is crack length(mm) for cycle 76931: 2.5mm\n",
    "y_value = 2.5\n",
    "crack_length_T8_76931 = np.full((sig_T8_76931.shape[0], 1), y_value)\n",
    "sig_T8_76931 = np.hstack((sig_T8_76931, crack_length_T8_76931))\n",
    "sig_T8_76931.shape"
   ]
  },
  {
   "cell_type": "code",
   "execution_count": 248,
   "metadata": {},
   "outputs": [
    {
     "data": {
      "text/plain": [
       "(10, 4001)"
      ]
     },
     "execution_count": 248,
     "metadata": {},
     "output_type": "execute_result"
    }
   ],
   "source": [
    "# add the extracted data in this cycle to the dataset array\n",
    "dataset_array_test_T8 = np.vstack([dataset_array_test_T8, sig_T8_76931])\n",
    "dataset_array_test_T8.shape"
   ]
  },
  {
   "cell_type": "code",
   "execution_count": 249,
   "metadata": {},
   "outputs": [],
   "source": [
    "X_test_T8 = dataset_array_test_T8[:, :-1]\n",
    "y_test_T8 = dataset_array_test_T8[:, -1]"
   ]
  },
  {
   "cell_type": "code",
   "execution_count": 250,
   "metadata": {},
   "outputs": [
    {
     "data": {
      "text/plain": [
       "(10, 4000)"
      ]
     },
     "execution_count": 250,
     "metadata": {},
     "output_type": "execute_result"
    }
   ],
   "source": [
    "X_test_T8.shape"
   ]
  },
  {
   "cell_type": "code",
   "execution_count": 251,
   "metadata": {},
   "outputs": [
    {
     "data": {
      "text/plain": [
       "(10,)"
      ]
     },
     "execution_count": 251,
     "metadata": {},
     "output_type": "execute_result"
    }
   ],
   "source": [
    "y_test_T8.shape"
   ]
  },
  {
   "cell_type": "markdown",
   "metadata": {},
   "source": [
    "## Model building"
   ]
  },
  {
   "cell_type": "markdown",
   "metadata": {},
   "source": [
    "### Method 1: PCA"
   ]
  },
  {
   "cell_type": "markdown",
   "metadata": {},
   "source": [
    "#### For T7:"
   ]
  },
  {
   "cell_type": "code",
   "execution_count": 252,
   "metadata": {},
   "outputs": [],
   "source": [
    "# Standardize features\n",
    "scaler = StandardScaler()\n",
    "X_train_scaled = scaler.fit_transform(X_train)\n",
    "X_test_T7_scaled = scaler.transform(X_test_T7)\n",
    "\n",
    "# Center the data (important for PCA with class information)\n",
    "X_train_centered = X_train_scaled - np.mean(X_train_scaled, axis=0)\n",
    "\n",
    "# Apply PCA for dimensionality reduction\n",
    "pca = PCA(n_components=38)\n",
    "X_train_pca = pca.fit_transform(X_train_centered)\n",
    "X_test_T7_pca = pca.transform(X_test_T7_scaled)"
   ]
  },
  {
   "cell_type": "code",
   "execution_count": 253,
   "metadata": {},
   "outputs": [],
   "source": [
    "# Model Selection\n",
    "PCA_regression_model = LinearRegression()"
   ]
  },
  {
   "cell_type": "code",
   "execution_count": 254,
   "metadata": {},
   "outputs": [
    {
     "data": {
      "text/html": [
       "<style>#sk-container-id-1 {color: black;background-color: white;}#sk-container-id-1 pre{padding: 0;}#sk-container-id-1 div.sk-toggleable {background-color: white;}#sk-container-id-1 label.sk-toggleable__label {cursor: pointer;display: block;width: 100%;margin-bottom: 0;padding: 0.3em;box-sizing: border-box;text-align: center;}#sk-container-id-1 label.sk-toggleable__label-arrow:before {content: \"▸\";float: left;margin-right: 0.25em;color: #696969;}#sk-container-id-1 label.sk-toggleable__label-arrow:hover:before {color: black;}#sk-container-id-1 div.sk-estimator:hover label.sk-toggleable__label-arrow:before {color: black;}#sk-container-id-1 div.sk-toggleable__content {max-height: 0;max-width: 0;overflow: hidden;text-align: left;background-color: #f0f8ff;}#sk-container-id-1 div.sk-toggleable__content pre {margin: 0.2em;color: black;border-radius: 0.25em;background-color: #f0f8ff;}#sk-container-id-1 input.sk-toggleable__control:checked~div.sk-toggleable__content {max-height: 200px;max-width: 100%;overflow: auto;}#sk-container-id-1 input.sk-toggleable__control:checked~label.sk-toggleable__label-arrow:before {content: \"▾\";}#sk-container-id-1 div.sk-estimator input.sk-toggleable__control:checked~label.sk-toggleable__label {background-color: #d4ebff;}#sk-container-id-1 div.sk-label input.sk-toggleable__control:checked~label.sk-toggleable__label {background-color: #d4ebff;}#sk-container-id-1 input.sk-hidden--visually {border: 0;clip: rect(1px 1px 1px 1px);clip: rect(1px, 1px, 1px, 1px);height: 1px;margin: -1px;overflow: hidden;padding: 0;position: absolute;width: 1px;}#sk-container-id-1 div.sk-estimator {font-family: monospace;background-color: #f0f8ff;border: 1px dotted black;border-radius: 0.25em;box-sizing: border-box;margin-bottom: 0.5em;}#sk-container-id-1 div.sk-estimator:hover {background-color: #d4ebff;}#sk-container-id-1 div.sk-parallel-item::after {content: \"\";width: 100%;border-bottom: 1px solid gray;flex-grow: 1;}#sk-container-id-1 div.sk-label:hover label.sk-toggleable__label {background-color: #d4ebff;}#sk-container-id-1 div.sk-serial::before {content: \"\";position: absolute;border-left: 1px solid gray;box-sizing: border-box;top: 0;bottom: 0;left: 50%;z-index: 0;}#sk-container-id-1 div.sk-serial {display: flex;flex-direction: column;align-items: center;background-color: white;padding-right: 0.2em;padding-left: 0.2em;position: relative;}#sk-container-id-1 div.sk-item {position: relative;z-index: 1;}#sk-container-id-1 div.sk-parallel {display: flex;align-items: stretch;justify-content: center;background-color: white;position: relative;}#sk-container-id-1 div.sk-item::before, #sk-container-id-1 div.sk-parallel-item::before {content: \"\";position: absolute;border-left: 1px solid gray;box-sizing: border-box;top: 0;bottom: 0;left: 50%;z-index: -1;}#sk-container-id-1 div.sk-parallel-item {display: flex;flex-direction: column;z-index: 1;position: relative;background-color: white;}#sk-container-id-1 div.sk-parallel-item:first-child::after {align-self: flex-end;width: 50%;}#sk-container-id-1 div.sk-parallel-item:last-child::after {align-self: flex-start;width: 50%;}#sk-container-id-1 div.sk-parallel-item:only-child::after {width: 0;}#sk-container-id-1 div.sk-dashed-wrapped {border: 1px dashed gray;margin: 0 0.4em 0.5em 0.4em;box-sizing: border-box;padding-bottom: 0.4em;background-color: white;}#sk-container-id-1 div.sk-label label {font-family: monospace;font-weight: bold;display: inline-block;line-height: 1.2em;}#sk-container-id-1 div.sk-label-container {text-align: center;}#sk-container-id-1 div.sk-container {/* jupyter's `normalize.less` sets `[hidden] { display: none; }` but bootstrap.min.css set `[hidden] { display: none !important; }` so we also need the `!important` here to be able to override the default hidden behavior on the sphinx rendered scikit-learn.org. See: https://github.com/scikit-learn/scikit-learn/issues/21755 */display: inline-block !important;position: relative;}#sk-container-id-1 div.sk-text-repr-fallback {display: none;}</style><div id=\"sk-container-id-1\" class=\"sk-top-container\"><div class=\"sk-text-repr-fallback\"><pre>LinearRegression()</pre><b>In a Jupyter environment, please rerun this cell to show the HTML representation or trust the notebook. <br />On GitHub, the HTML representation is unable to render, please try loading this page with nbviewer.org.</b></div><div class=\"sk-container\" hidden><div class=\"sk-item\"><div class=\"sk-estimator sk-toggleable\"><input class=\"sk-toggleable__control sk-hidden--visually\" id=\"sk-estimator-id-1\" type=\"checkbox\" checked><label for=\"sk-estimator-id-1\" class=\"sk-toggleable__label sk-toggleable__label-arrow\">LinearRegression</label><div class=\"sk-toggleable__content\"><pre>LinearRegression()</pre></div></div></div></div></div>"
      ],
      "text/plain": [
       "LinearRegression()"
      ]
     },
     "execution_count": 254,
     "metadata": {},
     "output_type": "execute_result"
    }
   ],
   "source": [
    "# Model Training\n",
    "# Train the regression model on the entire training dataset\n",
    "PCA_regression_model.fit(X_train_pca, y_train)\n",
    "# regression_model.fit(X_train_centered, y_train)"
   ]
  },
  {
   "cell_type": "code",
   "execution_count": 255,
   "metadata": {},
   "outputs": [
    {
     "name": "stdout",
     "output_type": "stream",
     "text": [
      "Mean Squared Error on Test Data: 9.384128087922019\n"
     ]
    }
   ],
   "source": [
    "# Model Evaluation\n",
    "# Evaluate the model on the testing dataset\n",
    "PCA_T7_y_pred = PCA_regression_model.predict(X_test_T7_pca)\n",
    "PCA_T7_mse = mean_squared_error(y_test_T7, PCA_T7_y_pred)\n",
    "\n",
    "# Print MSE\n",
    "print(\"Mean Squared Error on Test Data:\", PCA_T7_mse)"
   ]
  },
  {
   "cell_type": "code",
   "execution_count": 256,
   "metadata": {},
   "outputs": [
    {
     "data": {
      "text/plain": [
       "array([3.23476342, 3.59287639, 3.59260376, 3.47180065, 4.83326773,\n",
       "       4.840509  , 5.62143805, 5.43596701])"
      ]
     },
     "execution_count": 256,
     "metadata": {},
     "output_type": "execute_result"
    }
   ],
   "source": [
    "PCA_T7_y_pred"
   ]
  },
  {
   "cell_type": "markdown",
   "metadata": {},
   "source": [
    "#### for T8"
   ]
  },
  {
   "cell_type": "code",
   "execution_count": 257,
   "metadata": {},
   "outputs": [],
   "source": [
    "# Standardize features\n",
    "scaler = StandardScaler()\n",
    "X_train_scaled = scaler.fit_transform(X_train)\n",
    "X_test_T8_scaled = scaler.transform(X_test_T8)\n",
    "\n",
    "# Center the data (important for PCA with class information)\n",
    "X_train_centered = X_train_scaled - np.mean(X_train_scaled, axis=0)\n",
    "\n",
    "# Apply PCA for dimensionality reduction\n",
    "pca = PCA(n_components=38)\n",
    "X_train_pca = pca.fit_transform(X_train_centered)\n",
    "X_test_T8_pca = pca.transform(X_test_T8_scaled)"
   ]
  },
  {
   "cell_type": "code",
   "execution_count": 258,
   "metadata": {},
   "outputs": [
    {
     "name": "stdout",
     "output_type": "stream",
     "text": [
      "Mean Squared Error on Test Data: 6.6885459677606764\n"
     ]
    }
   ],
   "source": [
    "# Model Evaluation\n",
    "# Evaluate the model on the testing dataset\n",
    "PCA_T8_y_pred = PCA_regression_model.predict(X_test_T8_pca)\n",
    "PCA_T8_mse = mean_squared_error(y_test_T8, PCA_T8_y_pred)\n",
    "\n",
    "# Print MSE\n",
    "print(\"Mean Squared Error on Test Data:\", PCA_T8_mse)"
   ]
  },
  {
   "cell_type": "code",
   "execution_count": 259,
   "metadata": {},
   "outputs": [
    {
     "data": {
      "text/plain": [
       "array([2.08538189, 2.12193937, 3.37297972, 3.5221339 , 2.43416168,\n",
       "       2.93599595, 4.43751678, 4.12465756, 4.64014918, 4.52874925])"
      ]
     },
     "execution_count": 259,
     "metadata": {},
     "output_type": "execute_result"
    }
   ],
   "source": [
    "PCA_T8_y_pred"
   ]
  },
  {
   "cell_type": "markdown",
   "metadata": {},
   "source": [
    "## Downsize the Dataset dimension by average every 40 time points"
   ]
  },
  {
   "cell_type": "markdown",
   "metadata": {},
   "source": [
    "#### Reshape Training Dataset"
   ]
  },
  {
   "cell_type": "code",
   "execution_count": 260,
   "metadata": {
    "scrolled": true
   },
   "outputs": [
    {
     "data": {
      "text/plain": [
       "(76, 4000)"
      ]
     },
     "execution_count": 260,
     "metadata": {},
     "output_type": "execute_result"
    }
   ],
   "source": [
    "X_train.shape"
   ]
  },
  {
   "cell_type": "code",
   "execution_count": 261,
   "metadata": {},
   "outputs": [],
   "source": [
    "# Reshape the array to have shape (76, 100, 40)\n",
    "reshaped_X_train = X_train.reshape(76, 100, 40)"
   ]
  },
  {
   "cell_type": "code",
   "execution_count": 262,
   "metadata": {},
   "outputs": [],
   "source": [
    "# Calculate the average along the last axis (axis=2)\n",
    "averaged_X_train = np.mean(reshaped_X_train, axis=2)"
   ]
  },
  {
   "cell_type": "code",
   "execution_count": 263,
   "metadata": {},
   "outputs": [
    {
     "data": {
      "text/plain": [
       "(76, 100)"
      ]
     },
     "execution_count": 263,
     "metadata": {},
     "output_type": "execute_result"
    }
   ],
   "source": [
    "averaged_X_train.shape"
   ]
  },
  {
   "cell_type": "markdown",
   "metadata": {},
   "source": [
    "#### Reshape Testing Dataset T7"
   ]
  },
  {
   "cell_type": "code",
   "execution_count": 264,
   "metadata": {},
   "outputs": [
    {
     "data": {
      "text/plain": [
       "(8, 4000)"
      ]
     },
     "execution_count": 264,
     "metadata": {},
     "output_type": "execute_result"
    }
   ],
   "source": [
    "X_test_T7.shape"
   ]
  },
  {
   "cell_type": "code",
   "execution_count": 265,
   "metadata": {},
   "outputs": [],
   "source": [
    "# Reshape the array to have shape (8, 100, 40)\n",
    "reshaped_X_test_T7 = X_test_T7.reshape(8, 100, 40)\n",
    "# Calculate the average along the last axis (axis=2)\n",
    "averaged_X_test_T7 = np.mean(reshaped_X_test_T7, axis=2)"
   ]
  },
  {
   "cell_type": "code",
   "execution_count": 266,
   "metadata": {},
   "outputs": [
    {
     "data": {
      "text/plain": [
       "(8, 100)"
      ]
     },
     "execution_count": 266,
     "metadata": {},
     "output_type": "execute_result"
    }
   ],
   "source": [
    "averaged_X_test_T7.shape"
   ]
  },
  {
   "cell_type": "markdown",
   "metadata": {},
   "source": [
    "#### Reshape Testing Dataset T8"
   ]
  },
  {
   "cell_type": "code",
   "execution_count": 267,
   "metadata": {},
   "outputs": [
    {
     "data": {
      "text/plain": [
       "(10, 4000)"
      ]
     },
     "execution_count": 267,
     "metadata": {},
     "output_type": "execute_result"
    }
   ],
   "source": [
    "X_test_T8.shape"
   ]
  },
  {
   "cell_type": "code",
   "execution_count": 268,
   "metadata": {},
   "outputs": [],
   "source": [
    "# Reshape the array to have shape (10, 100, 40)\n",
    "reshaped_X_test_T8 = X_test_T8.reshape(10, 100, 40)\n",
    "# Calculate the average along the last axis (axis=2)\n",
    "averaged_X_test_T8 = np.mean(reshaped_X_test_T8, axis=2)"
   ]
  },
  {
   "cell_type": "code",
   "execution_count": 269,
   "metadata": {},
   "outputs": [
    {
     "data": {
      "text/plain": [
       "(10, 100)"
      ]
     },
     "execution_count": 269,
     "metadata": {},
     "output_type": "execute_result"
    }
   ],
   "source": [
    "averaged_X_test_T8.shape"
   ]
  },
  {
   "cell_type": "markdown",
   "metadata": {},
   "source": [
    "## Model Building - Linear Regression"
   ]
  },
  {
   "cell_type": "markdown",
   "metadata": {},
   "source": [
    "#### For T7"
   ]
  },
  {
   "cell_type": "code",
   "execution_count": 270,
   "metadata": {},
   "outputs": [],
   "source": [
    "# Standardize features\n",
    "scaler = StandardScaler()\n",
    "averaged_X_train_scaled = scaler.fit_transform(averaged_X_train)\n",
    "averaged_X_test_T7_scaled = scaler.transform(averaged_X_test_T7)\n",
    "\n",
    "# Center the data (important for PCA with class information)\n",
    "averaged_X_train_centered = averaged_X_train_scaled - np.mean(averaged_X_train_scaled, axis=0)\n",
    "averaged_X_test_T7_centered = averaged_X_test_T7_scaled - np.mean(averaged_X_test_T7_scaled, axis=0)"
   ]
  },
  {
   "cell_type": "code",
   "execution_count": 271,
   "metadata": {},
   "outputs": [],
   "source": [
    "# Model Selection\n",
    "COMP_regression_model = LinearRegression()"
   ]
  },
  {
   "cell_type": "code",
   "execution_count": 272,
   "metadata": {},
   "outputs": [
    {
     "data": {
      "text/html": [
       "<style>#sk-container-id-2 {color: black;background-color: white;}#sk-container-id-2 pre{padding: 0;}#sk-container-id-2 div.sk-toggleable {background-color: white;}#sk-container-id-2 label.sk-toggleable__label {cursor: pointer;display: block;width: 100%;margin-bottom: 0;padding: 0.3em;box-sizing: border-box;text-align: center;}#sk-container-id-2 label.sk-toggleable__label-arrow:before {content: \"▸\";float: left;margin-right: 0.25em;color: #696969;}#sk-container-id-2 label.sk-toggleable__label-arrow:hover:before {color: black;}#sk-container-id-2 div.sk-estimator:hover label.sk-toggleable__label-arrow:before {color: black;}#sk-container-id-2 div.sk-toggleable__content {max-height: 0;max-width: 0;overflow: hidden;text-align: left;background-color: #f0f8ff;}#sk-container-id-2 div.sk-toggleable__content pre {margin: 0.2em;color: black;border-radius: 0.25em;background-color: #f0f8ff;}#sk-container-id-2 input.sk-toggleable__control:checked~div.sk-toggleable__content {max-height: 200px;max-width: 100%;overflow: auto;}#sk-container-id-2 input.sk-toggleable__control:checked~label.sk-toggleable__label-arrow:before {content: \"▾\";}#sk-container-id-2 div.sk-estimator input.sk-toggleable__control:checked~label.sk-toggleable__label {background-color: #d4ebff;}#sk-container-id-2 div.sk-label input.sk-toggleable__control:checked~label.sk-toggleable__label {background-color: #d4ebff;}#sk-container-id-2 input.sk-hidden--visually {border: 0;clip: rect(1px 1px 1px 1px);clip: rect(1px, 1px, 1px, 1px);height: 1px;margin: -1px;overflow: hidden;padding: 0;position: absolute;width: 1px;}#sk-container-id-2 div.sk-estimator {font-family: monospace;background-color: #f0f8ff;border: 1px dotted black;border-radius: 0.25em;box-sizing: border-box;margin-bottom: 0.5em;}#sk-container-id-2 div.sk-estimator:hover {background-color: #d4ebff;}#sk-container-id-2 div.sk-parallel-item::after {content: \"\";width: 100%;border-bottom: 1px solid gray;flex-grow: 1;}#sk-container-id-2 div.sk-label:hover label.sk-toggleable__label {background-color: #d4ebff;}#sk-container-id-2 div.sk-serial::before {content: \"\";position: absolute;border-left: 1px solid gray;box-sizing: border-box;top: 0;bottom: 0;left: 50%;z-index: 0;}#sk-container-id-2 div.sk-serial {display: flex;flex-direction: column;align-items: center;background-color: white;padding-right: 0.2em;padding-left: 0.2em;position: relative;}#sk-container-id-2 div.sk-item {position: relative;z-index: 1;}#sk-container-id-2 div.sk-parallel {display: flex;align-items: stretch;justify-content: center;background-color: white;position: relative;}#sk-container-id-2 div.sk-item::before, #sk-container-id-2 div.sk-parallel-item::before {content: \"\";position: absolute;border-left: 1px solid gray;box-sizing: border-box;top: 0;bottom: 0;left: 50%;z-index: -1;}#sk-container-id-2 div.sk-parallel-item {display: flex;flex-direction: column;z-index: 1;position: relative;background-color: white;}#sk-container-id-2 div.sk-parallel-item:first-child::after {align-self: flex-end;width: 50%;}#sk-container-id-2 div.sk-parallel-item:last-child::after {align-self: flex-start;width: 50%;}#sk-container-id-2 div.sk-parallel-item:only-child::after {width: 0;}#sk-container-id-2 div.sk-dashed-wrapped {border: 1px dashed gray;margin: 0 0.4em 0.5em 0.4em;box-sizing: border-box;padding-bottom: 0.4em;background-color: white;}#sk-container-id-2 div.sk-label label {font-family: monospace;font-weight: bold;display: inline-block;line-height: 1.2em;}#sk-container-id-2 div.sk-label-container {text-align: center;}#sk-container-id-2 div.sk-container {/* jupyter's `normalize.less` sets `[hidden] { display: none; }` but bootstrap.min.css set `[hidden] { display: none !important; }` so we also need the `!important` here to be able to override the default hidden behavior on the sphinx rendered scikit-learn.org. See: https://github.com/scikit-learn/scikit-learn/issues/21755 */display: inline-block !important;position: relative;}#sk-container-id-2 div.sk-text-repr-fallback {display: none;}</style><div id=\"sk-container-id-2\" class=\"sk-top-container\"><div class=\"sk-text-repr-fallback\"><pre>LinearRegression()</pre><b>In a Jupyter environment, please rerun this cell to show the HTML representation or trust the notebook. <br />On GitHub, the HTML representation is unable to render, please try loading this page with nbviewer.org.</b></div><div class=\"sk-container\" hidden><div class=\"sk-item\"><div class=\"sk-estimator sk-toggleable\"><input class=\"sk-toggleable__control sk-hidden--visually\" id=\"sk-estimator-id-2\" type=\"checkbox\" checked><label for=\"sk-estimator-id-2\" class=\"sk-toggleable__label sk-toggleable__label-arrow\">LinearRegression</label><div class=\"sk-toggleable__content\"><pre>LinearRegression()</pre></div></div></div></div></div>"
      ],
      "text/plain": [
       "LinearRegression()"
      ]
     },
     "execution_count": 272,
     "metadata": {},
     "output_type": "execute_result"
    }
   ],
   "source": [
    "# Model Training\n",
    "# Train the regression model on the entire training dataset\n",
    "COMP_regression_model.fit(averaged_X_train_centered, y_train)"
   ]
  },
  {
   "cell_type": "code",
   "execution_count": 273,
   "metadata": {
    "scrolled": true
   },
   "outputs": [
    {
     "name": "stdout",
     "output_type": "stream",
     "text": [
      "Mean Squared Error on Test Data: 4.639873156347825\n"
     ]
    }
   ],
   "source": [
    "# Model Evaluation\n",
    "# Evaluate the model on the testing dataset\n",
    "# y_pred = regression_model.predict(X_test_T7_pca)\n",
    "CR_T7_y_pred = COMP_regression_model.predict(averaged_X_test_T7_centered)\n",
    "CR_T7_mse = mean_squared_error(y_test_T7, CR_T7_y_pred)\n",
    "\n",
    "# Print MSE\n",
    "print(\"Mean Squared Error on Test Data:\", CR_T7_mse)"
   ]
  },
  {
   "cell_type": "code",
   "execution_count": 274,
   "metadata": {},
   "outputs": [
    {
     "data": {
      "text/plain": [
       "array([0.44680808, 1.41491914, 2.34799896, 1.83630642, 4.17802822,\n",
       "       1.75072383, 6.23013993, 6.59507543])"
      ]
     },
     "execution_count": 274,
     "metadata": {},
     "output_type": "execute_result"
    }
   ],
   "source": [
    "CR_T7_y_pred"
   ]
  },
  {
   "cell_type": "code",
   "execution_count": 275,
   "metadata": {},
   "outputs": [
    {
     "data": {
      "text/plain": [
       "array([0.  , 0.  , 0.  , 0.  , 2.07, 2.07, 3.14, 3.14])"
      ]
     },
     "execution_count": 275,
     "metadata": {},
     "output_type": "execute_result"
    }
   ],
   "source": [
    "y_test_T7"
   ]
  },
  {
   "cell_type": "markdown",
   "metadata": {},
   "source": [
    "#### For T8"
   ]
  },
  {
   "cell_type": "code",
   "execution_count": 276,
   "metadata": {},
   "outputs": [],
   "source": [
    "# Standardize features\n",
    "scaler = StandardScaler()\n",
    "averaged_X_train_scaled = scaler.fit_transform(averaged_X_train)\n",
    "averaged_X_test_T8_scaled = scaler.fit_transform(averaged_X_test_T8)\n",
    "\n",
    "# Center the data (important for PCA with class information)\n",
    "averaged_X_train_centered = averaged_X_train_scaled - np.mean(averaged_X_train_scaled, axis=0)\n",
    "averaged_X_test_T8_centered = averaged_X_test_T8_scaled - np.mean(averaged_X_test_T8_scaled, axis=0)"
   ]
  },
  {
   "cell_type": "code",
   "execution_count": 277,
   "metadata": {},
   "outputs": [
    {
     "name": "stdout",
     "output_type": "stream",
     "text": [
      "Mean Squared Error on Test Data: 101.92772828459898\n"
     ]
    }
   ],
   "source": [
    "# Model Evaluation\n",
    "# Evaluate the model on the testing dataset\n",
    "# y_pred = regression_model.predict(X_test_T7_pca)\n",
    "CR_T8_y_pred = COMP_regression_model.predict(averaged_X_test_T8_centered)\n",
    "CR_T8_mse = mean_squared_error(y_test_T8, CR_T8_y_pred)\n",
    "\n",
    "# Print MSE\n",
    "print(\"Mean Squared Error on Test Data:\", CR_T8_mse)"
   ]
  },
  {
   "cell_type": "code",
   "execution_count": 278,
   "metadata": {},
   "outputs": [
    {
     "data": {
      "text/plain": [
       "array([  0.36470225,  24.60817198,  -0.93608565, -13.60904381,\n",
       "        -7.51608764,   0.62890194,  -0.55698599,   5.86036896,\n",
       "        12.03806322,  10.11799475])"
      ]
     },
     "execution_count": 278,
     "metadata": {},
     "output_type": "execute_result"
    }
   ],
   "source": [
    "CR_T8_y_pred"
   ]
  },
  {
   "cell_type": "code",
   "execution_count": 279,
   "metadata": {},
   "outputs": [
    {
     "data": {
      "text/plain": [
       "array([0.  , 0.  , 0.  , 0.  , 0.  , 0.  , 1.94, 1.94, 2.5 , 2.5 ])"
      ]
     },
     "execution_count": 279,
     "metadata": {},
     "output_type": "execute_result"
    }
   ],
   "source": [
    "y_test_T8"
   ]
  },
  {
   "cell_type": "markdown",
   "metadata": {},
   "source": [
    "## Model Building - MLP Neural Network"
   ]
  },
  {
   "cell_type": "code",
   "execution_count": 280,
   "metadata": {},
   "outputs": [],
   "source": [
    "MLP_model = MLPRegressor(random_state=42, max_iter=720)\n",
    "MLP_model.fit(averaged_X_train_centered, y_train)\n",
    "MLP_T7_y_pred = MLP_model.predict(averaged_X_test_T7_centered)\n",
    "MLP_T7_mse = mean_squared_error(y_test_T7, MLP_T7_y_pred)\n",
    "MLP_T8_y_pred = MLP_model.predict(averaged_X_test_T8_centered)\n",
    "MLP_T8_mse = mean_squared_error(y_test_T8, MLP_T8_y_pred)"
   ]
  },
  {
   "cell_type": "code",
   "execution_count": 281,
   "metadata": {},
   "outputs": [
    {
     "data": {
      "text/plain": [
       "array([-0.75734767,  0.84042653,  0.98249838,  2.07503616,  5.66132115,\n",
       "        1.53930347,  4.60514549,  6.37775713])"
      ]
     },
     "execution_count": 281,
     "metadata": {},
     "output_type": "execute_result"
    }
   ],
   "source": [
    "MLP_T7_y_pred"
   ]
  },
  {
   "cell_type": "code",
   "execution_count": 282,
   "metadata": {},
   "outputs": [
    {
     "name": "stdout",
     "output_type": "stream",
     "text": [
      "4.0449899078923695\n"
     ]
    }
   ],
   "source": [
    "print(MLP_T7_mse)"
   ]
  },
  {
   "cell_type": "code",
   "execution_count": 283,
   "metadata": {},
   "outputs": [
    {
     "data": {
      "text/plain": [
       "array([0.86762287, 1.77474874, 2.15477753, 1.81493318, 0.66334753,\n",
       "       0.78753908, 1.23490552, 1.25962926, 1.84212412, 1.56752135])"
      ]
     },
     "execution_count": 283,
     "metadata": {},
     "output_type": "execute_result"
    }
   ],
   "source": [
    "MLP_T8_y_pred"
   ]
  },
  {
   "cell_type": "code",
   "execution_count": 284,
   "metadata": {},
   "outputs": [
    {
     "name": "stdout",
     "output_type": "stream",
     "text": [
      "1.5162178655277652\n"
     ]
    }
   ],
   "source": [
    "print(MLP_T8_mse)"
   ]
  },
  {
   "cell_type": "markdown",
   "metadata": {},
   "source": [
    "### SVM"
   ]
  },
  {
   "cell_type": "code",
   "execution_count": 285,
   "metadata": {},
   "outputs": [],
   "source": [
    "# Define a range of thresholds to test\n",
    "thresholds = np.linspace(np.min(y_train)+0.1, np.max(y_train)-0.1, num=100)"
   ]
  },
  {
   "cell_type": "markdown",
   "metadata": {},
   "source": [
    "#### For T7"
   ]
  },
  {
   "cell_type": "code",
   "execution_count": 286,
   "metadata": {},
   "outputs": [],
   "source": [
    "# Initialize lists to store accuracies and thresholds\n",
    "accuracies_T7 = []"
   ]
  },
  {
   "cell_type": "code",
   "execution_count": 287,
   "metadata": {},
   "outputs": [],
   "source": [
    "# Loop over each threshold\n",
    "for threshold in thresholds:\n",
    "    # Convert y values to labels based on the threshold\n",
    "    y_train_labels = (y_train > threshold).astype(int)\n",
    "    y_test_labels_T7 = (y_test_T7 > threshold).astype(int)\n",
    "    \n",
    "    # Initialize and train SVM classifier\n",
    "    svm_classifier = SVC(kernel='linear')\n",
    "    svm_classifier.fit(averaged_X_train_centered, y_train_labels)\n",
    "    \n",
    "    # Make predictions on the testing dataset\n",
    "    y_pred_T7 = svm_classifier.predict(averaged_X_test_T7_centered)\n",
    "    \n",
    "    # Calculate accuracy and append to accuracies list\n",
    "    accuracy_T7 = accuracy_score(y_test_labels_T7, y_pred_T7)\n",
    "    accuracies_T7.append(accuracy_T7)"
   ]
  },
  {
   "cell_type": "code",
   "execution_count": 288,
   "metadata": {
    "scrolled": true
   },
   "outputs": [
    {
     "data": {
      "image/png": "[encoded data removed]",
      "text/plain": [
       "<Figure size 640x480 with 1 Axes>"
      ]
     },
     "metadata": {},
     "output_type": "display_data"
    }
   ],
   "source": [
    "# Plot the graph\n",
    "plt.plot(thresholds, accuracies_T7)\n",
    "plt.xlabel('Threshold')\n",
    "plt.ylabel('Accuracy in T7')\n",
    "plt.title('Accuracy vs. Threshold for T7')\n",
    "plt.grid(True)\n",
    "plt.show()"
   ]
  },
  {
   "cell_type": "code",
   "execution_count": 289,
   "metadata": {},
   "outputs": [
    {
     "name": "stdout",
     "output_type": "stream",
     "text": [
      "Thresholds with Best Accuracy for T7: 3.6933333333333334 to 7.213333333333333\n"
     ]
    }
   ],
   "source": [
    "# Define a tolerance level for considering thresholds\n",
    "tolerance = 0.001\n",
    "\n",
    "# Find the maximum accuracy\n",
    "max_accuracy_T7 = max(accuracies_T7)\n",
    "\n",
    "# Find the thresholds within the tolerance of the maximum accuracy\n",
    "best_thresholds_T7 = [thresholds[i] for i, acc in enumerate(accuracies_T7) if abs(acc - max_accuracy_T7) < tolerance]\n",
    "\n",
    "# Print the range of thresholds with the best accuracy\n",
    "print(\"Thresholds with Best Accuracy for T7:\", min(best_thresholds_T7), 'to', max(best_thresholds_T7))"
   ]
  },
  {
   "cell_type": "markdown",
   "metadata": {},
   "source": [
    "#### For T8"
   ]
  },
  {
   "cell_type": "code",
   "execution_count": 290,
   "metadata": {},
   "outputs": [],
   "source": [
    "# Initialize lists to store accuracies and thresholds\n",
    "accuracies_T8 = []"
   ]
  },
  {
   "cell_type": "code",
   "execution_count": 291,
   "metadata": {},
   "outputs": [],
   "source": [
    "# Loop over each threshold\n",
    "for threshold in thresholds:\n",
    "    # Convert y values to labels based on the threshold\n",
    "    y_train_labels = (y_train > threshold).astype(int)\n",
    "    y_test_labels_T8 = (y_test_T8 > threshold).astype(int)\n",
    "    \n",
    "    # Initialize and train SVM classifier\n",
    "    svm_classifier = SVC(kernel='linear')\n",
    "    svm_classifier.fit(averaged_X_train_centered, y_train_labels)\n",
    "    \n",
    "    # Make predictions on the testing dataset\n",
    "    y_pred_T8 = svm_classifier.predict(averaged_X_test_T8_centered)\n",
    "    \n",
    "    # Calculate accuracy and append to accuracies list\n",
    "    accuracy_T8 = accuracy_score(y_test_labels_T8, y_pred_T8)\n",
    "    accuracies_T8.append(accuracy_T8)"
   ]
  },
  {
   "cell_type": "code",
   "execution_count": 292,
   "metadata": {},
   "outputs": [
    {
     "data": {
      "image/png": "[encoded data removed]",
      "text/plain": [
       "<Figure size 640x480 with 1 Axes>"
      ]
     },
     "metadata": {},
     "output_type": "display_data"
    }
   ],
   "source": [
    "# Plot the graph\n",
    "plt.plot(thresholds, accuracies_T8)\n",
    "plt.xlabel('Threshold')\n",
    "plt.ylabel('Accuracy in T8')\n",
    "plt.title('Accuracy vs. Threshold for T8')\n",
    "plt.grid(True)\n",
    "plt.show()"
   ]
  },
  {
   "cell_type": "code",
   "execution_count": 293,
   "metadata": {},
   "outputs": [
    {
     "name": "stdout",
     "output_type": "stream",
     "text": [
      "Thresholds with Best Accuracy for T8: 6.993333333333333 to 7.36\n"
     ]
    }
   ],
   "source": [
    "# Define a tolerance level for considering thresholds\n",
    "tolerance = 0.001\n",
    "\n",
    "# Find the maximum accuracy\n",
    "max_accuracy_T8 = max(accuracies_T8)\n",
    "\n",
    "# Find the thresholds within the tolerance of the maximum accuracy\n",
    "best_thresholds_T8 = [thresholds[i] for i, acc in enumerate(accuracies_T8) if abs(acc - max_accuracy_T8) < tolerance]\n",
    "\n",
    "# Print the range of thresholds with the best accuracy\n",
    "print(\"Thresholds with Best Accuracy for T8:\", min(best_thresholds_T8), 'to', max(best_thresholds_T8))"
   ]
  },
  {
   "cell_type": "markdown",
   "metadata": {},
   "source": [
    "# MLP Model Demo"
   ]
  },
  {
   "cell_type": "markdown",
   "metadata": {},
   "source": [
    "### The following function takes a threshold and dataset to run against our trained model to determine if a sequence of waves will produce a crack larger than what is acceptable\n",
    "#### Note - the superior performance of the SVM classifier makes that a better model for use."
   ]
  },
  {
   "cell_type": "code",
   "execution_count": 294,
   "metadata": {},
   "outputs": [],
   "source": [
    "def crack_too_big(cutoff,  dataset):\n",
    "    dataset_preds = MLP_model.predict(dataset)\n",
    "    print(f'The specified cutoff is {cutoff}mm.')\n",
    "    for pred in dataset_preds:\n",
    "        if pred > cutoff:\n",
    "            print(f'The predicted crack length of {pred}mm is larger than the cutoff.')\n",
    "        else:\n",
    "            print(f'The predicted crack length of {pred}mm is smaller than the cutoff.')"
   ]
  },
  {
   "cell_type": "code",
   "execution_count": 295,
   "metadata": {},
   "outputs": [
    {
     "name": "stdout",
     "output_type": "stream",
     "text": [
      "The specified cutoff is 2.5mm.\n",
      "The predicted crack length of 0.8676228698864764mm is smaller than the cutoff.\n",
      "The predicted crack length of 1.774748744574856mm is smaller than the cutoff.\n",
      "The predicted crack length of 2.1547775318402005mm is smaller than the cutoff.\n",
      "The predicted crack length of 1.814933184093146mm is smaller than the cutoff.\n",
      "The predicted crack length of 0.663347525946245mm is smaller than the cutoff.\n",
      "The predicted crack length of 0.7875390842908242mm is smaller than the cutoff.\n",
      "The predicted crack length of 1.2349055159055748mm is smaller than the cutoff.\n",
      "The predicted crack length of 1.2596292580977135mm is smaller than the cutoff.\n",
      "The predicted crack length of 1.8421241160946522mm is smaller than the cutoff.\n",
      "The predicted crack length of 1.5675213546220914mm is smaller than the cutoff.\n"
     ]
    }
   ],
   "source": [
    "crack_too_big(2.5, averaged_X_test_T8_centered)"
   ]
  },
  {
   "cell_type": "code",
   "execution_count": 296,
   "metadata": {},
   "outputs": [
    {
     "name": "stdout",
     "output_type": "stream",
     "text": [
      "The specified cutoff is 2.5mm.\n",
      "The predicted crack length of -0.7573476653331547mm is smaller than the cutoff.\n",
      "The predicted crack length of 0.8404265325895935mm is smaller than the cutoff.\n",
      "The predicted crack length of 0.9824983754139319mm is smaller than the cutoff.\n",
      "The predicted crack length of 2.0750361550468504mm is smaller than the cutoff.\n",
      "The predicted crack length of 5.6613211455611445mm is larger than the cutoff.\n",
      "The predicted crack length of 1.53930346740132mm is smaller than the cutoff.\n",
      "The predicted crack length of 4.6051454861533845mm is larger than the cutoff.\n",
      "The predicted crack length of 6.377757131405577mm is larger than the cutoff.\n"
     ]
    }
   ],
   "source": [
    "crack_too_big(2.5, averaged_X_test_T7_centered)"
   ]
  },
  {
   "cell_type": "code",
   "execution_count": null,
   "metadata": {},
   "outputs": [],
   "source": []
  }
 ],
 "metadata": {
  "kernelspec": {
   "display_name": "Python 3 (ipykernel)",
   "language": "python",
   "name": "python3"
  },
  "language_info": {
   "codemirror_mode": {
    "name": "ipython",
    "version": 3
   },
   "file_extension": ".py",
   "mimetype": "text/x-python",
   "name": "python",
   "nbconvert_exporter": "python",
   "pygments_lexer": "ipython3",
   "version": "3.10.9"
  }
 },
 "nbformat": 4,
 "nbformat_minor": 2
}
